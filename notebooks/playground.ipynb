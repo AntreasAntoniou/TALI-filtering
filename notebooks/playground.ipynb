{
 "cells": [
  {
   "cell_type": "code",
   "execution_count": 6,
   "id": "8e614511-4648-4b93-a296-7454355ef2e0",
   "metadata": {},
   "outputs": [
    {
     "data": {
      "text/plain": [
       "<bound method InteractiveShell.excepthook of <ipykernel.zmqshell.ZMQInteractiveShell object at 0x7f0daf734850>>"
      ]
     },
     "execution_count": 6,
     "metadata": {},
     "output_type": "execute_result"
    }
   ],
   "source": [
    "from rich import print\n",
    "from rich.traceback import install\n",
    "\n",
    "install()"
   ]
  },
  {
   "cell_type": "code",
   "execution_count": 10,
   "id": "de0b2279-8ab5-4a90-acf3-dfa914afed23",
   "metadata": {},
   "outputs": [
    {
     "data": {
      "text/html": [
       "<pre style=\"white-space:pre;overflow-x:auto;line-height:normal;font-family:Menlo,'DejaVu Sans Mono',consolas,'Courier New',monospace\">logit_scale\n",
       "<span style=\"color: #800080; text-decoration-color: #800080; font-weight: bold\">torch.Size</span><span style=\"font-weight: bold\">([])</span>\n",
       "torch.float16\n",
       "</pre>\n"
      ],
      "text/plain": [
       "logit_scale\n",
       "\u001b[1;35mtorch.Size\u001b[0m\u001b[1m(\u001b[0m\u001b[1m[\u001b[0m\u001b[1m]\u001b[0m\u001b[1m)\u001b[0m\n",
       "torch.float16\n"
      ]
     },
     "metadata": {},
     "output_type": "display_data"
    },
    {
     "data": {
      "text/html": [
       "<pre style=\"white-space:pre;overflow-x:auto;line-height:normal;font-family:Menlo,'DejaVu Sans Mono',consolas,'Courier New',monospace\">text_model.embeddings.token_embedding.weight\n",
       "<span style=\"color: #800080; text-decoration-color: #800080; font-weight: bold\">torch.Size</span><span style=\"font-weight: bold\">([</span><span style=\"color: #008080; text-decoration-color: #008080; font-weight: bold\">49408</span>, <span style=\"color: #008080; text-decoration-color: #008080; font-weight: bold\">512</span><span style=\"font-weight: bold\">])</span>\n",
       "torch.float16\n",
       "</pre>\n"
      ],
      "text/plain": [
       "text_model.embeddings.token_embedding.weight\n",
       "\u001b[1;35mtorch.Size\u001b[0m\u001b[1m(\u001b[0m\u001b[1m[\u001b[0m\u001b[1;36m49408\u001b[0m, \u001b[1;36m512\u001b[0m\u001b[1m]\u001b[0m\u001b[1m)\u001b[0m\n",
       "torch.float16\n"
      ]
     },
     "metadata": {},
     "output_type": "display_data"
    },
    {
     "data": {
      "text/html": [
       "<pre style=\"white-space:pre;overflow-x:auto;line-height:normal;font-family:Menlo,'DejaVu Sans Mono',consolas,'Courier New',monospace\">text_model.embeddings.position_embedding.weight\n",
       "<span style=\"color: #800080; text-decoration-color: #800080; font-weight: bold\">torch.Size</span><span style=\"font-weight: bold\">([</span><span style=\"color: #008080; text-decoration-color: #008080; font-weight: bold\">77</span>, <span style=\"color: #008080; text-decoration-color: #008080; font-weight: bold\">512</span><span style=\"font-weight: bold\">])</span>\n",
       "torch.float16\n",
       "</pre>\n"
      ],
      "text/plain": [
       "text_model.embeddings.position_embedding.weight\n",
       "\u001b[1;35mtorch.Size\u001b[0m\u001b[1m(\u001b[0m\u001b[1m[\u001b[0m\u001b[1;36m77\u001b[0m, \u001b[1;36m512\u001b[0m\u001b[1m]\u001b[0m\u001b[1m)\u001b[0m\n",
       "torch.float16\n"
      ]
     },
     "metadata": {},
     "output_type": "display_data"
    },
    {
     "data": {
      "text/html": [
       "<pre style=\"white-space:pre;overflow-x:auto;line-height:normal;font-family:Menlo,'DejaVu Sans Mono',consolas,'Courier New',monospace\">text_model.encoder.layers.<span style=\"color: #008080; text-decoration-color: #008080; font-weight: bold\">0.</span>self_attn.k_proj.weight\n",
       "<span style=\"color: #800080; text-decoration-color: #800080; font-weight: bold\">torch.Size</span><span style=\"font-weight: bold\">([</span><span style=\"color: #008080; text-decoration-color: #008080; font-weight: bold\">512</span>, <span style=\"color: #008080; text-decoration-color: #008080; font-weight: bold\">512</span><span style=\"font-weight: bold\">])</span>\n",
       "torch.float16\n",
       "</pre>\n"
      ],
      "text/plain": [
       "text_model.encoder.layers.\u001b[1;36m0.\u001b[0mself_attn.k_proj.weight\n",
       "\u001b[1;35mtorch.Size\u001b[0m\u001b[1m(\u001b[0m\u001b[1m[\u001b[0m\u001b[1;36m512\u001b[0m, \u001b[1;36m512\u001b[0m\u001b[1m]\u001b[0m\u001b[1m)\u001b[0m\n",
       "torch.float16\n"
      ]
     },
     "metadata": {},
     "output_type": "display_data"
    },
    {
     "data": {
      "text/html": [
       "<pre style=\"white-space:pre;overflow-x:auto;line-height:normal;font-family:Menlo,'DejaVu Sans Mono',consolas,'Courier New',monospace\">text_model.encoder.layers.<span style=\"color: #008080; text-decoration-color: #008080; font-weight: bold\">0.</span>self_attn.k_proj.bias\n",
       "<span style=\"color: #800080; text-decoration-color: #800080; font-weight: bold\">torch.Size</span><span style=\"font-weight: bold\">([</span><span style=\"color: #008080; text-decoration-color: #008080; font-weight: bold\">512</span><span style=\"font-weight: bold\">])</span>\n",
       "torch.float16\n",
       "</pre>\n"
      ],
      "text/plain": [
       "text_model.encoder.layers.\u001b[1;36m0.\u001b[0mself_attn.k_proj.bias\n",
       "\u001b[1;35mtorch.Size\u001b[0m\u001b[1m(\u001b[0m\u001b[1m[\u001b[0m\u001b[1;36m512\u001b[0m\u001b[1m]\u001b[0m\u001b[1m)\u001b[0m\n",
       "torch.float16\n"
      ]
     },
     "metadata": {},
     "output_type": "display_data"
    },
    {
     "data": {
      "text/html": [
       "<pre style=\"white-space:pre;overflow-x:auto;line-height:normal;font-family:Menlo,'DejaVu Sans Mono',consolas,'Courier New',monospace\">text_model.encoder.layers.<span style=\"color: #008080; text-decoration-color: #008080; font-weight: bold\">0.</span>self_attn.v_proj.weight\n",
       "<span style=\"color: #800080; text-decoration-color: #800080; font-weight: bold\">torch.Size</span><span style=\"font-weight: bold\">([</span><span style=\"color: #008080; text-decoration-color: #008080; font-weight: bold\">512</span>, <span style=\"color: #008080; text-decoration-color: #008080; font-weight: bold\">512</span><span style=\"font-weight: bold\">])</span>\n",
       "torch.float16\n",
       "</pre>\n"
      ],
      "text/plain": [
       "text_model.encoder.layers.\u001b[1;36m0.\u001b[0mself_attn.v_proj.weight\n",
       "\u001b[1;35mtorch.Size\u001b[0m\u001b[1m(\u001b[0m\u001b[1m[\u001b[0m\u001b[1;36m512\u001b[0m, \u001b[1;36m512\u001b[0m\u001b[1m]\u001b[0m\u001b[1m)\u001b[0m\n",
       "torch.float16\n"
      ]
     },
     "metadata": {},
     "output_type": "display_data"
    },
    {
     "data": {
      "text/html": [
       "<pre style=\"white-space:pre;overflow-x:auto;line-height:normal;font-family:Menlo,'DejaVu Sans Mono',consolas,'Courier New',monospace\">text_model.encoder.layers.<span style=\"color: #008080; text-decoration-color: #008080; font-weight: bold\">0.</span>self_attn.v_proj.bias\n",
       "<span style=\"color: #800080; text-decoration-color: #800080; font-weight: bold\">torch.Size</span><span style=\"font-weight: bold\">([</span><span style=\"color: #008080; text-decoration-color: #008080; font-weight: bold\">512</span><span style=\"font-weight: bold\">])</span>\n",
       "torch.float16\n",
       "</pre>\n"
      ],
      "text/plain": [
       "text_model.encoder.layers.\u001b[1;36m0.\u001b[0mself_attn.v_proj.bias\n",
       "\u001b[1;35mtorch.Size\u001b[0m\u001b[1m(\u001b[0m\u001b[1m[\u001b[0m\u001b[1;36m512\u001b[0m\u001b[1m]\u001b[0m\u001b[1m)\u001b[0m\n",
       "torch.float16\n"
      ]
     },
     "metadata": {},
     "output_type": "display_data"
    },
    {
     "data": {
      "text/html": [
       "<pre style=\"white-space:pre;overflow-x:auto;line-height:normal;font-family:Menlo,'DejaVu Sans Mono',consolas,'Courier New',monospace\">text_model.encoder.layers.<span style=\"color: #008080; text-decoration-color: #008080; font-weight: bold\">0.</span>self_attn.q_proj.weight\n",
       "<span style=\"color: #800080; text-decoration-color: #800080; font-weight: bold\">torch.Size</span><span style=\"font-weight: bold\">([</span><span style=\"color: #008080; text-decoration-color: #008080; font-weight: bold\">512</span>, <span style=\"color: #008080; text-decoration-color: #008080; font-weight: bold\">512</span><span style=\"font-weight: bold\">])</span>\n",
       "torch.float16\n",
       "</pre>\n"
      ],
      "text/plain": [
       "text_model.encoder.layers.\u001b[1;36m0.\u001b[0mself_attn.q_proj.weight\n",
       "\u001b[1;35mtorch.Size\u001b[0m\u001b[1m(\u001b[0m\u001b[1m[\u001b[0m\u001b[1;36m512\u001b[0m, \u001b[1;36m512\u001b[0m\u001b[1m]\u001b[0m\u001b[1m)\u001b[0m\n",
       "torch.float16\n"
      ]
     },
     "metadata": {},
     "output_type": "display_data"
    },
    {
     "data": {
      "text/html": [
       "<pre style=\"white-space:pre;overflow-x:auto;line-height:normal;font-family:Menlo,'DejaVu Sans Mono',consolas,'Courier New',monospace\">text_model.encoder.layers.<span style=\"color: #008080; text-decoration-color: #008080; font-weight: bold\">0.</span>self_attn.q_proj.bias\n",
       "<span style=\"color: #800080; text-decoration-color: #800080; font-weight: bold\">torch.Size</span><span style=\"font-weight: bold\">([</span><span style=\"color: #008080; text-decoration-color: #008080; font-weight: bold\">512</span><span style=\"font-weight: bold\">])</span>\n",
       "torch.float16\n",
       "</pre>\n"
      ],
      "text/plain": [
       "text_model.encoder.layers.\u001b[1;36m0.\u001b[0mself_attn.q_proj.bias\n",
       "\u001b[1;35mtorch.Size\u001b[0m\u001b[1m(\u001b[0m\u001b[1m[\u001b[0m\u001b[1;36m512\u001b[0m\u001b[1m]\u001b[0m\u001b[1m)\u001b[0m\n",
       "torch.float16\n"
      ]
     },
     "metadata": {},
     "output_type": "display_data"
    },
    {
     "data": {
      "text/html": [
       "<pre style=\"white-space:pre;overflow-x:auto;line-height:normal;font-family:Menlo,'DejaVu Sans Mono',consolas,'Courier New',monospace\">text_model.encoder.layers.<span style=\"color: #008080; text-decoration-color: #008080; font-weight: bold\">0.</span>self_attn.out_proj.weight\n",
       "<span style=\"color: #800080; text-decoration-color: #800080; font-weight: bold\">torch.Size</span><span style=\"font-weight: bold\">([</span><span style=\"color: #008080; text-decoration-color: #008080; font-weight: bold\">512</span>, <span style=\"color: #008080; text-decoration-color: #008080; font-weight: bold\">512</span><span style=\"font-weight: bold\">])</span>\n",
       "torch.float16\n",
       "</pre>\n"
      ],
      "text/plain": [
       "text_model.encoder.layers.\u001b[1;36m0.\u001b[0mself_attn.out_proj.weight\n",
       "\u001b[1;35mtorch.Size\u001b[0m\u001b[1m(\u001b[0m\u001b[1m[\u001b[0m\u001b[1;36m512\u001b[0m, \u001b[1;36m512\u001b[0m\u001b[1m]\u001b[0m\u001b[1m)\u001b[0m\n",
       "torch.float16\n"
      ]
     },
     "metadata": {},
     "output_type": "display_data"
    },
    {
     "data": {
      "text/html": [
       "<pre style=\"white-space:pre;overflow-x:auto;line-height:normal;font-family:Menlo,'DejaVu Sans Mono',consolas,'Courier New',monospace\">text_model.encoder.layers.<span style=\"color: #008080; text-decoration-color: #008080; font-weight: bold\">0.</span>self_attn.out_proj.bias\n",
       "<span style=\"color: #800080; text-decoration-color: #800080; font-weight: bold\">torch.Size</span><span style=\"font-weight: bold\">([</span><span style=\"color: #008080; text-decoration-color: #008080; font-weight: bold\">512</span><span style=\"font-weight: bold\">])</span>\n",
       "torch.float16\n",
       "</pre>\n"
      ],
      "text/plain": [
       "text_model.encoder.layers.\u001b[1;36m0.\u001b[0mself_attn.out_proj.bias\n",
       "\u001b[1;35mtorch.Size\u001b[0m\u001b[1m(\u001b[0m\u001b[1m[\u001b[0m\u001b[1;36m512\u001b[0m\u001b[1m]\u001b[0m\u001b[1m)\u001b[0m\n",
       "torch.float16\n"
      ]
     },
     "metadata": {},
     "output_type": "display_data"
    },
    {
     "data": {
      "text/html": [
       "<pre style=\"white-space:pre;overflow-x:auto;line-height:normal;font-family:Menlo,'DejaVu Sans Mono',consolas,'Courier New',monospace\">text_model.encoder.layers.<span style=\"color: #008080; text-decoration-color: #008080; font-weight: bold\">0.</span>layer_norm1.weight\n",
       "<span style=\"color: #800080; text-decoration-color: #800080; font-weight: bold\">torch.Size</span><span style=\"font-weight: bold\">([</span><span style=\"color: #008080; text-decoration-color: #008080; font-weight: bold\">512</span><span style=\"font-weight: bold\">])</span>\n",
       "torch.float16\n",
       "</pre>\n"
      ],
      "text/plain": [
       "text_model.encoder.layers.\u001b[1;36m0.\u001b[0mlayer_norm1.weight\n",
       "\u001b[1;35mtorch.Size\u001b[0m\u001b[1m(\u001b[0m\u001b[1m[\u001b[0m\u001b[1;36m512\u001b[0m\u001b[1m]\u001b[0m\u001b[1m)\u001b[0m\n",
       "torch.float16\n"
      ]
     },
     "metadata": {},
     "output_type": "display_data"
    },
    {
     "data": {
      "text/html": [
       "<pre style=\"white-space:pre;overflow-x:auto;line-height:normal;font-family:Menlo,'DejaVu Sans Mono',consolas,'Courier New',monospace\">text_model.encoder.layers.<span style=\"color: #008080; text-decoration-color: #008080; font-weight: bold\">0.</span>layer_norm1.bias\n",
       "<span style=\"color: #800080; text-decoration-color: #800080; font-weight: bold\">torch.Size</span><span style=\"font-weight: bold\">([</span><span style=\"color: #008080; text-decoration-color: #008080; font-weight: bold\">512</span><span style=\"font-weight: bold\">])</span>\n",
       "torch.float16\n",
       "</pre>\n"
      ],
      "text/plain": [
       "text_model.encoder.layers.\u001b[1;36m0.\u001b[0mlayer_norm1.bias\n",
       "\u001b[1;35mtorch.Size\u001b[0m\u001b[1m(\u001b[0m\u001b[1m[\u001b[0m\u001b[1;36m512\u001b[0m\u001b[1m]\u001b[0m\u001b[1m)\u001b[0m\n",
       "torch.float16\n"
      ]
     },
     "metadata": {},
     "output_type": "display_data"
    },
    {
     "data": {
      "text/html": [
       "<pre style=\"white-space:pre;overflow-x:auto;line-height:normal;font-family:Menlo,'DejaVu Sans Mono',consolas,'Courier New',monospace\">text_model.encoder.layers.<span style=\"color: #008080; text-decoration-color: #008080; font-weight: bold\">0.</span>mlp.fc1.weight\n",
       "<span style=\"color: #800080; text-decoration-color: #800080; font-weight: bold\">torch.Size</span><span style=\"font-weight: bold\">([</span><span style=\"color: #008080; text-decoration-color: #008080; font-weight: bold\">2048</span>, <span style=\"color: #008080; text-decoration-color: #008080; font-weight: bold\">512</span><span style=\"font-weight: bold\">])</span>\n",
       "torch.float16\n",
       "</pre>\n"
      ],
      "text/plain": [
       "text_model.encoder.layers.\u001b[1;36m0.\u001b[0mmlp.fc1.weight\n",
       "\u001b[1;35mtorch.Size\u001b[0m\u001b[1m(\u001b[0m\u001b[1m[\u001b[0m\u001b[1;36m2048\u001b[0m, \u001b[1;36m512\u001b[0m\u001b[1m]\u001b[0m\u001b[1m)\u001b[0m\n",
       "torch.float16\n"
      ]
     },
     "metadata": {},
     "output_type": "display_data"
    },
    {
     "data": {
      "text/html": [
       "<pre style=\"white-space:pre;overflow-x:auto;line-height:normal;font-family:Menlo,'DejaVu Sans Mono',consolas,'Courier New',monospace\">text_model.encoder.layers.<span style=\"color: #008080; text-decoration-color: #008080; font-weight: bold\">0.</span>mlp.fc1.bias\n",
       "<span style=\"color: #800080; text-decoration-color: #800080; font-weight: bold\">torch.Size</span><span style=\"font-weight: bold\">([</span><span style=\"color: #008080; text-decoration-color: #008080; font-weight: bold\">2048</span><span style=\"font-weight: bold\">])</span>\n",
       "torch.float16\n",
       "</pre>\n"
      ],
      "text/plain": [
       "text_model.encoder.layers.\u001b[1;36m0.\u001b[0mmlp.fc1.bias\n",
       "\u001b[1;35mtorch.Size\u001b[0m\u001b[1m(\u001b[0m\u001b[1m[\u001b[0m\u001b[1;36m2048\u001b[0m\u001b[1m]\u001b[0m\u001b[1m)\u001b[0m\n",
       "torch.float16\n"
      ]
     },
     "metadata": {},
     "output_type": "display_data"
    },
    {
     "data": {
      "text/html": [
       "<pre style=\"white-space:pre;overflow-x:auto;line-height:normal;font-family:Menlo,'DejaVu Sans Mono',consolas,'Courier New',monospace\">text_model.encoder.layers.<span style=\"color: #008080; text-decoration-color: #008080; font-weight: bold\">0.</span>mlp.fc2.weight\n",
       "<span style=\"color: #800080; text-decoration-color: #800080; font-weight: bold\">torch.Size</span><span style=\"font-weight: bold\">([</span><span style=\"color: #008080; text-decoration-color: #008080; font-weight: bold\">512</span>, <span style=\"color: #008080; text-decoration-color: #008080; font-weight: bold\">2048</span><span style=\"font-weight: bold\">])</span>\n",
       "torch.float16\n",
       "</pre>\n"
      ],
      "text/plain": [
       "text_model.encoder.layers.\u001b[1;36m0.\u001b[0mmlp.fc2.weight\n",
       "\u001b[1;35mtorch.Size\u001b[0m\u001b[1m(\u001b[0m\u001b[1m[\u001b[0m\u001b[1;36m512\u001b[0m, \u001b[1;36m2048\u001b[0m\u001b[1m]\u001b[0m\u001b[1m)\u001b[0m\n",
       "torch.float16\n"
      ]
     },
     "metadata": {},
     "output_type": "display_data"
    },
    {
     "data": {
      "text/html": [
       "<pre style=\"white-space:pre;overflow-x:auto;line-height:normal;font-family:Menlo,'DejaVu Sans Mono',consolas,'Courier New',monospace\">text_model.encoder.layers.<span style=\"color: #008080; text-decoration-color: #008080; font-weight: bold\">0.</span>mlp.fc2.bias\n",
       "<span style=\"color: #800080; text-decoration-color: #800080; font-weight: bold\">torch.Size</span><span style=\"font-weight: bold\">([</span><span style=\"color: #008080; text-decoration-color: #008080; font-weight: bold\">512</span><span style=\"font-weight: bold\">])</span>\n",
       "torch.float16\n",
       "</pre>\n"
      ],
      "text/plain": [
       "text_model.encoder.layers.\u001b[1;36m0.\u001b[0mmlp.fc2.bias\n",
       "\u001b[1;35mtorch.Size\u001b[0m\u001b[1m(\u001b[0m\u001b[1m[\u001b[0m\u001b[1;36m512\u001b[0m\u001b[1m]\u001b[0m\u001b[1m)\u001b[0m\n",
       "torch.float16\n"
      ]
     },
     "metadata": {},
     "output_type": "display_data"
    },
    {
     "data": {
      "text/html": [
       "<pre style=\"white-space:pre;overflow-x:auto;line-height:normal;font-family:Menlo,'DejaVu Sans Mono',consolas,'Courier New',monospace\">text_model.encoder.layers.<span style=\"color: #008080; text-decoration-color: #008080; font-weight: bold\">0.</span>layer_norm2.weight\n",
       "<span style=\"color: #800080; text-decoration-color: #800080; font-weight: bold\">torch.Size</span><span style=\"font-weight: bold\">([</span><span style=\"color: #008080; text-decoration-color: #008080; font-weight: bold\">512</span><span style=\"font-weight: bold\">])</span>\n",
       "torch.float16\n",
       "</pre>\n"
      ],
      "text/plain": [
       "text_model.encoder.layers.\u001b[1;36m0.\u001b[0mlayer_norm2.weight\n",
       "\u001b[1;35mtorch.Size\u001b[0m\u001b[1m(\u001b[0m\u001b[1m[\u001b[0m\u001b[1;36m512\u001b[0m\u001b[1m]\u001b[0m\u001b[1m)\u001b[0m\n",
       "torch.float16\n"
      ]
     },
     "metadata": {},
     "output_type": "display_data"
    },
    {
     "data": {
      "text/html": [
       "<pre style=\"white-space:pre;overflow-x:auto;line-height:normal;font-family:Menlo,'DejaVu Sans Mono',consolas,'Courier New',monospace\">text_model.encoder.layers.<span style=\"color: #008080; text-decoration-color: #008080; font-weight: bold\">0.</span>layer_norm2.bias\n",
       "<span style=\"color: #800080; text-decoration-color: #800080; font-weight: bold\">torch.Size</span><span style=\"font-weight: bold\">([</span><span style=\"color: #008080; text-decoration-color: #008080; font-weight: bold\">512</span><span style=\"font-weight: bold\">])</span>\n",
       "torch.float16\n",
       "</pre>\n"
      ],
      "text/plain": [
       "text_model.encoder.layers.\u001b[1;36m0.\u001b[0mlayer_norm2.bias\n",
       "\u001b[1;35mtorch.Size\u001b[0m\u001b[1m(\u001b[0m\u001b[1m[\u001b[0m\u001b[1;36m512\u001b[0m\u001b[1m]\u001b[0m\u001b[1m)\u001b[0m\n",
       "torch.float16\n"
      ]
     },
     "metadata": {},
     "output_type": "display_data"
    },
    {
     "data": {
      "text/html": [
       "<pre style=\"white-space:pre;overflow-x:auto;line-height:normal;font-family:Menlo,'DejaVu Sans Mono',consolas,'Courier New',monospace\">text_model.encoder.layers.<span style=\"color: #008080; text-decoration-color: #008080; font-weight: bold\">1.</span>self_attn.k_proj.weight\n",
       "<span style=\"color: #800080; text-decoration-color: #800080; font-weight: bold\">torch.Size</span><span style=\"font-weight: bold\">([</span><span style=\"color: #008080; text-decoration-color: #008080; font-weight: bold\">512</span>, <span style=\"color: #008080; text-decoration-color: #008080; font-weight: bold\">512</span><span style=\"font-weight: bold\">])</span>\n",
       "torch.float16\n",
       "</pre>\n"
      ],
      "text/plain": [
       "text_model.encoder.layers.\u001b[1;36m1.\u001b[0mself_attn.k_proj.weight\n",
       "\u001b[1;35mtorch.Size\u001b[0m\u001b[1m(\u001b[0m\u001b[1m[\u001b[0m\u001b[1;36m512\u001b[0m, \u001b[1;36m512\u001b[0m\u001b[1m]\u001b[0m\u001b[1m)\u001b[0m\n",
       "torch.float16\n"
      ]
     },
     "metadata": {},
     "output_type": "display_data"
    },
    {
     "data": {
      "text/html": [
       "<pre style=\"white-space:pre;overflow-x:auto;line-height:normal;font-family:Menlo,'DejaVu Sans Mono',consolas,'Courier New',monospace\">text_model.encoder.layers.<span style=\"color: #008080; text-decoration-color: #008080; font-weight: bold\">1.</span>self_attn.k_proj.bias\n",
       "<span style=\"color: #800080; text-decoration-color: #800080; font-weight: bold\">torch.Size</span><span style=\"font-weight: bold\">([</span><span style=\"color: #008080; text-decoration-color: #008080; font-weight: bold\">512</span><span style=\"font-weight: bold\">])</span>\n",
       "torch.float16\n",
       "</pre>\n"
      ],
      "text/plain": [
       "text_model.encoder.layers.\u001b[1;36m1.\u001b[0mself_attn.k_proj.bias\n",
       "\u001b[1;35mtorch.Size\u001b[0m\u001b[1m(\u001b[0m\u001b[1m[\u001b[0m\u001b[1;36m512\u001b[0m\u001b[1m]\u001b[0m\u001b[1m)\u001b[0m\n",
       "torch.float16\n"
      ]
     },
     "metadata": {},
     "output_type": "display_data"
    },
    {
     "data": {
      "text/html": [
       "<pre style=\"white-space:pre;overflow-x:auto;line-height:normal;font-family:Menlo,'DejaVu Sans Mono',consolas,'Courier New',monospace\">text_model.encoder.layers.<span style=\"color: #008080; text-decoration-color: #008080; font-weight: bold\">1.</span>self_attn.v_proj.weight\n",
       "<span style=\"color: #800080; text-decoration-color: #800080; font-weight: bold\">torch.Size</span><span style=\"font-weight: bold\">([</span><span style=\"color: #008080; text-decoration-color: #008080; font-weight: bold\">512</span>, <span style=\"color: #008080; text-decoration-color: #008080; font-weight: bold\">512</span><span style=\"font-weight: bold\">])</span>\n",
       "torch.float16\n",
       "</pre>\n"
      ],
      "text/plain": [
       "text_model.encoder.layers.\u001b[1;36m1.\u001b[0mself_attn.v_proj.weight\n",
       "\u001b[1;35mtorch.Size\u001b[0m\u001b[1m(\u001b[0m\u001b[1m[\u001b[0m\u001b[1;36m512\u001b[0m, \u001b[1;36m512\u001b[0m\u001b[1m]\u001b[0m\u001b[1m)\u001b[0m\n",
       "torch.float16\n"
      ]
     },
     "metadata": {},
     "output_type": "display_data"
    },
    {
     "data": {
      "text/html": [
       "<pre style=\"white-space:pre;overflow-x:auto;line-height:normal;font-family:Menlo,'DejaVu Sans Mono',consolas,'Courier New',monospace\">text_model.encoder.layers.<span style=\"color: #008080; text-decoration-color: #008080; font-weight: bold\">1.</span>self_attn.v_proj.bias\n",
       "<span style=\"color: #800080; text-decoration-color: #800080; font-weight: bold\">torch.Size</span><span style=\"font-weight: bold\">([</span><span style=\"color: #008080; text-decoration-color: #008080; font-weight: bold\">512</span><span style=\"font-weight: bold\">])</span>\n",
       "torch.float16\n",
       "</pre>\n"
      ],
      "text/plain": [
       "text_model.encoder.layers.\u001b[1;36m1.\u001b[0mself_attn.v_proj.bias\n",
       "\u001b[1;35mtorch.Size\u001b[0m\u001b[1m(\u001b[0m\u001b[1m[\u001b[0m\u001b[1;36m512\u001b[0m\u001b[1m]\u001b[0m\u001b[1m)\u001b[0m\n",
       "torch.float16\n"
      ]
     },
     "metadata": {},
     "output_type": "display_data"
    },
    {
     "data": {
      "text/html": [
       "<pre style=\"white-space:pre;overflow-x:auto;line-height:normal;font-family:Menlo,'DejaVu Sans Mono',consolas,'Courier New',monospace\">text_model.encoder.layers.<span style=\"color: #008080; text-decoration-color: #008080; font-weight: bold\">1.</span>self_attn.q_proj.weight\n",
       "<span style=\"color: #800080; text-decoration-color: #800080; font-weight: bold\">torch.Size</span><span style=\"font-weight: bold\">([</span><span style=\"color: #008080; text-decoration-color: #008080; font-weight: bold\">512</span>, <span style=\"color: #008080; text-decoration-color: #008080; font-weight: bold\">512</span><span style=\"font-weight: bold\">])</span>\n",
       "torch.float16\n",
       "</pre>\n"
      ],
      "text/plain": [
       "text_model.encoder.layers.\u001b[1;36m1.\u001b[0mself_attn.q_proj.weight\n",
       "\u001b[1;35mtorch.Size\u001b[0m\u001b[1m(\u001b[0m\u001b[1m[\u001b[0m\u001b[1;36m512\u001b[0m, \u001b[1;36m512\u001b[0m\u001b[1m]\u001b[0m\u001b[1m)\u001b[0m\n",
       "torch.float16\n"
      ]
     },
     "metadata": {},
     "output_type": "display_data"
    },
    {
     "data": {
      "text/html": [
       "<pre style=\"white-space:pre;overflow-x:auto;line-height:normal;font-family:Menlo,'DejaVu Sans Mono',consolas,'Courier New',monospace\">text_model.encoder.layers.<span style=\"color: #008080; text-decoration-color: #008080; font-weight: bold\">1.</span>self_attn.q_proj.bias\n",
       "<span style=\"color: #800080; text-decoration-color: #800080; font-weight: bold\">torch.Size</span><span style=\"font-weight: bold\">([</span><span style=\"color: #008080; text-decoration-color: #008080; font-weight: bold\">512</span><span style=\"font-weight: bold\">])</span>\n",
       "torch.float16\n",
       "</pre>\n"
      ],
      "text/plain": [
       "text_model.encoder.layers.\u001b[1;36m1.\u001b[0mself_attn.q_proj.bias\n",
       "\u001b[1;35mtorch.Size\u001b[0m\u001b[1m(\u001b[0m\u001b[1m[\u001b[0m\u001b[1;36m512\u001b[0m\u001b[1m]\u001b[0m\u001b[1m)\u001b[0m\n",
       "torch.float16\n"
      ]
     },
     "metadata": {},
     "output_type": "display_data"
    },
    {
     "data": {
      "text/html": [
       "<pre style=\"white-space:pre;overflow-x:auto;line-height:normal;font-family:Menlo,'DejaVu Sans Mono',consolas,'Courier New',monospace\">text_model.encoder.layers.<span style=\"color: #008080; text-decoration-color: #008080; font-weight: bold\">1.</span>self_attn.out_proj.weight\n",
       "<span style=\"color: #800080; text-decoration-color: #800080; font-weight: bold\">torch.Size</span><span style=\"font-weight: bold\">([</span><span style=\"color: #008080; text-decoration-color: #008080; font-weight: bold\">512</span>, <span style=\"color: #008080; text-decoration-color: #008080; font-weight: bold\">512</span><span style=\"font-weight: bold\">])</span>\n",
       "torch.float16\n",
       "</pre>\n"
      ],
      "text/plain": [
       "text_model.encoder.layers.\u001b[1;36m1.\u001b[0mself_attn.out_proj.weight\n",
       "\u001b[1;35mtorch.Size\u001b[0m\u001b[1m(\u001b[0m\u001b[1m[\u001b[0m\u001b[1;36m512\u001b[0m, \u001b[1;36m512\u001b[0m\u001b[1m]\u001b[0m\u001b[1m)\u001b[0m\n",
       "torch.float16\n"
      ]
     },
     "metadata": {},
     "output_type": "display_data"
    },
    {
     "data": {
      "text/html": [
       "<pre style=\"white-space:pre;overflow-x:auto;line-height:normal;font-family:Menlo,'DejaVu Sans Mono',consolas,'Courier New',monospace\">text_model.encoder.layers.<span style=\"color: #008080; text-decoration-color: #008080; font-weight: bold\">1.</span>self_attn.out_proj.bias\n",
       "<span style=\"color: #800080; text-decoration-color: #800080; font-weight: bold\">torch.Size</span><span style=\"font-weight: bold\">([</span><span style=\"color: #008080; text-decoration-color: #008080; font-weight: bold\">512</span><span style=\"font-weight: bold\">])</span>\n",
       "torch.float16\n",
       "</pre>\n"
      ],
      "text/plain": [
       "text_model.encoder.layers.\u001b[1;36m1.\u001b[0mself_attn.out_proj.bias\n",
       "\u001b[1;35mtorch.Size\u001b[0m\u001b[1m(\u001b[0m\u001b[1m[\u001b[0m\u001b[1;36m512\u001b[0m\u001b[1m]\u001b[0m\u001b[1m)\u001b[0m\n",
       "torch.float16\n"
      ]
     },
     "metadata": {},
     "output_type": "display_data"
    },
    {
     "data": {
      "text/html": [
       "<pre style=\"white-space:pre;overflow-x:auto;line-height:normal;font-family:Menlo,'DejaVu Sans Mono',consolas,'Courier New',monospace\">text_model.encoder.layers.<span style=\"color: #008080; text-decoration-color: #008080; font-weight: bold\">1.</span>layer_norm1.weight\n",
       "<span style=\"color: #800080; text-decoration-color: #800080; font-weight: bold\">torch.Size</span><span style=\"font-weight: bold\">([</span><span style=\"color: #008080; text-decoration-color: #008080; font-weight: bold\">512</span><span style=\"font-weight: bold\">])</span>\n",
       "torch.float16\n",
       "</pre>\n"
      ],
      "text/plain": [
       "text_model.encoder.layers.\u001b[1;36m1.\u001b[0mlayer_norm1.weight\n",
       "\u001b[1;35mtorch.Size\u001b[0m\u001b[1m(\u001b[0m\u001b[1m[\u001b[0m\u001b[1;36m512\u001b[0m\u001b[1m]\u001b[0m\u001b[1m)\u001b[0m\n",
       "torch.float16\n"
      ]
     },
     "metadata": {},
     "output_type": "display_data"
    },
    {
     "data": {
      "text/html": [
       "<pre style=\"white-space:pre;overflow-x:auto;line-height:normal;font-family:Menlo,'DejaVu Sans Mono',consolas,'Courier New',monospace\">text_model.encoder.layers.<span style=\"color: #008080; text-decoration-color: #008080; font-weight: bold\">1.</span>layer_norm1.bias\n",
       "<span style=\"color: #800080; text-decoration-color: #800080; font-weight: bold\">torch.Size</span><span style=\"font-weight: bold\">([</span><span style=\"color: #008080; text-decoration-color: #008080; font-weight: bold\">512</span><span style=\"font-weight: bold\">])</span>\n",
       "torch.float16\n",
       "</pre>\n"
      ],
      "text/plain": [
       "text_model.encoder.layers.\u001b[1;36m1.\u001b[0mlayer_norm1.bias\n",
       "\u001b[1;35mtorch.Size\u001b[0m\u001b[1m(\u001b[0m\u001b[1m[\u001b[0m\u001b[1;36m512\u001b[0m\u001b[1m]\u001b[0m\u001b[1m)\u001b[0m\n",
       "torch.float16\n"
      ]
     },
     "metadata": {},
     "output_type": "display_data"
    },
    {
     "data": {
      "text/html": [
       "<pre style=\"white-space:pre;overflow-x:auto;line-height:normal;font-family:Menlo,'DejaVu Sans Mono',consolas,'Courier New',monospace\">text_model.encoder.layers.<span style=\"color: #008080; text-decoration-color: #008080; font-weight: bold\">1.</span>mlp.fc1.weight\n",
       "<span style=\"color: #800080; text-decoration-color: #800080; font-weight: bold\">torch.Size</span><span style=\"font-weight: bold\">([</span><span style=\"color: #008080; text-decoration-color: #008080; font-weight: bold\">2048</span>, <span style=\"color: #008080; text-decoration-color: #008080; font-weight: bold\">512</span><span style=\"font-weight: bold\">])</span>\n",
       "torch.float16\n",
       "</pre>\n"
      ],
      "text/plain": [
       "text_model.encoder.layers.\u001b[1;36m1.\u001b[0mmlp.fc1.weight\n",
       "\u001b[1;35mtorch.Size\u001b[0m\u001b[1m(\u001b[0m\u001b[1m[\u001b[0m\u001b[1;36m2048\u001b[0m, \u001b[1;36m512\u001b[0m\u001b[1m]\u001b[0m\u001b[1m)\u001b[0m\n",
       "torch.float16\n"
      ]
     },
     "metadata": {},
     "output_type": "display_data"
    },
    {
     "data": {
      "text/html": [
       "<pre style=\"white-space:pre;overflow-x:auto;line-height:normal;font-family:Menlo,'DejaVu Sans Mono',consolas,'Courier New',monospace\">text_model.encoder.layers.<span style=\"color: #008080; text-decoration-color: #008080; font-weight: bold\">1.</span>mlp.fc1.bias\n",
       "<span style=\"color: #800080; text-decoration-color: #800080; font-weight: bold\">torch.Size</span><span style=\"font-weight: bold\">([</span><span style=\"color: #008080; text-decoration-color: #008080; font-weight: bold\">2048</span><span style=\"font-weight: bold\">])</span>\n",
       "torch.float16\n",
       "</pre>\n"
      ],
      "text/plain": [
       "text_model.encoder.layers.\u001b[1;36m1.\u001b[0mmlp.fc1.bias\n",
       "\u001b[1;35mtorch.Size\u001b[0m\u001b[1m(\u001b[0m\u001b[1m[\u001b[0m\u001b[1;36m2048\u001b[0m\u001b[1m]\u001b[0m\u001b[1m)\u001b[0m\n",
       "torch.float16\n"
      ]
     },
     "metadata": {},
     "output_type": "display_data"
    },
    {
     "data": {
      "text/html": [
       "<pre style=\"white-space:pre;overflow-x:auto;line-height:normal;font-family:Menlo,'DejaVu Sans Mono',consolas,'Courier New',monospace\">text_model.encoder.layers.<span style=\"color: #008080; text-decoration-color: #008080; font-weight: bold\">1.</span>mlp.fc2.weight\n",
       "<span style=\"color: #800080; text-decoration-color: #800080; font-weight: bold\">torch.Size</span><span style=\"font-weight: bold\">([</span><span style=\"color: #008080; text-decoration-color: #008080; font-weight: bold\">512</span>, <span style=\"color: #008080; text-decoration-color: #008080; font-weight: bold\">2048</span><span style=\"font-weight: bold\">])</span>\n",
       "torch.float16\n",
       "</pre>\n"
      ],
      "text/plain": [
       "text_model.encoder.layers.\u001b[1;36m1.\u001b[0mmlp.fc2.weight\n",
       "\u001b[1;35mtorch.Size\u001b[0m\u001b[1m(\u001b[0m\u001b[1m[\u001b[0m\u001b[1;36m512\u001b[0m, \u001b[1;36m2048\u001b[0m\u001b[1m]\u001b[0m\u001b[1m)\u001b[0m\n",
       "torch.float16\n"
      ]
     },
     "metadata": {},
     "output_type": "display_data"
    },
    {
     "data": {
      "text/html": [
       "<pre style=\"white-space:pre;overflow-x:auto;line-height:normal;font-family:Menlo,'DejaVu Sans Mono',consolas,'Courier New',monospace\">text_model.encoder.layers.<span style=\"color: #008080; text-decoration-color: #008080; font-weight: bold\">1.</span>mlp.fc2.bias\n",
       "<span style=\"color: #800080; text-decoration-color: #800080; font-weight: bold\">torch.Size</span><span style=\"font-weight: bold\">([</span><span style=\"color: #008080; text-decoration-color: #008080; font-weight: bold\">512</span><span style=\"font-weight: bold\">])</span>\n",
       "torch.float16\n",
       "</pre>\n"
      ],
      "text/plain": [
       "text_model.encoder.layers.\u001b[1;36m1.\u001b[0mmlp.fc2.bias\n",
       "\u001b[1;35mtorch.Size\u001b[0m\u001b[1m(\u001b[0m\u001b[1m[\u001b[0m\u001b[1;36m512\u001b[0m\u001b[1m]\u001b[0m\u001b[1m)\u001b[0m\n",
       "torch.float16\n"
      ]
     },
     "metadata": {},
     "output_type": "display_data"
    },
    {
     "data": {
      "text/html": [
       "<pre style=\"white-space:pre;overflow-x:auto;line-height:normal;font-family:Menlo,'DejaVu Sans Mono',consolas,'Courier New',monospace\">text_model.encoder.layers.<span style=\"color: #008080; text-decoration-color: #008080; font-weight: bold\">1.</span>layer_norm2.weight\n",
       "<span style=\"color: #800080; text-decoration-color: #800080; font-weight: bold\">torch.Size</span><span style=\"font-weight: bold\">([</span><span style=\"color: #008080; text-decoration-color: #008080; font-weight: bold\">512</span><span style=\"font-weight: bold\">])</span>\n",
       "torch.float16\n",
       "</pre>\n"
      ],
      "text/plain": [
       "text_model.encoder.layers.\u001b[1;36m1.\u001b[0mlayer_norm2.weight\n",
       "\u001b[1;35mtorch.Size\u001b[0m\u001b[1m(\u001b[0m\u001b[1m[\u001b[0m\u001b[1;36m512\u001b[0m\u001b[1m]\u001b[0m\u001b[1m)\u001b[0m\n",
       "torch.float16\n"
      ]
     },
     "metadata": {},
     "output_type": "display_data"
    },
    {
     "data": {
      "text/html": [
       "<pre style=\"white-space:pre;overflow-x:auto;line-height:normal;font-family:Menlo,'DejaVu Sans Mono',consolas,'Courier New',monospace\">text_model.encoder.layers.<span style=\"color: #008080; text-decoration-color: #008080; font-weight: bold\">1.</span>layer_norm2.bias\n",
       "<span style=\"color: #800080; text-decoration-color: #800080; font-weight: bold\">torch.Size</span><span style=\"font-weight: bold\">([</span><span style=\"color: #008080; text-decoration-color: #008080; font-weight: bold\">512</span><span style=\"font-weight: bold\">])</span>\n",
       "torch.float16\n",
       "</pre>\n"
      ],
      "text/plain": [
       "text_model.encoder.layers.\u001b[1;36m1.\u001b[0mlayer_norm2.bias\n",
       "\u001b[1;35mtorch.Size\u001b[0m\u001b[1m(\u001b[0m\u001b[1m[\u001b[0m\u001b[1;36m512\u001b[0m\u001b[1m]\u001b[0m\u001b[1m)\u001b[0m\n",
       "torch.float16\n"
      ]
     },
     "metadata": {},
     "output_type": "display_data"
    },
    {
     "data": {
      "text/html": [
       "<pre style=\"white-space:pre;overflow-x:auto;line-height:normal;font-family:Menlo,'DejaVu Sans Mono',consolas,'Courier New',monospace\">text_model.encoder.layers.<span style=\"color: #008080; text-decoration-color: #008080; font-weight: bold\">2.</span>self_attn.k_proj.weight\n",
       "<span style=\"color: #800080; text-decoration-color: #800080; font-weight: bold\">torch.Size</span><span style=\"font-weight: bold\">([</span><span style=\"color: #008080; text-decoration-color: #008080; font-weight: bold\">512</span>, <span style=\"color: #008080; text-decoration-color: #008080; font-weight: bold\">512</span><span style=\"font-weight: bold\">])</span>\n",
       "torch.float16\n",
       "</pre>\n"
      ],
      "text/plain": [
       "text_model.encoder.layers.\u001b[1;36m2.\u001b[0mself_attn.k_proj.weight\n",
       "\u001b[1;35mtorch.Size\u001b[0m\u001b[1m(\u001b[0m\u001b[1m[\u001b[0m\u001b[1;36m512\u001b[0m, \u001b[1;36m512\u001b[0m\u001b[1m]\u001b[0m\u001b[1m)\u001b[0m\n",
       "torch.float16\n"
      ]
     },
     "metadata": {},
     "output_type": "display_data"
    },
    {
     "data": {
      "text/html": [
       "<pre style=\"white-space:pre;overflow-x:auto;line-height:normal;font-family:Menlo,'DejaVu Sans Mono',consolas,'Courier New',monospace\">text_model.encoder.layers.<span style=\"color: #008080; text-decoration-color: #008080; font-weight: bold\">2.</span>self_attn.k_proj.bias\n",
       "<span style=\"color: #800080; text-decoration-color: #800080; font-weight: bold\">torch.Size</span><span style=\"font-weight: bold\">([</span><span style=\"color: #008080; text-decoration-color: #008080; font-weight: bold\">512</span><span style=\"font-weight: bold\">])</span>\n",
       "torch.float16\n",
       "</pre>\n"
      ],
      "text/plain": [
       "text_model.encoder.layers.\u001b[1;36m2.\u001b[0mself_attn.k_proj.bias\n",
       "\u001b[1;35mtorch.Size\u001b[0m\u001b[1m(\u001b[0m\u001b[1m[\u001b[0m\u001b[1;36m512\u001b[0m\u001b[1m]\u001b[0m\u001b[1m)\u001b[0m\n",
       "torch.float16\n"
      ]
     },
     "metadata": {},
     "output_type": "display_data"
    },
    {
     "data": {
      "text/html": [
       "<pre style=\"white-space:pre;overflow-x:auto;line-height:normal;font-family:Menlo,'DejaVu Sans Mono',consolas,'Courier New',monospace\">text_model.encoder.layers.<span style=\"color: #008080; text-decoration-color: #008080; font-weight: bold\">2.</span>self_attn.v_proj.weight\n",
       "<span style=\"color: #800080; text-decoration-color: #800080; font-weight: bold\">torch.Size</span><span style=\"font-weight: bold\">([</span><span style=\"color: #008080; text-decoration-color: #008080; font-weight: bold\">512</span>, <span style=\"color: #008080; text-decoration-color: #008080; font-weight: bold\">512</span><span style=\"font-weight: bold\">])</span>\n",
       "torch.float16\n",
       "</pre>\n"
      ],
      "text/plain": [
       "text_model.encoder.layers.\u001b[1;36m2.\u001b[0mself_attn.v_proj.weight\n",
       "\u001b[1;35mtorch.Size\u001b[0m\u001b[1m(\u001b[0m\u001b[1m[\u001b[0m\u001b[1;36m512\u001b[0m, \u001b[1;36m512\u001b[0m\u001b[1m]\u001b[0m\u001b[1m)\u001b[0m\n",
       "torch.float16\n"
      ]
     },
     "metadata": {},
     "output_type": "display_data"
    },
    {
     "data": {
      "text/html": [
       "<pre style=\"white-space:pre;overflow-x:auto;line-height:normal;font-family:Menlo,'DejaVu Sans Mono',consolas,'Courier New',monospace\">text_model.encoder.layers.<span style=\"color: #008080; text-decoration-color: #008080; font-weight: bold\">2.</span>self_attn.v_proj.bias\n",
       "<span style=\"color: #800080; text-decoration-color: #800080; font-weight: bold\">torch.Size</span><span style=\"font-weight: bold\">([</span><span style=\"color: #008080; text-decoration-color: #008080; font-weight: bold\">512</span><span style=\"font-weight: bold\">])</span>\n",
       "torch.float16\n",
       "</pre>\n"
      ],
      "text/plain": [
       "text_model.encoder.layers.\u001b[1;36m2.\u001b[0mself_attn.v_proj.bias\n",
       "\u001b[1;35mtorch.Size\u001b[0m\u001b[1m(\u001b[0m\u001b[1m[\u001b[0m\u001b[1;36m512\u001b[0m\u001b[1m]\u001b[0m\u001b[1m)\u001b[0m\n",
       "torch.float16\n"
      ]
     },
     "metadata": {},
     "output_type": "display_data"
    },
    {
     "data": {
      "text/html": [
       "<pre style=\"white-space:pre;overflow-x:auto;line-height:normal;font-family:Menlo,'DejaVu Sans Mono',consolas,'Courier New',monospace\">text_model.encoder.layers.<span style=\"color: #008080; text-decoration-color: #008080; font-weight: bold\">2.</span>self_attn.q_proj.weight\n",
       "<span style=\"color: #800080; text-decoration-color: #800080; font-weight: bold\">torch.Size</span><span style=\"font-weight: bold\">([</span><span style=\"color: #008080; text-decoration-color: #008080; font-weight: bold\">512</span>, <span style=\"color: #008080; text-decoration-color: #008080; font-weight: bold\">512</span><span style=\"font-weight: bold\">])</span>\n",
       "torch.float16\n",
       "</pre>\n"
      ],
      "text/plain": [
       "text_model.encoder.layers.\u001b[1;36m2.\u001b[0mself_attn.q_proj.weight\n",
       "\u001b[1;35mtorch.Size\u001b[0m\u001b[1m(\u001b[0m\u001b[1m[\u001b[0m\u001b[1;36m512\u001b[0m, \u001b[1;36m512\u001b[0m\u001b[1m]\u001b[0m\u001b[1m)\u001b[0m\n",
       "torch.float16\n"
      ]
     },
     "metadata": {},
     "output_type": "display_data"
    },
    {
     "data": {
      "text/html": [
       "<pre style=\"white-space:pre;overflow-x:auto;line-height:normal;font-family:Menlo,'DejaVu Sans Mono',consolas,'Courier New',monospace\">text_model.encoder.layers.<span style=\"color: #008080; text-decoration-color: #008080; font-weight: bold\">2.</span>self_attn.q_proj.bias\n",
       "<span style=\"color: #800080; text-decoration-color: #800080; font-weight: bold\">torch.Size</span><span style=\"font-weight: bold\">([</span><span style=\"color: #008080; text-decoration-color: #008080; font-weight: bold\">512</span><span style=\"font-weight: bold\">])</span>\n",
       "torch.float16\n",
       "</pre>\n"
      ],
      "text/plain": [
       "text_model.encoder.layers.\u001b[1;36m2.\u001b[0mself_attn.q_proj.bias\n",
       "\u001b[1;35mtorch.Size\u001b[0m\u001b[1m(\u001b[0m\u001b[1m[\u001b[0m\u001b[1;36m512\u001b[0m\u001b[1m]\u001b[0m\u001b[1m)\u001b[0m\n",
       "torch.float16\n"
      ]
     },
     "metadata": {},
     "output_type": "display_data"
    },
    {
     "data": {
      "text/html": [
       "<pre style=\"white-space:pre;overflow-x:auto;line-height:normal;font-family:Menlo,'DejaVu Sans Mono',consolas,'Courier New',monospace\">text_model.encoder.layers.<span style=\"color: #008080; text-decoration-color: #008080; font-weight: bold\">2.</span>self_attn.out_proj.weight\n",
       "<span style=\"color: #800080; text-decoration-color: #800080; font-weight: bold\">torch.Size</span><span style=\"font-weight: bold\">([</span><span style=\"color: #008080; text-decoration-color: #008080; font-weight: bold\">512</span>, <span style=\"color: #008080; text-decoration-color: #008080; font-weight: bold\">512</span><span style=\"font-weight: bold\">])</span>\n",
       "torch.float16\n",
       "</pre>\n"
      ],
      "text/plain": [
       "text_model.encoder.layers.\u001b[1;36m2.\u001b[0mself_attn.out_proj.weight\n",
       "\u001b[1;35mtorch.Size\u001b[0m\u001b[1m(\u001b[0m\u001b[1m[\u001b[0m\u001b[1;36m512\u001b[0m, \u001b[1;36m512\u001b[0m\u001b[1m]\u001b[0m\u001b[1m)\u001b[0m\n",
       "torch.float16\n"
      ]
     },
     "metadata": {},
     "output_type": "display_data"
    },
    {
     "data": {
      "text/html": [
       "<pre style=\"white-space:pre;overflow-x:auto;line-height:normal;font-family:Menlo,'DejaVu Sans Mono',consolas,'Courier New',monospace\">text_model.encoder.layers.<span style=\"color: #008080; text-decoration-color: #008080; font-weight: bold\">2.</span>self_attn.out_proj.bias\n",
       "<span style=\"color: #800080; text-decoration-color: #800080; font-weight: bold\">torch.Size</span><span style=\"font-weight: bold\">([</span><span style=\"color: #008080; text-decoration-color: #008080; font-weight: bold\">512</span><span style=\"font-weight: bold\">])</span>\n",
       "torch.float16\n",
       "</pre>\n"
      ],
      "text/plain": [
       "text_model.encoder.layers.\u001b[1;36m2.\u001b[0mself_attn.out_proj.bias\n",
       "\u001b[1;35mtorch.Size\u001b[0m\u001b[1m(\u001b[0m\u001b[1m[\u001b[0m\u001b[1;36m512\u001b[0m\u001b[1m]\u001b[0m\u001b[1m)\u001b[0m\n",
       "torch.float16\n"
      ]
     },
     "metadata": {},
     "output_type": "display_data"
    },
    {
     "data": {
      "text/html": [
       "<pre style=\"white-space:pre;overflow-x:auto;line-height:normal;font-family:Menlo,'DejaVu Sans Mono',consolas,'Courier New',monospace\">text_model.encoder.layers.<span style=\"color: #008080; text-decoration-color: #008080; font-weight: bold\">2.</span>layer_norm1.weight\n",
       "<span style=\"color: #800080; text-decoration-color: #800080; font-weight: bold\">torch.Size</span><span style=\"font-weight: bold\">([</span><span style=\"color: #008080; text-decoration-color: #008080; font-weight: bold\">512</span><span style=\"font-weight: bold\">])</span>\n",
       "torch.float16\n",
       "</pre>\n"
      ],
      "text/plain": [
       "text_model.encoder.layers.\u001b[1;36m2.\u001b[0mlayer_norm1.weight\n",
       "\u001b[1;35mtorch.Size\u001b[0m\u001b[1m(\u001b[0m\u001b[1m[\u001b[0m\u001b[1;36m512\u001b[0m\u001b[1m]\u001b[0m\u001b[1m)\u001b[0m\n",
       "torch.float16\n"
      ]
     },
     "metadata": {},
     "output_type": "display_data"
    },
    {
     "data": {
      "text/html": [
       "<pre style=\"white-space:pre;overflow-x:auto;line-height:normal;font-family:Menlo,'DejaVu Sans Mono',consolas,'Courier New',monospace\">text_model.encoder.layers.<span style=\"color: #008080; text-decoration-color: #008080; font-weight: bold\">2.</span>layer_norm1.bias\n",
       "<span style=\"color: #800080; text-decoration-color: #800080; font-weight: bold\">torch.Size</span><span style=\"font-weight: bold\">([</span><span style=\"color: #008080; text-decoration-color: #008080; font-weight: bold\">512</span><span style=\"font-weight: bold\">])</span>\n",
       "torch.float16\n",
       "</pre>\n"
      ],
      "text/plain": [
       "text_model.encoder.layers.\u001b[1;36m2.\u001b[0mlayer_norm1.bias\n",
       "\u001b[1;35mtorch.Size\u001b[0m\u001b[1m(\u001b[0m\u001b[1m[\u001b[0m\u001b[1;36m512\u001b[0m\u001b[1m]\u001b[0m\u001b[1m)\u001b[0m\n",
       "torch.float16\n"
      ]
     },
     "metadata": {},
     "output_type": "display_data"
    },
    {
     "data": {
      "text/html": [
       "<pre style=\"white-space:pre;overflow-x:auto;line-height:normal;font-family:Menlo,'DejaVu Sans Mono',consolas,'Courier New',monospace\">text_model.encoder.layers.<span style=\"color: #008080; text-decoration-color: #008080; font-weight: bold\">2.</span>mlp.fc1.weight\n",
       "<span style=\"color: #800080; text-decoration-color: #800080; font-weight: bold\">torch.Size</span><span style=\"font-weight: bold\">([</span><span style=\"color: #008080; text-decoration-color: #008080; font-weight: bold\">2048</span>, <span style=\"color: #008080; text-decoration-color: #008080; font-weight: bold\">512</span><span style=\"font-weight: bold\">])</span>\n",
       "torch.float16\n",
       "</pre>\n"
      ],
      "text/plain": [
       "text_model.encoder.layers.\u001b[1;36m2.\u001b[0mmlp.fc1.weight\n",
       "\u001b[1;35mtorch.Size\u001b[0m\u001b[1m(\u001b[0m\u001b[1m[\u001b[0m\u001b[1;36m2048\u001b[0m, \u001b[1;36m512\u001b[0m\u001b[1m]\u001b[0m\u001b[1m)\u001b[0m\n",
       "torch.float16\n"
      ]
     },
     "metadata": {},
     "output_type": "display_data"
    },
    {
     "data": {
      "text/html": [
       "<pre style=\"white-space:pre;overflow-x:auto;line-height:normal;font-family:Menlo,'DejaVu Sans Mono',consolas,'Courier New',monospace\">text_model.encoder.layers.<span style=\"color: #008080; text-decoration-color: #008080; font-weight: bold\">2.</span>mlp.fc1.bias\n",
       "<span style=\"color: #800080; text-decoration-color: #800080; font-weight: bold\">torch.Size</span><span style=\"font-weight: bold\">([</span><span style=\"color: #008080; text-decoration-color: #008080; font-weight: bold\">2048</span><span style=\"font-weight: bold\">])</span>\n",
       "torch.float16\n",
       "</pre>\n"
      ],
      "text/plain": [
       "text_model.encoder.layers.\u001b[1;36m2.\u001b[0mmlp.fc1.bias\n",
       "\u001b[1;35mtorch.Size\u001b[0m\u001b[1m(\u001b[0m\u001b[1m[\u001b[0m\u001b[1;36m2048\u001b[0m\u001b[1m]\u001b[0m\u001b[1m)\u001b[0m\n",
       "torch.float16\n"
      ]
     },
     "metadata": {},
     "output_type": "display_data"
    },
    {
     "data": {
      "text/html": [
       "<pre style=\"white-space:pre;overflow-x:auto;line-height:normal;font-family:Menlo,'DejaVu Sans Mono',consolas,'Courier New',monospace\">text_model.encoder.layers.<span style=\"color: #008080; text-decoration-color: #008080; font-weight: bold\">2.</span>mlp.fc2.weight\n",
       "<span style=\"color: #800080; text-decoration-color: #800080; font-weight: bold\">torch.Size</span><span style=\"font-weight: bold\">([</span><span style=\"color: #008080; text-decoration-color: #008080; font-weight: bold\">512</span>, <span style=\"color: #008080; text-decoration-color: #008080; font-weight: bold\">2048</span><span style=\"font-weight: bold\">])</span>\n",
       "torch.float16\n",
       "</pre>\n"
      ],
      "text/plain": [
       "text_model.encoder.layers.\u001b[1;36m2.\u001b[0mmlp.fc2.weight\n",
       "\u001b[1;35mtorch.Size\u001b[0m\u001b[1m(\u001b[0m\u001b[1m[\u001b[0m\u001b[1;36m512\u001b[0m, \u001b[1;36m2048\u001b[0m\u001b[1m]\u001b[0m\u001b[1m)\u001b[0m\n",
       "torch.float16\n"
      ]
     },
     "metadata": {},
     "output_type": "display_data"
    },
    {
     "data": {
      "text/html": [
       "<pre style=\"white-space:pre;overflow-x:auto;line-height:normal;font-family:Menlo,'DejaVu Sans Mono',consolas,'Courier New',monospace\">text_model.encoder.layers.<span style=\"color: #008080; text-decoration-color: #008080; font-weight: bold\">2.</span>mlp.fc2.bias\n",
       "<span style=\"color: #800080; text-decoration-color: #800080; font-weight: bold\">torch.Size</span><span style=\"font-weight: bold\">([</span><span style=\"color: #008080; text-decoration-color: #008080; font-weight: bold\">512</span><span style=\"font-weight: bold\">])</span>\n",
       "torch.float16\n",
       "</pre>\n"
      ],
      "text/plain": [
       "text_model.encoder.layers.\u001b[1;36m2.\u001b[0mmlp.fc2.bias\n",
       "\u001b[1;35mtorch.Size\u001b[0m\u001b[1m(\u001b[0m\u001b[1m[\u001b[0m\u001b[1;36m512\u001b[0m\u001b[1m]\u001b[0m\u001b[1m)\u001b[0m\n",
       "torch.float16\n"
      ]
     },
     "metadata": {},
     "output_type": "display_data"
    },
    {
     "data": {
      "text/html": [
       "<pre style=\"white-space:pre;overflow-x:auto;line-height:normal;font-family:Menlo,'DejaVu Sans Mono',consolas,'Courier New',monospace\">text_model.encoder.layers.<span style=\"color: #008080; text-decoration-color: #008080; font-weight: bold\">2.</span>layer_norm2.weight\n",
       "<span style=\"color: #800080; text-decoration-color: #800080; font-weight: bold\">torch.Size</span><span style=\"font-weight: bold\">([</span><span style=\"color: #008080; text-decoration-color: #008080; font-weight: bold\">512</span><span style=\"font-weight: bold\">])</span>\n",
       "torch.float16\n",
       "</pre>\n"
      ],
      "text/plain": [
       "text_model.encoder.layers.\u001b[1;36m2.\u001b[0mlayer_norm2.weight\n",
       "\u001b[1;35mtorch.Size\u001b[0m\u001b[1m(\u001b[0m\u001b[1m[\u001b[0m\u001b[1;36m512\u001b[0m\u001b[1m]\u001b[0m\u001b[1m)\u001b[0m\n",
       "torch.float16\n"
      ]
     },
     "metadata": {},
     "output_type": "display_data"
    },
    {
     "data": {
      "text/html": [
       "<pre style=\"white-space:pre;overflow-x:auto;line-height:normal;font-family:Menlo,'DejaVu Sans Mono',consolas,'Courier New',monospace\">text_model.encoder.layers.<span style=\"color: #008080; text-decoration-color: #008080; font-weight: bold\">2.</span>layer_norm2.bias\n",
       "<span style=\"color: #800080; text-decoration-color: #800080; font-weight: bold\">torch.Size</span><span style=\"font-weight: bold\">([</span><span style=\"color: #008080; text-decoration-color: #008080; font-weight: bold\">512</span><span style=\"font-weight: bold\">])</span>\n",
       "torch.float16\n",
       "</pre>\n"
      ],
      "text/plain": [
       "text_model.encoder.layers.\u001b[1;36m2.\u001b[0mlayer_norm2.bias\n",
       "\u001b[1;35mtorch.Size\u001b[0m\u001b[1m(\u001b[0m\u001b[1m[\u001b[0m\u001b[1;36m512\u001b[0m\u001b[1m]\u001b[0m\u001b[1m)\u001b[0m\n",
       "torch.float16\n"
      ]
     },
     "metadata": {},
     "output_type": "display_data"
    },
    {
     "data": {
      "text/html": [
       "<pre style=\"white-space:pre;overflow-x:auto;line-height:normal;font-family:Menlo,'DejaVu Sans Mono',consolas,'Courier New',monospace\">text_model.encoder.layers.<span style=\"color: #008080; text-decoration-color: #008080; font-weight: bold\">3.</span>self_attn.k_proj.weight\n",
       "<span style=\"color: #800080; text-decoration-color: #800080; font-weight: bold\">torch.Size</span><span style=\"font-weight: bold\">([</span><span style=\"color: #008080; text-decoration-color: #008080; font-weight: bold\">512</span>, <span style=\"color: #008080; text-decoration-color: #008080; font-weight: bold\">512</span><span style=\"font-weight: bold\">])</span>\n",
       "torch.float16\n",
       "</pre>\n"
      ],
      "text/plain": [
       "text_model.encoder.layers.\u001b[1;36m3.\u001b[0mself_attn.k_proj.weight\n",
       "\u001b[1;35mtorch.Size\u001b[0m\u001b[1m(\u001b[0m\u001b[1m[\u001b[0m\u001b[1;36m512\u001b[0m, \u001b[1;36m512\u001b[0m\u001b[1m]\u001b[0m\u001b[1m)\u001b[0m\n",
       "torch.float16\n"
      ]
     },
     "metadata": {},
     "output_type": "display_data"
    },
    {
     "data": {
      "text/html": [
       "<pre style=\"white-space:pre;overflow-x:auto;line-height:normal;font-family:Menlo,'DejaVu Sans Mono',consolas,'Courier New',monospace\">text_model.encoder.layers.<span style=\"color: #008080; text-decoration-color: #008080; font-weight: bold\">3.</span>self_attn.k_proj.bias\n",
       "<span style=\"color: #800080; text-decoration-color: #800080; font-weight: bold\">torch.Size</span><span style=\"font-weight: bold\">([</span><span style=\"color: #008080; text-decoration-color: #008080; font-weight: bold\">512</span><span style=\"font-weight: bold\">])</span>\n",
       "torch.float16\n",
       "</pre>\n"
      ],
      "text/plain": [
       "text_model.encoder.layers.\u001b[1;36m3.\u001b[0mself_attn.k_proj.bias\n",
       "\u001b[1;35mtorch.Size\u001b[0m\u001b[1m(\u001b[0m\u001b[1m[\u001b[0m\u001b[1;36m512\u001b[0m\u001b[1m]\u001b[0m\u001b[1m)\u001b[0m\n",
       "torch.float16\n"
      ]
     },
     "metadata": {},
     "output_type": "display_data"
    },
    {
     "data": {
      "text/html": [
       "<pre style=\"white-space:pre;overflow-x:auto;line-height:normal;font-family:Menlo,'DejaVu Sans Mono',consolas,'Courier New',monospace\">text_model.encoder.layers.<span style=\"color: #008080; text-decoration-color: #008080; font-weight: bold\">3.</span>self_attn.v_proj.weight\n",
       "<span style=\"color: #800080; text-decoration-color: #800080; font-weight: bold\">torch.Size</span><span style=\"font-weight: bold\">([</span><span style=\"color: #008080; text-decoration-color: #008080; font-weight: bold\">512</span>, <span style=\"color: #008080; text-decoration-color: #008080; font-weight: bold\">512</span><span style=\"font-weight: bold\">])</span>\n",
       "torch.float16\n",
       "</pre>\n"
      ],
      "text/plain": [
       "text_model.encoder.layers.\u001b[1;36m3.\u001b[0mself_attn.v_proj.weight\n",
       "\u001b[1;35mtorch.Size\u001b[0m\u001b[1m(\u001b[0m\u001b[1m[\u001b[0m\u001b[1;36m512\u001b[0m, \u001b[1;36m512\u001b[0m\u001b[1m]\u001b[0m\u001b[1m)\u001b[0m\n",
       "torch.float16\n"
      ]
     },
     "metadata": {},
     "output_type": "display_data"
    },
    {
     "data": {
      "text/html": [
       "<pre style=\"white-space:pre;overflow-x:auto;line-height:normal;font-family:Menlo,'DejaVu Sans Mono',consolas,'Courier New',monospace\">text_model.encoder.layers.<span style=\"color: #008080; text-decoration-color: #008080; font-weight: bold\">3.</span>self_attn.v_proj.bias\n",
       "<span style=\"color: #800080; text-decoration-color: #800080; font-weight: bold\">torch.Size</span><span style=\"font-weight: bold\">([</span><span style=\"color: #008080; text-decoration-color: #008080; font-weight: bold\">512</span><span style=\"font-weight: bold\">])</span>\n",
       "torch.float16\n",
       "</pre>\n"
      ],
      "text/plain": [
       "text_model.encoder.layers.\u001b[1;36m3.\u001b[0mself_attn.v_proj.bias\n",
       "\u001b[1;35mtorch.Size\u001b[0m\u001b[1m(\u001b[0m\u001b[1m[\u001b[0m\u001b[1;36m512\u001b[0m\u001b[1m]\u001b[0m\u001b[1m)\u001b[0m\n",
       "torch.float16\n"
      ]
     },
     "metadata": {},
     "output_type": "display_data"
    },
    {
     "data": {
      "text/html": [
       "<pre style=\"white-space:pre;overflow-x:auto;line-height:normal;font-family:Menlo,'DejaVu Sans Mono',consolas,'Courier New',monospace\">text_model.encoder.layers.<span style=\"color: #008080; text-decoration-color: #008080; font-weight: bold\">3.</span>self_attn.q_proj.weight\n",
       "<span style=\"color: #800080; text-decoration-color: #800080; font-weight: bold\">torch.Size</span><span style=\"font-weight: bold\">([</span><span style=\"color: #008080; text-decoration-color: #008080; font-weight: bold\">512</span>, <span style=\"color: #008080; text-decoration-color: #008080; font-weight: bold\">512</span><span style=\"font-weight: bold\">])</span>\n",
       "torch.float16\n",
       "</pre>\n"
      ],
      "text/plain": [
       "text_model.encoder.layers.\u001b[1;36m3.\u001b[0mself_attn.q_proj.weight\n",
       "\u001b[1;35mtorch.Size\u001b[0m\u001b[1m(\u001b[0m\u001b[1m[\u001b[0m\u001b[1;36m512\u001b[0m, \u001b[1;36m512\u001b[0m\u001b[1m]\u001b[0m\u001b[1m)\u001b[0m\n",
       "torch.float16\n"
      ]
     },
     "metadata": {},
     "output_type": "display_data"
    },
    {
     "data": {
      "text/html": [
       "<pre style=\"white-space:pre;overflow-x:auto;line-height:normal;font-family:Menlo,'DejaVu Sans Mono',consolas,'Courier New',monospace\">text_model.encoder.layers.<span style=\"color: #008080; text-decoration-color: #008080; font-weight: bold\">3.</span>self_attn.q_proj.bias\n",
       "<span style=\"color: #800080; text-decoration-color: #800080; font-weight: bold\">torch.Size</span><span style=\"font-weight: bold\">([</span><span style=\"color: #008080; text-decoration-color: #008080; font-weight: bold\">512</span><span style=\"font-weight: bold\">])</span>\n",
       "torch.float16\n",
       "</pre>\n"
      ],
      "text/plain": [
       "text_model.encoder.layers.\u001b[1;36m3.\u001b[0mself_attn.q_proj.bias\n",
       "\u001b[1;35mtorch.Size\u001b[0m\u001b[1m(\u001b[0m\u001b[1m[\u001b[0m\u001b[1;36m512\u001b[0m\u001b[1m]\u001b[0m\u001b[1m)\u001b[0m\n",
       "torch.float16\n"
      ]
     },
     "metadata": {},
     "output_type": "display_data"
    },
    {
     "data": {
      "text/html": [
       "<pre style=\"white-space:pre;overflow-x:auto;line-height:normal;font-family:Menlo,'DejaVu Sans Mono',consolas,'Courier New',monospace\">text_model.encoder.layers.<span style=\"color: #008080; text-decoration-color: #008080; font-weight: bold\">3.</span>self_attn.out_proj.weight\n",
       "<span style=\"color: #800080; text-decoration-color: #800080; font-weight: bold\">torch.Size</span><span style=\"font-weight: bold\">([</span><span style=\"color: #008080; text-decoration-color: #008080; font-weight: bold\">512</span>, <span style=\"color: #008080; text-decoration-color: #008080; font-weight: bold\">512</span><span style=\"font-weight: bold\">])</span>\n",
       "torch.float16\n",
       "</pre>\n"
      ],
      "text/plain": [
       "text_model.encoder.layers.\u001b[1;36m3.\u001b[0mself_attn.out_proj.weight\n",
       "\u001b[1;35mtorch.Size\u001b[0m\u001b[1m(\u001b[0m\u001b[1m[\u001b[0m\u001b[1;36m512\u001b[0m, \u001b[1;36m512\u001b[0m\u001b[1m]\u001b[0m\u001b[1m)\u001b[0m\n",
       "torch.float16\n"
      ]
     },
     "metadata": {},
     "output_type": "display_data"
    },
    {
     "data": {
      "text/html": [
       "<pre style=\"white-space:pre;overflow-x:auto;line-height:normal;font-family:Menlo,'DejaVu Sans Mono',consolas,'Courier New',monospace\">text_model.encoder.layers.<span style=\"color: #008080; text-decoration-color: #008080; font-weight: bold\">3.</span>self_attn.out_proj.bias\n",
       "<span style=\"color: #800080; text-decoration-color: #800080; font-weight: bold\">torch.Size</span><span style=\"font-weight: bold\">([</span><span style=\"color: #008080; text-decoration-color: #008080; font-weight: bold\">512</span><span style=\"font-weight: bold\">])</span>\n",
       "torch.float16\n",
       "</pre>\n"
      ],
      "text/plain": [
       "text_model.encoder.layers.\u001b[1;36m3.\u001b[0mself_attn.out_proj.bias\n",
       "\u001b[1;35mtorch.Size\u001b[0m\u001b[1m(\u001b[0m\u001b[1m[\u001b[0m\u001b[1;36m512\u001b[0m\u001b[1m]\u001b[0m\u001b[1m)\u001b[0m\n",
       "torch.float16\n"
      ]
     },
     "metadata": {},
     "output_type": "display_data"
    },
    {
     "data": {
      "text/html": [
       "<pre style=\"white-space:pre;overflow-x:auto;line-height:normal;font-family:Menlo,'DejaVu Sans Mono',consolas,'Courier New',monospace\">text_model.encoder.layers.<span style=\"color: #008080; text-decoration-color: #008080; font-weight: bold\">3.</span>layer_norm1.weight\n",
       "<span style=\"color: #800080; text-decoration-color: #800080; font-weight: bold\">torch.Size</span><span style=\"font-weight: bold\">([</span><span style=\"color: #008080; text-decoration-color: #008080; font-weight: bold\">512</span><span style=\"font-weight: bold\">])</span>\n",
       "torch.float16\n",
       "</pre>\n"
      ],
      "text/plain": [
       "text_model.encoder.layers.\u001b[1;36m3.\u001b[0mlayer_norm1.weight\n",
       "\u001b[1;35mtorch.Size\u001b[0m\u001b[1m(\u001b[0m\u001b[1m[\u001b[0m\u001b[1;36m512\u001b[0m\u001b[1m]\u001b[0m\u001b[1m)\u001b[0m\n",
       "torch.float16\n"
      ]
     },
     "metadata": {},
     "output_type": "display_data"
    },
    {
     "data": {
      "text/html": [
       "<pre style=\"white-space:pre;overflow-x:auto;line-height:normal;font-family:Menlo,'DejaVu Sans Mono',consolas,'Courier New',monospace\">text_model.encoder.layers.<span style=\"color: #008080; text-decoration-color: #008080; font-weight: bold\">3.</span>layer_norm1.bias\n",
       "<span style=\"color: #800080; text-decoration-color: #800080; font-weight: bold\">torch.Size</span><span style=\"font-weight: bold\">([</span><span style=\"color: #008080; text-decoration-color: #008080; font-weight: bold\">512</span><span style=\"font-weight: bold\">])</span>\n",
       "torch.float16\n",
       "</pre>\n"
      ],
      "text/plain": [
       "text_model.encoder.layers.\u001b[1;36m3.\u001b[0mlayer_norm1.bias\n",
       "\u001b[1;35mtorch.Size\u001b[0m\u001b[1m(\u001b[0m\u001b[1m[\u001b[0m\u001b[1;36m512\u001b[0m\u001b[1m]\u001b[0m\u001b[1m)\u001b[0m\n",
       "torch.float16\n"
      ]
     },
     "metadata": {},
     "output_type": "display_data"
    },
    {
     "data": {
      "text/html": [
       "<pre style=\"white-space:pre;overflow-x:auto;line-height:normal;font-family:Menlo,'DejaVu Sans Mono',consolas,'Courier New',monospace\">text_model.encoder.layers.<span style=\"color: #008080; text-decoration-color: #008080; font-weight: bold\">3.</span>mlp.fc1.weight\n",
       "<span style=\"color: #800080; text-decoration-color: #800080; font-weight: bold\">torch.Size</span><span style=\"font-weight: bold\">([</span><span style=\"color: #008080; text-decoration-color: #008080; font-weight: bold\">2048</span>, <span style=\"color: #008080; text-decoration-color: #008080; font-weight: bold\">512</span><span style=\"font-weight: bold\">])</span>\n",
       "torch.float16\n",
       "</pre>\n"
      ],
      "text/plain": [
       "text_model.encoder.layers.\u001b[1;36m3.\u001b[0mmlp.fc1.weight\n",
       "\u001b[1;35mtorch.Size\u001b[0m\u001b[1m(\u001b[0m\u001b[1m[\u001b[0m\u001b[1;36m2048\u001b[0m, \u001b[1;36m512\u001b[0m\u001b[1m]\u001b[0m\u001b[1m)\u001b[0m\n",
       "torch.float16\n"
      ]
     },
     "metadata": {},
     "output_type": "display_data"
    },
    {
     "data": {
      "text/html": [
       "<pre style=\"white-space:pre;overflow-x:auto;line-height:normal;font-family:Menlo,'DejaVu Sans Mono',consolas,'Courier New',monospace\">text_model.encoder.layers.<span style=\"color: #008080; text-decoration-color: #008080; font-weight: bold\">3.</span>mlp.fc1.bias\n",
       "<span style=\"color: #800080; text-decoration-color: #800080; font-weight: bold\">torch.Size</span><span style=\"font-weight: bold\">([</span><span style=\"color: #008080; text-decoration-color: #008080; font-weight: bold\">2048</span><span style=\"font-weight: bold\">])</span>\n",
       "torch.float16\n",
       "</pre>\n"
      ],
      "text/plain": [
       "text_model.encoder.layers.\u001b[1;36m3.\u001b[0mmlp.fc1.bias\n",
       "\u001b[1;35mtorch.Size\u001b[0m\u001b[1m(\u001b[0m\u001b[1m[\u001b[0m\u001b[1;36m2048\u001b[0m\u001b[1m]\u001b[0m\u001b[1m)\u001b[0m\n",
       "torch.float16\n"
      ]
     },
     "metadata": {},
     "output_type": "display_data"
    },
    {
     "data": {
      "text/html": [
       "<pre style=\"white-space:pre;overflow-x:auto;line-height:normal;font-family:Menlo,'DejaVu Sans Mono',consolas,'Courier New',monospace\">text_model.encoder.layers.<span style=\"color: #008080; text-decoration-color: #008080; font-weight: bold\">3.</span>mlp.fc2.weight\n",
       "<span style=\"color: #800080; text-decoration-color: #800080; font-weight: bold\">torch.Size</span><span style=\"font-weight: bold\">([</span><span style=\"color: #008080; text-decoration-color: #008080; font-weight: bold\">512</span>, <span style=\"color: #008080; text-decoration-color: #008080; font-weight: bold\">2048</span><span style=\"font-weight: bold\">])</span>\n",
       "torch.float16\n",
       "</pre>\n"
      ],
      "text/plain": [
       "text_model.encoder.layers.\u001b[1;36m3.\u001b[0mmlp.fc2.weight\n",
       "\u001b[1;35mtorch.Size\u001b[0m\u001b[1m(\u001b[0m\u001b[1m[\u001b[0m\u001b[1;36m512\u001b[0m, \u001b[1;36m2048\u001b[0m\u001b[1m]\u001b[0m\u001b[1m)\u001b[0m\n",
       "torch.float16\n"
      ]
     },
     "metadata": {},
     "output_type": "display_data"
    },
    {
     "data": {
      "text/html": [
       "<pre style=\"white-space:pre;overflow-x:auto;line-height:normal;font-family:Menlo,'DejaVu Sans Mono',consolas,'Courier New',monospace\">text_model.encoder.layers.<span style=\"color: #008080; text-decoration-color: #008080; font-weight: bold\">3.</span>mlp.fc2.bias\n",
       "<span style=\"color: #800080; text-decoration-color: #800080; font-weight: bold\">torch.Size</span><span style=\"font-weight: bold\">([</span><span style=\"color: #008080; text-decoration-color: #008080; font-weight: bold\">512</span><span style=\"font-weight: bold\">])</span>\n",
       "torch.float16\n",
       "</pre>\n"
      ],
      "text/plain": [
       "text_model.encoder.layers.\u001b[1;36m3.\u001b[0mmlp.fc2.bias\n",
       "\u001b[1;35mtorch.Size\u001b[0m\u001b[1m(\u001b[0m\u001b[1m[\u001b[0m\u001b[1;36m512\u001b[0m\u001b[1m]\u001b[0m\u001b[1m)\u001b[0m\n",
       "torch.float16\n"
      ]
     },
     "metadata": {},
     "output_type": "display_data"
    },
    {
     "data": {
      "text/html": [
       "<pre style=\"white-space:pre;overflow-x:auto;line-height:normal;font-family:Menlo,'DejaVu Sans Mono',consolas,'Courier New',monospace\">text_model.encoder.layers.<span style=\"color: #008080; text-decoration-color: #008080; font-weight: bold\">3.</span>layer_norm2.weight\n",
       "<span style=\"color: #800080; text-decoration-color: #800080; font-weight: bold\">torch.Size</span><span style=\"font-weight: bold\">([</span><span style=\"color: #008080; text-decoration-color: #008080; font-weight: bold\">512</span><span style=\"font-weight: bold\">])</span>\n",
       "torch.float16\n",
       "</pre>\n"
      ],
      "text/plain": [
       "text_model.encoder.layers.\u001b[1;36m3.\u001b[0mlayer_norm2.weight\n",
       "\u001b[1;35mtorch.Size\u001b[0m\u001b[1m(\u001b[0m\u001b[1m[\u001b[0m\u001b[1;36m512\u001b[0m\u001b[1m]\u001b[0m\u001b[1m)\u001b[0m\n",
       "torch.float16\n"
      ]
     },
     "metadata": {},
     "output_type": "display_data"
    },
    {
     "data": {
      "text/html": [
       "<pre style=\"white-space:pre;overflow-x:auto;line-height:normal;font-family:Menlo,'DejaVu Sans Mono',consolas,'Courier New',monospace\">text_model.encoder.layers.<span style=\"color: #008080; text-decoration-color: #008080; font-weight: bold\">3.</span>layer_norm2.bias\n",
       "<span style=\"color: #800080; text-decoration-color: #800080; font-weight: bold\">torch.Size</span><span style=\"font-weight: bold\">([</span><span style=\"color: #008080; text-decoration-color: #008080; font-weight: bold\">512</span><span style=\"font-weight: bold\">])</span>\n",
       "torch.float16\n",
       "</pre>\n"
      ],
      "text/plain": [
       "text_model.encoder.layers.\u001b[1;36m3.\u001b[0mlayer_norm2.bias\n",
       "\u001b[1;35mtorch.Size\u001b[0m\u001b[1m(\u001b[0m\u001b[1m[\u001b[0m\u001b[1;36m512\u001b[0m\u001b[1m]\u001b[0m\u001b[1m)\u001b[0m\n",
       "torch.float16\n"
      ]
     },
     "metadata": {},
     "output_type": "display_data"
    },
    {
     "data": {
      "text/html": [
       "<pre style=\"white-space:pre;overflow-x:auto;line-height:normal;font-family:Menlo,'DejaVu Sans Mono',consolas,'Courier New',monospace\">text_model.encoder.layers.<span style=\"color: #008080; text-decoration-color: #008080; font-weight: bold\">4.</span>self_attn.k_proj.weight\n",
       "<span style=\"color: #800080; text-decoration-color: #800080; font-weight: bold\">torch.Size</span><span style=\"font-weight: bold\">([</span><span style=\"color: #008080; text-decoration-color: #008080; font-weight: bold\">512</span>, <span style=\"color: #008080; text-decoration-color: #008080; font-weight: bold\">512</span><span style=\"font-weight: bold\">])</span>\n",
       "torch.float16\n",
       "</pre>\n"
      ],
      "text/plain": [
       "text_model.encoder.layers.\u001b[1;36m4.\u001b[0mself_attn.k_proj.weight\n",
       "\u001b[1;35mtorch.Size\u001b[0m\u001b[1m(\u001b[0m\u001b[1m[\u001b[0m\u001b[1;36m512\u001b[0m, \u001b[1;36m512\u001b[0m\u001b[1m]\u001b[0m\u001b[1m)\u001b[0m\n",
       "torch.float16\n"
      ]
     },
     "metadata": {},
     "output_type": "display_data"
    },
    {
     "data": {
      "text/html": [
       "<pre style=\"white-space:pre;overflow-x:auto;line-height:normal;font-family:Menlo,'DejaVu Sans Mono',consolas,'Courier New',monospace\">text_model.encoder.layers.<span style=\"color: #008080; text-decoration-color: #008080; font-weight: bold\">4.</span>self_attn.k_proj.bias\n",
       "<span style=\"color: #800080; text-decoration-color: #800080; font-weight: bold\">torch.Size</span><span style=\"font-weight: bold\">([</span><span style=\"color: #008080; text-decoration-color: #008080; font-weight: bold\">512</span><span style=\"font-weight: bold\">])</span>\n",
       "torch.float16\n",
       "</pre>\n"
      ],
      "text/plain": [
       "text_model.encoder.layers.\u001b[1;36m4.\u001b[0mself_attn.k_proj.bias\n",
       "\u001b[1;35mtorch.Size\u001b[0m\u001b[1m(\u001b[0m\u001b[1m[\u001b[0m\u001b[1;36m512\u001b[0m\u001b[1m]\u001b[0m\u001b[1m)\u001b[0m\n",
       "torch.float16\n"
      ]
     },
     "metadata": {},
     "output_type": "display_data"
    },
    {
     "data": {
      "text/html": [
       "<pre style=\"white-space:pre;overflow-x:auto;line-height:normal;font-family:Menlo,'DejaVu Sans Mono',consolas,'Courier New',monospace\">text_model.encoder.layers.<span style=\"color: #008080; text-decoration-color: #008080; font-weight: bold\">4.</span>self_attn.v_proj.weight\n",
       "<span style=\"color: #800080; text-decoration-color: #800080; font-weight: bold\">torch.Size</span><span style=\"font-weight: bold\">([</span><span style=\"color: #008080; text-decoration-color: #008080; font-weight: bold\">512</span>, <span style=\"color: #008080; text-decoration-color: #008080; font-weight: bold\">512</span><span style=\"font-weight: bold\">])</span>\n",
       "torch.float16\n",
       "</pre>\n"
      ],
      "text/plain": [
       "text_model.encoder.layers.\u001b[1;36m4.\u001b[0mself_attn.v_proj.weight\n",
       "\u001b[1;35mtorch.Size\u001b[0m\u001b[1m(\u001b[0m\u001b[1m[\u001b[0m\u001b[1;36m512\u001b[0m, \u001b[1;36m512\u001b[0m\u001b[1m]\u001b[0m\u001b[1m)\u001b[0m\n",
       "torch.float16\n"
      ]
     },
     "metadata": {},
     "output_type": "display_data"
    },
    {
     "data": {
      "text/html": [
       "<pre style=\"white-space:pre;overflow-x:auto;line-height:normal;font-family:Menlo,'DejaVu Sans Mono',consolas,'Courier New',monospace\">text_model.encoder.layers.<span style=\"color: #008080; text-decoration-color: #008080; font-weight: bold\">4.</span>self_attn.v_proj.bias\n",
       "<span style=\"color: #800080; text-decoration-color: #800080; font-weight: bold\">torch.Size</span><span style=\"font-weight: bold\">([</span><span style=\"color: #008080; text-decoration-color: #008080; font-weight: bold\">512</span><span style=\"font-weight: bold\">])</span>\n",
       "torch.float16\n",
       "</pre>\n"
      ],
      "text/plain": [
       "text_model.encoder.layers.\u001b[1;36m4.\u001b[0mself_attn.v_proj.bias\n",
       "\u001b[1;35mtorch.Size\u001b[0m\u001b[1m(\u001b[0m\u001b[1m[\u001b[0m\u001b[1;36m512\u001b[0m\u001b[1m]\u001b[0m\u001b[1m)\u001b[0m\n",
       "torch.float16\n"
      ]
     },
     "metadata": {},
     "output_type": "display_data"
    },
    {
     "data": {
      "text/html": [
       "<pre style=\"white-space:pre;overflow-x:auto;line-height:normal;font-family:Menlo,'DejaVu Sans Mono',consolas,'Courier New',monospace\">text_model.encoder.layers.<span style=\"color: #008080; text-decoration-color: #008080; font-weight: bold\">4.</span>self_attn.q_proj.weight\n",
       "<span style=\"color: #800080; text-decoration-color: #800080; font-weight: bold\">torch.Size</span><span style=\"font-weight: bold\">([</span><span style=\"color: #008080; text-decoration-color: #008080; font-weight: bold\">512</span>, <span style=\"color: #008080; text-decoration-color: #008080; font-weight: bold\">512</span><span style=\"font-weight: bold\">])</span>\n",
       "torch.float16\n",
       "</pre>\n"
      ],
      "text/plain": [
       "text_model.encoder.layers.\u001b[1;36m4.\u001b[0mself_attn.q_proj.weight\n",
       "\u001b[1;35mtorch.Size\u001b[0m\u001b[1m(\u001b[0m\u001b[1m[\u001b[0m\u001b[1;36m512\u001b[0m, \u001b[1;36m512\u001b[0m\u001b[1m]\u001b[0m\u001b[1m)\u001b[0m\n",
       "torch.float16\n"
      ]
     },
     "metadata": {},
     "output_type": "display_data"
    },
    {
     "data": {
      "text/html": [
       "<pre style=\"white-space:pre;overflow-x:auto;line-height:normal;font-family:Menlo,'DejaVu Sans Mono',consolas,'Courier New',monospace\">text_model.encoder.layers.<span style=\"color: #008080; text-decoration-color: #008080; font-weight: bold\">4.</span>self_attn.q_proj.bias\n",
       "<span style=\"color: #800080; text-decoration-color: #800080; font-weight: bold\">torch.Size</span><span style=\"font-weight: bold\">([</span><span style=\"color: #008080; text-decoration-color: #008080; font-weight: bold\">512</span><span style=\"font-weight: bold\">])</span>\n",
       "torch.float16\n",
       "</pre>\n"
      ],
      "text/plain": [
       "text_model.encoder.layers.\u001b[1;36m4.\u001b[0mself_attn.q_proj.bias\n",
       "\u001b[1;35mtorch.Size\u001b[0m\u001b[1m(\u001b[0m\u001b[1m[\u001b[0m\u001b[1;36m512\u001b[0m\u001b[1m]\u001b[0m\u001b[1m)\u001b[0m\n",
       "torch.float16\n"
      ]
     },
     "metadata": {},
     "output_type": "display_data"
    },
    {
     "data": {
      "text/html": [
       "<pre style=\"white-space:pre;overflow-x:auto;line-height:normal;font-family:Menlo,'DejaVu Sans Mono',consolas,'Courier New',monospace\">text_model.encoder.layers.<span style=\"color: #008080; text-decoration-color: #008080; font-weight: bold\">4.</span>self_attn.out_proj.weight\n",
       "<span style=\"color: #800080; text-decoration-color: #800080; font-weight: bold\">torch.Size</span><span style=\"font-weight: bold\">([</span><span style=\"color: #008080; text-decoration-color: #008080; font-weight: bold\">512</span>, <span style=\"color: #008080; text-decoration-color: #008080; font-weight: bold\">512</span><span style=\"font-weight: bold\">])</span>\n",
       "torch.float16\n",
       "</pre>\n"
      ],
      "text/plain": [
       "text_model.encoder.layers.\u001b[1;36m4.\u001b[0mself_attn.out_proj.weight\n",
       "\u001b[1;35mtorch.Size\u001b[0m\u001b[1m(\u001b[0m\u001b[1m[\u001b[0m\u001b[1;36m512\u001b[0m, \u001b[1;36m512\u001b[0m\u001b[1m]\u001b[0m\u001b[1m)\u001b[0m\n",
       "torch.float16\n"
      ]
     },
     "metadata": {},
     "output_type": "display_data"
    },
    {
     "data": {
      "text/html": [
       "<pre style=\"white-space:pre;overflow-x:auto;line-height:normal;font-family:Menlo,'DejaVu Sans Mono',consolas,'Courier New',monospace\">text_model.encoder.layers.<span style=\"color: #008080; text-decoration-color: #008080; font-weight: bold\">4.</span>self_attn.out_proj.bias\n",
       "<span style=\"color: #800080; text-decoration-color: #800080; font-weight: bold\">torch.Size</span><span style=\"font-weight: bold\">([</span><span style=\"color: #008080; text-decoration-color: #008080; font-weight: bold\">512</span><span style=\"font-weight: bold\">])</span>\n",
       "torch.float16\n",
       "</pre>\n"
      ],
      "text/plain": [
       "text_model.encoder.layers.\u001b[1;36m4.\u001b[0mself_attn.out_proj.bias\n",
       "\u001b[1;35mtorch.Size\u001b[0m\u001b[1m(\u001b[0m\u001b[1m[\u001b[0m\u001b[1;36m512\u001b[0m\u001b[1m]\u001b[0m\u001b[1m)\u001b[0m\n",
       "torch.float16\n"
      ]
     },
     "metadata": {},
     "output_type": "display_data"
    },
    {
     "data": {
      "text/html": [
       "<pre style=\"white-space:pre;overflow-x:auto;line-height:normal;font-family:Menlo,'DejaVu Sans Mono',consolas,'Courier New',monospace\">text_model.encoder.layers.<span style=\"color: #008080; text-decoration-color: #008080; font-weight: bold\">4.</span>layer_norm1.weight\n",
       "<span style=\"color: #800080; text-decoration-color: #800080; font-weight: bold\">torch.Size</span><span style=\"font-weight: bold\">([</span><span style=\"color: #008080; text-decoration-color: #008080; font-weight: bold\">512</span><span style=\"font-weight: bold\">])</span>\n",
       "torch.float16\n",
       "</pre>\n"
      ],
      "text/plain": [
       "text_model.encoder.layers.\u001b[1;36m4.\u001b[0mlayer_norm1.weight\n",
       "\u001b[1;35mtorch.Size\u001b[0m\u001b[1m(\u001b[0m\u001b[1m[\u001b[0m\u001b[1;36m512\u001b[0m\u001b[1m]\u001b[0m\u001b[1m)\u001b[0m\n",
       "torch.float16\n"
      ]
     },
     "metadata": {},
     "output_type": "display_data"
    },
    {
     "data": {
      "text/html": [
       "<pre style=\"white-space:pre;overflow-x:auto;line-height:normal;font-family:Menlo,'DejaVu Sans Mono',consolas,'Courier New',monospace\">text_model.encoder.layers.<span style=\"color: #008080; text-decoration-color: #008080; font-weight: bold\">4.</span>layer_norm1.bias\n",
       "<span style=\"color: #800080; text-decoration-color: #800080; font-weight: bold\">torch.Size</span><span style=\"font-weight: bold\">([</span><span style=\"color: #008080; text-decoration-color: #008080; font-weight: bold\">512</span><span style=\"font-weight: bold\">])</span>\n",
       "torch.float16\n",
       "</pre>\n"
      ],
      "text/plain": [
       "text_model.encoder.layers.\u001b[1;36m4.\u001b[0mlayer_norm1.bias\n",
       "\u001b[1;35mtorch.Size\u001b[0m\u001b[1m(\u001b[0m\u001b[1m[\u001b[0m\u001b[1;36m512\u001b[0m\u001b[1m]\u001b[0m\u001b[1m)\u001b[0m\n",
       "torch.float16\n"
      ]
     },
     "metadata": {},
     "output_type": "display_data"
    },
    {
     "data": {
      "text/html": [
       "<pre style=\"white-space:pre;overflow-x:auto;line-height:normal;font-family:Menlo,'DejaVu Sans Mono',consolas,'Courier New',monospace\">text_model.encoder.layers.<span style=\"color: #008080; text-decoration-color: #008080; font-weight: bold\">4.</span>mlp.fc1.weight\n",
       "<span style=\"color: #800080; text-decoration-color: #800080; font-weight: bold\">torch.Size</span><span style=\"font-weight: bold\">([</span><span style=\"color: #008080; text-decoration-color: #008080; font-weight: bold\">2048</span>, <span style=\"color: #008080; text-decoration-color: #008080; font-weight: bold\">512</span><span style=\"font-weight: bold\">])</span>\n",
       "torch.float16\n",
       "</pre>\n"
      ],
      "text/plain": [
       "text_model.encoder.layers.\u001b[1;36m4.\u001b[0mmlp.fc1.weight\n",
       "\u001b[1;35mtorch.Size\u001b[0m\u001b[1m(\u001b[0m\u001b[1m[\u001b[0m\u001b[1;36m2048\u001b[0m, \u001b[1;36m512\u001b[0m\u001b[1m]\u001b[0m\u001b[1m)\u001b[0m\n",
       "torch.float16\n"
      ]
     },
     "metadata": {},
     "output_type": "display_data"
    },
    {
     "data": {
      "text/html": [
       "<pre style=\"white-space:pre;overflow-x:auto;line-height:normal;font-family:Menlo,'DejaVu Sans Mono',consolas,'Courier New',monospace\">text_model.encoder.layers.<span style=\"color: #008080; text-decoration-color: #008080; font-weight: bold\">4.</span>mlp.fc1.bias\n",
       "<span style=\"color: #800080; text-decoration-color: #800080; font-weight: bold\">torch.Size</span><span style=\"font-weight: bold\">([</span><span style=\"color: #008080; text-decoration-color: #008080; font-weight: bold\">2048</span><span style=\"font-weight: bold\">])</span>\n",
       "torch.float16\n",
       "</pre>\n"
      ],
      "text/plain": [
       "text_model.encoder.layers.\u001b[1;36m4.\u001b[0mmlp.fc1.bias\n",
       "\u001b[1;35mtorch.Size\u001b[0m\u001b[1m(\u001b[0m\u001b[1m[\u001b[0m\u001b[1;36m2048\u001b[0m\u001b[1m]\u001b[0m\u001b[1m)\u001b[0m\n",
       "torch.float16\n"
      ]
     },
     "metadata": {},
     "output_type": "display_data"
    },
    {
     "data": {
      "text/html": [
       "<pre style=\"white-space:pre;overflow-x:auto;line-height:normal;font-family:Menlo,'DejaVu Sans Mono',consolas,'Courier New',monospace\">text_model.encoder.layers.<span style=\"color: #008080; text-decoration-color: #008080; font-weight: bold\">4.</span>mlp.fc2.weight\n",
       "<span style=\"color: #800080; text-decoration-color: #800080; font-weight: bold\">torch.Size</span><span style=\"font-weight: bold\">([</span><span style=\"color: #008080; text-decoration-color: #008080; font-weight: bold\">512</span>, <span style=\"color: #008080; text-decoration-color: #008080; font-weight: bold\">2048</span><span style=\"font-weight: bold\">])</span>\n",
       "torch.float16\n",
       "</pre>\n"
      ],
      "text/plain": [
       "text_model.encoder.layers.\u001b[1;36m4.\u001b[0mmlp.fc2.weight\n",
       "\u001b[1;35mtorch.Size\u001b[0m\u001b[1m(\u001b[0m\u001b[1m[\u001b[0m\u001b[1;36m512\u001b[0m, \u001b[1;36m2048\u001b[0m\u001b[1m]\u001b[0m\u001b[1m)\u001b[0m\n",
       "torch.float16\n"
      ]
     },
     "metadata": {},
     "output_type": "display_data"
    },
    {
     "data": {
      "text/html": [
       "<pre style=\"white-space:pre;overflow-x:auto;line-height:normal;font-family:Menlo,'DejaVu Sans Mono',consolas,'Courier New',monospace\">text_model.encoder.layers.<span style=\"color: #008080; text-decoration-color: #008080; font-weight: bold\">4.</span>mlp.fc2.bias\n",
       "<span style=\"color: #800080; text-decoration-color: #800080; font-weight: bold\">torch.Size</span><span style=\"font-weight: bold\">([</span><span style=\"color: #008080; text-decoration-color: #008080; font-weight: bold\">512</span><span style=\"font-weight: bold\">])</span>\n",
       "torch.float16\n",
       "</pre>\n"
      ],
      "text/plain": [
       "text_model.encoder.layers.\u001b[1;36m4.\u001b[0mmlp.fc2.bias\n",
       "\u001b[1;35mtorch.Size\u001b[0m\u001b[1m(\u001b[0m\u001b[1m[\u001b[0m\u001b[1;36m512\u001b[0m\u001b[1m]\u001b[0m\u001b[1m)\u001b[0m\n",
       "torch.float16\n"
      ]
     },
     "metadata": {},
     "output_type": "display_data"
    },
    {
     "data": {
      "text/html": [
       "<pre style=\"white-space:pre;overflow-x:auto;line-height:normal;font-family:Menlo,'DejaVu Sans Mono',consolas,'Courier New',monospace\">text_model.encoder.layers.<span style=\"color: #008080; text-decoration-color: #008080; font-weight: bold\">4.</span>layer_norm2.weight\n",
       "<span style=\"color: #800080; text-decoration-color: #800080; font-weight: bold\">torch.Size</span><span style=\"font-weight: bold\">([</span><span style=\"color: #008080; text-decoration-color: #008080; font-weight: bold\">512</span><span style=\"font-weight: bold\">])</span>\n",
       "torch.float16\n",
       "</pre>\n"
      ],
      "text/plain": [
       "text_model.encoder.layers.\u001b[1;36m4.\u001b[0mlayer_norm2.weight\n",
       "\u001b[1;35mtorch.Size\u001b[0m\u001b[1m(\u001b[0m\u001b[1m[\u001b[0m\u001b[1;36m512\u001b[0m\u001b[1m]\u001b[0m\u001b[1m)\u001b[0m\n",
       "torch.float16\n"
      ]
     },
     "metadata": {},
     "output_type": "display_data"
    },
    {
     "data": {
      "text/html": [
       "<pre style=\"white-space:pre;overflow-x:auto;line-height:normal;font-family:Menlo,'DejaVu Sans Mono',consolas,'Courier New',monospace\">text_model.encoder.layers.<span style=\"color: #008080; text-decoration-color: #008080; font-weight: bold\">4.</span>layer_norm2.bias\n",
       "<span style=\"color: #800080; text-decoration-color: #800080; font-weight: bold\">torch.Size</span><span style=\"font-weight: bold\">([</span><span style=\"color: #008080; text-decoration-color: #008080; font-weight: bold\">512</span><span style=\"font-weight: bold\">])</span>\n",
       "torch.float16\n",
       "</pre>\n"
      ],
      "text/plain": [
       "text_model.encoder.layers.\u001b[1;36m4.\u001b[0mlayer_norm2.bias\n",
       "\u001b[1;35mtorch.Size\u001b[0m\u001b[1m(\u001b[0m\u001b[1m[\u001b[0m\u001b[1;36m512\u001b[0m\u001b[1m]\u001b[0m\u001b[1m)\u001b[0m\n",
       "torch.float16\n"
      ]
     },
     "metadata": {},
     "output_type": "display_data"
    },
    {
     "data": {
      "text/html": [
       "<pre style=\"white-space:pre;overflow-x:auto;line-height:normal;font-family:Menlo,'DejaVu Sans Mono',consolas,'Courier New',monospace\">text_model.encoder.layers.<span style=\"color: #008080; text-decoration-color: #008080; font-weight: bold\">5.</span>self_attn.k_proj.weight\n",
       "<span style=\"color: #800080; text-decoration-color: #800080; font-weight: bold\">torch.Size</span><span style=\"font-weight: bold\">([</span><span style=\"color: #008080; text-decoration-color: #008080; font-weight: bold\">512</span>, <span style=\"color: #008080; text-decoration-color: #008080; font-weight: bold\">512</span><span style=\"font-weight: bold\">])</span>\n",
       "torch.float16\n",
       "</pre>\n"
      ],
      "text/plain": [
       "text_model.encoder.layers.\u001b[1;36m5.\u001b[0mself_attn.k_proj.weight\n",
       "\u001b[1;35mtorch.Size\u001b[0m\u001b[1m(\u001b[0m\u001b[1m[\u001b[0m\u001b[1;36m512\u001b[0m, \u001b[1;36m512\u001b[0m\u001b[1m]\u001b[0m\u001b[1m)\u001b[0m\n",
       "torch.float16\n"
      ]
     },
     "metadata": {},
     "output_type": "display_data"
    },
    {
     "data": {
      "text/html": [
       "<pre style=\"white-space:pre;overflow-x:auto;line-height:normal;font-family:Menlo,'DejaVu Sans Mono',consolas,'Courier New',monospace\">text_model.encoder.layers.<span style=\"color: #008080; text-decoration-color: #008080; font-weight: bold\">5.</span>self_attn.k_proj.bias\n",
       "<span style=\"color: #800080; text-decoration-color: #800080; font-weight: bold\">torch.Size</span><span style=\"font-weight: bold\">([</span><span style=\"color: #008080; text-decoration-color: #008080; font-weight: bold\">512</span><span style=\"font-weight: bold\">])</span>\n",
       "torch.float16\n",
       "</pre>\n"
      ],
      "text/plain": [
       "text_model.encoder.layers.\u001b[1;36m5.\u001b[0mself_attn.k_proj.bias\n",
       "\u001b[1;35mtorch.Size\u001b[0m\u001b[1m(\u001b[0m\u001b[1m[\u001b[0m\u001b[1;36m512\u001b[0m\u001b[1m]\u001b[0m\u001b[1m)\u001b[0m\n",
       "torch.float16\n"
      ]
     },
     "metadata": {},
     "output_type": "display_data"
    },
    {
     "data": {
      "text/html": [
       "<pre style=\"white-space:pre;overflow-x:auto;line-height:normal;font-family:Menlo,'DejaVu Sans Mono',consolas,'Courier New',monospace\">text_model.encoder.layers.<span style=\"color: #008080; text-decoration-color: #008080; font-weight: bold\">5.</span>self_attn.v_proj.weight\n",
       "<span style=\"color: #800080; text-decoration-color: #800080; font-weight: bold\">torch.Size</span><span style=\"font-weight: bold\">([</span><span style=\"color: #008080; text-decoration-color: #008080; font-weight: bold\">512</span>, <span style=\"color: #008080; text-decoration-color: #008080; font-weight: bold\">512</span><span style=\"font-weight: bold\">])</span>\n",
       "torch.float16\n",
       "</pre>\n"
      ],
      "text/plain": [
       "text_model.encoder.layers.\u001b[1;36m5.\u001b[0mself_attn.v_proj.weight\n",
       "\u001b[1;35mtorch.Size\u001b[0m\u001b[1m(\u001b[0m\u001b[1m[\u001b[0m\u001b[1;36m512\u001b[0m, \u001b[1;36m512\u001b[0m\u001b[1m]\u001b[0m\u001b[1m)\u001b[0m\n",
       "torch.float16\n"
      ]
     },
     "metadata": {},
     "output_type": "display_data"
    },
    {
     "data": {
      "text/html": [
       "<pre style=\"white-space:pre;overflow-x:auto;line-height:normal;font-family:Menlo,'DejaVu Sans Mono',consolas,'Courier New',monospace\">text_model.encoder.layers.<span style=\"color: #008080; text-decoration-color: #008080; font-weight: bold\">5.</span>self_attn.v_proj.bias\n",
       "<span style=\"color: #800080; text-decoration-color: #800080; font-weight: bold\">torch.Size</span><span style=\"font-weight: bold\">([</span><span style=\"color: #008080; text-decoration-color: #008080; font-weight: bold\">512</span><span style=\"font-weight: bold\">])</span>\n",
       "torch.float16\n",
       "</pre>\n"
      ],
      "text/plain": [
       "text_model.encoder.layers.\u001b[1;36m5.\u001b[0mself_attn.v_proj.bias\n",
       "\u001b[1;35mtorch.Size\u001b[0m\u001b[1m(\u001b[0m\u001b[1m[\u001b[0m\u001b[1;36m512\u001b[0m\u001b[1m]\u001b[0m\u001b[1m)\u001b[0m\n",
       "torch.float16\n"
      ]
     },
     "metadata": {},
     "output_type": "display_data"
    },
    {
     "data": {
      "text/html": [
       "<pre style=\"white-space:pre;overflow-x:auto;line-height:normal;font-family:Menlo,'DejaVu Sans Mono',consolas,'Courier New',monospace\">text_model.encoder.layers.<span style=\"color: #008080; text-decoration-color: #008080; font-weight: bold\">5.</span>self_attn.q_proj.weight\n",
       "<span style=\"color: #800080; text-decoration-color: #800080; font-weight: bold\">torch.Size</span><span style=\"font-weight: bold\">([</span><span style=\"color: #008080; text-decoration-color: #008080; font-weight: bold\">512</span>, <span style=\"color: #008080; text-decoration-color: #008080; font-weight: bold\">512</span><span style=\"font-weight: bold\">])</span>\n",
       "torch.float16\n",
       "</pre>\n"
      ],
      "text/plain": [
       "text_model.encoder.layers.\u001b[1;36m5.\u001b[0mself_attn.q_proj.weight\n",
       "\u001b[1;35mtorch.Size\u001b[0m\u001b[1m(\u001b[0m\u001b[1m[\u001b[0m\u001b[1;36m512\u001b[0m, \u001b[1;36m512\u001b[0m\u001b[1m]\u001b[0m\u001b[1m)\u001b[0m\n",
       "torch.float16\n"
      ]
     },
     "metadata": {},
     "output_type": "display_data"
    },
    {
     "data": {
      "text/html": [
       "<pre style=\"white-space:pre;overflow-x:auto;line-height:normal;font-family:Menlo,'DejaVu Sans Mono',consolas,'Courier New',monospace\">text_model.encoder.layers.<span style=\"color: #008080; text-decoration-color: #008080; font-weight: bold\">5.</span>self_attn.q_proj.bias\n",
       "<span style=\"color: #800080; text-decoration-color: #800080; font-weight: bold\">torch.Size</span><span style=\"font-weight: bold\">([</span><span style=\"color: #008080; text-decoration-color: #008080; font-weight: bold\">512</span><span style=\"font-weight: bold\">])</span>\n",
       "torch.float16\n",
       "</pre>\n"
      ],
      "text/plain": [
       "text_model.encoder.layers.\u001b[1;36m5.\u001b[0mself_attn.q_proj.bias\n",
       "\u001b[1;35mtorch.Size\u001b[0m\u001b[1m(\u001b[0m\u001b[1m[\u001b[0m\u001b[1;36m512\u001b[0m\u001b[1m]\u001b[0m\u001b[1m)\u001b[0m\n",
       "torch.float16\n"
      ]
     },
     "metadata": {},
     "output_type": "display_data"
    },
    {
     "data": {
      "text/html": [
       "<pre style=\"white-space:pre;overflow-x:auto;line-height:normal;font-family:Menlo,'DejaVu Sans Mono',consolas,'Courier New',monospace\">text_model.encoder.layers.<span style=\"color: #008080; text-decoration-color: #008080; font-weight: bold\">5.</span>self_attn.out_proj.weight\n",
       "<span style=\"color: #800080; text-decoration-color: #800080; font-weight: bold\">torch.Size</span><span style=\"font-weight: bold\">([</span><span style=\"color: #008080; text-decoration-color: #008080; font-weight: bold\">512</span>, <span style=\"color: #008080; text-decoration-color: #008080; font-weight: bold\">512</span><span style=\"font-weight: bold\">])</span>\n",
       "torch.float16\n",
       "</pre>\n"
      ],
      "text/plain": [
       "text_model.encoder.layers.\u001b[1;36m5.\u001b[0mself_attn.out_proj.weight\n",
       "\u001b[1;35mtorch.Size\u001b[0m\u001b[1m(\u001b[0m\u001b[1m[\u001b[0m\u001b[1;36m512\u001b[0m, \u001b[1;36m512\u001b[0m\u001b[1m]\u001b[0m\u001b[1m)\u001b[0m\n",
       "torch.float16\n"
      ]
     },
     "metadata": {},
     "output_type": "display_data"
    },
    {
     "data": {
      "text/html": [
       "<pre style=\"white-space:pre;overflow-x:auto;line-height:normal;font-family:Menlo,'DejaVu Sans Mono',consolas,'Courier New',monospace\">text_model.encoder.layers.<span style=\"color: #008080; text-decoration-color: #008080; font-weight: bold\">5.</span>self_attn.out_proj.bias\n",
       "<span style=\"color: #800080; text-decoration-color: #800080; font-weight: bold\">torch.Size</span><span style=\"font-weight: bold\">([</span><span style=\"color: #008080; text-decoration-color: #008080; font-weight: bold\">512</span><span style=\"font-weight: bold\">])</span>\n",
       "torch.float16\n",
       "</pre>\n"
      ],
      "text/plain": [
       "text_model.encoder.layers.\u001b[1;36m5.\u001b[0mself_attn.out_proj.bias\n",
       "\u001b[1;35mtorch.Size\u001b[0m\u001b[1m(\u001b[0m\u001b[1m[\u001b[0m\u001b[1;36m512\u001b[0m\u001b[1m]\u001b[0m\u001b[1m)\u001b[0m\n",
       "torch.float16\n"
      ]
     },
     "metadata": {},
     "output_type": "display_data"
    },
    {
     "data": {
      "text/html": [
       "<pre style=\"white-space:pre;overflow-x:auto;line-height:normal;font-family:Menlo,'DejaVu Sans Mono',consolas,'Courier New',monospace\">text_model.encoder.layers.<span style=\"color: #008080; text-decoration-color: #008080; font-weight: bold\">5.</span>layer_norm1.weight\n",
       "<span style=\"color: #800080; text-decoration-color: #800080; font-weight: bold\">torch.Size</span><span style=\"font-weight: bold\">([</span><span style=\"color: #008080; text-decoration-color: #008080; font-weight: bold\">512</span><span style=\"font-weight: bold\">])</span>\n",
       "torch.float16\n",
       "</pre>\n"
      ],
      "text/plain": [
       "text_model.encoder.layers.\u001b[1;36m5.\u001b[0mlayer_norm1.weight\n",
       "\u001b[1;35mtorch.Size\u001b[0m\u001b[1m(\u001b[0m\u001b[1m[\u001b[0m\u001b[1;36m512\u001b[0m\u001b[1m]\u001b[0m\u001b[1m)\u001b[0m\n",
       "torch.float16\n"
      ]
     },
     "metadata": {},
     "output_type": "display_data"
    },
    {
     "data": {
      "text/html": [
       "<pre style=\"white-space:pre;overflow-x:auto;line-height:normal;font-family:Menlo,'DejaVu Sans Mono',consolas,'Courier New',monospace\">text_model.encoder.layers.<span style=\"color: #008080; text-decoration-color: #008080; font-weight: bold\">5.</span>layer_norm1.bias\n",
       "<span style=\"color: #800080; text-decoration-color: #800080; font-weight: bold\">torch.Size</span><span style=\"font-weight: bold\">([</span><span style=\"color: #008080; text-decoration-color: #008080; font-weight: bold\">512</span><span style=\"font-weight: bold\">])</span>\n",
       "torch.float16\n",
       "</pre>\n"
      ],
      "text/plain": [
       "text_model.encoder.layers.\u001b[1;36m5.\u001b[0mlayer_norm1.bias\n",
       "\u001b[1;35mtorch.Size\u001b[0m\u001b[1m(\u001b[0m\u001b[1m[\u001b[0m\u001b[1;36m512\u001b[0m\u001b[1m]\u001b[0m\u001b[1m)\u001b[0m\n",
       "torch.float16\n"
      ]
     },
     "metadata": {},
     "output_type": "display_data"
    },
    {
     "data": {
      "text/html": [
       "<pre style=\"white-space:pre;overflow-x:auto;line-height:normal;font-family:Menlo,'DejaVu Sans Mono',consolas,'Courier New',monospace\">text_model.encoder.layers.<span style=\"color: #008080; text-decoration-color: #008080; font-weight: bold\">5.</span>mlp.fc1.weight\n",
       "<span style=\"color: #800080; text-decoration-color: #800080; font-weight: bold\">torch.Size</span><span style=\"font-weight: bold\">([</span><span style=\"color: #008080; text-decoration-color: #008080; font-weight: bold\">2048</span>, <span style=\"color: #008080; text-decoration-color: #008080; font-weight: bold\">512</span><span style=\"font-weight: bold\">])</span>\n",
       "torch.float16\n",
       "</pre>\n"
      ],
      "text/plain": [
       "text_model.encoder.layers.\u001b[1;36m5.\u001b[0mmlp.fc1.weight\n",
       "\u001b[1;35mtorch.Size\u001b[0m\u001b[1m(\u001b[0m\u001b[1m[\u001b[0m\u001b[1;36m2048\u001b[0m, \u001b[1;36m512\u001b[0m\u001b[1m]\u001b[0m\u001b[1m)\u001b[0m\n",
       "torch.float16\n"
      ]
     },
     "metadata": {},
     "output_type": "display_data"
    },
    {
     "data": {
      "text/html": [
       "<pre style=\"white-space:pre;overflow-x:auto;line-height:normal;font-family:Menlo,'DejaVu Sans Mono',consolas,'Courier New',monospace\">text_model.encoder.layers.<span style=\"color: #008080; text-decoration-color: #008080; font-weight: bold\">5.</span>mlp.fc1.bias\n",
       "<span style=\"color: #800080; text-decoration-color: #800080; font-weight: bold\">torch.Size</span><span style=\"font-weight: bold\">([</span><span style=\"color: #008080; text-decoration-color: #008080; font-weight: bold\">2048</span><span style=\"font-weight: bold\">])</span>\n",
       "torch.float16\n",
       "</pre>\n"
      ],
      "text/plain": [
       "text_model.encoder.layers.\u001b[1;36m5.\u001b[0mmlp.fc1.bias\n",
       "\u001b[1;35mtorch.Size\u001b[0m\u001b[1m(\u001b[0m\u001b[1m[\u001b[0m\u001b[1;36m2048\u001b[0m\u001b[1m]\u001b[0m\u001b[1m)\u001b[0m\n",
       "torch.float16\n"
      ]
     },
     "metadata": {},
     "output_type": "display_data"
    },
    {
     "data": {
      "text/html": [
       "<pre style=\"white-space:pre;overflow-x:auto;line-height:normal;font-family:Menlo,'DejaVu Sans Mono',consolas,'Courier New',monospace\">text_model.encoder.layers.<span style=\"color: #008080; text-decoration-color: #008080; font-weight: bold\">5.</span>mlp.fc2.weight\n",
       "<span style=\"color: #800080; text-decoration-color: #800080; font-weight: bold\">torch.Size</span><span style=\"font-weight: bold\">([</span><span style=\"color: #008080; text-decoration-color: #008080; font-weight: bold\">512</span>, <span style=\"color: #008080; text-decoration-color: #008080; font-weight: bold\">2048</span><span style=\"font-weight: bold\">])</span>\n",
       "torch.float16\n",
       "</pre>\n"
      ],
      "text/plain": [
       "text_model.encoder.layers.\u001b[1;36m5.\u001b[0mmlp.fc2.weight\n",
       "\u001b[1;35mtorch.Size\u001b[0m\u001b[1m(\u001b[0m\u001b[1m[\u001b[0m\u001b[1;36m512\u001b[0m, \u001b[1;36m2048\u001b[0m\u001b[1m]\u001b[0m\u001b[1m)\u001b[0m\n",
       "torch.float16\n"
      ]
     },
     "metadata": {},
     "output_type": "display_data"
    },
    {
     "data": {
      "text/html": [
       "<pre style=\"white-space:pre;overflow-x:auto;line-height:normal;font-family:Menlo,'DejaVu Sans Mono',consolas,'Courier New',monospace\">text_model.encoder.layers.<span style=\"color: #008080; text-decoration-color: #008080; font-weight: bold\">5.</span>mlp.fc2.bias\n",
       "<span style=\"color: #800080; text-decoration-color: #800080; font-weight: bold\">torch.Size</span><span style=\"font-weight: bold\">([</span><span style=\"color: #008080; text-decoration-color: #008080; font-weight: bold\">512</span><span style=\"font-weight: bold\">])</span>\n",
       "torch.float16\n",
       "</pre>\n"
      ],
      "text/plain": [
       "text_model.encoder.layers.\u001b[1;36m5.\u001b[0mmlp.fc2.bias\n",
       "\u001b[1;35mtorch.Size\u001b[0m\u001b[1m(\u001b[0m\u001b[1m[\u001b[0m\u001b[1;36m512\u001b[0m\u001b[1m]\u001b[0m\u001b[1m)\u001b[0m\n",
       "torch.float16\n"
      ]
     },
     "metadata": {},
     "output_type": "display_data"
    },
    {
     "data": {
      "text/html": [
       "<pre style=\"white-space:pre;overflow-x:auto;line-height:normal;font-family:Menlo,'DejaVu Sans Mono',consolas,'Courier New',monospace\">text_model.encoder.layers.<span style=\"color: #008080; text-decoration-color: #008080; font-weight: bold\">5.</span>layer_norm2.weight\n",
       "<span style=\"color: #800080; text-decoration-color: #800080; font-weight: bold\">torch.Size</span><span style=\"font-weight: bold\">([</span><span style=\"color: #008080; text-decoration-color: #008080; font-weight: bold\">512</span><span style=\"font-weight: bold\">])</span>\n",
       "torch.float16\n",
       "</pre>\n"
      ],
      "text/plain": [
       "text_model.encoder.layers.\u001b[1;36m5.\u001b[0mlayer_norm2.weight\n",
       "\u001b[1;35mtorch.Size\u001b[0m\u001b[1m(\u001b[0m\u001b[1m[\u001b[0m\u001b[1;36m512\u001b[0m\u001b[1m]\u001b[0m\u001b[1m)\u001b[0m\n",
       "torch.float16\n"
      ]
     },
     "metadata": {},
     "output_type": "display_data"
    },
    {
     "data": {
      "text/html": [
       "<pre style=\"white-space:pre;overflow-x:auto;line-height:normal;font-family:Menlo,'DejaVu Sans Mono',consolas,'Courier New',monospace\">text_model.encoder.layers.<span style=\"color: #008080; text-decoration-color: #008080; font-weight: bold\">5.</span>layer_norm2.bias\n",
       "<span style=\"color: #800080; text-decoration-color: #800080; font-weight: bold\">torch.Size</span><span style=\"font-weight: bold\">([</span><span style=\"color: #008080; text-decoration-color: #008080; font-weight: bold\">512</span><span style=\"font-weight: bold\">])</span>\n",
       "torch.float16\n",
       "</pre>\n"
      ],
      "text/plain": [
       "text_model.encoder.layers.\u001b[1;36m5.\u001b[0mlayer_norm2.bias\n",
       "\u001b[1;35mtorch.Size\u001b[0m\u001b[1m(\u001b[0m\u001b[1m[\u001b[0m\u001b[1;36m512\u001b[0m\u001b[1m]\u001b[0m\u001b[1m)\u001b[0m\n",
       "torch.float16\n"
      ]
     },
     "metadata": {},
     "output_type": "display_data"
    },
    {
     "data": {
      "text/html": [
       "<pre style=\"white-space:pre;overflow-x:auto;line-height:normal;font-family:Menlo,'DejaVu Sans Mono',consolas,'Courier New',monospace\">text_model.encoder.layers.<span style=\"color: #008080; text-decoration-color: #008080; font-weight: bold\">6.</span>self_attn.k_proj.weight\n",
       "<span style=\"color: #800080; text-decoration-color: #800080; font-weight: bold\">torch.Size</span><span style=\"font-weight: bold\">([</span><span style=\"color: #008080; text-decoration-color: #008080; font-weight: bold\">512</span>, <span style=\"color: #008080; text-decoration-color: #008080; font-weight: bold\">512</span><span style=\"font-weight: bold\">])</span>\n",
       "torch.float16\n",
       "</pre>\n"
      ],
      "text/plain": [
       "text_model.encoder.layers.\u001b[1;36m6.\u001b[0mself_attn.k_proj.weight\n",
       "\u001b[1;35mtorch.Size\u001b[0m\u001b[1m(\u001b[0m\u001b[1m[\u001b[0m\u001b[1;36m512\u001b[0m, \u001b[1;36m512\u001b[0m\u001b[1m]\u001b[0m\u001b[1m)\u001b[0m\n",
       "torch.float16\n"
      ]
     },
     "metadata": {},
     "output_type": "display_data"
    },
    {
     "data": {
      "text/html": [
       "<pre style=\"white-space:pre;overflow-x:auto;line-height:normal;font-family:Menlo,'DejaVu Sans Mono',consolas,'Courier New',monospace\">text_model.encoder.layers.<span style=\"color: #008080; text-decoration-color: #008080; font-weight: bold\">6.</span>self_attn.k_proj.bias\n",
       "<span style=\"color: #800080; text-decoration-color: #800080; font-weight: bold\">torch.Size</span><span style=\"font-weight: bold\">([</span><span style=\"color: #008080; text-decoration-color: #008080; font-weight: bold\">512</span><span style=\"font-weight: bold\">])</span>\n",
       "torch.float16\n",
       "</pre>\n"
      ],
      "text/plain": [
       "text_model.encoder.layers.\u001b[1;36m6.\u001b[0mself_attn.k_proj.bias\n",
       "\u001b[1;35mtorch.Size\u001b[0m\u001b[1m(\u001b[0m\u001b[1m[\u001b[0m\u001b[1;36m512\u001b[0m\u001b[1m]\u001b[0m\u001b[1m)\u001b[0m\n",
       "torch.float16\n"
      ]
     },
     "metadata": {},
     "output_type": "display_data"
    },
    {
     "data": {
      "text/html": [
       "<pre style=\"white-space:pre;overflow-x:auto;line-height:normal;font-family:Menlo,'DejaVu Sans Mono',consolas,'Courier New',monospace\">text_model.encoder.layers.<span style=\"color: #008080; text-decoration-color: #008080; font-weight: bold\">6.</span>self_attn.v_proj.weight\n",
       "<span style=\"color: #800080; text-decoration-color: #800080; font-weight: bold\">torch.Size</span><span style=\"font-weight: bold\">([</span><span style=\"color: #008080; text-decoration-color: #008080; font-weight: bold\">512</span>, <span style=\"color: #008080; text-decoration-color: #008080; font-weight: bold\">512</span><span style=\"font-weight: bold\">])</span>\n",
       "torch.float16\n",
       "</pre>\n"
      ],
      "text/plain": [
       "text_model.encoder.layers.\u001b[1;36m6.\u001b[0mself_attn.v_proj.weight\n",
       "\u001b[1;35mtorch.Size\u001b[0m\u001b[1m(\u001b[0m\u001b[1m[\u001b[0m\u001b[1;36m512\u001b[0m, \u001b[1;36m512\u001b[0m\u001b[1m]\u001b[0m\u001b[1m)\u001b[0m\n",
       "torch.float16\n"
      ]
     },
     "metadata": {},
     "output_type": "display_data"
    },
    {
     "data": {
      "text/html": [
       "<pre style=\"white-space:pre;overflow-x:auto;line-height:normal;font-family:Menlo,'DejaVu Sans Mono',consolas,'Courier New',monospace\">text_model.encoder.layers.<span style=\"color: #008080; text-decoration-color: #008080; font-weight: bold\">6.</span>self_attn.v_proj.bias\n",
       "<span style=\"color: #800080; text-decoration-color: #800080; font-weight: bold\">torch.Size</span><span style=\"font-weight: bold\">([</span><span style=\"color: #008080; text-decoration-color: #008080; font-weight: bold\">512</span><span style=\"font-weight: bold\">])</span>\n",
       "torch.float16\n",
       "</pre>\n"
      ],
      "text/plain": [
       "text_model.encoder.layers.\u001b[1;36m6.\u001b[0mself_attn.v_proj.bias\n",
       "\u001b[1;35mtorch.Size\u001b[0m\u001b[1m(\u001b[0m\u001b[1m[\u001b[0m\u001b[1;36m512\u001b[0m\u001b[1m]\u001b[0m\u001b[1m)\u001b[0m\n",
       "torch.float16\n"
      ]
     },
     "metadata": {},
     "output_type": "display_data"
    },
    {
     "data": {
      "text/html": [
       "<pre style=\"white-space:pre;overflow-x:auto;line-height:normal;font-family:Menlo,'DejaVu Sans Mono',consolas,'Courier New',monospace\">text_model.encoder.layers.<span style=\"color: #008080; text-decoration-color: #008080; font-weight: bold\">6.</span>self_attn.q_proj.weight\n",
       "<span style=\"color: #800080; text-decoration-color: #800080; font-weight: bold\">torch.Size</span><span style=\"font-weight: bold\">([</span><span style=\"color: #008080; text-decoration-color: #008080; font-weight: bold\">512</span>, <span style=\"color: #008080; text-decoration-color: #008080; font-weight: bold\">512</span><span style=\"font-weight: bold\">])</span>\n",
       "torch.float16\n",
       "</pre>\n"
      ],
      "text/plain": [
       "text_model.encoder.layers.\u001b[1;36m6.\u001b[0mself_attn.q_proj.weight\n",
       "\u001b[1;35mtorch.Size\u001b[0m\u001b[1m(\u001b[0m\u001b[1m[\u001b[0m\u001b[1;36m512\u001b[0m, \u001b[1;36m512\u001b[0m\u001b[1m]\u001b[0m\u001b[1m)\u001b[0m\n",
       "torch.float16\n"
      ]
     },
     "metadata": {},
     "output_type": "display_data"
    },
    {
     "data": {
      "text/html": [
       "<pre style=\"white-space:pre;overflow-x:auto;line-height:normal;font-family:Menlo,'DejaVu Sans Mono',consolas,'Courier New',monospace\">text_model.encoder.layers.<span style=\"color: #008080; text-decoration-color: #008080; font-weight: bold\">6.</span>self_attn.q_proj.bias\n",
       "<span style=\"color: #800080; text-decoration-color: #800080; font-weight: bold\">torch.Size</span><span style=\"font-weight: bold\">([</span><span style=\"color: #008080; text-decoration-color: #008080; font-weight: bold\">512</span><span style=\"font-weight: bold\">])</span>\n",
       "torch.float16\n",
       "</pre>\n"
      ],
      "text/plain": [
       "text_model.encoder.layers.\u001b[1;36m6.\u001b[0mself_attn.q_proj.bias\n",
       "\u001b[1;35mtorch.Size\u001b[0m\u001b[1m(\u001b[0m\u001b[1m[\u001b[0m\u001b[1;36m512\u001b[0m\u001b[1m]\u001b[0m\u001b[1m)\u001b[0m\n",
       "torch.float16\n"
      ]
     },
     "metadata": {},
     "output_type": "display_data"
    },
    {
     "data": {
      "text/html": [
       "<pre style=\"white-space:pre;overflow-x:auto;line-height:normal;font-family:Menlo,'DejaVu Sans Mono',consolas,'Courier New',monospace\">text_model.encoder.layers.<span style=\"color: #008080; text-decoration-color: #008080; font-weight: bold\">6.</span>self_attn.out_proj.weight\n",
       "<span style=\"color: #800080; text-decoration-color: #800080; font-weight: bold\">torch.Size</span><span style=\"font-weight: bold\">([</span><span style=\"color: #008080; text-decoration-color: #008080; font-weight: bold\">512</span>, <span style=\"color: #008080; text-decoration-color: #008080; font-weight: bold\">512</span><span style=\"font-weight: bold\">])</span>\n",
       "torch.float16\n",
       "</pre>\n"
      ],
      "text/plain": [
       "text_model.encoder.layers.\u001b[1;36m6.\u001b[0mself_attn.out_proj.weight\n",
       "\u001b[1;35mtorch.Size\u001b[0m\u001b[1m(\u001b[0m\u001b[1m[\u001b[0m\u001b[1;36m512\u001b[0m, \u001b[1;36m512\u001b[0m\u001b[1m]\u001b[0m\u001b[1m)\u001b[0m\n",
       "torch.float16\n"
      ]
     },
     "metadata": {},
     "output_type": "display_data"
    },
    {
     "data": {
      "text/html": [
       "<pre style=\"white-space:pre;overflow-x:auto;line-height:normal;font-family:Menlo,'DejaVu Sans Mono',consolas,'Courier New',monospace\">text_model.encoder.layers.<span style=\"color: #008080; text-decoration-color: #008080; font-weight: bold\">6.</span>self_attn.out_proj.bias\n",
       "<span style=\"color: #800080; text-decoration-color: #800080; font-weight: bold\">torch.Size</span><span style=\"font-weight: bold\">([</span><span style=\"color: #008080; text-decoration-color: #008080; font-weight: bold\">512</span><span style=\"font-weight: bold\">])</span>\n",
       "torch.float16\n",
       "</pre>\n"
      ],
      "text/plain": [
       "text_model.encoder.layers.\u001b[1;36m6.\u001b[0mself_attn.out_proj.bias\n",
       "\u001b[1;35mtorch.Size\u001b[0m\u001b[1m(\u001b[0m\u001b[1m[\u001b[0m\u001b[1;36m512\u001b[0m\u001b[1m]\u001b[0m\u001b[1m)\u001b[0m\n",
       "torch.float16\n"
      ]
     },
     "metadata": {},
     "output_type": "display_data"
    },
    {
     "data": {
      "text/html": [
       "<pre style=\"white-space:pre;overflow-x:auto;line-height:normal;font-family:Menlo,'DejaVu Sans Mono',consolas,'Courier New',monospace\">text_model.encoder.layers.<span style=\"color: #008080; text-decoration-color: #008080; font-weight: bold\">6.</span>layer_norm1.weight\n",
       "<span style=\"color: #800080; text-decoration-color: #800080; font-weight: bold\">torch.Size</span><span style=\"font-weight: bold\">([</span><span style=\"color: #008080; text-decoration-color: #008080; font-weight: bold\">512</span><span style=\"font-weight: bold\">])</span>\n",
       "torch.float16\n",
       "</pre>\n"
      ],
      "text/plain": [
       "text_model.encoder.layers.\u001b[1;36m6.\u001b[0mlayer_norm1.weight\n",
       "\u001b[1;35mtorch.Size\u001b[0m\u001b[1m(\u001b[0m\u001b[1m[\u001b[0m\u001b[1;36m512\u001b[0m\u001b[1m]\u001b[0m\u001b[1m)\u001b[0m\n",
       "torch.float16\n"
      ]
     },
     "metadata": {},
     "output_type": "display_data"
    },
    {
     "data": {
      "text/html": [
       "<pre style=\"white-space:pre;overflow-x:auto;line-height:normal;font-family:Menlo,'DejaVu Sans Mono',consolas,'Courier New',monospace\">text_model.encoder.layers.<span style=\"color: #008080; text-decoration-color: #008080; font-weight: bold\">6.</span>layer_norm1.bias\n",
       "<span style=\"color: #800080; text-decoration-color: #800080; font-weight: bold\">torch.Size</span><span style=\"font-weight: bold\">([</span><span style=\"color: #008080; text-decoration-color: #008080; font-weight: bold\">512</span><span style=\"font-weight: bold\">])</span>\n",
       "torch.float16\n",
       "</pre>\n"
      ],
      "text/plain": [
       "text_model.encoder.layers.\u001b[1;36m6.\u001b[0mlayer_norm1.bias\n",
       "\u001b[1;35mtorch.Size\u001b[0m\u001b[1m(\u001b[0m\u001b[1m[\u001b[0m\u001b[1;36m512\u001b[0m\u001b[1m]\u001b[0m\u001b[1m)\u001b[0m\n",
       "torch.float16\n"
      ]
     },
     "metadata": {},
     "output_type": "display_data"
    },
    {
     "data": {
      "text/html": [
       "<pre style=\"white-space:pre;overflow-x:auto;line-height:normal;font-family:Menlo,'DejaVu Sans Mono',consolas,'Courier New',monospace\">text_model.encoder.layers.<span style=\"color: #008080; text-decoration-color: #008080; font-weight: bold\">6.</span>mlp.fc1.weight\n",
       "<span style=\"color: #800080; text-decoration-color: #800080; font-weight: bold\">torch.Size</span><span style=\"font-weight: bold\">([</span><span style=\"color: #008080; text-decoration-color: #008080; font-weight: bold\">2048</span>, <span style=\"color: #008080; text-decoration-color: #008080; font-weight: bold\">512</span><span style=\"font-weight: bold\">])</span>\n",
       "torch.float16\n",
       "</pre>\n"
      ],
      "text/plain": [
       "text_model.encoder.layers.\u001b[1;36m6.\u001b[0mmlp.fc1.weight\n",
       "\u001b[1;35mtorch.Size\u001b[0m\u001b[1m(\u001b[0m\u001b[1m[\u001b[0m\u001b[1;36m2048\u001b[0m, \u001b[1;36m512\u001b[0m\u001b[1m]\u001b[0m\u001b[1m)\u001b[0m\n",
       "torch.float16\n"
      ]
     },
     "metadata": {},
     "output_type": "display_data"
    },
    {
     "data": {
      "text/html": [
       "<pre style=\"white-space:pre;overflow-x:auto;line-height:normal;font-family:Menlo,'DejaVu Sans Mono',consolas,'Courier New',monospace\">text_model.encoder.layers.<span style=\"color: #008080; text-decoration-color: #008080; font-weight: bold\">6.</span>mlp.fc1.bias\n",
       "<span style=\"color: #800080; text-decoration-color: #800080; font-weight: bold\">torch.Size</span><span style=\"font-weight: bold\">([</span><span style=\"color: #008080; text-decoration-color: #008080; font-weight: bold\">2048</span><span style=\"font-weight: bold\">])</span>\n",
       "torch.float16\n",
       "</pre>\n"
      ],
      "text/plain": [
       "text_model.encoder.layers.\u001b[1;36m6.\u001b[0mmlp.fc1.bias\n",
       "\u001b[1;35mtorch.Size\u001b[0m\u001b[1m(\u001b[0m\u001b[1m[\u001b[0m\u001b[1;36m2048\u001b[0m\u001b[1m]\u001b[0m\u001b[1m)\u001b[0m\n",
       "torch.float16\n"
      ]
     },
     "metadata": {},
     "output_type": "display_data"
    },
    {
     "data": {
      "text/html": [
       "<pre style=\"white-space:pre;overflow-x:auto;line-height:normal;font-family:Menlo,'DejaVu Sans Mono',consolas,'Courier New',monospace\">text_model.encoder.layers.<span style=\"color: #008080; text-decoration-color: #008080; font-weight: bold\">6.</span>mlp.fc2.weight\n",
       "<span style=\"color: #800080; text-decoration-color: #800080; font-weight: bold\">torch.Size</span><span style=\"font-weight: bold\">([</span><span style=\"color: #008080; text-decoration-color: #008080; font-weight: bold\">512</span>, <span style=\"color: #008080; text-decoration-color: #008080; font-weight: bold\">2048</span><span style=\"font-weight: bold\">])</span>\n",
       "torch.float16\n",
       "</pre>\n"
      ],
      "text/plain": [
       "text_model.encoder.layers.\u001b[1;36m6.\u001b[0mmlp.fc2.weight\n",
       "\u001b[1;35mtorch.Size\u001b[0m\u001b[1m(\u001b[0m\u001b[1m[\u001b[0m\u001b[1;36m512\u001b[0m, \u001b[1;36m2048\u001b[0m\u001b[1m]\u001b[0m\u001b[1m)\u001b[0m\n",
       "torch.float16\n"
      ]
     },
     "metadata": {},
     "output_type": "display_data"
    },
    {
     "data": {
      "text/html": [
       "<pre style=\"white-space:pre;overflow-x:auto;line-height:normal;font-family:Menlo,'DejaVu Sans Mono',consolas,'Courier New',monospace\">text_model.encoder.layers.<span style=\"color: #008080; text-decoration-color: #008080; font-weight: bold\">6.</span>mlp.fc2.bias\n",
       "<span style=\"color: #800080; text-decoration-color: #800080; font-weight: bold\">torch.Size</span><span style=\"font-weight: bold\">([</span><span style=\"color: #008080; text-decoration-color: #008080; font-weight: bold\">512</span><span style=\"font-weight: bold\">])</span>\n",
       "torch.float16\n",
       "</pre>\n"
      ],
      "text/plain": [
       "text_model.encoder.layers.\u001b[1;36m6.\u001b[0mmlp.fc2.bias\n",
       "\u001b[1;35mtorch.Size\u001b[0m\u001b[1m(\u001b[0m\u001b[1m[\u001b[0m\u001b[1;36m512\u001b[0m\u001b[1m]\u001b[0m\u001b[1m)\u001b[0m\n",
       "torch.float16\n"
      ]
     },
     "metadata": {},
     "output_type": "display_data"
    },
    {
     "data": {
      "text/html": [
       "<pre style=\"white-space:pre;overflow-x:auto;line-height:normal;font-family:Menlo,'DejaVu Sans Mono',consolas,'Courier New',monospace\">text_model.encoder.layers.<span style=\"color: #008080; text-decoration-color: #008080; font-weight: bold\">6.</span>layer_norm2.weight\n",
       "<span style=\"color: #800080; text-decoration-color: #800080; font-weight: bold\">torch.Size</span><span style=\"font-weight: bold\">([</span><span style=\"color: #008080; text-decoration-color: #008080; font-weight: bold\">512</span><span style=\"font-weight: bold\">])</span>\n",
       "torch.float16\n",
       "</pre>\n"
      ],
      "text/plain": [
       "text_model.encoder.layers.\u001b[1;36m6.\u001b[0mlayer_norm2.weight\n",
       "\u001b[1;35mtorch.Size\u001b[0m\u001b[1m(\u001b[0m\u001b[1m[\u001b[0m\u001b[1;36m512\u001b[0m\u001b[1m]\u001b[0m\u001b[1m)\u001b[0m\n",
       "torch.float16\n"
      ]
     },
     "metadata": {},
     "output_type": "display_data"
    },
    {
     "data": {
      "text/html": [
       "<pre style=\"white-space:pre;overflow-x:auto;line-height:normal;font-family:Menlo,'DejaVu Sans Mono',consolas,'Courier New',monospace\">text_model.encoder.layers.<span style=\"color: #008080; text-decoration-color: #008080; font-weight: bold\">6.</span>layer_norm2.bias\n",
       "<span style=\"color: #800080; text-decoration-color: #800080; font-weight: bold\">torch.Size</span><span style=\"font-weight: bold\">([</span><span style=\"color: #008080; text-decoration-color: #008080; font-weight: bold\">512</span><span style=\"font-weight: bold\">])</span>\n",
       "torch.float16\n",
       "</pre>\n"
      ],
      "text/plain": [
       "text_model.encoder.layers.\u001b[1;36m6.\u001b[0mlayer_norm2.bias\n",
       "\u001b[1;35mtorch.Size\u001b[0m\u001b[1m(\u001b[0m\u001b[1m[\u001b[0m\u001b[1;36m512\u001b[0m\u001b[1m]\u001b[0m\u001b[1m)\u001b[0m\n",
       "torch.float16\n"
      ]
     },
     "metadata": {},
     "output_type": "display_data"
    },
    {
     "data": {
      "text/html": [
       "<pre style=\"white-space:pre;overflow-x:auto;line-height:normal;font-family:Menlo,'DejaVu Sans Mono',consolas,'Courier New',monospace\">text_model.encoder.layers.<span style=\"color: #008080; text-decoration-color: #008080; font-weight: bold\">7.</span>self_attn.k_proj.weight\n",
       "<span style=\"color: #800080; text-decoration-color: #800080; font-weight: bold\">torch.Size</span><span style=\"font-weight: bold\">([</span><span style=\"color: #008080; text-decoration-color: #008080; font-weight: bold\">512</span>, <span style=\"color: #008080; text-decoration-color: #008080; font-weight: bold\">512</span><span style=\"font-weight: bold\">])</span>\n",
       "torch.float16\n",
       "</pre>\n"
      ],
      "text/plain": [
       "text_model.encoder.layers.\u001b[1;36m7.\u001b[0mself_attn.k_proj.weight\n",
       "\u001b[1;35mtorch.Size\u001b[0m\u001b[1m(\u001b[0m\u001b[1m[\u001b[0m\u001b[1;36m512\u001b[0m, \u001b[1;36m512\u001b[0m\u001b[1m]\u001b[0m\u001b[1m)\u001b[0m\n",
       "torch.float16\n"
      ]
     },
     "metadata": {},
     "output_type": "display_data"
    },
    {
     "data": {
      "text/html": [
       "<pre style=\"white-space:pre;overflow-x:auto;line-height:normal;font-family:Menlo,'DejaVu Sans Mono',consolas,'Courier New',monospace\">text_model.encoder.layers.<span style=\"color: #008080; text-decoration-color: #008080; font-weight: bold\">7.</span>self_attn.k_proj.bias\n",
       "<span style=\"color: #800080; text-decoration-color: #800080; font-weight: bold\">torch.Size</span><span style=\"font-weight: bold\">([</span><span style=\"color: #008080; text-decoration-color: #008080; font-weight: bold\">512</span><span style=\"font-weight: bold\">])</span>\n",
       "torch.float16\n",
       "</pre>\n"
      ],
      "text/plain": [
       "text_model.encoder.layers.\u001b[1;36m7.\u001b[0mself_attn.k_proj.bias\n",
       "\u001b[1;35mtorch.Size\u001b[0m\u001b[1m(\u001b[0m\u001b[1m[\u001b[0m\u001b[1;36m512\u001b[0m\u001b[1m]\u001b[0m\u001b[1m)\u001b[0m\n",
       "torch.float16\n"
      ]
     },
     "metadata": {},
     "output_type": "display_data"
    },
    {
     "data": {
      "text/html": [
       "<pre style=\"white-space:pre;overflow-x:auto;line-height:normal;font-family:Menlo,'DejaVu Sans Mono',consolas,'Courier New',monospace\">text_model.encoder.layers.<span style=\"color: #008080; text-decoration-color: #008080; font-weight: bold\">7.</span>self_attn.v_proj.weight\n",
       "<span style=\"color: #800080; text-decoration-color: #800080; font-weight: bold\">torch.Size</span><span style=\"font-weight: bold\">([</span><span style=\"color: #008080; text-decoration-color: #008080; font-weight: bold\">512</span>, <span style=\"color: #008080; text-decoration-color: #008080; font-weight: bold\">512</span><span style=\"font-weight: bold\">])</span>\n",
       "torch.float16\n",
       "</pre>\n"
      ],
      "text/plain": [
       "text_model.encoder.layers.\u001b[1;36m7.\u001b[0mself_attn.v_proj.weight\n",
       "\u001b[1;35mtorch.Size\u001b[0m\u001b[1m(\u001b[0m\u001b[1m[\u001b[0m\u001b[1;36m512\u001b[0m, \u001b[1;36m512\u001b[0m\u001b[1m]\u001b[0m\u001b[1m)\u001b[0m\n",
       "torch.float16\n"
      ]
     },
     "metadata": {},
     "output_type": "display_data"
    },
    {
     "data": {
      "text/html": [
       "<pre style=\"white-space:pre;overflow-x:auto;line-height:normal;font-family:Menlo,'DejaVu Sans Mono',consolas,'Courier New',monospace\">text_model.encoder.layers.<span style=\"color: #008080; text-decoration-color: #008080; font-weight: bold\">7.</span>self_attn.v_proj.bias\n",
       "<span style=\"color: #800080; text-decoration-color: #800080; font-weight: bold\">torch.Size</span><span style=\"font-weight: bold\">([</span><span style=\"color: #008080; text-decoration-color: #008080; font-weight: bold\">512</span><span style=\"font-weight: bold\">])</span>\n",
       "torch.float16\n",
       "</pre>\n"
      ],
      "text/plain": [
       "text_model.encoder.layers.\u001b[1;36m7.\u001b[0mself_attn.v_proj.bias\n",
       "\u001b[1;35mtorch.Size\u001b[0m\u001b[1m(\u001b[0m\u001b[1m[\u001b[0m\u001b[1;36m512\u001b[0m\u001b[1m]\u001b[0m\u001b[1m)\u001b[0m\n",
       "torch.float16\n"
      ]
     },
     "metadata": {},
     "output_type": "display_data"
    },
    {
     "data": {
      "text/html": [
       "<pre style=\"white-space:pre;overflow-x:auto;line-height:normal;font-family:Menlo,'DejaVu Sans Mono',consolas,'Courier New',monospace\">text_model.encoder.layers.<span style=\"color: #008080; text-decoration-color: #008080; font-weight: bold\">7.</span>self_attn.q_proj.weight\n",
       "<span style=\"color: #800080; text-decoration-color: #800080; font-weight: bold\">torch.Size</span><span style=\"font-weight: bold\">([</span><span style=\"color: #008080; text-decoration-color: #008080; font-weight: bold\">512</span>, <span style=\"color: #008080; text-decoration-color: #008080; font-weight: bold\">512</span><span style=\"font-weight: bold\">])</span>\n",
       "torch.float16\n",
       "</pre>\n"
      ],
      "text/plain": [
       "text_model.encoder.layers.\u001b[1;36m7.\u001b[0mself_attn.q_proj.weight\n",
       "\u001b[1;35mtorch.Size\u001b[0m\u001b[1m(\u001b[0m\u001b[1m[\u001b[0m\u001b[1;36m512\u001b[0m, \u001b[1;36m512\u001b[0m\u001b[1m]\u001b[0m\u001b[1m)\u001b[0m\n",
       "torch.float16\n"
      ]
     },
     "metadata": {},
     "output_type": "display_data"
    },
    {
     "data": {
      "text/html": [
       "<pre style=\"white-space:pre;overflow-x:auto;line-height:normal;font-family:Menlo,'DejaVu Sans Mono',consolas,'Courier New',monospace\">text_model.encoder.layers.<span style=\"color: #008080; text-decoration-color: #008080; font-weight: bold\">7.</span>self_attn.q_proj.bias\n",
       "<span style=\"color: #800080; text-decoration-color: #800080; font-weight: bold\">torch.Size</span><span style=\"font-weight: bold\">([</span><span style=\"color: #008080; text-decoration-color: #008080; font-weight: bold\">512</span><span style=\"font-weight: bold\">])</span>\n",
       "torch.float16\n",
       "</pre>\n"
      ],
      "text/plain": [
       "text_model.encoder.layers.\u001b[1;36m7.\u001b[0mself_attn.q_proj.bias\n",
       "\u001b[1;35mtorch.Size\u001b[0m\u001b[1m(\u001b[0m\u001b[1m[\u001b[0m\u001b[1;36m512\u001b[0m\u001b[1m]\u001b[0m\u001b[1m)\u001b[0m\n",
       "torch.float16\n"
      ]
     },
     "metadata": {},
     "output_type": "display_data"
    },
    {
     "data": {
      "text/html": [
       "<pre style=\"white-space:pre;overflow-x:auto;line-height:normal;font-family:Menlo,'DejaVu Sans Mono',consolas,'Courier New',monospace\">text_model.encoder.layers.<span style=\"color: #008080; text-decoration-color: #008080; font-weight: bold\">7.</span>self_attn.out_proj.weight\n",
       "<span style=\"color: #800080; text-decoration-color: #800080; font-weight: bold\">torch.Size</span><span style=\"font-weight: bold\">([</span><span style=\"color: #008080; text-decoration-color: #008080; font-weight: bold\">512</span>, <span style=\"color: #008080; text-decoration-color: #008080; font-weight: bold\">512</span><span style=\"font-weight: bold\">])</span>\n",
       "torch.float16\n",
       "</pre>\n"
      ],
      "text/plain": [
       "text_model.encoder.layers.\u001b[1;36m7.\u001b[0mself_attn.out_proj.weight\n",
       "\u001b[1;35mtorch.Size\u001b[0m\u001b[1m(\u001b[0m\u001b[1m[\u001b[0m\u001b[1;36m512\u001b[0m, \u001b[1;36m512\u001b[0m\u001b[1m]\u001b[0m\u001b[1m)\u001b[0m\n",
       "torch.float16\n"
      ]
     },
     "metadata": {},
     "output_type": "display_data"
    },
    {
     "data": {
      "text/html": [
       "<pre style=\"white-space:pre;overflow-x:auto;line-height:normal;font-family:Menlo,'DejaVu Sans Mono',consolas,'Courier New',monospace\">text_model.encoder.layers.<span style=\"color: #008080; text-decoration-color: #008080; font-weight: bold\">7.</span>self_attn.out_proj.bias\n",
       "<span style=\"color: #800080; text-decoration-color: #800080; font-weight: bold\">torch.Size</span><span style=\"font-weight: bold\">([</span><span style=\"color: #008080; text-decoration-color: #008080; font-weight: bold\">512</span><span style=\"font-weight: bold\">])</span>\n",
       "torch.float16\n",
       "</pre>\n"
      ],
      "text/plain": [
       "text_model.encoder.layers.\u001b[1;36m7.\u001b[0mself_attn.out_proj.bias\n",
       "\u001b[1;35mtorch.Size\u001b[0m\u001b[1m(\u001b[0m\u001b[1m[\u001b[0m\u001b[1;36m512\u001b[0m\u001b[1m]\u001b[0m\u001b[1m)\u001b[0m\n",
       "torch.float16\n"
      ]
     },
     "metadata": {},
     "output_type": "display_data"
    },
    {
     "data": {
      "text/html": [
       "<pre style=\"white-space:pre;overflow-x:auto;line-height:normal;font-family:Menlo,'DejaVu Sans Mono',consolas,'Courier New',monospace\">text_model.encoder.layers.<span style=\"color: #008080; text-decoration-color: #008080; font-weight: bold\">7.</span>layer_norm1.weight\n",
       "<span style=\"color: #800080; text-decoration-color: #800080; font-weight: bold\">torch.Size</span><span style=\"font-weight: bold\">([</span><span style=\"color: #008080; text-decoration-color: #008080; font-weight: bold\">512</span><span style=\"font-weight: bold\">])</span>\n",
       "torch.float16\n",
       "</pre>\n"
      ],
      "text/plain": [
       "text_model.encoder.layers.\u001b[1;36m7.\u001b[0mlayer_norm1.weight\n",
       "\u001b[1;35mtorch.Size\u001b[0m\u001b[1m(\u001b[0m\u001b[1m[\u001b[0m\u001b[1;36m512\u001b[0m\u001b[1m]\u001b[0m\u001b[1m)\u001b[0m\n",
       "torch.float16\n"
      ]
     },
     "metadata": {},
     "output_type": "display_data"
    },
    {
     "data": {
      "text/html": [
       "<pre style=\"white-space:pre;overflow-x:auto;line-height:normal;font-family:Menlo,'DejaVu Sans Mono',consolas,'Courier New',monospace\">text_model.encoder.layers.<span style=\"color: #008080; text-decoration-color: #008080; font-weight: bold\">7.</span>layer_norm1.bias\n",
       "<span style=\"color: #800080; text-decoration-color: #800080; font-weight: bold\">torch.Size</span><span style=\"font-weight: bold\">([</span><span style=\"color: #008080; text-decoration-color: #008080; font-weight: bold\">512</span><span style=\"font-weight: bold\">])</span>\n",
       "torch.float16\n",
       "</pre>\n"
      ],
      "text/plain": [
       "text_model.encoder.layers.\u001b[1;36m7.\u001b[0mlayer_norm1.bias\n",
       "\u001b[1;35mtorch.Size\u001b[0m\u001b[1m(\u001b[0m\u001b[1m[\u001b[0m\u001b[1;36m512\u001b[0m\u001b[1m]\u001b[0m\u001b[1m)\u001b[0m\n",
       "torch.float16\n"
      ]
     },
     "metadata": {},
     "output_type": "display_data"
    },
    {
     "data": {
      "text/html": [
       "<pre style=\"white-space:pre;overflow-x:auto;line-height:normal;font-family:Menlo,'DejaVu Sans Mono',consolas,'Courier New',monospace\">text_model.encoder.layers.<span style=\"color: #008080; text-decoration-color: #008080; font-weight: bold\">7.</span>mlp.fc1.weight\n",
       "<span style=\"color: #800080; text-decoration-color: #800080; font-weight: bold\">torch.Size</span><span style=\"font-weight: bold\">([</span><span style=\"color: #008080; text-decoration-color: #008080; font-weight: bold\">2048</span>, <span style=\"color: #008080; text-decoration-color: #008080; font-weight: bold\">512</span><span style=\"font-weight: bold\">])</span>\n",
       "torch.float16\n",
       "</pre>\n"
      ],
      "text/plain": [
       "text_model.encoder.layers.\u001b[1;36m7.\u001b[0mmlp.fc1.weight\n",
       "\u001b[1;35mtorch.Size\u001b[0m\u001b[1m(\u001b[0m\u001b[1m[\u001b[0m\u001b[1;36m2048\u001b[0m, \u001b[1;36m512\u001b[0m\u001b[1m]\u001b[0m\u001b[1m)\u001b[0m\n",
       "torch.float16\n"
      ]
     },
     "metadata": {},
     "output_type": "display_data"
    },
    {
     "data": {
      "text/html": [
       "<pre style=\"white-space:pre;overflow-x:auto;line-height:normal;font-family:Menlo,'DejaVu Sans Mono',consolas,'Courier New',monospace\">text_model.encoder.layers.<span style=\"color: #008080; text-decoration-color: #008080; font-weight: bold\">7.</span>mlp.fc1.bias\n",
       "<span style=\"color: #800080; text-decoration-color: #800080; font-weight: bold\">torch.Size</span><span style=\"font-weight: bold\">([</span><span style=\"color: #008080; text-decoration-color: #008080; font-weight: bold\">2048</span><span style=\"font-weight: bold\">])</span>\n",
       "torch.float16\n",
       "</pre>\n"
      ],
      "text/plain": [
       "text_model.encoder.layers.\u001b[1;36m7.\u001b[0mmlp.fc1.bias\n",
       "\u001b[1;35mtorch.Size\u001b[0m\u001b[1m(\u001b[0m\u001b[1m[\u001b[0m\u001b[1;36m2048\u001b[0m\u001b[1m]\u001b[0m\u001b[1m)\u001b[0m\n",
       "torch.float16\n"
      ]
     },
     "metadata": {},
     "output_type": "display_data"
    },
    {
     "data": {
      "text/html": [
       "<pre style=\"white-space:pre;overflow-x:auto;line-height:normal;font-family:Menlo,'DejaVu Sans Mono',consolas,'Courier New',monospace\">text_model.encoder.layers.<span style=\"color: #008080; text-decoration-color: #008080; font-weight: bold\">7.</span>mlp.fc2.weight\n",
       "<span style=\"color: #800080; text-decoration-color: #800080; font-weight: bold\">torch.Size</span><span style=\"font-weight: bold\">([</span><span style=\"color: #008080; text-decoration-color: #008080; font-weight: bold\">512</span>, <span style=\"color: #008080; text-decoration-color: #008080; font-weight: bold\">2048</span><span style=\"font-weight: bold\">])</span>\n",
       "torch.float16\n",
       "</pre>\n"
      ],
      "text/plain": [
       "text_model.encoder.layers.\u001b[1;36m7.\u001b[0mmlp.fc2.weight\n",
       "\u001b[1;35mtorch.Size\u001b[0m\u001b[1m(\u001b[0m\u001b[1m[\u001b[0m\u001b[1;36m512\u001b[0m, \u001b[1;36m2048\u001b[0m\u001b[1m]\u001b[0m\u001b[1m)\u001b[0m\n",
       "torch.float16\n"
      ]
     },
     "metadata": {},
     "output_type": "display_data"
    },
    {
     "data": {
      "text/html": [
       "<pre style=\"white-space:pre;overflow-x:auto;line-height:normal;font-family:Menlo,'DejaVu Sans Mono',consolas,'Courier New',monospace\">text_model.encoder.layers.<span style=\"color: #008080; text-decoration-color: #008080; font-weight: bold\">7.</span>mlp.fc2.bias\n",
       "<span style=\"color: #800080; text-decoration-color: #800080; font-weight: bold\">torch.Size</span><span style=\"font-weight: bold\">([</span><span style=\"color: #008080; text-decoration-color: #008080; font-weight: bold\">512</span><span style=\"font-weight: bold\">])</span>\n",
       "torch.float16\n",
       "</pre>\n"
      ],
      "text/plain": [
       "text_model.encoder.layers.\u001b[1;36m7.\u001b[0mmlp.fc2.bias\n",
       "\u001b[1;35mtorch.Size\u001b[0m\u001b[1m(\u001b[0m\u001b[1m[\u001b[0m\u001b[1;36m512\u001b[0m\u001b[1m]\u001b[0m\u001b[1m)\u001b[0m\n",
       "torch.float16\n"
      ]
     },
     "metadata": {},
     "output_type": "display_data"
    },
    {
     "data": {
      "text/html": [
       "<pre style=\"white-space:pre;overflow-x:auto;line-height:normal;font-family:Menlo,'DejaVu Sans Mono',consolas,'Courier New',monospace\">text_model.encoder.layers.<span style=\"color: #008080; text-decoration-color: #008080; font-weight: bold\">7.</span>layer_norm2.weight\n",
       "<span style=\"color: #800080; text-decoration-color: #800080; font-weight: bold\">torch.Size</span><span style=\"font-weight: bold\">([</span><span style=\"color: #008080; text-decoration-color: #008080; font-weight: bold\">512</span><span style=\"font-weight: bold\">])</span>\n",
       "torch.float16\n",
       "</pre>\n"
      ],
      "text/plain": [
       "text_model.encoder.layers.\u001b[1;36m7.\u001b[0mlayer_norm2.weight\n",
       "\u001b[1;35mtorch.Size\u001b[0m\u001b[1m(\u001b[0m\u001b[1m[\u001b[0m\u001b[1;36m512\u001b[0m\u001b[1m]\u001b[0m\u001b[1m)\u001b[0m\n",
       "torch.float16\n"
      ]
     },
     "metadata": {},
     "output_type": "display_data"
    },
    {
     "data": {
      "text/html": [
       "<pre style=\"white-space:pre;overflow-x:auto;line-height:normal;font-family:Menlo,'DejaVu Sans Mono',consolas,'Courier New',monospace\">text_model.encoder.layers.<span style=\"color: #008080; text-decoration-color: #008080; font-weight: bold\">7.</span>layer_norm2.bias\n",
       "<span style=\"color: #800080; text-decoration-color: #800080; font-weight: bold\">torch.Size</span><span style=\"font-weight: bold\">([</span><span style=\"color: #008080; text-decoration-color: #008080; font-weight: bold\">512</span><span style=\"font-weight: bold\">])</span>\n",
       "torch.float16\n",
       "</pre>\n"
      ],
      "text/plain": [
       "text_model.encoder.layers.\u001b[1;36m7.\u001b[0mlayer_norm2.bias\n",
       "\u001b[1;35mtorch.Size\u001b[0m\u001b[1m(\u001b[0m\u001b[1m[\u001b[0m\u001b[1;36m512\u001b[0m\u001b[1m]\u001b[0m\u001b[1m)\u001b[0m\n",
       "torch.float16\n"
      ]
     },
     "metadata": {},
     "output_type": "display_data"
    },
    {
     "data": {
      "text/html": [
       "<pre style=\"white-space:pre;overflow-x:auto;line-height:normal;font-family:Menlo,'DejaVu Sans Mono',consolas,'Courier New',monospace\">text_model.encoder.layers.<span style=\"color: #008080; text-decoration-color: #008080; font-weight: bold\">8.</span>self_attn.k_proj.weight\n",
       "<span style=\"color: #800080; text-decoration-color: #800080; font-weight: bold\">torch.Size</span><span style=\"font-weight: bold\">([</span><span style=\"color: #008080; text-decoration-color: #008080; font-weight: bold\">512</span>, <span style=\"color: #008080; text-decoration-color: #008080; font-weight: bold\">512</span><span style=\"font-weight: bold\">])</span>\n",
       "torch.float16\n",
       "</pre>\n"
      ],
      "text/plain": [
       "text_model.encoder.layers.\u001b[1;36m8.\u001b[0mself_attn.k_proj.weight\n",
       "\u001b[1;35mtorch.Size\u001b[0m\u001b[1m(\u001b[0m\u001b[1m[\u001b[0m\u001b[1;36m512\u001b[0m, \u001b[1;36m512\u001b[0m\u001b[1m]\u001b[0m\u001b[1m)\u001b[0m\n",
       "torch.float16\n"
      ]
     },
     "metadata": {},
     "output_type": "display_data"
    },
    {
     "data": {
      "text/html": [
       "<pre style=\"white-space:pre;overflow-x:auto;line-height:normal;font-family:Menlo,'DejaVu Sans Mono',consolas,'Courier New',monospace\">text_model.encoder.layers.<span style=\"color: #008080; text-decoration-color: #008080; font-weight: bold\">8.</span>self_attn.k_proj.bias\n",
       "<span style=\"color: #800080; text-decoration-color: #800080; font-weight: bold\">torch.Size</span><span style=\"font-weight: bold\">([</span><span style=\"color: #008080; text-decoration-color: #008080; font-weight: bold\">512</span><span style=\"font-weight: bold\">])</span>\n",
       "torch.float16\n",
       "</pre>\n"
      ],
      "text/plain": [
       "text_model.encoder.layers.\u001b[1;36m8.\u001b[0mself_attn.k_proj.bias\n",
       "\u001b[1;35mtorch.Size\u001b[0m\u001b[1m(\u001b[0m\u001b[1m[\u001b[0m\u001b[1;36m512\u001b[0m\u001b[1m]\u001b[0m\u001b[1m)\u001b[0m\n",
       "torch.float16\n"
      ]
     },
     "metadata": {},
     "output_type": "display_data"
    },
    {
     "data": {
      "text/html": [
       "<pre style=\"white-space:pre;overflow-x:auto;line-height:normal;font-family:Menlo,'DejaVu Sans Mono',consolas,'Courier New',monospace\">text_model.encoder.layers.<span style=\"color: #008080; text-decoration-color: #008080; font-weight: bold\">8.</span>self_attn.v_proj.weight\n",
       "<span style=\"color: #800080; text-decoration-color: #800080; font-weight: bold\">torch.Size</span><span style=\"font-weight: bold\">([</span><span style=\"color: #008080; text-decoration-color: #008080; font-weight: bold\">512</span>, <span style=\"color: #008080; text-decoration-color: #008080; font-weight: bold\">512</span><span style=\"font-weight: bold\">])</span>\n",
       "torch.float16\n",
       "</pre>\n"
      ],
      "text/plain": [
       "text_model.encoder.layers.\u001b[1;36m8.\u001b[0mself_attn.v_proj.weight\n",
       "\u001b[1;35mtorch.Size\u001b[0m\u001b[1m(\u001b[0m\u001b[1m[\u001b[0m\u001b[1;36m512\u001b[0m, \u001b[1;36m512\u001b[0m\u001b[1m]\u001b[0m\u001b[1m)\u001b[0m\n",
       "torch.float16\n"
      ]
     },
     "metadata": {},
     "output_type": "display_data"
    },
    {
     "data": {
      "text/html": [
       "<pre style=\"white-space:pre;overflow-x:auto;line-height:normal;font-family:Menlo,'DejaVu Sans Mono',consolas,'Courier New',monospace\">text_model.encoder.layers.<span style=\"color: #008080; text-decoration-color: #008080; font-weight: bold\">8.</span>self_attn.v_proj.bias\n",
       "<span style=\"color: #800080; text-decoration-color: #800080; font-weight: bold\">torch.Size</span><span style=\"font-weight: bold\">([</span><span style=\"color: #008080; text-decoration-color: #008080; font-weight: bold\">512</span><span style=\"font-weight: bold\">])</span>\n",
       "torch.float16\n",
       "</pre>\n"
      ],
      "text/plain": [
       "text_model.encoder.layers.\u001b[1;36m8.\u001b[0mself_attn.v_proj.bias\n",
       "\u001b[1;35mtorch.Size\u001b[0m\u001b[1m(\u001b[0m\u001b[1m[\u001b[0m\u001b[1;36m512\u001b[0m\u001b[1m]\u001b[0m\u001b[1m)\u001b[0m\n",
       "torch.float16\n"
      ]
     },
     "metadata": {},
     "output_type": "display_data"
    },
    {
     "data": {
      "text/html": [
       "<pre style=\"white-space:pre;overflow-x:auto;line-height:normal;font-family:Menlo,'DejaVu Sans Mono',consolas,'Courier New',monospace\">text_model.encoder.layers.<span style=\"color: #008080; text-decoration-color: #008080; font-weight: bold\">8.</span>self_attn.q_proj.weight\n",
       "<span style=\"color: #800080; text-decoration-color: #800080; font-weight: bold\">torch.Size</span><span style=\"font-weight: bold\">([</span><span style=\"color: #008080; text-decoration-color: #008080; font-weight: bold\">512</span>, <span style=\"color: #008080; text-decoration-color: #008080; font-weight: bold\">512</span><span style=\"font-weight: bold\">])</span>\n",
       "torch.float16\n",
       "</pre>\n"
      ],
      "text/plain": [
       "text_model.encoder.layers.\u001b[1;36m8.\u001b[0mself_attn.q_proj.weight\n",
       "\u001b[1;35mtorch.Size\u001b[0m\u001b[1m(\u001b[0m\u001b[1m[\u001b[0m\u001b[1;36m512\u001b[0m, \u001b[1;36m512\u001b[0m\u001b[1m]\u001b[0m\u001b[1m)\u001b[0m\n",
       "torch.float16\n"
      ]
     },
     "metadata": {},
     "output_type": "display_data"
    },
    {
     "data": {
      "text/html": [
       "<pre style=\"white-space:pre;overflow-x:auto;line-height:normal;font-family:Menlo,'DejaVu Sans Mono',consolas,'Courier New',monospace\">text_model.encoder.layers.<span style=\"color: #008080; text-decoration-color: #008080; font-weight: bold\">8.</span>self_attn.q_proj.bias\n",
       "<span style=\"color: #800080; text-decoration-color: #800080; font-weight: bold\">torch.Size</span><span style=\"font-weight: bold\">([</span><span style=\"color: #008080; text-decoration-color: #008080; font-weight: bold\">512</span><span style=\"font-weight: bold\">])</span>\n",
       "torch.float16\n",
       "</pre>\n"
      ],
      "text/plain": [
       "text_model.encoder.layers.\u001b[1;36m8.\u001b[0mself_attn.q_proj.bias\n",
       "\u001b[1;35mtorch.Size\u001b[0m\u001b[1m(\u001b[0m\u001b[1m[\u001b[0m\u001b[1;36m512\u001b[0m\u001b[1m]\u001b[0m\u001b[1m)\u001b[0m\n",
       "torch.float16\n"
      ]
     },
     "metadata": {},
     "output_type": "display_data"
    },
    {
     "data": {
      "text/html": [
       "<pre style=\"white-space:pre;overflow-x:auto;line-height:normal;font-family:Menlo,'DejaVu Sans Mono',consolas,'Courier New',monospace\">text_model.encoder.layers.<span style=\"color: #008080; text-decoration-color: #008080; font-weight: bold\">8.</span>self_attn.out_proj.weight\n",
       "<span style=\"color: #800080; text-decoration-color: #800080; font-weight: bold\">torch.Size</span><span style=\"font-weight: bold\">([</span><span style=\"color: #008080; text-decoration-color: #008080; font-weight: bold\">512</span>, <span style=\"color: #008080; text-decoration-color: #008080; font-weight: bold\">512</span><span style=\"font-weight: bold\">])</span>\n",
       "torch.float16\n",
       "</pre>\n"
      ],
      "text/plain": [
       "text_model.encoder.layers.\u001b[1;36m8.\u001b[0mself_attn.out_proj.weight\n",
       "\u001b[1;35mtorch.Size\u001b[0m\u001b[1m(\u001b[0m\u001b[1m[\u001b[0m\u001b[1;36m512\u001b[0m, \u001b[1;36m512\u001b[0m\u001b[1m]\u001b[0m\u001b[1m)\u001b[0m\n",
       "torch.float16\n"
      ]
     },
     "metadata": {},
     "output_type": "display_data"
    },
    {
     "data": {
      "text/html": [
       "<pre style=\"white-space:pre;overflow-x:auto;line-height:normal;font-family:Menlo,'DejaVu Sans Mono',consolas,'Courier New',monospace\">text_model.encoder.layers.<span style=\"color: #008080; text-decoration-color: #008080; font-weight: bold\">8.</span>self_attn.out_proj.bias\n",
       "<span style=\"color: #800080; text-decoration-color: #800080; font-weight: bold\">torch.Size</span><span style=\"font-weight: bold\">([</span><span style=\"color: #008080; text-decoration-color: #008080; font-weight: bold\">512</span><span style=\"font-weight: bold\">])</span>\n",
       "torch.float16\n",
       "</pre>\n"
      ],
      "text/plain": [
       "text_model.encoder.layers.\u001b[1;36m8.\u001b[0mself_attn.out_proj.bias\n",
       "\u001b[1;35mtorch.Size\u001b[0m\u001b[1m(\u001b[0m\u001b[1m[\u001b[0m\u001b[1;36m512\u001b[0m\u001b[1m]\u001b[0m\u001b[1m)\u001b[0m\n",
       "torch.float16\n"
      ]
     },
     "metadata": {},
     "output_type": "display_data"
    },
    {
     "data": {
      "text/html": [
       "<pre style=\"white-space:pre;overflow-x:auto;line-height:normal;font-family:Menlo,'DejaVu Sans Mono',consolas,'Courier New',monospace\">text_model.encoder.layers.<span style=\"color: #008080; text-decoration-color: #008080; font-weight: bold\">8.</span>layer_norm1.weight\n",
       "<span style=\"color: #800080; text-decoration-color: #800080; font-weight: bold\">torch.Size</span><span style=\"font-weight: bold\">([</span><span style=\"color: #008080; text-decoration-color: #008080; font-weight: bold\">512</span><span style=\"font-weight: bold\">])</span>\n",
       "torch.float16\n",
       "</pre>\n"
      ],
      "text/plain": [
       "text_model.encoder.layers.\u001b[1;36m8.\u001b[0mlayer_norm1.weight\n",
       "\u001b[1;35mtorch.Size\u001b[0m\u001b[1m(\u001b[0m\u001b[1m[\u001b[0m\u001b[1;36m512\u001b[0m\u001b[1m]\u001b[0m\u001b[1m)\u001b[0m\n",
       "torch.float16\n"
      ]
     },
     "metadata": {},
     "output_type": "display_data"
    },
    {
     "data": {
      "text/html": [
       "<pre style=\"white-space:pre;overflow-x:auto;line-height:normal;font-family:Menlo,'DejaVu Sans Mono',consolas,'Courier New',monospace\">text_model.encoder.layers.<span style=\"color: #008080; text-decoration-color: #008080; font-weight: bold\">8.</span>layer_norm1.bias\n",
       "<span style=\"color: #800080; text-decoration-color: #800080; font-weight: bold\">torch.Size</span><span style=\"font-weight: bold\">([</span><span style=\"color: #008080; text-decoration-color: #008080; font-weight: bold\">512</span><span style=\"font-weight: bold\">])</span>\n",
       "torch.float16\n",
       "</pre>\n"
      ],
      "text/plain": [
       "text_model.encoder.layers.\u001b[1;36m8.\u001b[0mlayer_norm1.bias\n",
       "\u001b[1;35mtorch.Size\u001b[0m\u001b[1m(\u001b[0m\u001b[1m[\u001b[0m\u001b[1;36m512\u001b[0m\u001b[1m]\u001b[0m\u001b[1m)\u001b[0m\n",
       "torch.float16\n"
      ]
     },
     "metadata": {},
     "output_type": "display_data"
    },
    {
     "data": {
      "text/html": [
       "<pre style=\"white-space:pre;overflow-x:auto;line-height:normal;font-family:Menlo,'DejaVu Sans Mono',consolas,'Courier New',monospace\">text_model.encoder.layers.<span style=\"color: #008080; text-decoration-color: #008080; font-weight: bold\">8.</span>mlp.fc1.weight\n",
       "<span style=\"color: #800080; text-decoration-color: #800080; font-weight: bold\">torch.Size</span><span style=\"font-weight: bold\">([</span><span style=\"color: #008080; text-decoration-color: #008080; font-weight: bold\">2048</span>, <span style=\"color: #008080; text-decoration-color: #008080; font-weight: bold\">512</span><span style=\"font-weight: bold\">])</span>\n",
       "torch.float16\n",
       "</pre>\n"
      ],
      "text/plain": [
       "text_model.encoder.layers.\u001b[1;36m8.\u001b[0mmlp.fc1.weight\n",
       "\u001b[1;35mtorch.Size\u001b[0m\u001b[1m(\u001b[0m\u001b[1m[\u001b[0m\u001b[1;36m2048\u001b[0m, \u001b[1;36m512\u001b[0m\u001b[1m]\u001b[0m\u001b[1m)\u001b[0m\n",
       "torch.float16\n"
      ]
     },
     "metadata": {},
     "output_type": "display_data"
    },
    {
     "data": {
      "text/html": [
       "<pre style=\"white-space:pre;overflow-x:auto;line-height:normal;font-family:Menlo,'DejaVu Sans Mono',consolas,'Courier New',monospace\">text_model.encoder.layers.<span style=\"color: #008080; text-decoration-color: #008080; font-weight: bold\">8.</span>mlp.fc1.bias\n",
       "<span style=\"color: #800080; text-decoration-color: #800080; font-weight: bold\">torch.Size</span><span style=\"font-weight: bold\">([</span><span style=\"color: #008080; text-decoration-color: #008080; font-weight: bold\">2048</span><span style=\"font-weight: bold\">])</span>\n",
       "torch.float16\n",
       "</pre>\n"
      ],
      "text/plain": [
       "text_model.encoder.layers.\u001b[1;36m8.\u001b[0mmlp.fc1.bias\n",
       "\u001b[1;35mtorch.Size\u001b[0m\u001b[1m(\u001b[0m\u001b[1m[\u001b[0m\u001b[1;36m2048\u001b[0m\u001b[1m]\u001b[0m\u001b[1m)\u001b[0m\n",
       "torch.float16\n"
      ]
     },
     "metadata": {},
     "output_type": "display_data"
    },
    {
     "data": {
      "text/html": [
       "<pre style=\"white-space:pre;overflow-x:auto;line-height:normal;font-family:Menlo,'DejaVu Sans Mono',consolas,'Courier New',monospace\">text_model.encoder.layers.<span style=\"color: #008080; text-decoration-color: #008080; font-weight: bold\">8.</span>mlp.fc2.weight\n",
       "<span style=\"color: #800080; text-decoration-color: #800080; font-weight: bold\">torch.Size</span><span style=\"font-weight: bold\">([</span><span style=\"color: #008080; text-decoration-color: #008080; font-weight: bold\">512</span>, <span style=\"color: #008080; text-decoration-color: #008080; font-weight: bold\">2048</span><span style=\"font-weight: bold\">])</span>\n",
       "torch.float16\n",
       "</pre>\n"
      ],
      "text/plain": [
       "text_model.encoder.layers.\u001b[1;36m8.\u001b[0mmlp.fc2.weight\n",
       "\u001b[1;35mtorch.Size\u001b[0m\u001b[1m(\u001b[0m\u001b[1m[\u001b[0m\u001b[1;36m512\u001b[0m, \u001b[1;36m2048\u001b[0m\u001b[1m]\u001b[0m\u001b[1m)\u001b[0m\n",
       "torch.float16\n"
      ]
     },
     "metadata": {},
     "output_type": "display_data"
    },
    {
     "data": {
      "text/html": [
       "<pre style=\"white-space:pre;overflow-x:auto;line-height:normal;font-family:Menlo,'DejaVu Sans Mono',consolas,'Courier New',monospace\">text_model.encoder.layers.<span style=\"color: #008080; text-decoration-color: #008080; font-weight: bold\">8.</span>mlp.fc2.bias\n",
       "<span style=\"color: #800080; text-decoration-color: #800080; font-weight: bold\">torch.Size</span><span style=\"font-weight: bold\">([</span><span style=\"color: #008080; text-decoration-color: #008080; font-weight: bold\">512</span><span style=\"font-weight: bold\">])</span>\n",
       "torch.float16\n",
       "</pre>\n"
      ],
      "text/plain": [
       "text_model.encoder.layers.\u001b[1;36m8.\u001b[0mmlp.fc2.bias\n",
       "\u001b[1;35mtorch.Size\u001b[0m\u001b[1m(\u001b[0m\u001b[1m[\u001b[0m\u001b[1;36m512\u001b[0m\u001b[1m]\u001b[0m\u001b[1m)\u001b[0m\n",
       "torch.float16\n"
      ]
     },
     "metadata": {},
     "output_type": "display_data"
    },
    {
     "data": {
      "text/html": [
       "<pre style=\"white-space:pre;overflow-x:auto;line-height:normal;font-family:Menlo,'DejaVu Sans Mono',consolas,'Courier New',monospace\">text_model.encoder.layers.<span style=\"color: #008080; text-decoration-color: #008080; font-weight: bold\">8.</span>layer_norm2.weight\n",
       "<span style=\"color: #800080; text-decoration-color: #800080; font-weight: bold\">torch.Size</span><span style=\"font-weight: bold\">([</span><span style=\"color: #008080; text-decoration-color: #008080; font-weight: bold\">512</span><span style=\"font-weight: bold\">])</span>\n",
       "torch.float16\n",
       "</pre>\n"
      ],
      "text/plain": [
       "text_model.encoder.layers.\u001b[1;36m8.\u001b[0mlayer_norm2.weight\n",
       "\u001b[1;35mtorch.Size\u001b[0m\u001b[1m(\u001b[0m\u001b[1m[\u001b[0m\u001b[1;36m512\u001b[0m\u001b[1m]\u001b[0m\u001b[1m)\u001b[0m\n",
       "torch.float16\n"
      ]
     },
     "metadata": {},
     "output_type": "display_data"
    },
    {
     "data": {
      "text/html": [
       "<pre style=\"white-space:pre;overflow-x:auto;line-height:normal;font-family:Menlo,'DejaVu Sans Mono',consolas,'Courier New',monospace\">text_model.encoder.layers.<span style=\"color: #008080; text-decoration-color: #008080; font-weight: bold\">8.</span>layer_norm2.bias\n",
       "<span style=\"color: #800080; text-decoration-color: #800080; font-weight: bold\">torch.Size</span><span style=\"font-weight: bold\">([</span><span style=\"color: #008080; text-decoration-color: #008080; font-weight: bold\">512</span><span style=\"font-weight: bold\">])</span>\n",
       "torch.float16\n",
       "</pre>\n"
      ],
      "text/plain": [
       "text_model.encoder.layers.\u001b[1;36m8.\u001b[0mlayer_norm2.bias\n",
       "\u001b[1;35mtorch.Size\u001b[0m\u001b[1m(\u001b[0m\u001b[1m[\u001b[0m\u001b[1;36m512\u001b[0m\u001b[1m]\u001b[0m\u001b[1m)\u001b[0m\n",
       "torch.float16\n"
      ]
     },
     "metadata": {},
     "output_type": "display_data"
    },
    {
     "data": {
      "text/html": [
       "<pre style=\"white-space:pre;overflow-x:auto;line-height:normal;font-family:Menlo,'DejaVu Sans Mono',consolas,'Courier New',monospace\">text_model.encoder.layers.<span style=\"color: #008080; text-decoration-color: #008080; font-weight: bold\">9.</span>self_attn.k_proj.weight\n",
       "<span style=\"color: #800080; text-decoration-color: #800080; font-weight: bold\">torch.Size</span><span style=\"font-weight: bold\">([</span><span style=\"color: #008080; text-decoration-color: #008080; font-weight: bold\">512</span>, <span style=\"color: #008080; text-decoration-color: #008080; font-weight: bold\">512</span><span style=\"font-weight: bold\">])</span>\n",
       "torch.float16\n",
       "</pre>\n"
      ],
      "text/plain": [
       "text_model.encoder.layers.\u001b[1;36m9.\u001b[0mself_attn.k_proj.weight\n",
       "\u001b[1;35mtorch.Size\u001b[0m\u001b[1m(\u001b[0m\u001b[1m[\u001b[0m\u001b[1;36m512\u001b[0m, \u001b[1;36m512\u001b[0m\u001b[1m]\u001b[0m\u001b[1m)\u001b[0m\n",
       "torch.float16\n"
      ]
     },
     "metadata": {},
     "output_type": "display_data"
    },
    {
     "data": {
      "text/html": [
       "<pre style=\"white-space:pre;overflow-x:auto;line-height:normal;font-family:Menlo,'DejaVu Sans Mono',consolas,'Courier New',monospace\">text_model.encoder.layers.<span style=\"color: #008080; text-decoration-color: #008080; font-weight: bold\">9.</span>self_attn.k_proj.bias\n",
       "<span style=\"color: #800080; text-decoration-color: #800080; font-weight: bold\">torch.Size</span><span style=\"font-weight: bold\">([</span><span style=\"color: #008080; text-decoration-color: #008080; font-weight: bold\">512</span><span style=\"font-weight: bold\">])</span>\n",
       "torch.float16\n",
       "</pre>\n"
      ],
      "text/plain": [
       "text_model.encoder.layers.\u001b[1;36m9.\u001b[0mself_attn.k_proj.bias\n",
       "\u001b[1;35mtorch.Size\u001b[0m\u001b[1m(\u001b[0m\u001b[1m[\u001b[0m\u001b[1;36m512\u001b[0m\u001b[1m]\u001b[0m\u001b[1m)\u001b[0m\n",
       "torch.float16\n"
      ]
     },
     "metadata": {},
     "output_type": "display_data"
    },
    {
     "data": {
      "text/html": [
       "<pre style=\"white-space:pre;overflow-x:auto;line-height:normal;font-family:Menlo,'DejaVu Sans Mono',consolas,'Courier New',monospace\">text_model.encoder.layers.<span style=\"color: #008080; text-decoration-color: #008080; font-weight: bold\">9.</span>self_attn.v_proj.weight\n",
       "<span style=\"color: #800080; text-decoration-color: #800080; font-weight: bold\">torch.Size</span><span style=\"font-weight: bold\">([</span><span style=\"color: #008080; text-decoration-color: #008080; font-weight: bold\">512</span>, <span style=\"color: #008080; text-decoration-color: #008080; font-weight: bold\">512</span><span style=\"font-weight: bold\">])</span>\n",
       "torch.float16\n",
       "</pre>\n"
      ],
      "text/plain": [
       "text_model.encoder.layers.\u001b[1;36m9.\u001b[0mself_attn.v_proj.weight\n",
       "\u001b[1;35mtorch.Size\u001b[0m\u001b[1m(\u001b[0m\u001b[1m[\u001b[0m\u001b[1;36m512\u001b[0m, \u001b[1;36m512\u001b[0m\u001b[1m]\u001b[0m\u001b[1m)\u001b[0m\n",
       "torch.float16\n"
      ]
     },
     "metadata": {},
     "output_type": "display_data"
    },
    {
     "data": {
      "text/html": [
       "<pre style=\"white-space:pre;overflow-x:auto;line-height:normal;font-family:Menlo,'DejaVu Sans Mono',consolas,'Courier New',monospace\">text_model.encoder.layers.<span style=\"color: #008080; text-decoration-color: #008080; font-weight: bold\">9.</span>self_attn.v_proj.bias\n",
       "<span style=\"color: #800080; text-decoration-color: #800080; font-weight: bold\">torch.Size</span><span style=\"font-weight: bold\">([</span><span style=\"color: #008080; text-decoration-color: #008080; font-weight: bold\">512</span><span style=\"font-weight: bold\">])</span>\n",
       "torch.float16\n",
       "</pre>\n"
      ],
      "text/plain": [
       "text_model.encoder.layers.\u001b[1;36m9.\u001b[0mself_attn.v_proj.bias\n",
       "\u001b[1;35mtorch.Size\u001b[0m\u001b[1m(\u001b[0m\u001b[1m[\u001b[0m\u001b[1;36m512\u001b[0m\u001b[1m]\u001b[0m\u001b[1m)\u001b[0m\n",
       "torch.float16\n"
      ]
     },
     "metadata": {},
     "output_type": "display_data"
    },
    {
     "data": {
      "text/html": [
       "<pre style=\"white-space:pre;overflow-x:auto;line-height:normal;font-family:Menlo,'DejaVu Sans Mono',consolas,'Courier New',monospace\">text_model.encoder.layers.<span style=\"color: #008080; text-decoration-color: #008080; font-weight: bold\">9.</span>self_attn.q_proj.weight\n",
       "<span style=\"color: #800080; text-decoration-color: #800080; font-weight: bold\">torch.Size</span><span style=\"font-weight: bold\">([</span><span style=\"color: #008080; text-decoration-color: #008080; font-weight: bold\">512</span>, <span style=\"color: #008080; text-decoration-color: #008080; font-weight: bold\">512</span><span style=\"font-weight: bold\">])</span>\n",
       "torch.float16\n",
       "</pre>\n"
      ],
      "text/plain": [
       "text_model.encoder.layers.\u001b[1;36m9.\u001b[0mself_attn.q_proj.weight\n",
       "\u001b[1;35mtorch.Size\u001b[0m\u001b[1m(\u001b[0m\u001b[1m[\u001b[0m\u001b[1;36m512\u001b[0m, \u001b[1;36m512\u001b[0m\u001b[1m]\u001b[0m\u001b[1m)\u001b[0m\n",
       "torch.float16\n"
      ]
     },
     "metadata": {},
     "output_type": "display_data"
    },
    {
     "data": {
      "text/html": [
       "<pre style=\"white-space:pre;overflow-x:auto;line-height:normal;font-family:Menlo,'DejaVu Sans Mono',consolas,'Courier New',monospace\">text_model.encoder.layers.<span style=\"color: #008080; text-decoration-color: #008080; font-weight: bold\">9.</span>self_attn.q_proj.bias\n",
       "<span style=\"color: #800080; text-decoration-color: #800080; font-weight: bold\">torch.Size</span><span style=\"font-weight: bold\">([</span><span style=\"color: #008080; text-decoration-color: #008080; font-weight: bold\">512</span><span style=\"font-weight: bold\">])</span>\n",
       "torch.float16\n",
       "</pre>\n"
      ],
      "text/plain": [
       "text_model.encoder.layers.\u001b[1;36m9.\u001b[0mself_attn.q_proj.bias\n",
       "\u001b[1;35mtorch.Size\u001b[0m\u001b[1m(\u001b[0m\u001b[1m[\u001b[0m\u001b[1;36m512\u001b[0m\u001b[1m]\u001b[0m\u001b[1m)\u001b[0m\n",
       "torch.float16\n"
      ]
     },
     "metadata": {},
     "output_type": "display_data"
    },
    {
     "data": {
      "text/html": [
       "<pre style=\"white-space:pre;overflow-x:auto;line-height:normal;font-family:Menlo,'DejaVu Sans Mono',consolas,'Courier New',monospace\">text_model.encoder.layers.<span style=\"color: #008080; text-decoration-color: #008080; font-weight: bold\">9.</span>self_attn.out_proj.weight\n",
       "<span style=\"color: #800080; text-decoration-color: #800080; font-weight: bold\">torch.Size</span><span style=\"font-weight: bold\">([</span><span style=\"color: #008080; text-decoration-color: #008080; font-weight: bold\">512</span>, <span style=\"color: #008080; text-decoration-color: #008080; font-weight: bold\">512</span><span style=\"font-weight: bold\">])</span>\n",
       "torch.float16\n",
       "</pre>\n"
      ],
      "text/plain": [
       "text_model.encoder.layers.\u001b[1;36m9.\u001b[0mself_attn.out_proj.weight\n",
       "\u001b[1;35mtorch.Size\u001b[0m\u001b[1m(\u001b[0m\u001b[1m[\u001b[0m\u001b[1;36m512\u001b[0m, \u001b[1;36m512\u001b[0m\u001b[1m]\u001b[0m\u001b[1m)\u001b[0m\n",
       "torch.float16\n"
      ]
     },
     "metadata": {},
     "output_type": "display_data"
    },
    {
     "data": {
      "text/html": [
       "<pre style=\"white-space:pre;overflow-x:auto;line-height:normal;font-family:Menlo,'DejaVu Sans Mono',consolas,'Courier New',monospace\">text_model.encoder.layers.<span style=\"color: #008080; text-decoration-color: #008080; font-weight: bold\">9.</span>self_attn.out_proj.bias\n",
       "<span style=\"color: #800080; text-decoration-color: #800080; font-weight: bold\">torch.Size</span><span style=\"font-weight: bold\">([</span><span style=\"color: #008080; text-decoration-color: #008080; font-weight: bold\">512</span><span style=\"font-weight: bold\">])</span>\n",
       "torch.float16\n",
       "</pre>\n"
      ],
      "text/plain": [
       "text_model.encoder.layers.\u001b[1;36m9.\u001b[0mself_attn.out_proj.bias\n",
       "\u001b[1;35mtorch.Size\u001b[0m\u001b[1m(\u001b[0m\u001b[1m[\u001b[0m\u001b[1;36m512\u001b[0m\u001b[1m]\u001b[0m\u001b[1m)\u001b[0m\n",
       "torch.float16\n"
      ]
     },
     "metadata": {},
     "output_type": "display_data"
    },
    {
     "data": {
      "text/html": [
       "<pre style=\"white-space:pre;overflow-x:auto;line-height:normal;font-family:Menlo,'DejaVu Sans Mono',consolas,'Courier New',monospace\">text_model.encoder.layers.<span style=\"color: #008080; text-decoration-color: #008080; font-weight: bold\">9.</span>layer_norm1.weight\n",
       "<span style=\"color: #800080; text-decoration-color: #800080; font-weight: bold\">torch.Size</span><span style=\"font-weight: bold\">([</span><span style=\"color: #008080; text-decoration-color: #008080; font-weight: bold\">512</span><span style=\"font-weight: bold\">])</span>\n",
       "torch.float16\n",
       "</pre>\n"
      ],
      "text/plain": [
       "text_model.encoder.layers.\u001b[1;36m9.\u001b[0mlayer_norm1.weight\n",
       "\u001b[1;35mtorch.Size\u001b[0m\u001b[1m(\u001b[0m\u001b[1m[\u001b[0m\u001b[1;36m512\u001b[0m\u001b[1m]\u001b[0m\u001b[1m)\u001b[0m\n",
       "torch.float16\n"
      ]
     },
     "metadata": {},
     "output_type": "display_data"
    },
    {
     "data": {
      "text/html": [
       "<pre style=\"white-space:pre;overflow-x:auto;line-height:normal;font-family:Menlo,'DejaVu Sans Mono',consolas,'Courier New',monospace\">text_model.encoder.layers.<span style=\"color: #008080; text-decoration-color: #008080; font-weight: bold\">9.</span>layer_norm1.bias\n",
       "<span style=\"color: #800080; text-decoration-color: #800080; font-weight: bold\">torch.Size</span><span style=\"font-weight: bold\">([</span><span style=\"color: #008080; text-decoration-color: #008080; font-weight: bold\">512</span><span style=\"font-weight: bold\">])</span>\n",
       "torch.float16\n",
       "</pre>\n"
      ],
      "text/plain": [
       "text_model.encoder.layers.\u001b[1;36m9.\u001b[0mlayer_norm1.bias\n",
       "\u001b[1;35mtorch.Size\u001b[0m\u001b[1m(\u001b[0m\u001b[1m[\u001b[0m\u001b[1;36m512\u001b[0m\u001b[1m]\u001b[0m\u001b[1m)\u001b[0m\n",
       "torch.float16\n"
      ]
     },
     "metadata": {},
     "output_type": "display_data"
    },
    {
     "data": {
      "text/html": [
       "<pre style=\"white-space:pre;overflow-x:auto;line-height:normal;font-family:Menlo,'DejaVu Sans Mono',consolas,'Courier New',monospace\">text_model.encoder.layers.<span style=\"color: #008080; text-decoration-color: #008080; font-weight: bold\">9.</span>mlp.fc1.weight\n",
       "<span style=\"color: #800080; text-decoration-color: #800080; font-weight: bold\">torch.Size</span><span style=\"font-weight: bold\">([</span><span style=\"color: #008080; text-decoration-color: #008080; font-weight: bold\">2048</span>, <span style=\"color: #008080; text-decoration-color: #008080; font-weight: bold\">512</span><span style=\"font-weight: bold\">])</span>\n",
       "torch.float16\n",
       "</pre>\n"
      ],
      "text/plain": [
       "text_model.encoder.layers.\u001b[1;36m9.\u001b[0mmlp.fc1.weight\n",
       "\u001b[1;35mtorch.Size\u001b[0m\u001b[1m(\u001b[0m\u001b[1m[\u001b[0m\u001b[1;36m2048\u001b[0m, \u001b[1;36m512\u001b[0m\u001b[1m]\u001b[0m\u001b[1m)\u001b[0m\n",
       "torch.float16\n"
      ]
     },
     "metadata": {},
     "output_type": "display_data"
    },
    {
     "data": {
      "text/html": [
       "<pre style=\"white-space:pre;overflow-x:auto;line-height:normal;font-family:Menlo,'DejaVu Sans Mono',consolas,'Courier New',monospace\">text_model.encoder.layers.<span style=\"color: #008080; text-decoration-color: #008080; font-weight: bold\">9.</span>mlp.fc1.bias\n",
       "<span style=\"color: #800080; text-decoration-color: #800080; font-weight: bold\">torch.Size</span><span style=\"font-weight: bold\">([</span><span style=\"color: #008080; text-decoration-color: #008080; font-weight: bold\">2048</span><span style=\"font-weight: bold\">])</span>\n",
       "torch.float16\n",
       "</pre>\n"
      ],
      "text/plain": [
       "text_model.encoder.layers.\u001b[1;36m9.\u001b[0mmlp.fc1.bias\n",
       "\u001b[1;35mtorch.Size\u001b[0m\u001b[1m(\u001b[0m\u001b[1m[\u001b[0m\u001b[1;36m2048\u001b[0m\u001b[1m]\u001b[0m\u001b[1m)\u001b[0m\n",
       "torch.float16\n"
      ]
     },
     "metadata": {},
     "output_type": "display_data"
    },
    {
     "data": {
      "text/html": [
       "<pre style=\"white-space:pre;overflow-x:auto;line-height:normal;font-family:Menlo,'DejaVu Sans Mono',consolas,'Courier New',monospace\">text_model.encoder.layers.<span style=\"color: #008080; text-decoration-color: #008080; font-weight: bold\">9.</span>mlp.fc2.weight\n",
       "<span style=\"color: #800080; text-decoration-color: #800080; font-weight: bold\">torch.Size</span><span style=\"font-weight: bold\">([</span><span style=\"color: #008080; text-decoration-color: #008080; font-weight: bold\">512</span>, <span style=\"color: #008080; text-decoration-color: #008080; font-weight: bold\">2048</span><span style=\"font-weight: bold\">])</span>\n",
       "torch.float16\n",
       "</pre>\n"
      ],
      "text/plain": [
       "text_model.encoder.layers.\u001b[1;36m9.\u001b[0mmlp.fc2.weight\n",
       "\u001b[1;35mtorch.Size\u001b[0m\u001b[1m(\u001b[0m\u001b[1m[\u001b[0m\u001b[1;36m512\u001b[0m, \u001b[1;36m2048\u001b[0m\u001b[1m]\u001b[0m\u001b[1m)\u001b[0m\n",
       "torch.float16\n"
      ]
     },
     "metadata": {},
     "output_type": "display_data"
    },
    {
     "data": {
      "text/html": [
       "<pre style=\"white-space:pre;overflow-x:auto;line-height:normal;font-family:Menlo,'DejaVu Sans Mono',consolas,'Courier New',monospace\">text_model.encoder.layers.<span style=\"color: #008080; text-decoration-color: #008080; font-weight: bold\">9.</span>mlp.fc2.bias\n",
       "<span style=\"color: #800080; text-decoration-color: #800080; font-weight: bold\">torch.Size</span><span style=\"font-weight: bold\">([</span><span style=\"color: #008080; text-decoration-color: #008080; font-weight: bold\">512</span><span style=\"font-weight: bold\">])</span>\n",
       "torch.float16\n",
       "</pre>\n"
      ],
      "text/plain": [
       "text_model.encoder.layers.\u001b[1;36m9.\u001b[0mmlp.fc2.bias\n",
       "\u001b[1;35mtorch.Size\u001b[0m\u001b[1m(\u001b[0m\u001b[1m[\u001b[0m\u001b[1;36m512\u001b[0m\u001b[1m]\u001b[0m\u001b[1m)\u001b[0m\n",
       "torch.float16\n"
      ]
     },
     "metadata": {},
     "output_type": "display_data"
    },
    {
     "data": {
      "text/html": [
       "<pre style=\"white-space:pre;overflow-x:auto;line-height:normal;font-family:Menlo,'DejaVu Sans Mono',consolas,'Courier New',monospace\">text_model.encoder.layers.<span style=\"color: #008080; text-decoration-color: #008080; font-weight: bold\">9.</span>layer_norm2.weight\n",
       "<span style=\"color: #800080; text-decoration-color: #800080; font-weight: bold\">torch.Size</span><span style=\"font-weight: bold\">([</span><span style=\"color: #008080; text-decoration-color: #008080; font-weight: bold\">512</span><span style=\"font-weight: bold\">])</span>\n",
       "torch.float16\n",
       "</pre>\n"
      ],
      "text/plain": [
       "text_model.encoder.layers.\u001b[1;36m9.\u001b[0mlayer_norm2.weight\n",
       "\u001b[1;35mtorch.Size\u001b[0m\u001b[1m(\u001b[0m\u001b[1m[\u001b[0m\u001b[1;36m512\u001b[0m\u001b[1m]\u001b[0m\u001b[1m)\u001b[0m\n",
       "torch.float16\n"
      ]
     },
     "metadata": {},
     "output_type": "display_data"
    },
    {
     "data": {
      "text/html": [
       "<pre style=\"white-space:pre;overflow-x:auto;line-height:normal;font-family:Menlo,'DejaVu Sans Mono',consolas,'Courier New',monospace\">text_model.encoder.layers.<span style=\"color: #008080; text-decoration-color: #008080; font-weight: bold\">9.</span>layer_norm2.bias\n",
       "<span style=\"color: #800080; text-decoration-color: #800080; font-weight: bold\">torch.Size</span><span style=\"font-weight: bold\">([</span><span style=\"color: #008080; text-decoration-color: #008080; font-weight: bold\">512</span><span style=\"font-weight: bold\">])</span>\n",
       "torch.float16\n",
       "</pre>\n"
      ],
      "text/plain": [
       "text_model.encoder.layers.\u001b[1;36m9.\u001b[0mlayer_norm2.bias\n",
       "\u001b[1;35mtorch.Size\u001b[0m\u001b[1m(\u001b[0m\u001b[1m[\u001b[0m\u001b[1;36m512\u001b[0m\u001b[1m]\u001b[0m\u001b[1m)\u001b[0m\n",
       "torch.float16\n"
      ]
     },
     "metadata": {},
     "output_type": "display_data"
    },
    {
     "data": {
      "text/html": [
       "<pre style=\"white-space:pre;overflow-x:auto;line-height:normal;font-family:Menlo,'DejaVu Sans Mono',consolas,'Courier New',monospace\">text_model.encoder.layers.<span style=\"color: #008080; text-decoration-color: #008080; font-weight: bold\">10.</span>self_attn.k_proj.weight\n",
       "<span style=\"color: #800080; text-decoration-color: #800080; font-weight: bold\">torch.Size</span><span style=\"font-weight: bold\">([</span><span style=\"color: #008080; text-decoration-color: #008080; font-weight: bold\">512</span>, <span style=\"color: #008080; text-decoration-color: #008080; font-weight: bold\">512</span><span style=\"font-weight: bold\">])</span>\n",
       "torch.float16\n",
       "</pre>\n"
      ],
      "text/plain": [
       "text_model.encoder.layers.\u001b[1;36m10.\u001b[0mself_attn.k_proj.weight\n",
       "\u001b[1;35mtorch.Size\u001b[0m\u001b[1m(\u001b[0m\u001b[1m[\u001b[0m\u001b[1;36m512\u001b[0m, \u001b[1;36m512\u001b[0m\u001b[1m]\u001b[0m\u001b[1m)\u001b[0m\n",
       "torch.float16\n"
      ]
     },
     "metadata": {},
     "output_type": "display_data"
    },
    {
     "data": {
      "text/html": [
       "<pre style=\"white-space:pre;overflow-x:auto;line-height:normal;font-family:Menlo,'DejaVu Sans Mono',consolas,'Courier New',monospace\">text_model.encoder.layers.<span style=\"color: #008080; text-decoration-color: #008080; font-weight: bold\">10.</span>self_attn.k_proj.bias\n",
       "<span style=\"color: #800080; text-decoration-color: #800080; font-weight: bold\">torch.Size</span><span style=\"font-weight: bold\">([</span><span style=\"color: #008080; text-decoration-color: #008080; font-weight: bold\">512</span><span style=\"font-weight: bold\">])</span>\n",
       "torch.float16\n",
       "</pre>\n"
      ],
      "text/plain": [
       "text_model.encoder.layers.\u001b[1;36m10.\u001b[0mself_attn.k_proj.bias\n",
       "\u001b[1;35mtorch.Size\u001b[0m\u001b[1m(\u001b[0m\u001b[1m[\u001b[0m\u001b[1;36m512\u001b[0m\u001b[1m]\u001b[0m\u001b[1m)\u001b[0m\n",
       "torch.float16\n"
      ]
     },
     "metadata": {},
     "output_type": "display_data"
    },
    {
     "data": {
      "text/html": [
       "<pre style=\"white-space:pre;overflow-x:auto;line-height:normal;font-family:Menlo,'DejaVu Sans Mono',consolas,'Courier New',monospace\">text_model.encoder.layers.<span style=\"color: #008080; text-decoration-color: #008080; font-weight: bold\">10.</span>self_attn.v_proj.weight\n",
       "<span style=\"color: #800080; text-decoration-color: #800080; font-weight: bold\">torch.Size</span><span style=\"font-weight: bold\">([</span><span style=\"color: #008080; text-decoration-color: #008080; font-weight: bold\">512</span>, <span style=\"color: #008080; text-decoration-color: #008080; font-weight: bold\">512</span><span style=\"font-weight: bold\">])</span>\n",
       "torch.float16\n",
       "</pre>\n"
      ],
      "text/plain": [
       "text_model.encoder.layers.\u001b[1;36m10.\u001b[0mself_attn.v_proj.weight\n",
       "\u001b[1;35mtorch.Size\u001b[0m\u001b[1m(\u001b[0m\u001b[1m[\u001b[0m\u001b[1;36m512\u001b[0m, \u001b[1;36m512\u001b[0m\u001b[1m]\u001b[0m\u001b[1m)\u001b[0m\n",
       "torch.float16\n"
      ]
     },
     "metadata": {},
     "output_type": "display_data"
    },
    {
     "data": {
      "text/html": [
       "<pre style=\"white-space:pre;overflow-x:auto;line-height:normal;font-family:Menlo,'DejaVu Sans Mono',consolas,'Courier New',monospace\">text_model.encoder.layers.<span style=\"color: #008080; text-decoration-color: #008080; font-weight: bold\">10.</span>self_attn.v_proj.bias\n",
       "<span style=\"color: #800080; text-decoration-color: #800080; font-weight: bold\">torch.Size</span><span style=\"font-weight: bold\">([</span><span style=\"color: #008080; text-decoration-color: #008080; font-weight: bold\">512</span><span style=\"font-weight: bold\">])</span>\n",
       "torch.float16\n",
       "</pre>\n"
      ],
      "text/plain": [
       "text_model.encoder.layers.\u001b[1;36m10.\u001b[0mself_attn.v_proj.bias\n",
       "\u001b[1;35mtorch.Size\u001b[0m\u001b[1m(\u001b[0m\u001b[1m[\u001b[0m\u001b[1;36m512\u001b[0m\u001b[1m]\u001b[0m\u001b[1m)\u001b[0m\n",
       "torch.float16\n"
      ]
     },
     "metadata": {},
     "output_type": "display_data"
    },
    {
     "data": {
      "text/html": [
       "<pre style=\"white-space:pre;overflow-x:auto;line-height:normal;font-family:Menlo,'DejaVu Sans Mono',consolas,'Courier New',monospace\">text_model.encoder.layers.<span style=\"color: #008080; text-decoration-color: #008080; font-weight: bold\">10.</span>self_attn.q_proj.weight\n",
       "<span style=\"color: #800080; text-decoration-color: #800080; font-weight: bold\">torch.Size</span><span style=\"font-weight: bold\">([</span><span style=\"color: #008080; text-decoration-color: #008080; font-weight: bold\">512</span>, <span style=\"color: #008080; text-decoration-color: #008080; font-weight: bold\">512</span><span style=\"font-weight: bold\">])</span>\n",
       "torch.float16\n",
       "</pre>\n"
      ],
      "text/plain": [
       "text_model.encoder.layers.\u001b[1;36m10.\u001b[0mself_attn.q_proj.weight\n",
       "\u001b[1;35mtorch.Size\u001b[0m\u001b[1m(\u001b[0m\u001b[1m[\u001b[0m\u001b[1;36m512\u001b[0m, \u001b[1;36m512\u001b[0m\u001b[1m]\u001b[0m\u001b[1m)\u001b[0m\n",
       "torch.float16\n"
      ]
     },
     "metadata": {},
     "output_type": "display_data"
    },
    {
     "data": {
      "text/html": [
       "<pre style=\"white-space:pre;overflow-x:auto;line-height:normal;font-family:Menlo,'DejaVu Sans Mono',consolas,'Courier New',monospace\">text_model.encoder.layers.<span style=\"color: #008080; text-decoration-color: #008080; font-weight: bold\">10.</span>self_attn.q_proj.bias\n",
       "<span style=\"color: #800080; text-decoration-color: #800080; font-weight: bold\">torch.Size</span><span style=\"font-weight: bold\">([</span><span style=\"color: #008080; text-decoration-color: #008080; font-weight: bold\">512</span><span style=\"font-weight: bold\">])</span>\n",
       "torch.float16\n",
       "</pre>\n"
      ],
      "text/plain": [
       "text_model.encoder.layers.\u001b[1;36m10.\u001b[0mself_attn.q_proj.bias\n",
       "\u001b[1;35mtorch.Size\u001b[0m\u001b[1m(\u001b[0m\u001b[1m[\u001b[0m\u001b[1;36m512\u001b[0m\u001b[1m]\u001b[0m\u001b[1m)\u001b[0m\n",
       "torch.float16\n"
      ]
     },
     "metadata": {},
     "output_type": "display_data"
    },
    {
     "data": {
      "text/html": [
       "<pre style=\"white-space:pre;overflow-x:auto;line-height:normal;font-family:Menlo,'DejaVu Sans Mono',consolas,'Courier New',monospace\">text_model.encoder.layers.<span style=\"color: #008080; text-decoration-color: #008080; font-weight: bold\">10.</span>self_attn.out_proj.weight\n",
       "<span style=\"color: #800080; text-decoration-color: #800080; font-weight: bold\">torch.Size</span><span style=\"font-weight: bold\">([</span><span style=\"color: #008080; text-decoration-color: #008080; font-weight: bold\">512</span>, <span style=\"color: #008080; text-decoration-color: #008080; font-weight: bold\">512</span><span style=\"font-weight: bold\">])</span>\n",
       "torch.float16\n",
       "</pre>\n"
      ],
      "text/plain": [
       "text_model.encoder.layers.\u001b[1;36m10.\u001b[0mself_attn.out_proj.weight\n",
       "\u001b[1;35mtorch.Size\u001b[0m\u001b[1m(\u001b[0m\u001b[1m[\u001b[0m\u001b[1;36m512\u001b[0m, \u001b[1;36m512\u001b[0m\u001b[1m]\u001b[0m\u001b[1m)\u001b[0m\n",
       "torch.float16\n"
      ]
     },
     "metadata": {},
     "output_type": "display_data"
    },
    {
     "data": {
      "text/html": [
       "<pre style=\"white-space:pre;overflow-x:auto;line-height:normal;font-family:Menlo,'DejaVu Sans Mono',consolas,'Courier New',monospace\">text_model.encoder.layers.<span style=\"color: #008080; text-decoration-color: #008080; font-weight: bold\">10.</span>self_attn.out_proj.bias\n",
       "<span style=\"color: #800080; text-decoration-color: #800080; font-weight: bold\">torch.Size</span><span style=\"font-weight: bold\">([</span><span style=\"color: #008080; text-decoration-color: #008080; font-weight: bold\">512</span><span style=\"font-weight: bold\">])</span>\n",
       "torch.float16\n",
       "</pre>\n"
      ],
      "text/plain": [
       "text_model.encoder.layers.\u001b[1;36m10.\u001b[0mself_attn.out_proj.bias\n",
       "\u001b[1;35mtorch.Size\u001b[0m\u001b[1m(\u001b[0m\u001b[1m[\u001b[0m\u001b[1;36m512\u001b[0m\u001b[1m]\u001b[0m\u001b[1m)\u001b[0m\n",
       "torch.float16\n"
      ]
     },
     "metadata": {},
     "output_type": "display_data"
    },
    {
     "data": {
      "text/html": [
       "<pre style=\"white-space:pre;overflow-x:auto;line-height:normal;font-family:Menlo,'DejaVu Sans Mono',consolas,'Courier New',monospace\">text_model.encoder.layers.<span style=\"color: #008080; text-decoration-color: #008080; font-weight: bold\">10.</span>layer_norm1.weight\n",
       "<span style=\"color: #800080; text-decoration-color: #800080; font-weight: bold\">torch.Size</span><span style=\"font-weight: bold\">([</span><span style=\"color: #008080; text-decoration-color: #008080; font-weight: bold\">512</span><span style=\"font-weight: bold\">])</span>\n",
       "torch.float16\n",
       "</pre>\n"
      ],
      "text/plain": [
       "text_model.encoder.layers.\u001b[1;36m10.\u001b[0mlayer_norm1.weight\n",
       "\u001b[1;35mtorch.Size\u001b[0m\u001b[1m(\u001b[0m\u001b[1m[\u001b[0m\u001b[1;36m512\u001b[0m\u001b[1m]\u001b[0m\u001b[1m)\u001b[0m\n",
       "torch.float16\n"
      ]
     },
     "metadata": {},
     "output_type": "display_data"
    },
    {
     "data": {
      "text/html": [
       "<pre style=\"white-space:pre;overflow-x:auto;line-height:normal;font-family:Menlo,'DejaVu Sans Mono',consolas,'Courier New',monospace\">text_model.encoder.layers.<span style=\"color: #008080; text-decoration-color: #008080; font-weight: bold\">10.</span>layer_norm1.bias\n",
       "<span style=\"color: #800080; text-decoration-color: #800080; font-weight: bold\">torch.Size</span><span style=\"font-weight: bold\">([</span><span style=\"color: #008080; text-decoration-color: #008080; font-weight: bold\">512</span><span style=\"font-weight: bold\">])</span>\n",
       "torch.float16\n",
       "</pre>\n"
      ],
      "text/plain": [
       "text_model.encoder.layers.\u001b[1;36m10.\u001b[0mlayer_norm1.bias\n",
       "\u001b[1;35mtorch.Size\u001b[0m\u001b[1m(\u001b[0m\u001b[1m[\u001b[0m\u001b[1;36m512\u001b[0m\u001b[1m]\u001b[0m\u001b[1m)\u001b[0m\n",
       "torch.float16\n"
      ]
     },
     "metadata": {},
     "output_type": "display_data"
    },
    {
     "data": {
      "text/html": [
       "<pre style=\"white-space:pre;overflow-x:auto;line-height:normal;font-family:Menlo,'DejaVu Sans Mono',consolas,'Courier New',monospace\">text_model.encoder.layers.<span style=\"color: #008080; text-decoration-color: #008080; font-weight: bold\">10.</span>mlp.fc1.weight\n",
       "<span style=\"color: #800080; text-decoration-color: #800080; font-weight: bold\">torch.Size</span><span style=\"font-weight: bold\">([</span><span style=\"color: #008080; text-decoration-color: #008080; font-weight: bold\">2048</span>, <span style=\"color: #008080; text-decoration-color: #008080; font-weight: bold\">512</span><span style=\"font-weight: bold\">])</span>\n",
       "torch.float16\n",
       "</pre>\n"
      ],
      "text/plain": [
       "text_model.encoder.layers.\u001b[1;36m10.\u001b[0mmlp.fc1.weight\n",
       "\u001b[1;35mtorch.Size\u001b[0m\u001b[1m(\u001b[0m\u001b[1m[\u001b[0m\u001b[1;36m2048\u001b[0m, \u001b[1;36m512\u001b[0m\u001b[1m]\u001b[0m\u001b[1m)\u001b[0m\n",
       "torch.float16\n"
      ]
     },
     "metadata": {},
     "output_type": "display_data"
    },
    {
     "data": {
      "text/html": [
       "<pre style=\"white-space:pre;overflow-x:auto;line-height:normal;font-family:Menlo,'DejaVu Sans Mono',consolas,'Courier New',monospace\">text_model.encoder.layers.<span style=\"color: #008080; text-decoration-color: #008080; font-weight: bold\">10.</span>mlp.fc1.bias\n",
       "<span style=\"color: #800080; text-decoration-color: #800080; font-weight: bold\">torch.Size</span><span style=\"font-weight: bold\">([</span><span style=\"color: #008080; text-decoration-color: #008080; font-weight: bold\">2048</span><span style=\"font-weight: bold\">])</span>\n",
       "torch.float16\n",
       "</pre>\n"
      ],
      "text/plain": [
       "text_model.encoder.layers.\u001b[1;36m10.\u001b[0mmlp.fc1.bias\n",
       "\u001b[1;35mtorch.Size\u001b[0m\u001b[1m(\u001b[0m\u001b[1m[\u001b[0m\u001b[1;36m2048\u001b[0m\u001b[1m]\u001b[0m\u001b[1m)\u001b[0m\n",
       "torch.float16\n"
      ]
     },
     "metadata": {},
     "output_type": "display_data"
    },
    {
     "data": {
      "text/html": [
       "<pre style=\"white-space:pre;overflow-x:auto;line-height:normal;font-family:Menlo,'DejaVu Sans Mono',consolas,'Courier New',monospace\">text_model.encoder.layers.<span style=\"color: #008080; text-decoration-color: #008080; font-weight: bold\">10.</span>mlp.fc2.weight\n",
       "<span style=\"color: #800080; text-decoration-color: #800080; font-weight: bold\">torch.Size</span><span style=\"font-weight: bold\">([</span><span style=\"color: #008080; text-decoration-color: #008080; font-weight: bold\">512</span>, <span style=\"color: #008080; text-decoration-color: #008080; font-weight: bold\">2048</span><span style=\"font-weight: bold\">])</span>\n",
       "torch.float16\n",
       "</pre>\n"
      ],
      "text/plain": [
       "text_model.encoder.layers.\u001b[1;36m10.\u001b[0mmlp.fc2.weight\n",
       "\u001b[1;35mtorch.Size\u001b[0m\u001b[1m(\u001b[0m\u001b[1m[\u001b[0m\u001b[1;36m512\u001b[0m, \u001b[1;36m2048\u001b[0m\u001b[1m]\u001b[0m\u001b[1m)\u001b[0m\n",
       "torch.float16\n"
      ]
     },
     "metadata": {},
     "output_type": "display_data"
    },
    {
     "data": {
      "text/html": [
       "<pre style=\"white-space:pre;overflow-x:auto;line-height:normal;font-family:Menlo,'DejaVu Sans Mono',consolas,'Courier New',monospace\">text_model.encoder.layers.<span style=\"color: #008080; text-decoration-color: #008080; font-weight: bold\">10.</span>mlp.fc2.bias\n",
       "<span style=\"color: #800080; text-decoration-color: #800080; font-weight: bold\">torch.Size</span><span style=\"font-weight: bold\">([</span><span style=\"color: #008080; text-decoration-color: #008080; font-weight: bold\">512</span><span style=\"font-weight: bold\">])</span>\n",
       "torch.float16\n",
       "</pre>\n"
      ],
      "text/plain": [
       "text_model.encoder.layers.\u001b[1;36m10.\u001b[0mmlp.fc2.bias\n",
       "\u001b[1;35mtorch.Size\u001b[0m\u001b[1m(\u001b[0m\u001b[1m[\u001b[0m\u001b[1;36m512\u001b[0m\u001b[1m]\u001b[0m\u001b[1m)\u001b[0m\n",
       "torch.float16\n"
      ]
     },
     "metadata": {},
     "output_type": "display_data"
    },
    {
     "data": {
      "text/html": [
       "<pre style=\"white-space:pre;overflow-x:auto;line-height:normal;font-family:Menlo,'DejaVu Sans Mono',consolas,'Courier New',monospace\">text_model.encoder.layers.<span style=\"color: #008080; text-decoration-color: #008080; font-weight: bold\">10.</span>layer_norm2.weight\n",
       "<span style=\"color: #800080; text-decoration-color: #800080; font-weight: bold\">torch.Size</span><span style=\"font-weight: bold\">([</span><span style=\"color: #008080; text-decoration-color: #008080; font-weight: bold\">512</span><span style=\"font-weight: bold\">])</span>\n",
       "torch.float16\n",
       "</pre>\n"
      ],
      "text/plain": [
       "text_model.encoder.layers.\u001b[1;36m10.\u001b[0mlayer_norm2.weight\n",
       "\u001b[1;35mtorch.Size\u001b[0m\u001b[1m(\u001b[0m\u001b[1m[\u001b[0m\u001b[1;36m512\u001b[0m\u001b[1m]\u001b[0m\u001b[1m)\u001b[0m\n",
       "torch.float16\n"
      ]
     },
     "metadata": {},
     "output_type": "display_data"
    },
    {
     "data": {
      "text/html": [
       "<pre style=\"white-space:pre;overflow-x:auto;line-height:normal;font-family:Menlo,'DejaVu Sans Mono',consolas,'Courier New',monospace\">text_model.encoder.layers.<span style=\"color: #008080; text-decoration-color: #008080; font-weight: bold\">10.</span>layer_norm2.bias\n",
       "<span style=\"color: #800080; text-decoration-color: #800080; font-weight: bold\">torch.Size</span><span style=\"font-weight: bold\">([</span><span style=\"color: #008080; text-decoration-color: #008080; font-weight: bold\">512</span><span style=\"font-weight: bold\">])</span>\n",
       "torch.float16\n",
       "</pre>\n"
      ],
      "text/plain": [
       "text_model.encoder.layers.\u001b[1;36m10.\u001b[0mlayer_norm2.bias\n",
       "\u001b[1;35mtorch.Size\u001b[0m\u001b[1m(\u001b[0m\u001b[1m[\u001b[0m\u001b[1;36m512\u001b[0m\u001b[1m]\u001b[0m\u001b[1m)\u001b[0m\n",
       "torch.float16\n"
      ]
     },
     "metadata": {},
     "output_type": "display_data"
    },
    {
     "data": {
      "text/html": [
       "<pre style=\"white-space:pre;overflow-x:auto;line-height:normal;font-family:Menlo,'DejaVu Sans Mono',consolas,'Courier New',monospace\">text_model.encoder.layers.<span style=\"color: #008080; text-decoration-color: #008080; font-weight: bold\">11.</span>self_attn.k_proj.weight\n",
       "<span style=\"color: #800080; text-decoration-color: #800080; font-weight: bold\">torch.Size</span><span style=\"font-weight: bold\">([</span><span style=\"color: #008080; text-decoration-color: #008080; font-weight: bold\">512</span>, <span style=\"color: #008080; text-decoration-color: #008080; font-weight: bold\">512</span><span style=\"font-weight: bold\">])</span>\n",
       "torch.float16\n",
       "</pre>\n"
      ],
      "text/plain": [
       "text_model.encoder.layers.\u001b[1;36m11.\u001b[0mself_attn.k_proj.weight\n",
       "\u001b[1;35mtorch.Size\u001b[0m\u001b[1m(\u001b[0m\u001b[1m[\u001b[0m\u001b[1;36m512\u001b[0m, \u001b[1;36m512\u001b[0m\u001b[1m]\u001b[0m\u001b[1m)\u001b[0m\n",
       "torch.float16\n"
      ]
     },
     "metadata": {},
     "output_type": "display_data"
    },
    {
     "data": {
      "text/html": [
       "<pre style=\"white-space:pre;overflow-x:auto;line-height:normal;font-family:Menlo,'DejaVu Sans Mono',consolas,'Courier New',monospace\">text_model.encoder.layers.<span style=\"color: #008080; text-decoration-color: #008080; font-weight: bold\">11.</span>self_attn.k_proj.bias\n",
       "<span style=\"color: #800080; text-decoration-color: #800080; font-weight: bold\">torch.Size</span><span style=\"font-weight: bold\">([</span><span style=\"color: #008080; text-decoration-color: #008080; font-weight: bold\">512</span><span style=\"font-weight: bold\">])</span>\n",
       "torch.float16\n",
       "</pre>\n"
      ],
      "text/plain": [
       "text_model.encoder.layers.\u001b[1;36m11.\u001b[0mself_attn.k_proj.bias\n",
       "\u001b[1;35mtorch.Size\u001b[0m\u001b[1m(\u001b[0m\u001b[1m[\u001b[0m\u001b[1;36m512\u001b[0m\u001b[1m]\u001b[0m\u001b[1m)\u001b[0m\n",
       "torch.float16\n"
      ]
     },
     "metadata": {},
     "output_type": "display_data"
    },
    {
     "data": {
      "text/html": [
       "<pre style=\"white-space:pre;overflow-x:auto;line-height:normal;font-family:Menlo,'DejaVu Sans Mono',consolas,'Courier New',monospace\">text_model.encoder.layers.<span style=\"color: #008080; text-decoration-color: #008080; font-weight: bold\">11.</span>self_attn.v_proj.weight\n",
       "<span style=\"color: #800080; text-decoration-color: #800080; font-weight: bold\">torch.Size</span><span style=\"font-weight: bold\">([</span><span style=\"color: #008080; text-decoration-color: #008080; font-weight: bold\">512</span>, <span style=\"color: #008080; text-decoration-color: #008080; font-weight: bold\">512</span><span style=\"font-weight: bold\">])</span>\n",
       "torch.float16\n",
       "</pre>\n"
      ],
      "text/plain": [
       "text_model.encoder.layers.\u001b[1;36m11.\u001b[0mself_attn.v_proj.weight\n",
       "\u001b[1;35mtorch.Size\u001b[0m\u001b[1m(\u001b[0m\u001b[1m[\u001b[0m\u001b[1;36m512\u001b[0m, \u001b[1;36m512\u001b[0m\u001b[1m]\u001b[0m\u001b[1m)\u001b[0m\n",
       "torch.float16\n"
      ]
     },
     "metadata": {},
     "output_type": "display_data"
    },
    {
     "data": {
      "text/html": [
       "<pre style=\"white-space:pre;overflow-x:auto;line-height:normal;font-family:Menlo,'DejaVu Sans Mono',consolas,'Courier New',monospace\">text_model.encoder.layers.<span style=\"color: #008080; text-decoration-color: #008080; font-weight: bold\">11.</span>self_attn.v_proj.bias\n",
       "<span style=\"color: #800080; text-decoration-color: #800080; font-weight: bold\">torch.Size</span><span style=\"font-weight: bold\">([</span><span style=\"color: #008080; text-decoration-color: #008080; font-weight: bold\">512</span><span style=\"font-weight: bold\">])</span>\n",
       "torch.float16\n",
       "</pre>\n"
      ],
      "text/plain": [
       "text_model.encoder.layers.\u001b[1;36m11.\u001b[0mself_attn.v_proj.bias\n",
       "\u001b[1;35mtorch.Size\u001b[0m\u001b[1m(\u001b[0m\u001b[1m[\u001b[0m\u001b[1;36m512\u001b[0m\u001b[1m]\u001b[0m\u001b[1m)\u001b[0m\n",
       "torch.float16\n"
      ]
     },
     "metadata": {},
     "output_type": "display_data"
    },
    {
     "data": {
      "text/html": [
       "<pre style=\"white-space:pre;overflow-x:auto;line-height:normal;font-family:Menlo,'DejaVu Sans Mono',consolas,'Courier New',monospace\">text_model.encoder.layers.<span style=\"color: #008080; text-decoration-color: #008080; font-weight: bold\">11.</span>self_attn.q_proj.weight\n",
       "<span style=\"color: #800080; text-decoration-color: #800080; font-weight: bold\">torch.Size</span><span style=\"font-weight: bold\">([</span><span style=\"color: #008080; text-decoration-color: #008080; font-weight: bold\">512</span>, <span style=\"color: #008080; text-decoration-color: #008080; font-weight: bold\">512</span><span style=\"font-weight: bold\">])</span>\n",
       "torch.float16\n",
       "</pre>\n"
      ],
      "text/plain": [
       "text_model.encoder.layers.\u001b[1;36m11.\u001b[0mself_attn.q_proj.weight\n",
       "\u001b[1;35mtorch.Size\u001b[0m\u001b[1m(\u001b[0m\u001b[1m[\u001b[0m\u001b[1;36m512\u001b[0m, \u001b[1;36m512\u001b[0m\u001b[1m]\u001b[0m\u001b[1m)\u001b[0m\n",
       "torch.float16\n"
      ]
     },
     "metadata": {},
     "output_type": "display_data"
    },
    {
     "data": {
      "text/html": [
       "<pre style=\"white-space:pre;overflow-x:auto;line-height:normal;font-family:Menlo,'DejaVu Sans Mono',consolas,'Courier New',monospace\">text_model.encoder.layers.<span style=\"color: #008080; text-decoration-color: #008080; font-weight: bold\">11.</span>self_attn.q_proj.bias\n",
       "<span style=\"color: #800080; text-decoration-color: #800080; font-weight: bold\">torch.Size</span><span style=\"font-weight: bold\">([</span><span style=\"color: #008080; text-decoration-color: #008080; font-weight: bold\">512</span><span style=\"font-weight: bold\">])</span>\n",
       "torch.float16\n",
       "</pre>\n"
      ],
      "text/plain": [
       "text_model.encoder.layers.\u001b[1;36m11.\u001b[0mself_attn.q_proj.bias\n",
       "\u001b[1;35mtorch.Size\u001b[0m\u001b[1m(\u001b[0m\u001b[1m[\u001b[0m\u001b[1;36m512\u001b[0m\u001b[1m]\u001b[0m\u001b[1m)\u001b[0m\n",
       "torch.float16\n"
      ]
     },
     "metadata": {},
     "output_type": "display_data"
    },
    {
     "data": {
      "text/html": [
       "<pre style=\"white-space:pre;overflow-x:auto;line-height:normal;font-family:Menlo,'DejaVu Sans Mono',consolas,'Courier New',monospace\">text_model.encoder.layers.<span style=\"color: #008080; text-decoration-color: #008080; font-weight: bold\">11.</span>self_attn.out_proj.weight\n",
       "<span style=\"color: #800080; text-decoration-color: #800080; font-weight: bold\">torch.Size</span><span style=\"font-weight: bold\">([</span><span style=\"color: #008080; text-decoration-color: #008080; font-weight: bold\">512</span>, <span style=\"color: #008080; text-decoration-color: #008080; font-weight: bold\">512</span><span style=\"font-weight: bold\">])</span>\n",
       "torch.float16\n",
       "</pre>\n"
      ],
      "text/plain": [
       "text_model.encoder.layers.\u001b[1;36m11.\u001b[0mself_attn.out_proj.weight\n",
       "\u001b[1;35mtorch.Size\u001b[0m\u001b[1m(\u001b[0m\u001b[1m[\u001b[0m\u001b[1;36m512\u001b[0m, \u001b[1;36m512\u001b[0m\u001b[1m]\u001b[0m\u001b[1m)\u001b[0m\n",
       "torch.float16\n"
      ]
     },
     "metadata": {},
     "output_type": "display_data"
    },
    {
     "data": {
      "text/html": [
       "<pre style=\"white-space:pre;overflow-x:auto;line-height:normal;font-family:Menlo,'DejaVu Sans Mono',consolas,'Courier New',monospace\">text_model.encoder.layers.<span style=\"color: #008080; text-decoration-color: #008080; font-weight: bold\">11.</span>self_attn.out_proj.bias\n",
       "<span style=\"color: #800080; text-decoration-color: #800080; font-weight: bold\">torch.Size</span><span style=\"font-weight: bold\">([</span><span style=\"color: #008080; text-decoration-color: #008080; font-weight: bold\">512</span><span style=\"font-weight: bold\">])</span>\n",
       "torch.float16\n",
       "</pre>\n"
      ],
      "text/plain": [
       "text_model.encoder.layers.\u001b[1;36m11.\u001b[0mself_attn.out_proj.bias\n",
       "\u001b[1;35mtorch.Size\u001b[0m\u001b[1m(\u001b[0m\u001b[1m[\u001b[0m\u001b[1;36m512\u001b[0m\u001b[1m]\u001b[0m\u001b[1m)\u001b[0m\n",
       "torch.float16\n"
      ]
     },
     "metadata": {},
     "output_type": "display_data"
    },
    {
     "data": {
      "text/html": [
       "<pre style=\"white-space:pre;overflow-x:auto;line-height:normal;font-family:Menlo,'DejaVu Sans Mono',consolas,'Courier New',monospace\">text_model.encoder.layers.<span style=\"color: #008080; text-decoration-color: #008080; font-weight: bold\">11.</span>layer_norm1.weight\n",
       "<span style=\"color: #800080; text-decoration-color: #800080; font-weight: bold\">torch.Size</span><span style=\"font-weight: bold\">([</span><span style=\"color: #008080; text-decoration-color: #008080; font-weight: bold\">512</span><span style=\"font-weight: bold\">])</span>\n",
       "torch.float16\n",
       "</pre>\n"
      ],
      "text/plain": [
       "text_model.encoder.layers.\u001b[1;36m11.\u001b[0mlayer_norm1.weight\n",
       "\u001b[1;35mtorch.Size\u001b[0m\u001b[1m(\u001b[0m\u001b[1m[\u001b[0m\u001b[1;36m512\u001b[0m\u001b[1m]\u001b[0m\u001b[1m)\u001b[0m\n",
       "torch.float16\n"
      ]
     },
     "metadata": {},
     "output_type": "display_data"
    },
    {
     "data": {
      "text/html": [
       "<pre style=\"white-space:pre;overflow-x:auto;line-height:normal;font-family:Menlo,'DejaVu Sans Mono',consolas,'Courier New',monospace\">text_model.encoder.layers.<span style=\"color: #008080; text-decoration-color: #008080; font-weight: bold\">11.</span>layer_norm1.bias\n",
       "<span style=\"color: #800080; text-decoration-color: #800080; font-weight: bold\">torch.Size</span><span style=\"font-weight: bold\">([</span><span style=\"color: #008080; text-decoration-color: #008080; font-weight: bold\">512</span><span style=\"font-weight: bold\">])</span>\n",
       "torch.float16\n",
       "</pre>\n"
      ],
      "text/plain": [
       "text_model.encoder.layers.\u001b[1;36m11.\u001b[0mlayer_norm1.bias\n",
       "\u001b[1;35mtorch.Size\u001b[0m\u001b[1m(\u001b[0m\u001b[1m[\u001b[0m\u001b[1;36m512\u001b[0m\u001b[1m]\u001b[0m\u001b[1m)\u001b[0m\n",
       "torch.float16\n"
      ]
     },
     "metadata": {},
     "output_type": "display_data"
    },
    {
     "data": {
      "text/html": [
       "<pre style=\"white-space:pre;overflow-x:auto;line-height:normal;font-family:Menlo,'DejaVu Sans Mono',consolas,'Courier New',monospace\">text_model.encoder.layers.<span style=\"color: #008080; text-decoration-color: #008080; font-weight: bold\">11.</span>mlp.fc1.weight\n",
       "<span style=\"color: #800080; text-decoration-color: #800080; font-weight: bold\">torch.Size</span><span style=\"font-weight: bold\">([</span><span style=\"color: #008080; text-decoration-color: #008080; font-weight: bold\">2048</span>, <span style=\"color: #008080; text-decoration-color: #008080; font-weight: bold\">512</span><span style=\"font-weight: bold\">])</span>\n",
       "torch.float16\n",
       "</pre>\n"
      ],
      "text/plain": [
       "text_model.encoder.layers.\u001b[1;36m11.\u001b[0mmlp.fc1.weight\n",
       "\u001b[1;35mtorch.Size\u001b[0m\u001b[1m(\u001b[0m\u001b[1m[\u001b[0m\u001b[1;36m2048\u001b[0m, \u001b[1;36m512\u001b[0m\u001b[1m]\u001b[0m\u001b[1m)\u001b[0m\n",
       "torch.float16\n"
      ]
     },
     "metadata": {},
     "output_type": "display_data"
    },
    {
     "data": {
      "text/html": [
       "<pre style=\"white-space:pre;overflow-x:auto;line-height:normal;font-family:Menlo,'DejaVu Sans Mono',consolas,'Courier New',monospace\">text_model.encoder.layers.<span style=\"color: #008080; text-decoration-color: #008080; font-weight: bold\">11.</span>mlp.fc1.bias\n",
       "<span style=\"color: #800080; text-decoration-color: #800080; font-weight: bold\">torch.Size</span><span style=\"font-weight: bold\">([</span><span style=\"color: #008080; text-decoration-color: #008080; font-weight: bold\">2048</span><span style=\"font-weight: bold\">])</span>\n",
       "torch.float16\n",
       "</pre>\n"
      ],
      "text/plain": [
       "text_model.encoder.layers.\u001b[1;36m11.\u001b[0mmlp.fc1.bias\n",
       "\u001b[1;35mtorch.Size\u001b[0m\u001b[1m(\u001b[0m\u001b[1m[\u001b[0m\u001b[1;36m2048\u001b[0m\u001b[1m]\u001b[0m\u001b[1m)\u001b[0m\n",
       "torch.float16\n"
      ]
     },
     "metadata": {},
     "output_type": "display_data"
    },
    {
     "data": {
      "text/html": [
       "<pre style=\"white-space:pre;overflow-x:auto;line-height:normal;font-family:Menlo,'DejaVu Sans Mono',consolas,'Courier New',monospace\">text_model.encoder.layers.<span style=\"color: #008080; text-decoration-color: #008080; font-weight: bold\">11.</span>mlp.fc2.weight\n",
       "<span style=\"color: #800080; text-decoration-color: #800080; font-weight: bold\">torch.Size</span><span style=\"font-weight: bold\">([</span><span style=\"color: #008080; text-decoration-color: #008080; font-weight: bold\">512</span>, <span style=\"color: #008080; text-decoration-color: #008080; font-weight: bold\">2048</span><span style=\"font-weight: bold\">])</span>\n",
       "torch.float16\n",
       "</pre>\n"
      ],
      "text/plain": [
       "text_model.encoder.layers.\u001b[1;36m11.\u001b[0mmlp.fc2.weight\n",
       "\u001b[1;35mtorch.Size\u001b[0m\u001b[1m(\u001b[0m\u001b[1m[\u001b[0m\u001b[1;36m512\u001b[0m, \u001b[1;36m2048\u001b[0m\u001b[1m]\u001b[0m\u001b[1m)\u001b[0m\n",
       "torch.float16\n"
      ]
     },
     "metadata": {},
     "output_type": "display_data"
    },
    {
     "data": {
      "text/html": [
       "<pre style=\"white-space:pre;overflow-x:auto;line-height:normal;font-family:Menlo,'DejaVu Sans Mono',consolas,'Courier New',monospace\">text_model.encoder.layers.<span style=\"color: #008080; text-decoration-color: #008080; font-weight: bold\">11.</span>mlp.fc2.bias\n",
       "<span style=\"color: #800080; text-decoration-color: #800080; font-weight: bold\">torch.Size</span><span style=\"font-weight: bold\">([</span><span style=\"color: #008080; text-decoration-color: #008080; font-weight: bold\">512</span><span style=\"font-weight: bold\">])</span>\n",
       "torch.float16\n",
       "</pre>\n"
      ],
      "text/plain": [
       "text_model.encoder.layers.\u001b[1;36m11.\u001b[0mmlp.fc2.bias\n",
       "\u001b[1;35mtorch.Size\u001b[0m\u001b[1m(\u001b[0m\u001b[1m[\u001b[0m\u001b[1;36m512\u001b[0m\u001b[1m]\u001b[0m\u001b[1m)\u001b[0m\n",
       "torch.float16\n"
      ]
     },
     "metadata": {},
     "output_type": "display_data"
    },
    {
     "data": {
      "text/html": [
       "<pre style=\"white-space:pre;overflow-x:auto;line-height:normal;font-family:Menlo,'DejaVu Sans Mono',consolas,'Courier New',monospace\">text_model.encoder.layers.<span style=\"color: #008080; text-decoration-color: #008080; font-weight: bold\">11.</span>layer_norm2.weight\n",
       "<span style=\"color: #800080; text-decoration-color: #800080; font-weight: bold\">torch.Size</span><span style=\"font-weight: bold\">([</span><span style=\"color: #008080; text-decoration-color: #008080; font-weight: bold\">512</span><span style=\"font-weight: bold\">])</span>\n",
       "torch.float16\n",
       "</pre>\n"
      ],
      "text/plain": [
       "text_model.encoder.layers.\u001b[1;36m11.\u001b[0mlayer_norm2.weight\n",
       "\u001b[1;35mtorch.Size\u001b[0m\u001b[1m(\u001b[0m\u001b[1m[\u001b[0m\u001b[1;36m512\u001b[0m\u001b[1m]\u001b[0m\u001b[1m)\u001b[0m\n",
       "torch.float16\n"
      ]
     },
     "metadata": {},
     "output_type": "display_data"
    },
    {
     "data": {
      "text/html": [
       "<pre style=\"white-space:pre;overflow-x:auto;line-height:normal;font-family:Menlo,'DejaVu Sans Mono',consolas,'Courier New',monospace\">text_model.encoder.layers.<span style=\"color: #008080; text-decoration-color: #008080; font-weight: bold\">11.</span>layer_norm2.bias\n",
       "<span style=\"color: #800080; text-decoration-color: #800080; font-weight: bold\">torch.Size</span><span style=\"font-weight: bold\">([</span><span style=\"color: #008080; text-decoration-color: #008080; font-weight: bold\">512</span><span style=\"font-weight: bold\">])</span>\n",
       "torch.float16\n",
       "</pre>\n"
      ],
      "text/plain": [
       "text_model.encoder.layers.\u001b[1;36m11.\u001b[0mlayer_norm2.bias\n",
       "\u001b[1;35mtorch.Size\u001b[0m\u001b[1m(\u001b[0m\u001b[1m[\u001b[0m\u001b[1;36m512\u001b[0m\u001b[1m]\u001b[0m\u001b[1m)\u001b[0m\n",
       "torch.float16\n"
      ]
     },
     "metadata": {},
     "output_type": "display_data"
    },
    {
     "data": {
      "text/html": [
       "<pre style=\"white-space:pre;overflow-x:auto;line-height:normal;font-family:Menlo,'DejaVu Sans Mono',consolas,'Courier New',monospace\">text_model.final_layer_norm.weight\n",
       "<span style=\"color: #800080; text-decoration-color: #800080; font-weight: bold\">torch.Size</span><span style=\"font-weight: bold\">([</span><span style=\"color: #008080; text-decoration-color: #008080; font-weight: bold\">512</span><span style=\"font-weight: bold\">])</span>\n",
       "torch.float16\n",
       "</pre>\n"
      ],
      "text/plain": [
       "text_model.final_layer_norm.weight\n",
       "\u001b[1;35mtorch.Size\u001b[0m\u001b[1m(\u001b[0m\u001b[1m[\u001b[0m\u001b[1;36m512\u001b[0m\u001b[1m]\u001b[0m\u001b[1m)\u001b[0m\n",
       "torch.float16\n"
      ]
     },
     "metadata": {},
     "output_type": "display_data"
    },
    {
     "data": {
      "text/html": [
       "<pre style=\"white-space:pre;overflow-x:auto;line-height:normal;font-family:Menlo,'DejaVu Sans Mono',consolas,'Courier New',monospace\">text_model.final_layer_norm.bias\n",
       "<span style=\"color: #800080; text-decoration-color: #800080; font-weight: bold\">torch.Size</span><span style=\"font-weight: bold\">([</span><span style=\"color: #008080; text-decoration-color: #008080; font-weight: bold\">512</span><span style=\"font-weight: bold\">])</span>\n",
       "torch.float16\n",
       "</pre>\n"
      ],
      "text/plain": [
       "text_model.final_layer_norm.bias\n",
       "\u001b[1;35mtorch.Size\u001b[0m\u001b[1m(\u001b[0m\u001b[1m[\u001b[0m\u001b[1;36m512\u001b[0m\u001b[1m]\u001b[0m\u001b[1m)\u001b[0m\n",
       "torch.float16\n"
      ]
     },
     "metadata": {},
     "output_type": "display_data"
    },
    {
     "data": {
      "text/html": [
       "<pre style=\"white-space:pre;overflow-x:auto;line-height:normal;font-family:Menlo,'DejaVu Sans Mono',consolas,'Courier New',monospace\">vision_model.embeddings.class_embedding\n",
       "<span style=\"color: #800080; text-decoration-color: #800080; font-weight: bold\">torch.Size</span><span style=\"font-weight: bold\">([</span><span style=\"color: #008080; text-decoration-color: #008080; font-weight: bold\">768</span><span style=\"font-weight: bold\">])</span>\n",
       "torch.float16\n",
       "</pre>\n"
      ],
      "text/plain": [
       "vision_model.embeddings.class_embedding\n",
       "\u001b[1;35mtorch.Size\u001b[0m\u001b[1m(\u001b[0m\u001b[1m[\u001b[0m\u001b[1;36m768\u001b[0m\u001b[1m]\u001b[0m\u001b[1m)\u001b[0m\n",
       "torch.float16\n"
      ]
     },
     "metadata": {},
     "output_type": "display_data"
    },
    {
     "data": {
      "text/html": [
       "<pre style=\"white-space:pre;overflow-x:auto;line-height:normal;font-family:Menlo,'DejaVu Sans Mono',consolas,'Courier New',monospace\">vision_model.embeddings.patch_embedding.weight\n",
       "<span style=\"color: #800080; text-decoration-color: #800080; font-weight: bold\">torch.Size</span><span style=\"font-weight: bold\">([</span><span style=\"color: #008080; text-decoration-color: #008080; font-weight: bold\">768</span>, <span style=\"color: #008080; text-decoration-color: #008080; font-weight: bold\">3</span>, <span style=\"color: #008080; text-decoration-color: #008080; font-weight: bold\">16</span>, <span style=\"color: #008080; text-decoration-color: #008080; font-weight: bold\">16</span><span style=\"font-weight: bold\">])</span>\n",
       "torch.float16\n",
       "</pre>\n"
      ],
      "text/plain": [
       "vision_model.embeddings.patch_embedding.weight\n",
       "\u001b[1;35mtorch.Size\u001b[0m\u001b[1m(\u001b[0m\u001b[1m[\u001b[0m\u001b[1;36m768\u001b[0m, \u001b[1;36m3\u001b[0m, \u001b[1;36m16\u001b[0m, \u001b[1;36m16\u001b[0m\u001b[1m]\u001b[0m\u001b[1m)\u001b[0m\n",
       "torch.float16\n"
      ]
     },
     "metadata": {},
     "output_type": "display_data"
    },
    {
     "data": {
      "text/html": [
       "<pre style=\"white-space:pre;overflow-x:auto;line-height:normal;font-family:Menlo,'DejaVu Sans Mono',consolas,'Courier New',monospace\">vision_model.embeddings.position_embedding.weight\n",
       "<span style=\"color: #800080; text-decoration-color: #800080; font-weight: bold\">torch.Size</span><span style=\"font-weight: bold\">([</span><span style=\"color: #008080; text-decoration-color: #008080; font-weight: bold\">197</span>, <span style=\"color: #008080; text-decoration-color: #008080; font-weight: bold\">768</span><span style=\"font-weight: bold\">])</span>\n",
       "torch.float16\n",
       "</pre>\n"
      ],
      "text/plain": [
       "vision_model.embeddings.position_embedding.weight\n",
       "\u001b[1;35mtorch.Size\u001b[0m\u001b[1m(\u001b[0m\u001b[1m[\u001b[0m\u001b[1;36m197\u001b[0m, \u001b[1;36m768\u001b[0m\u001b[1m]\u001b[0m\u001b[1m)\u001b[0m\n",
       "torch.float16\n"
      ]
     },
     "metadata": {},
     "output_type": "display_data"
    },
    {
     "data": {
      "text/html": [
       "<pre style=\"white-space:pre;overflow-x:auto;line-height:normal;font-family:Menlo,'DejaVu Sans Mono',consolas,'Courier New',monospace\">vision_model.pre_layrnorm.weight\n",
       "<span style=\"color: #800080; text-decoration-color: #800080; font-weight: bold\">torch.Size</span><span style=\"font-weight: bold\">([</span><span style=\"color: #008080; text-decoration-color: #008080; font-weight: bold\">768</span><span style=\"font-weight: bold\">])</span>\n",
       "torch.float16\n",
       "</pre>\n"
      ],
      "text/plain": [
       "vision_model.pre_layrnorm.weight\n",
       "\u001b[1;35mtorch.Size\u001b[0m\u001b[1m(\u001b[0m\u001b[1m[\u001b[0m\u001b[1;36m768\u001b[0m\u001b[1m]\u001b[0m\u001b[1m)\u001b[0m\n",
       "torch.float16\n"
      ]
     },
     "metadata": {},
     "output_type": "display_data"
    },
    {
     "data": {
      "text/html": [
       "<pre style=\"white-space:pre;overflow-x:auto;line-height:normal;font-family:Menlo,'DejaVu Sans Mono',consolas,'Courier New',monospace\">vision_model.pre_layrnorm.bias\n",
       "<span style=\"color: #800080; text-decoration-color: #800080; font-weight: bold\">torch.Size</span><span style=\"font-weight: bold\">([</span><span style=\"color: #008080; text-decoration-color: #008080; font-weight: bold\">768</span><span style=\"font-weight: bold\">])</span>\n",
       "torch.float16\n",
       "</pre>\n"
      ],
      "text/plain": [
       "vision_model.pre_layrnorm.bias\n",
       "\u001b[1;35mtorch.Size\u001b[0m\u001b[1m(\u001b[0m\u001b[1m[\u001b[0m\u001b[1;36m768\u001b[0m\u001b[1m]\u001b[0m\u001b[1m)\u001b[0m\n",
       "torch.float16\n"
      ]
     },
     "metadata": {},
     "output_type": "display_data"
    },
    {
     "data": {
      "text/html": [
       "<pre style=\"white-space:pre;overflow-x:auto;line-height:normal;font-family:Menlo,'DejaVu Sans Mono',consolas,'Courier New',monospace\">vision_model.encoder.layers.<span style=\"color: #008080; text-decoration-color: #008080; font-weight: bold\">0.</span>self_attn.k_proj.weight\n",
       "<span style=\"color: #800080; text-decoration-color: #800080; font-weight: bold\">torch.Size</span><span style=\"font-weight: bold\">([</span><span style=\"color: #008080; text-decoration-color: #008080; font-weight: bold\">768</span>, <span style=\"color: #008080; text-decoration-color: #008080; font-weight: bold\">768</span><span style=\"font-weight: bold\">])</span>\n",
       "torch.float16\n",
       "</pre>\n"
      ],
      "text/plain": [
       "vision_model.encoder.layers.\u001b[1;36m0.\u001b[0mself_attn.k_proj.weight\n",
       "\u001b[1;35mtorch.Size\u001b[0m\u001b[1m(\u001b[0m\u001b[1m[\u001b[0m\u001b[1;36m768\u001b[0m, \u001b[1;36m768\u001b[0m\u001b[1m]\u001b[0m\u001b[1m)\u001b[0m\n",
       "torch.float16\n"
      ]
     },
     "metadata": {},
     "output_type": "display_data"
    },
    {
     "data": {
      "text/html": [
       "<pre style=\"white-space:pre;overflow-x:auto;line-height:normal;font-family:Menlo,'DejaVu Sans Mono',consolas,'Courier New',monospace\">vision_model.encoder.layers.<span style=\"color: #008080; text-decoration-color: #008080; font-weight: bold\">0.</span>self_attn.k_proj.bias\n",
       "<span style=\"color: #800080; text-decoration-color: #800080; font-weight: bold\">torch.Size</span><span style=\"font-weight: bold\">([</span><span style=\"color: #008080; text-decoration-color: #008080; font-weight: bold\">768</span><span style=\"font-weight: bold\">])</span>\n",
       "torch.float16\n",
       "</pre>\n"
      ],
      "text/plain": [
       "vision_model.encoder.layers.\u001b[1;36m0.\u001b[0mself_attn.k_proj.bias\n",
       "\u001b[1;35mtorch.Size\u001b[0m\u001b[1m(\u001b[0m\u001b[1m[\u001b[0m\u001b[1;36m768\u001b[0m\u001b[1m]\u001b[0m\u001b[1m)\u001b[0m\n",
       "torch.float16\n"
      ]
     },
     "metadata": {},
     "output_type": "display_data"
    },
    {
     "data": {
      "text/html": [
       "<pre style=\"white-space:pre;overflow-x:auto;line-height:normal;font-family:Menlo,'DejaVu Sans Mono',consolas,'Courier New',monospace\">vision_model.encoder.layers.<span style=\"color: #008080; text-decoration-color: #008080; font-weight: bold\">0.</span>self_attn.v_proj.weight\n",
       "<span style=\"color: #800080; text-decoration-color: #800080; font-weight: bold\">torch.Size</span><span style=\"font-weight: bold\">([</span><span style=\"color: #008080; text-decoration-color: #008080; font-weight: bold\">768</span>, <span style=\"color: #008080; text-decoration-color: #008080; font-weight: bold\">768</span><span style=\"font-weight: bold\">])</span>\n",
       "torch.float16\n",
       "</pre>\n"
      ],
      "text/plain": [
       "vision_model.encoder.layers.\u001b[1;36m0.\u001b[0mself_attn.v_proj.weight\n",
       "\u001b[1;35mtorch.Size\u001b[0m\u001b[1m(\u001b[0m\u001b[1m[\u001b[0m\u001b[1;36m768\u001b[0m, \u001b[1;36m768\u001b[0m\u001b[1m]\u001b[0m\u001b[1m)\u001b[0m\n",
       "torch.float16\n"
      ]
     },
     "metadata": {},
     "output_type": "display_data"
    },
    {
     "data": {
      "text/html": [
       "<pre style=\"white-space:pre;overflow-x:auto;line-height:normal;font-family:Menlo,'DejaVu Sans Mono',consolas,'Courier New',monospace\">vision_model.encoder.layers.<span style=\"color: #008080; text-decoration-color: #008080; font-weight: bold\">0.</span>self_attn.v_proj.bias\n",
       "<span style=\"color: #800080; text-decoration-color: #800080; font-weight: bold\">torch.Size</span><span style=\"font-weight: bold\">([</span><span style=\"color: #008080; text-decoration-color: #008080; font-weight: bold\">768</span><span style=\"font-weight: bold\">])</span>\n",
       "torch.float16\n",
       "</pre>\n"
      ],
      "text/plain": [
       "vision_model.encoder.layers.\u001b[1;36m0.\u001b[0mself_attn.v_proj.bias\n",
       "\u001b[1;35mtorch.Size\u001b[0m\u001b[1m(\u001b[0m\u001b[1m[\u001b[0m\u001b[1;36m768\u001b[0m\u001b[1m]\u001b[0m\u001b[1m)\u001b[0m\n",
       "torch.float16\n"
      ]
     },
     "metadata": {},
     "output_type": "display_data"
    },
    {
     "data": {
      "text/html": [
       "<pre style=\"white-space:pre;overflow-x:auto;line-height:normal;font-family:Menlo,'DejaVu Sans Mono',consolas,'Courier New',monospace\">vision_model.encoder.layers.<span style=\"color: #008080; text-decoration-color: #008080; font-weight: bold\">0.</span>self_attn.q_proj.weight\n",
       "<span style=\"color: #800080; text-decoration-color: #800080; font-weight: bold\">torch.Size</span><span style=\"font-weight: bold\">([</span><span style=\"color: #008080; text-decoration-color: #008080; font-weight: bold\">768</span>, <span style=\"color: #008080; text-decoration-color: #008080; font-weight: bold\">768</span><span style=\"font-weight: bold\">])</span>\n",
       "torch.float16\n",
       "</pre>\n"
      ],
      "text/plain": [
       "vision_model.encoder.layers.\u001b[1;36m0.\u001b[0mself_attn.q_proj.weight\n",
       "\u001b[1;35mtorch.Size\u001b[0m\u001b[1m(\u001b[0m\u001b[1m[\u001b[0m\u001b[1;36m768\u001b[0m, \u001b[1;36m768\u001b[0m\u001b[1m]\u001b[0m\u001b[1m)\u001b[0m\n",
       "torch.float16\n"
      ]
     },
     "metadata": {},
     "output_type": "display_data"
    },
    {
     "data": {
      "text/html": [
       "<pre style=\"white-space:pre;overflow-x:auto;line-height:normal;font-family:Menlo,'DejaVu Sans Mono',consolas,'Courier New',monospace\">vision_model.encoder.layers.<span style=\"color: #008080; text-decoration-color: #008080; font-weight: bold\">0.</span>self_attn.q_proj.bias\n",
       "<span style=\"color: #800080; text-decoration-color: #800080; font-weight: bold\">torch.Size</span><span style=\"font-weight: bold\">([</span><span style=\"color: #008080; text-decoration-color: #008080; font-weight: bold\">768</span><span style=\"font-weight: bold\">])</span>\n",
       "torch.float16\n",
       "</pre>\n"
      ],
      "text/plain": [
       "vision_model.encoder.layers.\u001b[1;36m0.\u001b[0mself_attn.q_proj.bias\n",
       "\u001b[1;35mtorch.Size\u001b[0m\u001b[1m(\u001b[0m\u001b[1m[\u001b[0m\u001b[1;36m768\u001b[0m\u001b[1m]\u001b[0m\u001b[1m)\u001b[0m\n",
       "torch.float16\n"
      ]
     },
     "metadata": {},
     "output_type": "display_data"
    },
    {
     "data": {
      "text/html": [
       "<pre style=\"white-space:pre;overflow-x:auto;line-height:normal;font-family:Menlo,'DejaVu Sans Mono',consolas,'Courier New',monospace\">vision_model.encoder.layers.<span style=\"color: #008080; text-decoration-color: #008080; font-weight: bold\">0.</span>self_attn.out_proj.weight\n",
       "<span style=\"color: #800080; text-decoration-color: #800080; font-weight: bold\">torch.Size</span><span style=\"font-weight: bold\">([</span><span style=\"color: #008080; text-decoration-color: #008080; font-weight: bold\">768</span>, <span style=\"color: #008080; text-decoration-color: #008080; font-weight: bold\">768</span><span style=\"font-weight: bold\">])</span>\n",
       "torch.float16\n",
       "</pre>\n"
      ],
      "text/plain": [
       "vision_model.encoder.layers.\u001b[1;36m0.\u001b[0mself_attn.out_proj.weight\n",
       "\u001b[1;35mtorch.Size\u001b[0m\u001b[1m(\u001b[0m\u001b[1m[\u001b[0m\u001b[1;36m768\u001b[0m, \u001b[1;36m768\u001b[0m\u001b[1m]\u001b[0m\u001b[1m)\u001b[0m\n",
       "torch.float16\n"
      ]
     },
     "metadata": {},
     "output_type": "display_data"
    },
    {
     "data": {
      "text/html": [
       "<pre style=\"white-space:pre;overflow-x:auto;line-height:normal;font-family:Menlo,'DejaVu Sans Mono',consolas,'Courier New',monospace\">vision_model.encoder.layers.<span style=\"color: #008080; text-decoration-color: #008080; font-weight: bold\">0.</span>self_attn.out_proj.bias\n",
       "<span style=\"color: #800080; text-decoration-color: #800080; font-weight: bold\">torch.Size</span><span style=\"font-weight: bold\">([</span><span style=\"color: #008080; text-decoration-color: #008080; font-weight: bold\">768</span><span style=\"font-weight: bold\">])</span>\n",
       "torch.float16\n",
       "</pre>\n"
      ],
      "text/plain": [
       "vision_model.encoder.layers.\u001b[1;36m0.\u001b[0mself_attn.out_proj.bias\n",
       "\u001b[1;35mtorch.Size\u001b[0m\u001b[1m(\u001b[0m\u001b[1m[\u001b[0m\u001b[1;36m768\u001b[0m\u001b[1m]\u001b[0m\u001b[1m)\u001b[0m\n",
       "torch.float16\n"
      ]
     },
     "metadata": {},
     "output_type": "display_data"
    },
    {
     "data": {
      "text/html": [
       "<pre style=\"white-space:pre;overflow-x:auto;line-height:normal;font-family:Menlo,'DejaVu Sans Mono',consolas,'Courier New',monospace\">vision_model.encoder.layers.<span style=\"color: #008080; text-decoration-color: #008080; font-weight: bold\">0.</span>layer_norm1.weight\n",
       "<span style=\"color: #800080; text-decoration-color: #800080; font-weight: bold\">torch.Size</span><span style=\"font-weight: bold\">([</span><span style=\"color: #008080; text-decoration-color: #008080; font-weight: bold\">768</span><span style=\"font-weight: bold\">])</span>\n",
       "torch.float16\n",
       "</pre>\n"
      ],
      "text/plain": [
       "vision_model.encoder.layers.\u001b[1;36m0.\u001b[0mlayer_norm1.weight\n",
       "\u001b[1;35mtorch.Size\u001b[0m\u001b[1m(\u001b[0m\u001b[1m[\u001b[0m\u001b[1;36m768\u001b[0m\u001b[1m]\u001b[0m\u001b[1m)\u001b[0m\n",
       "torch.float16\n"
      ]
     },
     "metadata": {},
     "output_type": "display_data"
    },
    {
     "data": {
      "text/html": [
       "<pre style=\"white-space:pre;overflow-x:auto;line-height:normal;font-family:Menlo,'DejaVu Sans Mono',consolas,'Courier New',monospace\">vision_model.encoder.layers.<span style=\"color: #008080; text-decoration-color: #008080; font-weight: bold\">0.</span>layer_norm1.bias\n",
       "<span style=\"color: #800080; text-decoration-color: #800080; font-weight: bold\">torch.Size</span><span style=\"font-weight: bold\">([</span><span style=\"color: #008080; text-decoration-color: #008080; font-weight: bold\">768</span><span style=\"font-weight: bold\">])</span>\n",
       "torch.float16\n",
       "</pre>\n"
      ],
      "text/plain": [
       "vision_model.encoder.layers.\u001b[1;36m0.\u001b[0mlayer_norm1.bias\n",
       "\u001b[1;35mtorch.Size\u001b[0m\u001b[1m(\u001b[0m\u001b[1m[\u001b[0m\u001b[1;36m768\u001b[0m\u001b[1m]\u001b[0m\u001b[1m)\u001b[0m\n",
       "torch.float16\n"
      ]
     },
     "metadata": {},
     "output_type": "display_data"
    },
    {
     "data": {
      "text/html": [
       "<pre style=\"white-space:pre;overflow-x:auto;line-height:normal;font-family:Menlo,'DejaVu Sans Mono',consolas,'Courier New',monospace\">vision_model.encoder.layers.<span style=\"color: #008080; text-decoration-color: #008080; font-weight: bold\">0.</span>mlp.fc1.weight\n",
       "<span style=\"color: #800080; text-decoration-color: #800080; font-weight: bold\">torch.Size</span><span style=\"font-weight: bold\">([</span><span style=\"color: #008080; text-decoration-color: #008080; font-weight: bold\">3072</span>, <span style=\"color: #008080; text-decoration-color: #008080; font-weight: bold\">768</span><span style=\"font-weight: bold\">])</span>\n",
       "torch.float16\n",
       "</pre>\n"
      ],
      "text/plain": [
       "vision_model.encoder.layers.\u001b[1;36m0.\u001b[0mmlp.fc1.weight\n",
       "\u001b[1;35mtorch.Size\u001b[0m\u001b[1m(\u001b[0m\u001b[1m[\u001b[0m\u001b[1;36m3072\u001b[0m, \u001b[1;36m768\u001b[0m\u001b[1m]\u001b[0m\u001b[1m)\u001b[0m\n",
       "torch.float16\n"
      ]
     },
     "metadata": {},
     "output_type": "display_data"
    },
    {
     "data": {
      "text/html": [
       "<pre style=\"white-space:pre;overflow-x:auto;line-height:normal;font-family:Menlo,'DejaVu Sans Mono',consolas,'Courier New',monospace\">vision_model.encoder.layers.<span style=\"color: #008080; text-decoration-color: #008080; font-weight: bold\">0.</span>mlp.fc1.bias\n",
       "<span style=\"color: #800080; text-decoration-color: #800080; font-weight: bold\">torch.Size</span><span style=\"font-weight: bold\">([</span><span style=\"color: #008080; text-decoration-color: #008080; font-weight: bold\">3072</span><span style=\"font-weight: bold\">])</span>\n",
       "torch.float16\n",
       "</pre>\n"
      ],
      "text/plain": [
       "vision_model.encoder.layers.\u001b[1;36m0.\u001b[0mmlp.fc1.bias\n",
       "\u001b[1;35mtorch.Size\u001b[0m\u001b[1m(\u001b[0m\u001b[1m[\u001b[0m\u001b[1;36m3072\u001b[0m\u001b[1m]\u001b[0m\u001b[1m)\u001b[0m\n",
       "torch.float16\n"
      ]
     },
     "metadata": {},
     "output_type": "display_data"
    },
    {
     "data": {
      "text/html": [
       "<pre style=\"white-space:pre;overflow-x:auto;line-height:normal;font-family:Menlo,'DejaVu Sans Mono',consolas,'Courier New',monospace\">vision_model.encoder.layers.<span style=\"color: #008080; text-decoration-color: #008080; font-weight: bold\">0.</span>mlp.fc2.weight\n",
       "<span style=\"color: #800080; text-decoration-color: #800080; font-weight: bold\">torch.Size</span><span style=\"font-weight: bold\">([</span><span style=\"color: #008080; text-decoration-color: #008080; font-weight: bold\">768</span>, <span style=\"color: #008080; text-decoration-color: #008080; font-weight: bold\">3072</span><span style=\"font-weight: bold\">])</span>\n",
       "torch.float16\n",
       "</pre>\n"
      ],
      "text/plain": [
       "vision_model.encoder.layers.\u001b[1;36m0.\u001b[0mmlp.fc2.weight\n",
       "\u001b[1;35mtorch.Size\u001b[0m\u001b[1m(\u001b[0m\u001b[1m[\u001b[0m\u001b[1;36m768\u001b[0m, \u001b[1;36m3072\u001b[0m\u001b[1m]\u001b[0m\u001b[1m)\u001b[0m\n",
       "torch.float16\n"
      ]
     },
     "metadata": {},
     "output_type": "display_data"
    },
    {
     "data": {
      "text/html": [
       "<pre style=\"white-space:pre;overflow-x:auto;line-height:normal;font-family:Menlo,'DejaVu Sans Mono',consolas,'Courier New',monospace\">vision_model.encoder.layers.<span style=\"color: #008080; text-decoration-color: #008080; font-weight: bold\">0.</span>mlp.fc2.bias\n",
       "<span style=\"color: #800080; text-decoration-color: #800080; font-weight: bold\">torch.Size</span><span style=\"font-weight: bold\">([</span><span style=\"color: #008080; text-decoration-color: #008080; font-weight: bold\">768</span><span style=\"font-weight: bold\">])</span>\n",
       "torch.float16\n",
       "</pre>\n"
      ],
      "text/plain": [
       "vision_model.encoder.layers.\u001b[1;36m0.\u001b[0mmlp.fc2.bias\n",
       "\u001b[1;35mtorch.Size\u001b[0m\u001b[1m(\u001b[0m\u001b[1m[\u001b[0m\u001b[1;36m768\u001b[0m\u001b[1m]\u001b[0m\u001b[1m)\u001b[0m\n",
       "torch.float16\n"
      ]
     },
     "metadata": {},
     "output_type": "display_data"
    },
    {
     "data": {
      "text/html": [
       "<pre style=\"white-space:pre;overflow-x:auto;line-height:normal;font-family:Menlo,'DejaVu Sans Mono',consolas,'Courier New',monospace\">vision_model.encoder.layers.<span style=\"color: #008080; text-decoration-color: #008080; font-weight: bold\">0.</span>layer_norm2.weight\n",
       "<span style=\"color: #800080; text-decoration-color: #800080; font-weight: bold\">torch.Size</span><span style=\"font-weight: bold\">([</span><span style=\"color: #008080; text-decoration-color: #008080; font-weight: bold\">768</span><span style=\"font-weight: bold\">])</span>\n",
       "torch.float16\n",
       "</pre>\n"
      ],
      "text/plain": [
       "vision_model.encoder.layers.\u001b[1;36m0.\u001b[0mlayer_norm2.weight\n",
       "\u001b[1;35mtorch.Size\u001b[0m\u001b[1m(\u001b[0m\u001b[1m[\u001b[0m\u001b[1;36m768\u001b[0m\u001b[1m]\u001b[0m\u001b[1m)\u001b[0m\n",
       "torch.float16\n"
      ]
     },
     "metadata": {},
     "output_type": "display_data"
    },
    {
     "data": {
      "text/html": [
       "<pre style=\"white-space:pre;overflow-x:auto;line-height:normal;font-family:Menlo,'DejaVu Sans Mono',consolas,'Courier New',monospace\">vision_model.encoder.layers.<span style=\"color: #008080; text-decoration-color: #008080; font-weight: bold\">0.</span>layer_norm2.bias\n",
       "<span style=\"color: #800080; text-decoration-color: #800080; font-weight: bold\">torch.Size</span><span style=\"font-weight: bold\">([</span><span style=\"color: #008080; text-decoration-color: #008080; font-weight: bold\">768</span><span style=\"font-weight: bold\">])</span>\n",
       "torch.float16\n",
       "</pre>\n"
      ],
      "text/plain": [
       "vision_model.encoder.layers.\u001b[1;36m0.\u001b[0mlayer_norm2.bias\n",
       "\u001b[1;35mtorch.Size\u001b[0m\u001b[1m(\u001b[0m\u001b[1m[\u001b[0m\u001b[1;36m768\u001b[0m\u001b[1m]\u001b[0m\u001b[1m)\u001b[0m\n",
       "torch.float16\n"
      ]
     },
     "metadata": {},
     "output_type": "display_data"
    },
    {
     "data": {
      "text/html": [
       "<pre style=\"white-space:pre;overflow-x:auto;line-height:normal;font-family:Menlo,'DejaVu Sans Mono',consolas,'Courier New',monospace\">vision_model.encoder.layers.<span style=\"color: #008080; text-decoration-color: #008080; font-weight: bold\">1.</span>self_attn.k_proj.weight\n",
       "<span style=\"color: #800080; text-decoration-color: #800080; font-weight: bold\">torch.Size</span><span style=\"font-weight: bold\">([</span><span style=\"color: #008080; text-decoration-color: #008080; font-weight: bold\">768</span>, <span style=\"color: #008080; text-decoration-color: #008080; font-weight: bold\">768</span><span style=\"font-weight: bold\">])</span>\n",
       "torch.float16\n",
       "</pre>\n"
      ],
      "text/plain": [
       "vision_model.encoder.layers.\u001b[1;36m1.\u001b[0mself_attn.k_proj.weight\n",
       "\u001b[1;35mtorch.Size\u001b[0m\u001b[1m(\u001b[0m\u001b[1m[\u001b[0m\u001b[1;36m768\u001b[0m, \u001b[1;36m768\u001b[0m\u001b[1m]\u001b[0m\u001b[1m)\u001b[0m\n",
       "torch.float16\n"
      ]
     },
     "metadata": {},
     "output_type": "display_data"
    },
    {
     "data": {
      "text/html": [
       "<pre style=\"white-space:pre;overflow-x:auto;line-height:normal;font-family:Menlo,'DejaVu Sans Mono',consolas,'Courier New',monospace\">vision_model.encoder.layers.<span style=\"color: #008080; text-decoration-color: #008080; font-weight: bold\">1.</span>self_attn.k_proj.bias\n",
       "<span style=\"color: #800080; text-decoration-color: #800080; font-weight: bold\">torch.Size</span><span style=\"font-weight: bold\">([</span><span style=\"color: #008080; text-decoration-color: #008080; font-weight: bold\">768</span><span style=\"font-weight: bold\">])</span>\n",
       "torch.float16\n",
       "</pre>\n"
      ],
      "text/plain": [
       "vision_model.encoder.layers.\u001b[1;36m1.\u001b[0mself_attn.k_proj.bias\n",
       "\u001b[1;35mtorch.Size\u001b[0m\u001b[1m(\u001b[0m\u001b[1m[\u001b[0m\u001b[1;36m768\u001b[0m\u001b[1m]\u001b[0m\u001b[1m)\u001b[0m\n",
       "torch.float16\n"
      ]
     },
     "metadata": {},
     "output_type": "display_data"
    },
    {
     "data": {
      "text/html": [
       "<pre style=\"white-space:pre;overflow-x:auto;line-height:normal;font-family:Menlo,'DejaVu Sans Mono',consolas,'Courier New',monospace\">vision_model.encoder.layers.<span style=\"color: #008080; text-decoration-color: #008080; font-weight: bold\">1.</span>self_attn.v_proj.weight\n",
       "<span style=\"color: #800080; text-decoration-color: #800080; font-weight: bold\">torch.Size</span><span style=\"font-weight: bold\">([</span><span style=\"color: #008080; text-decoration-color: #008080; font-weight: bold\">768</span>, <span style=\"color: #008080; text-decoration-color: #008080; font-weight: bold\">768</span><span style=\"font-weight: bold\">])</span>\n",
       "torch.float16\n",
       "</pre>\n"
      ],
      "text/plain": [
       "vision_model.encoder.layers.\u001b[1;36m1.\u001b[0mself_attn.v_proj.weight\n",
       "\u001b[1;35mtorch.Size\u001b[0m\u001b[1m(\u001b[0m\u001b[1m[\u001b[0m\u001b[1;36m768\u001b[0m, \u001b[1;36m768\u001b[0m\u001b[1m]\u001b[0m\u001b[1m)\u001b[0m\n",
       "torch.float16\n"
      ]
     },
     "metadata": {},
     "output_type": "display_data"
    },
    {
     "data": {
      "text/html": [
       "<pre style=\"white-space:pre;overflow-x:auto;line-height:normal;font-family:Menlo,'DejaVu Sans Mono',consolas,'Courier New',monospace\">vision_model.encoder.layers.<span style=\"color: #008080; text-decoration-color: #008080; font-weight: bold\">1.</span>self_attn.v_proj.bias\n",
       "<span style=\"color: #800080; text-decoration-color: #800080; font-weight: bold\">torch.Size</span><span style=\"font-weight: bold\">([</span><span style=\"color: #008080; text-decoration-color: #008080; font-weight: bold\">768</span><span style=\"font-weight: bold\">])</span>\n",
       "torch.float16\n",
       "</pre>\n"
      ],
      "text/plain": [
       "vision_model.encoder.layers.\u001b[1;36m1.\u001b[0mself_attn.v_proj.bias\n",
       "\u001b[1;35mtorch.Size\u001b[0m\u001b[1m(\u001b[0m\u001b[1m[\u001b[0m\u001b[1;36m768\u001b[0m\u001b[1m]\u001b[0m\u001b[1m)\u001b[0m\n",
       "torch.float16\n"
      ]
     },
     "metadata": {},
     "output_type": "display_data"
    },
    {
     "data": {
      "text/html": [
       "<pre style=\"white-space:pre;overflow-x:auto;line-height:normal;font-family:Menlo,'DejaVu Sans Mono',consolas,'Courier New',monospace\">vision_model.encoder.layers.<span style=\"color: #008080; text-decoration-color: #008080; font-weight: bold\">1.</span>self_attn.q_proj.weight\n",
       "<span style=\"color: #800080; text-decoration-color: #800080; font-weight: bold\">torch.Size</span><span style=\"font-weight: bold\">([</span><span style=\"color: #008080; text-decoration-color: #008080; font-weight: bold\">768</span>, <span style=\"color: #008080; text-decoration-color: #008080; font-weight: bold\">768</span><span style=\"font-weight: bold\">])</span>\n",
       "torch.float16\n",
       "</pre>\n"
      ],
      "text/plain": [
       "vision_model.encoder.layers.\u001b[1;36m1.\u001b[0mself_attn.q_proj.weight\n",
       "\u001b[1;35mtorch.Size\u001b[0m\u001b[1m(\u001b[0m\u001b[1m[\u001b[0m\u001b[1;36m768\u001b[0m, \u001b[1;36m768\u001b[0m\u001b[1m]\u001b[0m\u001b[1m)\u001b[0m\n",
       "torch.float16\n"
      ]
     },
     "metadata": {},
     "output_type": "display_data"
    },
    {
     "data": {
      "text/html": [
       "<pre style=\"white-space:pre;overflow-x:auto;line-height:normal;font-family:Menlo,'DejaVu Sans Mono',consolas,'Courier New',monospace\">vision_model.encoder.layers.<span style=\"color: #008080; text-decoration-color: #008080; font-weight: bold\">1.</span>self_attn.q_proj.bias\n",
       "<span style=\"color: #800080; text-decoration-color: #800080; font-weight: bold\">torch.Size</span><span style=\"font-weight: bold\">([</span><span style=\"color: #008080; text-decoration-color: #008080; font-weight: bold\">768</span><span style=\"font-weight: bold\">])</span>\n",
       "torch.float16\n",
       "</pre>\n"
      ],
      "text/plain": [
       "vision_model.encoder.layers.\u001b[1;36m1.\u001b[0mself_attn.q_proj.bias\n",
       "\u001b[1;35mtorch.Size\u001b[0m\u001b[1m(\u001b[0m\u001b[1m[\u001b[0m\u001b[1;36m768\u001b[0m\u001b[1m]\u001b[0m\u001b[1m)\u001b[0m\n",
       "torch.float16\n"
      ]
     },
     "metadata": {},
     "output_type": "display_data"
    },
    {
     "data": {
      "text/html": [
       "<pre style=\"white-space:pre;overflow-x:auto;line-height:normal;font-family:Menlo,'DejaVu Sans Mono',consolas,'Courier New',monospace\">vision_model.encoder.layers.<span style=\"color: #008080; text-decoration-color: #008080; font-weight: bold\">1.</span>self_attn.out_proj.weight\n",
       "<span style=\"color: #800080; text-decoration-color: #800080; font-weight: bold\">torch.Size</span><span style=\"font-weight: bold\">([</span><span style=\"color: #008080; text-decoration-color: #008080; font-weight: bold\">768</span>, <span style=\"color: #008080; text-decoration-color: #008080; font-weight: bold\">768</span><span style=\"font-weight: bold\">])</span>\n",
       "torch.float16\n",
       "</pre>\n"
      ],
      "text/plain": [
       "vision_model.encoder.layers.\u001b[1;36m1.\u001b[0mself_attn.out_proj.weight\n",
       "\u001b[1;35mtorch.Size\u001b[0m\u001b[1m(\u001b[0m\u001b[1m[\u001b[0m\u001b[1;36m768\u001b[0m, \u001b[1;36m768\u001b[0m\u001b[1m]\u001b[0m\u001b[1m)\u001b[0m\n",
       "torch.float16\n"
      ]
     },
     "metadata": {},
     "output_type": "display_data"
    },
    {
     "data": {
      "text/html": [
       "<pre style=\"white-space:pre;overflow-x:auto;line-height:normal;font-family:Menlo,'DejaVu Sans Mono',consolas,'Courier New',monospace\">vision_model.encoder.layers.<span style=\"color: #008080; text-decoration-color: #008080; font-weight: bold\">1.</span>self_attn.out_proj.bias\n",
       "<span style=\"color: #800080; text-decoration-color: #800080; font-weight: bold\">torch.Size</span><span style=\"font-weight: bold\">([</span><span style=\"color: #008080; text-decoration-color: #008080; font-weight: bold\">768</span><span style=\"font-weight: bold\">])</span>\n",
       "torch.float16\n",
       "</pre>\n"
      ],
      "text/plain": [
       "vision_model.encoder.layers.\u001b[1;36m1.\u001b[0mself_attn.out_proj.bias\n",
       "\u001b[1;35mtorch.Size\u001b[0m\u001b[1m(\u001b[0m\u001b[1m[\u001b[0m\u001b[1;36m768\u001b[0m\u001b[1m]\u001b[0m\u001b[1m)\u001b[0m\n",
       "torch.float16\n"
      ]
     },
     "metadata": {},
     "output_type": "display_data"
    },
    {
     "data": {
      "text/html": [
       "<pre style=\"white-space:pre;overflow-x:auto;line-height:normal;font-family:Menlo,'DejaVu Sans Mono',consolas,'Courier New',monospace\">vision_model.encoder.layers.<span style=\"color: #008080; text-decoration-color: #008080; font-weight: bold\">1.</span>layer_norm1.weight\n",
       "<span style=\"color: #800080; text-decoration-color: #800080; font-weight: bold\">torch.Size</span><span style=\"font-weight: bold\">([</span><span style=\"color: #008080; text-decoration-color: #008080; font-weight: bold\">768</span><span style=\"font-weight: bold\">])</span>\n",
       "torch.float16\n",
       "</pre>\n"
      ],
      "text/plain": [
       "vision_model.encoder.layers.\u001b[1;36m1.\u001b[0mlayer_norm1.weight\n",
       "\u001b[1;35mtorch.Size\u001b[0m\u001b[1m(\u001b[0m\u001b[1m[\u001b[0m\u001b[1;36m768\u001b[0m\u001b[1m]\u001b[0m\u001b[1m)\u001b[0m\n",
       "torch.float16\n"
      ]
     },
     "metadata": {},
     "output_type": "display_data"
    },
    {
     "data": {
      "text/html": [
       "<pre style=\"white-space:pre;overflow-x:auto;line-height:normal;font-family:Menlo,'DejaVu Sans Mono',consolas,'Courier New',monospace\">vision_model.encoder.layers.<span style=\"color: #008080; text-decoration-color: #008080; font-weight: bold\">1.</span>layer_norm1.bias\n",
       "<span style=\"color: #800080; text-decoration-color: #800080; font-weight: bold\">torch.Size</span><span style=\"font-weight: bold\">([</span><span style=\"color: #008080; text-decoration-color: #008080; font-weight: bold\">768</span><span style=\"font-weight: bold\">])</span>\n",
       "torch.float16\n",
       "</pre>\n"
      ],
      "text/plain": [
       "vision_model.encoder.layers.\u001b[1;36m1.\u001b[0mlayer_norm1.bias\n",
       "\u001b[1;35mtorch.Size\u001b[0m\u001b[1m(\u001b[0m\u001b[1m[\u001b[0m\u001b[1;36m768\u001b[0m\u001b[1m]\u001b[0m\u001b[1m)\u001b[0m\n",
       "torch.float16\n"
      ]
     },
     "metadata": {},
     "output_type": "display_data"
    },
    {
     "data": {
      "text/html": [
       "<pre style=\"white-space:pre;overflow-x:auto;line-height:normal;font-family:Menlo,'DejaVu Sans Mono',consolas,'Courier New',monospace\">vision_model.encoder.layers.<span style=\"color: #008080; text-decoration-color: #008080; font-weight: bold\">1.</span>mlp.fc1.weight\n",
       "<span style=\"color: #800080; text-decoration-color: #800080; font-weight: bold\">torch.Size</span><span style=\"font-weight: bold\">([</span><span style=\"color: #008080; text-decoration-color: #008080; font-weight: bold\">3072</span>, <span style=\"color: #008080; text-decoration-color: #008080; font-weight: bold\">768</span><span style=\"font-weight: bold\">])</span>\n",
       "torch.float16\n",
       "</pre>\n"
      ],
      "text/plain": [
       "vision_model.encoder.layers.\u001b[1;36m1.\u001b[0mmlp.fc1.weight\n",
       "\u001b[1;35mtorch.Size\u001b[0m\u001b[1m(\u001b[0m\u001b[1m[\u001b[0m\u001b[1;36m3072\u001b[0m, \u001b[1;36m768\u001b[0m\u001b[1m]\u001b[0m\u001b[1m)\u001b[0m\n",
       "torch.float16\n"
      ]
     },
     "metadata": {},
     "output_type": "display_data"
    },
    {
     "data": {
      "text/html": [
       "<pre style=\"white-space:pre;overflow-x:auto;line-height:normal;font-family:Menlo,'DejaVu Sans Mono',consolas,'Courier New',monospace\">vision_model.encoder.layers.<span style=\"color: #008080; text-decoration-color: #008080; font-weight: bold\">1.</span>mlp.fc1.bias\n",
       "<span style=\"color: #800080; text-decoration-color: #800080; font-weight: bold\">torch.Size</span><span style=\"font-weight: bold\">([</span><span style=\"color: #008080; text-decoration-color: #008080; font-weight: bold\">3072</span><span style=\"font-weight: bold\">])</span>\n",
       "torch.float16\n",
       "</pre>\n"
      ],
      "text/plain": [
       "vision_model.encoder.layers.\u001b[1;36m1.\u001b[0mmlp.fc1.bias\n",
       "\u001b[1;35mtorch.Size\u001b[0m\u001b[1m(\u001b[0m\u001b[1m[\u001b[0m\u001b[1;36m3072\u001b[0m\u001b[1m]\u001b[0m\u001b[1m)\u001b[0m\n",
       "torch.float16\n"
      ]
     },
     "metadata": {},
     "output_type": "display_data"
    },
    {
     "data": {
      "text/html": [
       "<pre style=\"white-space:pre;overflow-x:auto;line-height:normal;font-family:Menlo,'DejaVu Sans Mono',consolas,'Courier New',monospace\">vision_model.encoder.layers.<span style=\"color: #008080; text-decoration-color: #008080; font-weight: bold\">1.</span>mlp.fc2.weight\n",
       "<span style=\"color: #800080; text-decoration-color: #800080; font-weight: bold\">torch.Size</span><span style=\"font-weight: bold\">([</span><span style=\"color: #008080; text-decoration-color: #008080; font-weight: bold\">768</span>, <span style=\"color: #008080; text-decoration-color: #008080; font-weight: bold\">3072</span><span style=\"font-weight: bold\">])</span>\n",
       "torch.float16\n",
       "</pre>\n"
      ],
      "text/plain": [
       "vision_model.encoder.layers.\u001b[1;36m1.\u001b[0mmlp.fc2.weight\n",
       "\u001b[1;35mtorch.Size\u001b[0m\u001b[1m(\u001b[0m\u001b[1m[\u001b[0m\u001b[1;36m768\u001b[0m, \u001b[1;36m3072\u001b[0m\u001b[1m]\u001b[0m\u001b[1m)\u001b[0m\n",
       "torch.float16\n"
      ]
     },
     "metadata": {},
     "output_type": "display_data"
    },
    {
     "data": {
      "text/html": [
       "<pre style=\"white-space:pre;overflow-x:auto;line-height:normal;font-family:Menlo,'DejaVu Sans Mono',consolas,'Courier New',monospace\">vision_model.encoder.layers.<span style=\"color: #008080; text-decoration-color: #008080; font-weight: bold\">1.</span>mlp.fc2.bias\n",
       "<span style=\"color: #800080; text-decoration-color: #800080; font-weight: bold\">torch.Size</span><span style=\"font-weight: bold\">([</span><span style=\"color: #008080; text-decoration-color: #008080; font-weight: bold\">768</span><span style=\"font-weight: bold\">])</span>\n",
       "torch.float16\n",
       "</pre>\n"
      ],
      "text/plain": [
       "vision_model.encoder.layers.\u001b[1;36m1.\u001b[0mmlp.fc2.bias\n",
       "\u001b[1;35mtorch.Size\u001b[0m\u001b[1m(\u001b[0m\u001b[1m[\u001b[0m\u001b[1;36m768\u001b[0m\u001b[1m]\u001b[0m\u001b[1m)\u001b[0m\n",
       "torch.float16\n"
      ]
     },
     "metadata": {},
     "output_type": "display_data"
    },
    {
     "data": {
      "text/html": [
       "<pre style=\"white-space:pre;overflow-x:auto;line-height:normal;font-family:Menlo,'DejaVu Sans Mono',consolas,'Courier New',monospace\">vision_model.encoder.layers.<span style=\"color: #008080; text-decoration-color: #008080; font-weight: bold\">1.</span>layer_norm2.weight\n",
       "<span style=\"color: #800080; text-decoration-color: #800080; font-weight: bold\">torch.Size</span><span style=\"font-weight: bold\">([</span><span style=\"color: #008080; text-decoration-color: #008080; font-weight: bold\">768</span><span style=\"font-weight: bold\">])</span>\n",
       "torch.float16\n",
       "</pre>\n"
      ],
      "text/plain": [
       "vision_model.encoder.layers.\u001b[1;36m1.\u001b[0mlayer_norm2.weight\n",
       "\u001b[1;35mtorch.Size\u001b[0m\u001b[1m(\u001b[0m\u001b[1m[\u001b[0m\u001b[1;36m768\u001b[0m\u001b[1m]\u001b[0m\u001b[1m)\u001b[0m\n",
       "torch.float16\n"
      ]
     },
     "metadata": {},
     "output_type": "display_data"
    },
    {
     "data": {
      "text/html": [
       "<pre style=\"white-space:pre;overflow-x:auto;line-height:normal;font-family:Menlo,'DejaVu Sans Mono',consolas,'Courier New',monospace\">vision_model.encoder.layers.<span style=\"color: #008080; text-decoration-color: #008080; font-weight: bold\">1.</span>layer_norm2.bias\n",
       "<span style=\"color: #800080; text-decoration-color: #800080; font-weight: bold\">torch.Size</span><span style=\"font-weight: bold\">([</span><span style=\"color: #008080; text-decoration-color: #008080; font-weight: bold\">768</span><span style=\"font-weight: bold\">])</span>\n",
       "torch.float16\n",
       "</pre>\n"
      ],
      "text/plain": [
       "vision_model.encoder.layers.\u001b[1;36m1.\u001b[0mlayer_norm2.bias\n",
       "\u001b[1;35mtorch.Size\u001b[0m\u001b[1m(\u001b[0m\u001b[1m[\u001b[0m\u001b[1;36m768\u001b[0m\u001b[1m]\u001b[0m\u001b[1m)\u001b[0m\n",
       "torch.float16\n"
      ]
     },
     "metadata": {},
     "output_type": "display_data"
    },
    {
     "data": {
      "text/html": [
       "<pre style=\"white-space:pre;overflow-x:auto;line-height:normal;font-family:Menlo,'DejaVu Sans Mono',consolas,'Courier New',monospace\">vision_model.encoder.layers.<span style=\"color: #008080; text-decoration-color: #008080; font-weight: bold\">2.</span>self_attn.k_proj.weight\n",
       "<span style=\"color: #800080; text-decoration-color: #800080; font-weight: bold\">torch.Size</span><span style=\"font-weight: bold\">([</span><span style=\"color: #008080; text-decoration-color: #008080; font-weight: bold\">768</span>, <span style=\"color: #008080; text-decoration-color: #008080; font-weight: bold\">768</span><span style=\"font-weight: bold\">])</span>\n",
       "torch.float16\n",
       "</pre>\n"
      ],
      "text/plain": [
       "vision_model.encoder.layers.\u001b[1;36m2.\u001b[0mself_attn.k_proj.weight\n",
       "\u001b[1;35mtorch.Size\u001b[0m\u001b[1m(\u001b[0m\u001b[1m[\u001b[0m\u001b[1;36m768\u001b[0m, \u001b[1;36m768\u001b[0m\u001b[1m]\u001b[0m\u001b[1m)\u001b[0m\n",
       "torch.float16\n"
      ]
     },
     "metadata": {},
     "output_type": "display_data"
    },
    {
     "data": {
      "text/html": [
       "<pre style=\"white-space:pre;overflow-x:auto;line-height:normal;font-family:Menlo,'DejaVu Sans Mono',consolas,'Courier New',monospace\">vision_model.encoder.layers.<span style=\"color: #008080; text-decoration-color: #008080; font-weight: bold\">2.</span>self_attn.k_proj.bias\n",
       "<span style=\"color: #800080; text-decoration-color: #800080; font-weight: bold\">torch.Size</span><span style=\"font-weight: bold\">([</span><span style=\"color: #008080; text-decoration-color: #008080; font-weight: bold\">768</span><span style=\"font-weight: bold\">])</span>\n",
       "torch.float16\n",
       "</pre>\n"
      ],
      "text/plain": [
       "vision_model.encoder.layers.\u001b[1;36m2.\u001b[0mself_attn.k_proj.bias\n",
       "\u001b[1;35mtorch.Size\u001b[0m\u001b[1m(\u001b[0m\u001b[1m[\u001b[0m\u001b[1;36m768\u001b[0m\u001b[1m]\u001b[0m\u001b[1m)\u001b[0m\n",
       "torch.float16\n"
      ]
     },
     "metadata": {},
     "output_type": "display_data"
    },
    {
     "data": {
      "text/html": [
       "<pre style=\"white-space:pre;overflow-x:auto;line-height:normal;font-family:Menlo,'DejaVu Sans Mono',consolas,'Courier New',monospace\">vision_model.encoder.layers.<span style=\"color: #008080; text-decoration-color: #008080; font-weight: bold\">2.</span>self_attn.v_proj.weight\n",
       "<span style=\"color: #800080; text-decoration-color: #800080; font-weight: bold\">torch.Size</span><span style=\"font-weight: bold\">([</span><span style=\"color: #008080; text-decoration-color: #008080; font-weight: bold\">768</span>, <span style=\"color: #008080; text-decoration-color: #008080; font-weight: bold\">768</span><span style=\"font-weight: bold\">])</span>\n",
       "torch.float16\n",
       "</pre>\n"
      ],
      "text/plain": [
       "vision_model.encoder.layers.\u001b[1;36m2.\u001b[0mself_attn.v_proj.weight\n",
       "\u001b[1;35mtorch.Size\u001b[0m\u001b[1m(\u001b[0m\u001b[1m[\u001b[0m\u001b[1;36m768\u001b[0m, \u001b[1;36m768\u001b[0m\u001b[1m]\u001b[0m\u001b[1m)\u001b[0m\n",
       "torch.float16\n"
      ]
     },
     "metadata": {},
     "output_type": "display_data"
    },
    {
     "data": {
      "text/html": [
       "<pre style=\"white-space:pre;overflow-x:auto;line-height:normal;font-family:Menlo,'DejaVu Sans Mono',consolas,'Courier New',monospace\">vision_model.encoder.layers.<span style=\"color: #008080; text-decoration-color: #008080; font-weight: bold\">2.</span>self_attn.v_proj.bias\n",
       "<span style=\"color: #800080; text-decoration-color: #800080; font-weight: bold\">torch.Size</span><span style=\"font-weight: bold\">([</span><span style=\"color: #008080; text-decoration-color: #008080; font-weight: bold\">768</span><span style=\"font-weight: bold\">])</span>\n",
       "torch.float16\n",
       "</pre>\n"
      ],
      "text/plain": [
       "vision_model.encoder.layers.\u001b[1;36m2.\u001b[0mself_attn.v_proj.bias\n",
       "\u001b[1;35mtorch.Size\u001b[0m\u001b[1m(\u001b[0m\u001b[1m[\u001b[0m\u001b[1;36m768\u001b[0m\u001b[1m]\u001b[0m\u001b[1m)\u001b[0m\n",
       "torch.float16\n"
      ]
     },
     "metadata": {},
     "output_type": "display_data"
    },
    {
     "data": {
      "text/html": [
       "<pre style=\"white-space:pre;overflow-x:auto;line-height:normal;font-family:Menlo,'DejaVu Sans Mono',consolas,'Courier New',monospace\">vision_model.encoder.layers.<span style=\"color: #008080; text-decoration-color: #008080; font-weight: bold\">2.</span>self_attn.q_proj.weight\n",
       "<span style=\"color: #800080; text-decoration-color: #800080; font-weight: bold\">torch.Size</span><span style=\"font-weight: bold\">([</span><span style=\"color: #008080; text-decoration-color: #008080; font-weight: bold\">768</span>, <span style=\"color: #008080; text-decoration-color: #008080; font-weight: bold\">768</span><span style=\"font-weight: bold\">])</span>\n",
       "torch.float16\n",
       "</pre>\n"
      ],
      "text/plain": [
       "vision_model.encoder.layers.\u001b[1;36m2.\u001b[0mself_attn.q_proj.weight\n",
       "\u001b[1;35mtorch.Size\u001b[0m\u001b[1m(\u001b[0m\u001b[1m[\u001b[0m\u001b[1;36m768\u001b[0m, \u001b[1;36m768\u001b[0m\u001b[1m]\u001b[0m\u001b[1m)\u001b[0m\n",
       "torch.float16\n"
      ]
     },
     "metadata": {},
     "output_type": "display_data"
    },
    {
     "data": {
      "text/html": [
       "<pre style=\"white-space:pre;overflow-x:auto;line-height:normal;font-family:Menlo,'DejaVu Sans Mono',consolas,'Courier New',monospace\">vision_model.encoder.layers.<span style=\"color: #008080; text-decoration-color: #008080; font-weight: bold\">2.</span>self_attn.q_proj.bias\n",
       "<span style=\"color: #800080; text-decoration-color: #800080; font-weight: bold\">torch.Size</span><span style=\"font-weight: bold\">([</span><span style=\"color: #008080; text-decoration-color: #008080; font-weight: bold\">768</span><span style=\"font-weight: bold\">])</span>\n",
       "torch.float16\n",
       "</pre>\n"
      ],
      "text/plain": [
       "vision_model.encoder.layers.\u001b[1;36m2.\u001b[0mself_attn.q_proj.bias\n",
       "\u001b[1;35mtorch.Size\u001b[0m\u001b[1m(\u001b[0m\u001b[1m[\u001b[0m\u001b[1;36m768\u001b[0m\u001b[1m]\u001b[0m\u001b[1m)\u001b[0m\n",
       "torch.float16\n"
      ]
     },
     "metadata": {},
     "output_type": "display_data"
    },
    {
     "data": {
      "text/html": [
       "<pre style=\"white-space:pre;overflow-x:auto;line-height:normal;font-family:Menlo,'DejaVu Sans Mono',consolas,'Courier New',monospace\">vision_model.encoder.layers.<span style=\"color: #008080; text-decoration-color: #008080; font-weight: bold\">2.</span>self_attn.out_proj.weight\n",
       "<span style=\"color: #800080; text-decoration-color: #800080; font-weight: bold\">torch.Size</span><span style=\"font-weight: bold\">([</span><span style=\"color: #008080; text-decoration-color: #008080; font-weight: bold\">768</span>, <span style=\"color: #008080; text-decoration-color: #008080; font-weight: bold\">768</span><span style=\"font-weight: bold\">])</span>\n",
       "torch.float16\n",
       "</pre>\n"
      ],
      "text/plain": [
       "vision_model.encoder.layers.\u001b[1;36m2.\u001b[0mself_attn.out_proj.weight\n",
       "\u001b[1;35mtorch.Size\u001b[0m\u001b[1m(\u001b[0m\u001b[1m[\u001b[0m\u001b[1;36m768\u001b[0m, \u001b[1;36m768\u001b[0m\u001b[1m]\u001b[0m\u001b[1m)\u001b[0m\n",
       "torch.float16\n"
      ]
     },
     "metadata": {},
     "output_type": "display_data"
    },
    {
     "data": {
      "text/html": [
       "<pre style=\"white-space:pre;overflow-x:auto;line-height:normal;font-family:Menlo,'DejaVu Sans Mono',consolas,'Courier New',monospace\">vision_model.encoder.layers.<span style=\"color: #008080; text-decoration-color: #008080; font-weight: bold\">2.</span>self_attn.out_proj.bias\n",
       "<span style=\"color: #800080; text-decoration-color: #800080; font-weight: bold\">torch.Size</span><span style=\"font-weight: bold\">([</span><span style=\"color: #008080; text-decoration-color: #008080; font-weight: bold\">768</span><span style=\"font-weight: bold\">])</span>\n",
       "torch.float16\n",
       "</pre>\n"
      ],
      "text/plain": [
       "vision_model.encoder.layers.\u001b[1;36m2.\u001b[0mself_attn.out_proj.bias\n",
       "\u001b[1;35mtorch.Size\u001b[0m\u001b[1m(\u001b[0m\u001b[1m[\u001b[0m\u001b[1;36m768\u001b[0m\u001b[1m]\u001b[0m\u001b[1m)\u001b[0m\n",
       "torch.float16\n"
      ]
     },
     "metadata": {},
     "output_type": "display_data"
    },
    {
     "data": {
      "text/html": [
       "<pre style=\"white-space:pre;overflow-x:auto;line-height:normal;font-family:Menlo,'DejaVu Sans Mono',consolas,'Courier New',monospace\">vision_model.encoder.layers.<span style=\"color: #008080; text-decoration-color: #008080; font-weight: bold\">2.</span>layer_norm1.weight\n",
       "<span style=\"color: #800080; text-decoration-color: #800080; font-weight: bold\">torch.Size</span><span style=\"font-weight: bold\">([</span><span style=\"color: #008080; text-decoration-color: #008080; font-weight: bold\">768</span><span style=\"font-weight: bold\">])</span>\n",
       "torch.float16\n",
       "</pre>\n"
      ],
      "text/plain": [
       "vision_model.encoder.layers.\u001b[1;36m2.\u001b[0mlayer_norm1.weight\n",
       "\u001b[1;35mtorch.Size\u001b[0m\u001b[1m(\u001b[0m\u001b[1m[\u001b[0m\u001b[1;36m768\u001b[0m\u001b[1m]\u001b[0m\u001b[1m)\u001b[0m\n",
       "torch.float16\n"
      ]
     },
     "metadata": {},
     "output_type": "display_data"
    },
    {
     "data": {
      "text/html": [
       "<pre style=\"white-space:pre;overflow-x:auto;line-height:normal;font-family:Menlo,'DejaVu Sans Mono',consolas,'Courier New',monospace\">vision_model.encoder.layers.<span style=\"color: #008080; text-decoration-color: #008080; font-weight: bold\">2.</span>layer_norm1.bias\n",
       "<span style=\"color: #800080; text-decoration-color: #800080; font-weight: bold\">torch.Size</span><span style=\"font-weight: bold\">([</span><span style=\"color: #008080; text-decoration-color: #008080; font-weight: bold\">768</span><span style=\"font-weight: bold\">])</span>\n",
       "torch.float16\n",
       "</pre>\n"
      ],
      "text/plain": [
       "vision_model.encoder.layers.\u001b[1;36m2.\u001b[0mlayer_norm1.bias\n",
       "\u001b[1;35mtorch.Size\u001b[0m\u001b[1m(\u001b[0m\u001b[1m[\u001b[0m\u001b[1;36m768\u001b[0m\u001b[1m]\u001b[0m\u001b[1m)\u001b[0m\n",
       "torch.float16\n"
      ]
     },
     "metadata": {},
     "output_type": "display_data"
    },
    {
     "data": {
      "text/html": [
       "<pre style=\"white-space:pre;overflow-x:auto;line-height:normal;font-family:Menlo,'DejaVu Sans Mono',consolas,'Courier New',monospace\">vision_model.encoder.layers.<span style=\"color: #008080; text-decoration-color: #008080; font-weight: bold\">2.</span>mlp.fc1.weight\n",
       "<span style=\"color: #800080; text-decoration-color: #800080; font-weight: bold\">torch.Size</span><span style=\"font-weight: bold\">([</span><span style=\"color: #008080; text-decoration-color: #008080; font-weight: bold\">3072</span>, <span style=\"color: #008080; text-decoration-color: #008080; font-weight: bold\">768</span><span style=\"font-weight: bold\">])</span>\n",
       "torch.float16\n",
       "</pre>\n"
      ],
      "text/plain": [
       "vision_model.encoder.layers.\u001b[1;36m2.\u001b[0mmlp.fc1.weight\n",
       "\u001b[1;35mtorch.Size\u001b[0m\u001b[1m(\u001b[0m\u001b[1m[\u001b[0m\u001b[1;36m3072\u001b[0m, \u001b[1;36m768\u001b[0m\u001b[1m]\u001b[0m\u001b[1m)\u001b[0m\n",
       "torch.float16\n"
      ]
     },
     "metadata": {},
     "output_type": "display_data"
    },
    {
     "data": {
      "text/html": [
       "<pre style=\"white-space:pre;overflow-x:auto;line-height:normal;font-family:Menlo,'DejaVu Sans Mono',consolas,'Courier New',monospace\">vision_model.encoder.layers.<span style=\"color: #008080; text-decoration-color: #008080; font-weight: bold\">2.</span>mlp.fc1.bias\n",
       "<span style=\"color: #800080; text-decoration-color: #800080; font-weight: bold\">torch.Size</span><span style=\"font-weight: bold\">([</span><span style=\"color: #008080; text-decoration-color: #008080; font-weight: bold\">3072</span><span style=\"font-weight: bold\">])</span>\n",
       "torch.float16\n",
       "</pre>\n"
      ],
      "text/plain": [
       "vision_model.encoder.layers.\u001b[1;36m2.\u001b[0mmlp.fc1.bias\n",
       "\u001b[1;35mtorch.Size\u001b[0m\u001b[1m(\u001b[0m\u001b[1m[\u001b[0m\u001b[1;36m3072\u001b[0m\u001b[1m]\u001b[0m\u001b[1m)\u001b[0m\n",
       "torch.float16\n"
      ]
     },
     "metadata": {},
     "output_type": "display_data"
    },
    {
     "data": {
      "text/html": [
       "<pre style=\"white-space:pre;overflow-x:auto;line-height:normal;font-family:Menlo,'DejaVu Sans Mono',consolas,'Courier New',monospace\">vision_model.encoder.layers.<span style=\"color: #008080; text-decoration-color: #008080; font-weight: bold\">2.</span>mlp.fc2.weight\n",
       "<span style=\"color: #800080; text-decoration-color: #800080; font-weight: bold\">torch.Size</span><span style=\"font-weight: bold\">([</span><span style=\"color: #008080; text-decoration-color: #008080; font-weight: bold\">768</span>, <span style=\"color: #008080; text-decoration-color: #008080; font-weight: bold\">3072</span><span style=\"font-weight: bold\">])</span>\n",
       "torch.float16\n",
       "</pre>\n"
      ],
      "text/plain": [
       "vision_model.encoder.layers.\u001b[1;36m2.\u001b[0mmlp.fc2.weight\n",
       "\u001b[1;35mtorch.Size\u001b[0m\u001b[1m(\u001b[0m\u001b[1m[\u001b[0m\u001b[1;36m768\u001b[0m, \u001b[1;36m3072\u001b[0m\u001b[1m]\u001b[0m\u001b[1m)\u001b[0m\n",
       "torch.float16\n"
      ]
     },
     "metadata": {},
     "output_type": "display_data"
    },
    {
     "data": {
      "text/html": [
       "<pre style=\"white-space:pre;overflow-x:auto;line-height:normal;font-family:Menlo,'DejaVu Sans Mono',consolas,'Courier New',monospace\">vision_model.encoder.layers.<span style=\"color: #008080; text-decoration-color: #008080; font-weight: bold\">2.</span>mlp.fc2.bias\n",
       "<span style=\"color: #800080; text-decoration-color: #800080; font-weight: bold\">torch.Size</span><span style=\"font-weight: bold\">([</span><span style=\"color: #008080; text-decoration-color: #008080; font-weight: bold\">768</span><span style=\"font-weight: bold\">])</span>\n",
       "torch.float16\n",
       "</pre>\n"
      ],
      "text/plain": [
       "vision_model.encoder.layers.\u001b[1;36m2.\u001b[0mmlp.fc2.bias\n",
       "\u001b[1;35mtorch.Size\u001b[0m\u001b[1m(\u001b[0m\u001b[1m[\u001b[0m\u001b[1;36m768\u001b[0m\u001b[1m]\u001b[0m\u001b[1m)\u001b[0m\n",
       "torch.float16\n"
      ]
     },
     "metadata": {},
     "output_type": "display_data"
    },
    {
     "data": {
      "text/html": [
       "<pre style=\"white-space:pre;overflow-x:auto;line-height:normal;font-family:Menlo,'DejaVu Sans Mono',consolas,'Courier New',monospace\">vision_model.encoder.layers.<span style=\"color: #008080; text-decoration-color: #008080; font-weight: bold\">2.</span>layer_norm2.weight\n",
       "<span style=\"color: #800080; text-decoration-color: #800080; font-weight: bold\">torch.Size</span><span style=\"font-weight: bold\">([</span><span style=\"color: #008080; text-decoration-color: #008080; font-weight: bold\">768</span><span style=\"font-weight: bold\">])</span>\n",
       "torch.float16\n",
       "</pre>\n"
      ],
      "text/plain": [
       "vision_model.encoder.layers.\u001b[1;36m2.\u001b[0mlayer_norm2.weight\n",
       "\u001b[1;35mtorch.Size\u001b[0m\u001b[1m(\u001b[0m\u001b[1m[\u001b[0m\u001b[1;36m768\u001b[0m\u001b[1m]\u001b[0m\u001b[1m)\u001b[0m\n",
       "torch.float16\n"
      ]
     },
     "metadata": {},
     "output_type": "display_data"
    },
    {
     "data": {
      "text/html": [
       "<pre style=\"white-space:pre;overflow-x:auto;line-height:normal;font-family:Menlo,'DejaVu Sans Mono',consolas,'Courier New',monospace\">vision_model.encoder.layers.<span style=\"color: #008080; text-decoration-color: #008080; font-weight: bold\">2.</span>layer_norm2.bias\n",
       "<span style=\"color: #800080; text-decoration-color: #800080; font-weight: bold\">torch.Size</span><span style=\"font-weight: bold\">([</span><span style=\"color: #008080; text-decoration-color: #008080; font-weight: bold\">768</span><span style=\"font-weight: bold\">])</span>\n",
       "torch.float16\n",
       "</pre>\n"
      ],
      "text/plain": [
       "vision_model.encoder.layers.\u001b[1;36m2.\u001b[0mlayer_norm2.bias\n",
       "\u001b[1;35mtorch.Size\u001b[0m\u001b[1m(\u001b[0m\u001b[1m[\u001b[0m\u001b[1;36m768\u001b[0m\u001b[1m]\u001b[0m\u001b[1m)\u001b[0m\n",
       "torch.float16\n"
      ]
     },
     "metadata": {},
     "output_type": "display_data"
    },
    {
     "data": {
      "text/html": [
       "<pre style=\"white-space:pre;overflow-x:auto;line-height:normal;font-family:Menlo,'DejaVu Sans Mono',consolas,'Courier New',monospace\">vision_model.encoder.layers.<span style=\"color: #008080; text-decoration-color: #008080; font-weight: bold\">3.</span>self_attn.k_proj.weight\n",
       "<span style=\"color: #800080; text-decoration-color: #800080; font-weight: bold\">torch.Size</span><span style=\"font-weight: bold\">([</span><span style=\"color: #008080; text-decoration-color: #008080; font-weight: bold\">768</span>, <span style=\"color: #008080; text-decoration-color: #008080; font-weight: bold\">768</span><span style=\"font-weight: bold\">])</span>\n",
       "torch.float16\n",
       "</pre>\n"
      ],
      "text/plain": [
       "vision_model.encoder.layers.\u001b[1;36m3.\u001b[0mself_attn.k_proj.weight\n",
       "\u001b[1;35mtorch.Size\u001b[0m\u001b[1m(\u001b[0m\u001b[1m[\u001b[0m\u001b[1;36m768\u001b[0m, \u001b[1;36m768\u001b[0m\u001b[1m]\u001b[0m\u001b[1m)\u001b[0m\n",
       "torch.float16\n"
      ]
     },
     "metadata": {},
     "output_type": "display_data"
    },
    {
     "data": {
      "text/html": [
       "<pre style=\"white-space:pre;overflow-x:auto;line-height:normal;font-family:Menlo,'DejaVu Sans Mono',consolas,'Courier New',monospace\">vision_model.encoder.layers.<span style=\"color: #008080; text-decoration-color: #008080; font-weight: bold\">3.</span>self_attn.k_proj.bias\n",
       "<span style=\"color: #800080; text-decoration-color: #800080; font-weight: bold\">torch.Size</span><span style=\"font-weight: bold\">([</span><span style=\"color: #008080; text-decoration-color: #008080; font-weight: bold\">768</span><span style=\"font-weight: bold\">])</span>\n",
       "torch.float16\n",
       "</pre>\n"
      ],
      "text/plain": [
       "vision_model.encoder.layers.\u001b[1;36m3.\u001b[0mself_attn.k_proj.bias\n",
       "\u001b[1;35mtorch.Size\u001b[0m\u001b[1m(\u001b[0m\u001b[1m[\u001b[0m\u001b[1;36m768\u001b[0m\u001b[1m]\u001b[0m\u001b[1m)\u001b[0m\n",
       "torch.float16\n"
      ]
     },
     "metadata": {},
     "output_type": "display_data"
    },
    {
     "data": {
      "text/html": [
       "<pre style=\"white-space:pre;overflow-x:auto;line-height:normal;font-family:Menlo,'DejaVu Sans Mono',consolas,'Courier New',monospace\">vision_model.encoder.layers.<span style=\"color: #008080; text-decoration-color: #008080; font-weight: bold\">3.</span>self_attn.v_proj.weight\n",
       "<span style=\"color: #800080; text-decoration-color: #800080; font-weight: bold\">torch.Size</span><span style=\"font-weight: bold\">([</span><span style=\"color: #008080; text-decoration-color: #008080; font-weight: bold\">768</span>, <span style=\"color: #008080; text-decoration-color: #008080; font-weight: bold\">768</span><span style=\"font-weight: bold\">])</span>\n",
       "torch.float16\n",
       "</pre>\n"
      ],
      "text/plain": [
       "vision_model.encoder.layers.\u001b[1;36m3.\u001b[0mself_attn.v_proj.weight\n",
       "\u001b[1;35mtorch.Size\u001b[0m\u001b[1m(\u001b[0m\u001b[1m[\u001b[0m\u001b[1;36m768\u001b[0m, \u001b[1;36m768\u001b[0m\u001b[1m]\u001b[0m\u001b[1m)\u001b[0m\n",
       "torch.float16\n"
      ]
     },
     "metadata": {},
     "output_type": "display_data"
    },
    {
     "data": {
      "text/html": [
       "<pre style=\"white-space:pre;overflow-x:auto;line-height:normal;font-family:Menlo,'DejaVu Sans Mono',consolas,'Courier New',monospace\">vision_model.encoder.layers.<span style=\"color: #008080; text-decoration-color: #008080; font-weight: bold\">3.</span>self_attn.v_proj.bias\n",
       "<span style=\"color: #800080; text-decoration-color: #800080; font-weight: bold\">torch.Size</span><span style=\"font-weight: bold\">([</span><span style=\"color: #008080; text-decoration-color: #008080; font-weight: bold\">768</span><span style=\"font-weight: bold\">])</span>\n",
       "torch.float16\n",
       "</pre>\n"
      ],
      "text/plain": [
       "vision_model.encoder.layers.\u001b[1;36m3.\u001b[0mself_attn.v_proj.bias\n",
       "\u001b[1;35mtorch.Size\u001b[0m\u001b[1m(\u001b[0m\u001b[1m[\u001b[0m\u001b[1;36m768\u001b[0m\u001b[1m]\u001b[0m\u001b[1m)\u001b[0m\n",
       "torch.float16\n"
      ]
     },
     "metadata": {},
     "output_type": "display_data"
    },
    {
     "data": {
      "text/html": [
       "<pre style=\"white-space:pre;overflow-x:auto;line-height:normal;font-family:Menlo,'DejaVu Sans Mono',consolas,'Courier New',monospace\">vision_model.encoder.layers.<span style=\"color: #008080; text-decoration-color: #008080; font-weight: bold\">3.</span>self_attn.q_proj.weight\n",
       "<span style=\"color: #800080; text-decoration-color: #800080; font-weight: bold\">torch.Size</span><span style=\"font-weight: bold\">([</span><span style=\"color: #008080; text-decoration-color: #008080; font-weight: bold\">768</span>, <span style=\"color: #008080; text-decoration-color: #008080; font-weight: bold\">768</span><span style=\"font-weight: bold\">])</span>\n",
       "torch.float16\n",
       "</pre>\n"
      ],
      "text/plain": [
       "vision_model.encoder.layers.\u001b[1;36m3.\u001b[0mself_attn.q_proj.weight\n",
       "\u001b[1;35mtorch.Size\u001b[0m\u001b[1m(\u001b[0m\u001b[1m[\u001b[0m\u001b[1;36m768\u001b[0m, \u001b[1;36m768\u001b[0m\u001b[1m]\u001b[0m\u001b[1m)\u001b[0m\n",
       "torch.float16\n"
      ]
     },
     "metadata": {},
     "output_type": "display_data"
    },
    {
     "data": {
      "text/html": [
       "<pre style=\"white-space:pre;overflow-x:auto;line-height:normal;font-family:Menlo,'DejaVu Sans Mono',consolas,'Courier New',monospace\">vision_model.encoder.layers.<span style=\"color: #008080; text-decoration-color: #008080; font-weight: bold\">3.</span>self_attn.q_proj.bias\n",
       "<span style=\"color: #800080; text-decoration-color: #800080; font-weight: bold\">torch.Size</span><span style=\"font-weight: bold\">([</span><span style=\"color: #008080; text-decoration-color: #008080; font-weight: bold\">768</span><span style=\"font-weight: bold\">])</span>\n",
       "torch.float16\n",
       "</pre>\n"
      ],
      "text/plain": [
       "vision_model.encoder.layers.\u001b[1;36m3.\u001b[0mself_attn.q_proj.bias\n",
       "\u001b[1;35mtorch.Size\u001b[0m\u001b[1m(\u001b[0m\u001b[1m[\u001b[0m\u001b[1;36m768\u001b[0m\u001b[1m]\u001b[0m\u001b[1m)\u001b[0m\n",
       "torch.float16\n"
      ]
     },
     "metadata": {},
     "output_type": "display_data"
    },
    {
     "data": {
      "text/html": [
       "<pre style=\"white-space:pre;overflow-x:auto;line-height:normal;font-family:Menlo,'DejaVu Sans Mono',consolas,'Courier New',monospace\">vision_model.encoder.layers.<span style=\"color: #008080; text-decoration-color: #008080; font-weight: bold\">3.</span>self_attn.out_proj.weight\n",
       "<span style=\"color: #800080; text-decoration-color: #800080; font-weight: bold\">torch.Size</span><span style=\"font-weight: bold\">([</span><span style=\"color: #008080; text-decoration-color: #008080; font-weight: bold\">768</span>, <span style=\"color: #008080; text-decoration-color: #008080; font-weight: bold\">768</span><span style=\"font-weight: bold\">])</span>\n",
       "torch.float16\n",
       "</pre>\n"
      ],
      "text/plain": [
       "vision_model.encoder.layers.\u001b[1;36m3.\u001b[0mself_attn.out_proj.weight\n",
       "\u001b[1;35mtorch.Size\u001b[0m\u001b[1m(\u001b[0m\u001b[1m[\u001b[0m\u001b[1;36m768\u001b[0m, \u001b[1;36m768\u001b[0m\u001b[1m]\u001b[0m\u001b[1m)\u001b[0m\n",
       "torch.float16\n"
      ]
     },
     "metadata": {},
     "output_type": "display_data"
    },
    {
     "data": {
      "text/html": [
       "<pre style=\"white-space:pre;overflow-x:auto;line-height:normal;font-family:Menlo,'DejaVu Sans Mono',consolas,'Courier New',monospace\">vision_model.encoder.layers.<span style=\"color: #008080; text-decoration-color: #008080; font-weight: bold\">3.</span>self_attn.out_proj.bias\n",
       "<span style=\"color: #800080; text-decoration-color: #800080; font-weight: bold\">torch.Size</span><span style=\"font-weight: bold\">([</span><span style=\"color: #008080; text-decoration-color: #008080; font-weight: bold\">768</span><span style=\"font-weight: bold\">])</span>\n",
       "torch.float16\n",
       "</pre>\n"
      ],
      "text/plain": [
       "vision_model.encoder.layers.\u001b[1;36m3.\u001b[0mself_attn.out_proj.bias\n",
       "\u001b[1;35mtorch.Size\u001b[0m\u001b[1m(\u001b[0m\u001b[1m[\u001b[0m\u001b[1;36m768\u001b[0m\u001b[1m]\u001b[0m\u001b[1m)\u001b[0m\n",
       "torch.float16\n"
      ]
     },
     "metadata": {},
     "output_type": "display_data"
    },
    {
     "data": {
      "text/html": [
       "<pre style=\"white-space:pre;overflow-x:auto;line-height:normal;font-family:Menlo,'DejaVu Sans Mono',consolas,'Courier New',monospace\">vision_model.encoder.layers.<span style=\"color: #008080; text-decoration-color: #008080; font-weight: bold\">3.</span>layer_norm1.weight\n",
       "<span style=\"color: #800080; text-decoration-color: #800080; font-weight: bold\">torch.Size</span><span style=\"font-weight: bold\">([</span><span style=\"color: #008080; text-decoration-color: #008080; font-weight: bold\">768</span><span style=\"font-weight: bold\">])</span>\n",
       "torch.float16\n",
       "</pre>\n"
      ],
      "text/plain": [
       "vision_model.encoder.layers.\u001b[1;36m3.\u001b[0mlayer_norm1.weight\n",
       "\u001b[1;35mtorch.Size\u001b[0m\u001b[1m(\u001b[0m\u001b[1m[\u001b[0m\u001b[1;36m768\u001b[0m\u001b[1m]\u001b[0m\u001b[1m)\u001b[0m\n",
       "torch.float16\n"
      ]
     },
     "metadata": {},
     "output_type": "display_data"
    },
    {
     "data": {
      "text/html": [
       "<pre style=\"white-space:pre;overflow-x:auto;line-height:normal;font-family:Menlo,'DejaVu Sans Mono',consolas,'Courier New',monospace\">vision_model.encoder.layers.<span style=\"color: #008080; text-decoration-color: #008080; font-weight: bold\">3.</span>layer_norm1.bias\n",
       "<span style=\"color: #800080; text-decoration-color: #800080; font-weight: bold\">torch.Size</span><span style=\"font-weight: bold\">([</span><span style=\"color: #008080; text-decoration-color: #008080; font-weight: bold\">768</span><span style=\"font-weight: bold\">])</span>\n",
       "torch.float16\n",
       "</pre>\n"
      ],
      "text/plain": [
       "vision_model.encoder.layers.\u001b[1;36m3.\u001b[0mlayer_norm1.bias\n",
       "\u001b[1;35mtorch.Size\u001b[0m\u001b[1m(\u001b[0m\u001b[1m[\u001b[0m\u001b[1;36m768\u001b[0m\u001b[1m]\u001b[0m\u001b[1m)\u001b[0m\n",
       "torch.float16\n"
      ]
     },
     "metadata": {},
     "output_type": "display_data"
    },
    {
     "data": {
      "text/html": [
       "<pre style=\"white-space:pre;overflow-x:auto;line-height:normal;font-family:Menlo,'DejaVu Sans Mono',consolas,'Courier New',monospace\">vision_model.encoder.layers.<span style=\"color: #008080; text-decoration-color: #008080; font-weight: bold\">3.</span>mlp.fc1.weight\n",
       "<span style=\"color: #800080; text-decoration-color: #800080; font-weight: bold\">torch.Size</span><span style=\"font-weight: bold\">([</span><span style=\"color: #008080; text-decoration-color: #008080; font-weight: bold\">3072</span>, <span style=\"color: #008080; text-decoration-color: #008080; font-weight: bold\">768</span><span style=\"font-weight: bold\">])</span>\n",
       "torch.float16\n",
       "</pre>\n"
      ],
      "text/plain": [
       "vision_model.encoder.layers.\u001b[1;36m3.\u001b[0mmlp.fc1.weight\n",
       "\u001b[1;35mtorch.Size\u001b[0m\u001b[1m(\u001b[0m\u001b[1m[\u001b[0m\u001b[1;36m3072\u001b[0m, \u001b[1;36m768\u001b[0m\u001b[1m]\u001b[0m\u001b[1m)\u001b[0m\n",
       "torch.float16\n"
      ]
     },
     "metadata": {},
     "output_type": "display_data"
    },
    {
     "data": {
      "text/html": [
       "<pre style=\"white-space:pre;overflow-x:auto;line-height:normal;font-family:Menlo,'DejaVu Sans Mono',consolas,'Courier New',monospace\">vision_model.encoder.layers.<span style=\"color: #008080; text-decoration-color: #008080; font-weight: bold\">3.</span>mlp.fc1.bias\n",
       "<span style=\"color: #800080; text-decoration-color: #800080; font-weight: bold\">torch.Size</span><span style=\"font-weight: bold\">([</span><span style=\"color: #008080; text-decoration-color: #008080; font-weight: bold\">3072</span><span style=\"font-weight: bold\">])</span>\n",
       "torch.float16\n",
       "</pre>\n"
      ],
      "text/plain": [
       "vision_model.encoder.layers.\u001b[1;36m3.\u001b[0mmlp.fc1.bias\n",
       "\u001b[1;35mtorch.Size\u001b[0m\u001b[1m(\u001b[0m\u001b[1m[\u001b[0m\u001b[1;36m3072\u001b[0m\u001b[1m]\u001b[0m\u001b[1m)\u001b[0m\n",
       "torch.float16\n"
      ]
     },
     "metadata": {},
     "output_type": "display_data"
    },
    {
     "data": {
      "text/html": [
       "<pre style=\"white-space:pre;overflow-x:auto;line-height:normal;font-family:Menlo,'DejaVu Sans Mono',consolas,'Courier New',monospace\">vision_model.encoder.layers.<span style=\"color: #008080; text-decoration-color: #008080; font-weight: bold\">3.</span>mlp.fc2.weight\n",
       "<span style=\"color: #800080; text-decoration-color: #800080; font-weight: bold\">torch.Size</span><span style=\"font-weight: bold\">([</span><span style=\"color: #008080; text-decoration-color: #008080; font-weight: bold\">768</span>, <span style=\"color: #008080; text-decoration-color: #008080; font-weight: bold\">3072</span><span style=\"font-weight: bold\">])</span>\n",
       "torch.float16\n",
       "</pre>\n"
      ],
      "text/plain": [
       "vision_model.encoder.layers.\u001b[1;36m3.\u001b[0mmlp.fc2.weight\n",
       "\u001b[1;35mtorch.Size\u001b[0m\u001b[1m(\u001b[0m\u001b[1m[\u001b[0m\u001b[1;36m768\u001b[0m, \u001b[1;36m3072\u001b[0m\u001b[1m]\u001b[0m\u001b[1m)\u001b[0m\n",
       "torch.float16\n"
      ]
     },
     "metadata": {},
     "output_type": "display_data"
    },
    {
     "data": {
      "text/html": [
       "<pre style=\"white-space:pre;overflow-x:auto;line-height:normal;font-family:Menlo,'DejaVu Sans Mono',consolas,'Courier New',monospace\">vision_model.encoder.layers.<span style=\"color: #008080; text-decoration-color: #008080; font-weight: bold\">3.</span>mlp.fc2.bias\n",
       "<span style=\"color: #800080; text-decoration-color: #800080; font-weight: bold\">torch.Size</span><span style=\"font-weight: bold\">([</span><span style=\"color: #008080; text-decoration-color: #008080; font-weight: bold\">768</span><span style=\"font-weight: bold\">])</span>\n",
       "torch.float16\n",
       "</pre>\n"
      ],
      "text/plain": [
       "vision_model.encoder.layers.\u001b[1;36m3.\u001b[0mmlp.fc2.bias\n",
       "\u001b[1;35mtorch.Size\u001b[0m\u001b[1m(\u001b[0m\u001b[1m[\u001b[0m\u001b[1;36m768\u001b[0m\u001b[1m]\u001b[0m\u001b[1m)\u001b[0m\n",
       "torch.float16\n"
      ]
     },
     "metadata": {},
     "output_type": "display_data"
    },
    {
     "data": {
      "text/html": [
       "<pre style=\"white-space:pre;overflow-x:auto;line-height:normal;font-family:Menlo,'DejaVu Sans Mono',consolas,'Courier New',monospace\">vision_model.encoder.layers.<span style=\"color: #008080; text-decoration-color: #008080; font-weight: bold\">3.</span>layer_norm2.weight\n",
       "<span style=\"color: #800080; text-decoration-color: #800080; font-weight: bold\">torch.Size</span><span style=\"font-weight: bold\">([</span><span style=\"color: #008080; text-decoration-color: #008080; font-weight: bold\">768</span><span style=\"font-weight: bold\">])</span>\n",
       "torch.float16\n",
       "</pre>\n"
      ],
      "text/plain": [
       "vision_model.encoder.layers.\u001b[1;36m3.\u001b[0mlayer_norm2.weight\n",
       "\u001b[1;35mtorch.Size\u001b[0m\u001b[1m(\u001b[0m\u001b[1m[\u001b[0m\u001b[1;36m768\u001b[0m\u001b[1m]\u001b[0m\u001b[1m)\u001b[0m\n",
       "torch.float16\n"
      ]
     },
     "metadata": {},
     "output_type": "display_data"
    },
    {
     "data": {
      "text/html": [
       "<pre style=\"white-space:pre;overflow-x:auto;line-height:normal;font-family:Menlo,'DejaVu Sans Mono',consolas,'Courier New',monospace\">vision_model.encoder.layers.<span style=\"color: #008080; text-decoration-color: #008080; font-weight: bold\">3.</span>layer_norm2.bias\n",
       "<span style=\"color: #800080; text-decoration-color: #800080; font-weight: bold\">torch.Size</span><span style=\"font-weight: bold\">([</span><span style=\"color: #008080; text-decoration-color: #008080; font-weight: bold\">768</span><span style=\"font-weight: bold\">])</span>\n",
       "torch.float16\n",
       "</pre>\n"
      ],
      "text/plain": [
       "vision_model.encoder.layers.\u001b[1;36m3.\u001b[0mlayer_norm2.bias\n",
       "\u001b[1;35mtorch.Size\u001b[0m\u001b[1m(\u001b[0m\u001b[1m[\u001b[0m\u001b[1;36m768\u001b[0m\u001b[1m]\u001b[0m\u001b[1m)\u001b[0m\n",
       "torch.float16\n"
      ]
     },
     "metadata": {},
     "output_type": "display_data"
    },
    {
     "data": {
      "text/html": [
       "<pre style=\"white-space:pre;overflow-x:auto;line-height:normal;font-family:Menlo,'DejaVu Sans Mono',consolas,'Courier New',monospace\">vision_model.encoder.layers.<span style=\"color: #008080; text-decoration-color: #008080; font-weight: bold\">4.</span>self_attn.k_proj.weight\n",
       "<span style=\"color: #800080; text-decoration-color: #800080; font-weight: bold\">torch.Size</span><span style=\"font-weight: bold\">([</span><span style=\"color: #008080; text-decoration-color: #008080; font-weight: bold\">768</span>, <span style=\"color: #008080; text-decoration-color: #008080; font-weight: bold\">768</span><span style=\"font-weight: bold\">])</span>\n",
       "torch.float16\n",
       "</pre>\n"
      ],
      "text/plain": [
       "vision_model.encoder.layers.\u001b[1;36m4.\u001b[0mself_attn.k_proj.weight\n",
       "\u001b[1;35mtorch.Size\u001b[0m\u001b[1m(\u001b[0m\u001b[1m[\u001b[0m\u001b[1;36m768\u001b[0m, \u001b[1;36m768\u001b[0m\u001b[1m]\u001b[0m\u001b[1m)\u001b[0m\n",
       "torch.float16\n"
      ]
     },
     "metadata": {},
     "output_type": "display_data"
    },
    {
     "data": {
      "text/html": [
       "<pre style=\"white-space:pre;overflow-x:auto;line-height:normal;font-family:Menlo,'DejaVu Sans Mono',consolas,'Courier New',monospace\">vision_model.encoder.layers.<span style=\"color: #008080; text-decoration-color: #008080; font-weight: bold\">4.</span>self_attn.k_proj.bias\n",
       "<span style=\"color: #800080; text-decoration-color: #800080; font-weight: bold\">torch.Size</span><span style=\"font-weight: bold\">([</span><span style=\"color: #008080; text-decoration-color: #008080; font-weight: bold\">768</span><span style=\"font-weight: bold\">])</span>\n",
       "torch.float16\n",
       "</pre>\n"
      ],
      "text/plain": [
       "vision_model.encoder.layers.\u001b[1;36m4.\u001b[0mself_attn.k_proj.bias\n",
       "\u001b[1;35mtorch.Size\u001b[0m\u001b[1m(\u001b[0m\u001b[1m[\u001b[0m\u001b[1;36m768\u001b[0m\u001b[1m]\u001b[0m\u001b[1m)\u001b[0m\n",
       "torch.float16\n"
      ]
     },
     "metadata": {},
     "output_type": "display_data"
    },
    {
     "data": {
      "text/html": [
       "<pre style=\"white-space:pre;overflow-x:auto;line-height:normal;font-family:Menlo,'DejaVu Sans Mono',consolas,'Courier New',monospace\">vision_model.encoder.layers.<span style=\"color: #008080; text-decoration-color: #008080; font-weight: bold\">4.</span>self_attn.v_proj.weight\n",
       "<span style=\"color: #800080; text-decoration-color: #800080; font-weight: bold\">torch.Size</span><span style=\"font-weight: bold\">([</span><span style=\"color: #008080; text-decoration-color: #008080; font-weight: bold\">768</span>, <span style=\"color: #008080; text-decoration-color: #008080; font-weight: bold\">768</span><span style=\"font-weight: bold\">])</span>\n",
       "torch.float16\n",
       "</pre>\n"
      ],
      "text/plain": [
       "vision_model.encoder.layers.\u001b[1;36m4.\u001b[0mself_attn.v_proj.weight\n",
       "\u001b[1;35mtorch.Size\u001b[0m\u001b[1m(\u001b[0m\u001b[1m[\u001b[0m\u001b[1;36m768\u001b[0m, \u001b[1;36m768\u001b[0m\u001b[1m]\u001b[0m\u001b[1m)\u001b[0m\n",
       "torch.float16\n"
      ]
     },
     "metadata": {},
     "output_type": "display_data"
    },
    {
     "data": {
      "text/html": [
       "<pre style=\"white-space:pre;overflow-x:auto;line-height:normal;font-family:Menlo,'DejaVu Sans Mono',consolas,'Courier New',monospace\">vision_model.encoder.layers.<span style=\"color: #008080; text-decoration-color: #008080; font-weight: bold\">4.</span>self_attn.v_proj.bias\n",
       "<span style=\"color: #800080; text-decoration-color: #800080; font-weight: bold\">torch.Size</span><span style=\"font-weight: bold\">([</span><span style=\"color: #008080; text-decoration-color: #008080; font-weight: bold\">768</span><span style=\"font-weight: bold\">])</span>\n",
       "torch.float16\n",
       "</pre>\n"
      ],
      "text/plain": [
       "vision_model.encoder.layers.\u001b[1;36m4.\u001b[0mself_attn.v_proj.bias\n",
       "\u001b[1;35mtorch.Size\u001b[0m\u001b[1m(\u001b[0m\u001b[1m[\u001b[0m\u001b[1;36m768\u001b[0m\u001b[1m]\u001b[0m\u001b[1m)\u001b[0m\n",
       "torch.float16\n"
      ]
     },
     "metadata": {},
     "output_type": "display_data"
    },
    {
     "data": {
      "text/html": [
       "<pre style=\"white-space:pre;overflow-x:auto;line-height:normal;font-family:Menlo,'DejaVu Sans Mono',consolas,'Courier New',monospace\">vision_model.encoder.layers.<span style=\"color: #008080; text-decoration-color: #008080; font-weight: bold\">4.</span>self_attn.q_proj.weight\n",
       "<span style=\"color: #800080; text-decoration-color: #800080; font-weight: bold\">torch.Size</span><span style=\"font-weight: bold\">([</span><span style=\"color: #008080; text-decoration-color: #008080; font-weight: bold\">768</span>, <span style=\"color: #008080; text-decoration-color: #008080; font-weight: bold\">768</span><span style=\"font-weight: bold\">])</span>\n",
       "torch.float16\n",
       "</pre>\n"
      ],
      "text/plain": [
       "vision_model.encoder.layers.\u001b[1;36m4.\u001b[0mself_attn.q_proj.weight\n",
       "\u001b[1;35mtorch.Size\u001b[0m\u001b[1m(\u001b[0m\u001b[1m[\u001b[0m\u001b[1;36m768\u001b[0m, \u001b[1;36m768\u001b[0m\u001b[1m]\u001b[0m\u001b[1m)\u001b[0m\n",
       "torch.float16\n"
      ]
     },
     "metadata": {},
     "output_type": "display_data"
    },
    {
     "data": {
      "text/html": [
       "<pre style=\"white-space:pre;overflow-x:auto;line-height:normal;font-family:Menlo,'DejaVu Sans Mono',consolas,'Courier New',monospace\">vision_model.encoder.layers.<span style=\"color: #008080; text-decoration-color: #008080; font-weight: bold\">4.</span>self_attn.q_proj.bias\n",
       "<span style=\"color: #800080; text-decoration-color: #800080; font-weight: bold\">torch.Size</span><span style=\"font-weight: bold\">([</span><span style=\"color: #008080; text-decoration-color: #008080; font-weight: bold\">768</span><span style=\"font-weight: bold\">])</span>\n",
       "torch.float16\n",
       "</pre>\n"
      ],
      "text/plain": [
       "vision_model.encoder.layers.\u001b[1;36m4.\u001b[0mself_attn.q_proj.bias\n",
       "\u001b[1;35mtorch.Size\u001b[0m\u001b[1m(\u001b[0m\u001b[1m[\u001b[0m\u001b[1;36m768\u001b[0m\u001b[1m]\u001b[0m\u001b[1m)\u001b[0m\n",
       "torch.float16\n"
      ]
     },
     "metadata": {},
     "output_type": "display_data"
    },
    {
     "data": {
      "text/html": [
       "<pre style=\"white-space:pre;overflow-x:auto;line-height:normal;font-family:Menlo,'DejaVu Sans Mono',consolas,'Courier New',monospace\">vision_model.encoder.layers.<span style=\"color: #008080; text-decoration-color: #008080; font-weight: bold\">4.</span>self_attn.out_proj.weight\n",
       "<span style=\"color: #800080; text-decoration-color: #800080; font-weight: bold\">torch.Size</span><span style=\"font-weight: bold\">([</span><span style=\"color: #008080; text-decoration-color: #008080; font-weight: bold\">768</span>, <span style=\"color: #008080; text-decoration-color: #008080; font-weight: bold\">768</span><span style=\"font-weight: bold\">])</span>\n",
       "torch.float16\n",
       "</pre>\n"
      ],
      "text/plain": [
       "vision_model.encoder.layers.\u001b[1;36m4.\u001b[0mself_attn.out_proj.weight\n",
       "\u001b[1;35mtorch.Size\u001b[0m\u001b[1m(\u001b[0m\u001b[1m[\u001b[0m\u001b[1;36m768\u001b[0m, \u001b[1;36m768\u001b[0m\u001b[1m]\u001b[0m\u001b[1m)\u001b[0m\n",
       "torch.float16\n"
      ]
     },
     "metadata": {},
     "output_type": "display_data"
    },
    {
     "data": {
      "text/html": [
       "<pre style=\"white-space:pre;overflow-x:auto;line-height:normal;font-family:Menlo,'DejaVu Sans Mono',consolas,'Courier New',monospace\">vision_model.encoder.layers.<span style=\"color: #008080; text-decoration-color: #008080; font-weight: bold\">4.</span>self_attn.out_proj.bias\n",
       "<span style=\"color: #800080; text-decoration-color: #800080; font-weight: bold\">torch.Size</span><span style=\"font-weight: bold\">([</span><span style=\"color: #008080; text-decoration-color: #008080; font-weight: bold\">768</span><span style=\"font-weight: bold\">])</span>\n",
       "torch.float16\n",
       "</pre>\n"
      ],
      "text/plain": [
       "vision_model.encoder.layers.\u001b[1;36m4.\u001b[0mself_attn.out_proj.bias\n",
       "\u001b[1;35mtorch.Size\u001b[0m\u001b[1m(\u001b[0m\u001b[1m[\u001b[0m\u001b[1;36m768\u001b[0m\u001b[1m]\u001b[0m\u001b[1m)\u001b[0m\n",
       "torch.float16\n"
      ]
     },
     "metadata": {},
     "output_type": "display_data"
    },
    {
     "data": {
      "text/html": [
       "<pre style=\"white-space:pre;overflow-x:auto;line-height:normal;font-family:Menlo,'DejaVu Sans Mono',consolas,'Courier New',monospace\">vision_model.encoder.layers.<span style=\"color: #008080; text-decoration-color: #008080; font-weight: bold\">4.</span>layer_norm1.weight\n",
       "<span style=\"color: #800080; text-decoration-color: #800080; font-weight: bold\">torch.Size</span><span style=\"font-weight: bold\">([</span><span style=\"color: #008080; text-decoration-color: #008080; font-weight: bold\">768</span><span style=\"font-weight: bold\">])</span>\n",
       "torch.float16\n",
       "</pre>\n"
      ],
      "text/plain": [
       "vision_model.encoder.layers.\u001b[1;36m4.\u001b[0mlayer_norm1.weight\n",
       "\u001b[1;35mtorch.Size\u001b[0m\u001b[1m(\u001b[0m\u001b[1m[\u001b[0m\u001b[1;36m768\u001b[0m\u001b[1m]\u001b[0m\u001b[1m)\u001b[0m\n",
       "torch.float16\n"
      ]
     },
     "metadata": {},
     "output_type": "display_data"
    },
    {
     "data": {
      "text/html": [
       "<pre style=\"white-space:pre;overflow-x:auto;line-height:normal;font-family:Menlo,'DejaVu Sans Mono',consolas,'Courier New',monospace\">vision_model.encoder.layers.<span style=\"color: #008080; text-decoration-color: #008080; font-weight: bold\">4.</span>layer_norm1.bias\n",
       "<span style=\"color: #800080; text-decoration-color: #800080; font-weight: bold\">torch.Size</span><span style=\"font-weight: bold\">([</span><span style=\"color: #008080; text-decoration-color: #008080; font-weight: bold\">768</span><span style=\"font-weight: bold\">])</span>\n",
       "torch.float16\n",
       "</pre>\n"
      ],
      "text/plain": [
       "vision_model.encoder.layers.\u001b[1;36m4.\u001b[0mlayer_norm1.bias\n",
       "\u001b[1;35mtorch.Size\u001b[0m\u001b[1m(\u001b[0m\u001b[1m[\u001b[0m\u001b[1;36m768\u001b[0m\u001b[1m]\u001b[0m\u001b[1m)\u001b[0m\n",
       "torch.float16\n"
      ]
     },
     "metadata": {},
     "output_type": "display_data"
    },
    {
     "data": {
      "text/html": [
       "<pre style=\"white-space:pre;overflow-x:auto;line-height:normal;font-family:Menlo,'DejaVu Sans Mono',consolas,'Courier New',monospace\">vision_model.encoder.layers.<span style=\"color: #008080; text-decoration-color: #008080; font-weight: bold\">4.</span>mlp.fc1.weight\n",
       "<span style=\"color: #800080; text-decoration-color: #800080; font-weight: bold\">torch.Size</span><span style=\"font-weight: bold\">([</span><span style=\"color: #008080; text-decoration-color: #008080; font-weight: bold\">3072</span>, <span style=\"color: #008080; text-decoration-color: #008080; font-weight: bold\">768</span><span style=\"font-weight: bold\">])</span>\n",
       "torch.float16\n",
       "</pre>\n"
      ],
      "text/plain": [
       "vision_model.encoder.layers.\u001b[1;36m4.\u001b[0mmlp.fc1.weight\n",
       "\u001b[1;35mtorch.Size\u001b[0m\u001b[1m(\u001b[0m\u001b[1m[\u001b[0m\u001b[1;36m3072\u001b[0m, \u001b[1;36m768\u001b[0m\u001b[1m]\u001b[0m\u001b[1m)\u001b[0m\n",
       "torch.float16\n"
      ]
     },
     "metadata": {},
     "output_type": "display_data"
    },
    {
     "data": {
      "text/html": [
       "<pre style=\"white-space:pre;overflow-x:auto;line-height:normal;font-family:Menlo,'DejaVu Sans Mono',consolas,'Courier New',monospace\">vision_model.encoder.layers.<span style=\"color: #008080; text-decoration-color: #008080; font-weight: bold\">4.</span>mlp.fc1.bias\n",
       "<span style=\"color: #800080; text-decoration-color: #800080; font-weight: bold\">torch.Size</span><span style=\"font-weight: bold\">([</span><span style=\"color: #008080; text-decoration-color: #008080; font-weight: bold\">3072</span><span style=\"font-weight: bold\">])</span>\n",
       "torch.float16\n",
       "</pre>\n"
      ],
      "text/plain": [
       "vision_model.encoder.layers.\u001b[1;36m4.\u001b[0mmlp.fc1.bias\n",
       "\u001b[1;35mtorch.Size\u001b[0m\u001b[1m(\u001b[0m\u001b[1m[\u001b[0m\u001b[1;36m3072\u001b[0m\u001b[1m]\u001b[0m\u001b[1m)\u001b[0m\n",
       "torch.float16\n"
      ]
     },
     "metadata": {},
     "output_type": "display_data"
    },
    {
     "data": {
      "text/html": [
       "<pre style=\"white-space:pre;overflow-x:auto;line-height:normal;font-family:Menlo,'DejaVu Sans Mono',consolas,'Courier New',monospace\">vision_model.encoder.layers.<span style=\"color: #008080; text-decoration-color: #008080; font-weight: bold\">4.</span>mlp.fc2.weight\n",
       "<span style=\"color: #800080; text-decoration-color: #800080; font-weight: bold\">torch.Size</span><span style=\"font-weight: bold\">([</span><span style=\"color: #008080; text-decoration-color: #008080; font-weight: bold\">768</span>, <span style=\"color: #008080; text-decoration-color: #008080; font-weight: bold\">3072</span><span style=\"font-weight: bold\">])</span>\n",
       "torch.float16\n",
       "</pre>\n"
      ],
      "text/plain": [
       "vision_model.encoder.layers.\u001b[1;36m4.\u001b[0mmlp.fc2.weight\n",
       "\u001b[1;35mtorch.Size\u001b[0m\u001b[1m(\u001b[0m\u001b[1m[\u001b[0m\u001b[1;36m768\u001b[0m, \u001b[1;36m3072\u001b[0m\u001b[1m]\u001b[0m\u001b[1m)\u001b[0m\n",
       "torch.float16\n"
      ]
     },
     "metadata": {},
     "output_type": "display_data"
    },
    {
     "data": {
      "text/html": [
       "<pre style=\"white-space:pre;overflow-x:auto;line-height:normal;font-family:Menlo,'DejaVu Sans Mono',consolas,'Courier New',monospace\">vision_model.encoder.layers.<span style=\"color: #008080; text-decoration-color: #008080; font-weight: bold\">4.</span>mlp.fc2.bias\n",
       "<span style=\"color: #800080; text-decoration-color: #800080; font-weight: bold\">torch.Size</span><span style=\"font-weight: bold\">([</span><span style=\"color: #008080; text-decoration-color: #008080; font-weight: bold\">768</span><span style=\"font-weight: bold\">])</span>\n",
       "torch.float16\n",
       "</pre>\n"
      ],
      "text/plain": [
       "vision_model.encoder.layers.\u001b[1;36m4.\u001b[0mmlp.fc2.bias\n",
       "\u001b[1;35mtorch.Size\u001b[0m\u001b[1m(\u001b[0m\u001b[1m[\u001b[0m\u001b[1;36m768\u001b[0m\u001b[1m]\u001b[0m\u001b[1m)\u001b[0m\n",
       "torch.float16\n"
      ]
     },
     "metadata": {},
     "output_type": "display_data"
    },
    {
     "data": {
      "text/html": [
       "<pre style=\"white-space:pre;overflow-x:auto;line-height:normal;font-family:Menlo,'DejaVu Sans Mono',consolas,'Courier New',monospace\">vision_model.encoder.layers.<span style=\"color: #008080; text-decoration-color: #008080; font-weight: bold\">4.</span>layer_norm2.weight\n",
       "<span style=\"color: #800080; text-decoration-color: #800080; font-weight: bold\">torch.Size</span><span style=\"font-weight: bold\">([</span><span style=\"color: #008080; text-decoration-color: #008080; font-weight: bold\">768</span><span style=\"font-weight: bold\">])</span>\n",
       "torch.float16\n",
       "</pre>\n"
      ],
      "text/plain": [
       "vision_model.encoder.layers.\u001b[1;36m4.\u001b[0mlayer_norm2.weight\n",
       "\u001b[1;35mtorch.Size\u001b[0m\u001b[1m(\u001b[0m\u001b[1m[\u001b[0m\u001b[1;36m768\u001b[0m\u001b[1m]\u001b[0m\u001b[1m)\u001b[0m\n",
       "torch.float16\n"
      ]
     },
     "metadata": {},
     "output_type": "display_data"
    },
    {
     "data": {
      "text/html": [
       "<pre style=\"white-space:pre;overflow-x:auto;line-height:normal;font-family:Menlo,'DejaVu Sans Mono',consolas,'Courier New',monospace\">vision_model.encoder.layers.<span style=\"color: #008080; text-decoration-color: #008080; font-weight: bold\">4.</span>layer_norm2.bias\n",
       "<span style=\"color: #800080; text-decoration-color: #800080; font-weight: bold\">torch.Size</span><span style=\"font-weight: bold\">([</span><span style=\"color: #008080; text-decoration-color: #008080; font-weight: bold\">768</span><span style=\"font-weight: bold\">])</span>\n",
       "torch.float16\n",
       "</pre>\n"
      ],
      "text/plain": [
       "vision_model.encoder.layers.\u001b[1;36m4.\u001b[0mlayer_norm2.bias\n",
       "\u001b[1;35mtorch.Size\u001b[0m\u001b[1m(\u001b[0m\u001b[1m[\u001b[0m\u001b[1;36m768\u001b[0m\u001b[1m]\u001b[0m\u001b[1m)\u001b[0m\n",
       "torch.float16\n"
      ]
     },
     "metadata": {},
     "output_type": "display_data"
    },
    {
     "data": {
      "text/html": [
       "<pre style=\"white-space:pre;overflow-x:auto;line-height:normal;font-family:Menlo,'DejaVu Sans Mono',consolas,'Courier New',monospace\">vision_model.encoder.layers.<span style=\"color: #008080; text-decoration-color: #008080; font-weight: bold\">5.</span>self_attn.k_proj.weight\n",
       "<span style=\"color: #800080; text-decoration-color: #800080; font-weight: bold\">torch.Size</span><span style=\"font-weight: bold\">([</span><span style=\"color: #008080; text-decoration-color: #008080; font-weight: bold\">768</span>, <span style=\"color: #008080; text-decoration-color: #008080; font-weight: bold\">768</span><span style=\"font-weight: bold\">])</span>\n",
       "torch.float16\n",
       "</pre>\n"
      ],
      "text/plain": [
       "vision_model.encoder.layers.\u001b[1;36m5.\u001b[0mself_attn.k_proj.weight\n",
       "\u001b[1;35mtorch.Size\u001b[0m\u001b[1m(\u001b[0m\u001b[1m[\u001b[0m\u001b[1;36m768\u001b[0m, \u001b[1;36m768\u001b[0m\u001b[1m]\u001b[0m\u001b[1m)\u001b[0m\n",
       "torch.float16\n"
      ]
     },
     "metadata": {},
     "output_type": "display_data"
    },
    {
     "data": {
      "text/html": [
       "<pre style=\"white-space:pre;overflow-x:auto;line-height:normal;font-family:Menlo,'DejaVu Sans Mono',consolas,'Courier New',monospace\">vision_model.encoder.layers.<span style=\"color: #008080; text-decoration-color: #008080; font-weight: bold\">5.</span>self_attn.k_proj.bias\n",
       "<span style=\"color: #800080; text-decoration-color: #800080; font-weight: bold\">torch.Size</span><span style=\"font-weight: bold\">([</span><span style=\"color: #008080; text-decoration-color: #008080; font-weight: bold\">768</span><span style=\"font-weight: bold\">])</span>\n",
       "torch.float16\n",
       "</pre>\n"
      ],
      "text/plain": [
       "vision_model.encoder.layers.\u001b[1;36m5.\u001b[0mself_attn.k_proj.bias\n",
       "\u001b[1;35mtorch.Size\u001b[0m\u001b[1m(\u001b[0m\u001b[1m[\u001b[0m\u001b[1;36m768\u001b[0m\u001b[1m]\u001b[0m\u001b[1m)\u001b[0m\n",
       "torch.float16\n"
      ]
     },
     "metadata": {},
     "output_type": "display_data"
    },
    {
     "data": {
      "text/html": [
       "<pre style=\"white-space:pre;overflow-x:auto;line-height:normal;font-family:Menlo,'DejaVu Sans Mono',consolas,'Courier New',monospace\">vision_model.encoder.layers.<span style=\"color: #008080; text-decoration-color: #008080; font-weight: bold\">5.</span>self_attn.v_proj.weight\n",
       "<span style=\"color: #800080; text-decoration-color: #800080; font-weight: bold\">torch.Size</span><span style=\"font-weight: bold\">([</span><span style=\"color: #008080; text-decoration-color: #008080; font-weight: bold\">768</span>, <span style=\"color: #008080; text-decoration-color: #008080; font-weight: bold\">768</span><span style=\"font-weight: bold\">])</span>\n",
       "torch.float16\n",
       "</pre>\n"
      ],
      "text/plain": [
       "vision_model.encoder.layers.\u001b[1;36m5.\u001b[0mself_attn.v_proj.weight\n",
       "\u001b[1;35mtorch.Size\u001b[0m\u001b[1m(\u001b[0m\u001b[1m[\u001b[0m\u001b[1;36m768\u001b[0m, \u001b[1;36m768\u001b[0m\u001b[1m]\u001b[0m\u001b[1m)\u001b[0m\n",
       "torch.float16\n"
      ]
     },
     "metadata": {},
     "output_type": "display_data"
    },
    {
     "data": {
      "text/html": [
       "<pre style=\"white-space:pre;overflow-x:auto;line-height:normal;font-family:Menlo,'DejaVu Sans Mono',consolas,'Courier New',monospace\">vision_model.encoder.layers.<span style=\"color: #008080; text-decoration-color: #008080; font-weight: bold\">5.</span>self_attn.v_proj.bias\n",
       "<span style=\"color: #800080; text-decoration-color: #800080; font-weight: bold\">torch.Size</span><span style=\"font-weight: bold\">([</span><span style=\"color: #008080; text-decoration-color: #008080; font-weight: bold\">768</span><span style=\"font-weight: bold\">])</span>\n",
       "torch.float16\n",
       "</pre>\n"
      ],
      "text/plain": [
       "vision_model.encoder.layers.\u001b[1;36m5.\u001b[0mself_attn.v_proj.bias\n",
       "\u001b[1;35mtorch.Size\u001b[0m\u001b[1m(\u001b[0m\u001b[1m[\u001b[0m\u001b[1;36m768\u001b[0m\u001b[1m]\u001b[0m\u001b[1m)\u001b[0m\n",
       "torch.float16\n"
      ]
     },
     "metadata": {},
     "output_type": "display_data"
    },
    {
     "data": {
      "text/html": [
       "<pre style=\"white-space:pre;overflow-x:auto;line-height:normal;font-family:Menlo,'DejaVu Sans Mono',consolas,'Courier New',monospace\">vision_model.encoder.layers.<span style=\"color: #008080; text-decoration-color: #008080; font-weight: bold\">5.</span>self_attn.q_proj.weight\n",
       "<span style=\"color: #800080; text-decoration-color: #800080; font-weight: bold\">torch.Size</span><span style=\"font-weight: bold\">([</span><span style=\"color: #008080; text-decoration-color: #008080; font-weight: bold\">768</span>, <span style=\"color: #008080; text-decoration-color: #008080; font-weight: bold\">768</span><span style=\"font-weight: bold\">])</span>\n",
       "torch.float16\n",
       "</pre>\n"
      ],
      "text/plain": [
       "vision_model.encoder.layers.\u001b[1;36m5.\u001b[0mself_attn.q_proj.weight\n",
       "\u001b[1;35mtorch.Size\u001b[0m\u001b[1m(\u001b[0m\u001b[1m[\u001b[0m\u001b[1;36m768\u001b[0m, \u001b[1;36m768\u001b[0m\u001b[1m]\u001b[0m\u001b[1m)\u001b[0m\n",
       "torch.float16\n"
      ]
     },
     "metadata": {},
     "output_type": "display_data"
    },
    {
     "data": {
      "text/html": [
       "<pre style=\"white-space:pre;overflow-x:auto;line-height:normal;font-family:Menlo,'DejaVu Sans Mono',consolas,'Courier New',monospace\">vision_model.encoder.layers.<span style=\"color: #008080; text-decoration-color: #008080; font-weight: bold\">5.</span>self_attn.q_proj.bias\n",
       "<span style=\"color: #800080; text-decoration-color: #800080; font-weight: bold\">torch.Size</span><span style=\"font-weight: bold\">([</span><span style=\"color: #008080; text-decoration-color: #008080; font-weight: bold\">768</span><span style=\"font-weight: bold\">])</span>\n",
       "torch.float16\n",
       "</pre>\n"
      ],
      "text/plain": [
       "vision_model.encoder.layers.\u001b[1;36m5.\u001b[0mself_attn.q_proj.bias\n",
       "\u001b[1;35mtorch.Size\u001b[0m\u001b[1m(\u001b[0m\u001b[1m[\u001b[0m\u001b[1;36m768\u001b[0m\u001b[1m]\u001b[0m\u001b[1m)\u001b[0m\n",
       "torch.float16\n"
      ]
     },
     "metadata": {},
     "output_type": "display_data"
    },
    {
     "data": {
      "text/html": [
       "<pre style=\"white-space:pre;overflow-x:auto;line-height:normal;font-family:Menlo,'DejaVu Sans Mono',consolas,'Courier New',monospace\">vision_model.encoder.layers.<span style=\"color: #008080; text-decoration-color: #008080; font-weight: bold\">5.</span>self_attn.out_proj.weight\n",
       "<span style=\"color: #800080; text-decoration-color: #800080; font-weight: bold\">torch.Size</span><span style=\"font-weight: bold\">([</span><span style=\"color: #008080; text-decoration-color: #008080; font-weight: bold\">768</span>, <span style=\"color: #008080; text-decoration-color: #008080; font-weight: bold\">768</span><span style=\"font-weight: bold\">])</span>\n",
       "torch.float16\n",
       "</pre>\n"
      ],
      "text/plain": [
       "vision_model.encoder.layers.\u001b[1;36m5.\u001b[0mself_attn.out_proj.weight\n",
       "\u001b[1;35mtorch.Size\u001b[0m\u001b[1m(\u001b[0m\u001b[1m[\u001b[0m\u001b[1;36m768\u001b[0m, \u001b[1;36m768\u001b[0m\u001b[1m]\u001b[0m\u001b[1m)\u001b[0m\n",
       "torch.float16\n"
      ]
     },
     "metadata": {},
     "output_type": "display_data"
    },
    {
     "data": {
      "text/html": [
       "<pre style=\"white-space:pre;overflow-x:auto;line-height:normal;font-family:Menlo,'DejaVu Sans Mono',consolas,'Courier New',monospace\">vision_model.encoder.layers.<span style=\"color: #008080; text-decoration-color: #008080; font-weight: bold\">5.</span>self_attn.out_proj.bias\n",
       "<span style=\"color: #800080; text-decoration-color: #800080; font-weight: bold\">torch.Size</span><span style=\"font-weight: bold\">([</span><span style=\"color: #008080; text-decoration-color: #008080; font-weight: bold\">768</span><span style=\"font-weight: bold\">])</span>\n",
       "torch.float16\n",
       "</pre>\n"
      ],
      "text/plain": [
       "vision_model.encoder.layers.\u001b[1;36m5.\u001b[0mself_attn.out_proj.bias\n",
       "\u001b[1;35mtorch.Size\u001b[0m\u001b[1m(\u001b[0m\u001b[1m[\u001b[0m\u001b[1;36m768\u001b[0m\u001b[1m]\u001b[0m\u001b[1m)\u001b[0m\n",
       "torch.float16\n"
      ]
     },
     "metadata": {},
     "output_type": "display_data"
    },
    {
     "data": {
      "text/html": [
       "<pre style=\"white-space:pre;overflow-x:auto;line-height:normal;font-family:Menlo,'DejaVu Sans Mono',consolas,'Courier New',monospace\">vision_model.encoder.layers.<span style=\"color: #008080; text-decoration-color: #008080; font-weight: bold\">5.</span>layer_norm1.weight\n",
       "<span style=\"color: #800080; text-decoration-color: #800080; font-weight: bold\">torch.Size</span><span style=\"font-weight: bold\">([</span><span style=\"color: #008080; text-decoration-color: #008080; font-weight: bold\">768</span><span style=\"font-weight: bold\">])</span>\n",
       "torch.float16\n",
       "</pre>\n"
      ],
      "text/plain": [
       "vision_model.encoder.layers.\u001b[1;36m5.\u001b[0mlayer_norm1.weight\n",
       "\u001b[1;35mtorch.Size\u001b[0m\u001b[1m(\u001b[0m\u001b[1m[\u001b[0m\u001b[1;36m768\u001b[0m\u001b[1m]\u001b[0m\u001b[1m)\u001b[0m\n",
       "torch.float16\n"
      ]
     },
     "metadata": {},
     "output_type": "display_data"
    },
    {
     "data": {
      "text/html": [
       "<pre style=\"white-space:pre;overflow-x:auto;line-height:normal;font-family:Menlo,'DejaVu Sans Mono',consolas,'Courier New',monospace\">vision_model.encoder.layers.<span style=\"color: #008080; text-decoration-color: #008080; font-weight: bold\">5.</span>layer_norm1.bias\n",
       "<span style=\"color: #800080; text-decoration-color: #800080; font-weight: bold\">torch.Size</span><span style=\"font-weight: bold\">([</span><span style=\"color: #008080; text-decoration-color: #008080; font-weight: bold\">768</span><span style=\"font-weight: bold\">])</span>\n",
       "torch.float16\n",
       "</pre>\n"
      ],
      "text/plain": [
       "vision_model.encoder.layers.\u001b[1;36m5.\u001b[0mlayer_norm1.bias\n",
       "\u001b[1;35mtorch.Size\u001b[0m\u001b[1m(\u001b[0m\u001b[1m[\u001b[0m\u001b[1;36m768\u001b[0m\u001b[1m]\u001b[0m\u001b[1m)\u001b[0m\n",
       "torch.float16\n"
      ]
     },
     "metadata": {},
     "output_type": "display_data"
    },
    {
     "data": {
      "text/html": [
       "<pre style=\"white-space:pre;overflow-x:auto;line-height:normal;font-family:Menlo,'DejaVu Sans Mono',consolas,'Courier New',monospace\">vision_model.encoder.layers.<span style=\"color: #008080; text-decoration-color: #008080; font-weight: bold\">5.</span>mlp.fc1.weight\n",
       "<span style=\"color: #800080; text-decoration-color: #800080; font-weight: bold\">torch.Size</span><span style=\"font-weight: bold\">([</span><span style=\"color: #008080; text-decoration-color: #008080; font-weight: bold\">3072</span>, <span style=\"color: #008080; text-decoration-color: #008080; font-weight: bold\">768</span><span style=\"font-weight: bold\">])</span>\n",
       "torch.float16\n",
       "</pre>\n"
      ],
      "text/plain": [
       "vision_model.encoder.layers.\u001b[1;36m5.\u001b[0mmlp.fc1.weight\n",
       "\u001b[1;35mtorch.Size\u001b[0m\u001b[1m(\u001b[0m\u001b[1m[\u001b[0m\u001b[1;36m3072\u001b[0m, \u001b[1;36m768\u001b[0m\u001b[1m]\u001b[0m\u001b[1m)\u001b[0m\n",
       "torch.float16\n"
      ]
     },
     "metadata": {},
     "output_type": "display_data"
    },
    {
     "data": {
      "text/html": [
       "<pre style=\"white-space:pre;overflow-x:auto;line-height:normal;font-family:Menlo,'DejaVu Sans Mono',consolas,'Courier New',monospace\">vision_model.encoder.layers.<span style=\"color: #008080; text-decoration-color: #008080; font-weight: bold\">5.</span>mlp.fc1.bias\n",
       "<span style=\"color: #800080; text-decoration-color: #800080; font-weight: bold\">torch.Size</span><span style=\"font-weight: bold\">([</span><span style=\"color: #008080; text-decoration-color: #008080; font-weight: bold\">3072</span><span style=\"font-weight: bold\">])</span>\n",
       "torch.float16\n",
       "</pre>\n"
      ],
      "text/plain": [
       "vision_model.encoder.layers.\u001b[1;36m5.\u001b[0mmlp.fc1.bias\n",
       "\u001b[1;35mtorch.Size\u001b[0m\u001b[1m(\u001b[0m\u001b[1m[\u001b[0m\u001b[1;36m3072\u001b[0m\u001b[1m]\u001b[0m\u001b[1m)\u001b[0m\n",
       "torch.float16\n"
      ]
     },
     "metadata": {},
     "output_type": "display_data"
    },
    {
     "data": {
      "text/html": [
       "<pre style=\"white-space:pre;overflow-x:auto;line-height:normal;font-family:Menlo,'DejaVu Sans Mono',consolas,'Courier New',monospace\">vision_model.encoder.layers.<span style=\"color: #008080; text-decoration-color: #008080; font-weight: bold\">5.</span>mlp.fc2.weight\n",
       "<span style=\"color: #800080; text-decoration-color: #800080; font-weight: bold\">torch.Size</span><span style=\"font-weight: bold\">([</span><span style=\"color: #008080; text-decoration-color: #008080; font-weight: bold\">768</span>, <span style=\"color: #008080; text-decoration-color: #008080; font-weight: bold\">3072</span><span style=\"font-weight: bold\">])</span>\n",
       "torch.float16\n",
       "</pre>\n"
      ],
      "text/plain": [
       "vision_model.encoder.layers.\u001b[1;36m5.\u001b[0mmlp.fc2.weight\n",
       "\u001b[1;35mtorch.Size\u001b[0m\u001b[1m(\u001b[0m\u001b[1m[\u001b[0m\u001b[1;36m768\u001b[0m, \u001b[1;36m3072\u001b[0m\u001b[1m]\u001b[0m\u001b[1m)\u001b[0m\n",
       "torch.float16\n"
      ]
     },
     "metadata": {},
     "output_type": "display_data"
    },
    {
     "data": {
      "text/html": [
       "<pre style=\"white-space:pre;overflow-x:auto;line-height:normal;font-family:Menlo,'DejaVu Sans Mono',consolas,'Courier New',monospace\">vision_model.encoder.layers.<span style=\"color: #008080; text-decoration-color: #008080; font-weight: bold\">5.</span>mlp.fc2.bias\n",
       "<span style=\"color: #800080; text-decoration-color: #800080; font-weight: bold\">torch.Size</span><span style=\"font-weight: bold\">([</span><span style=\"color: #008080; text-decoration-color: #008080; font-weight: bold\">768</span><span style=\"font-weight: bold\">])</span>\n",
       "torch.float16\n",
       "</pre>\n"
      ],
      "text/plain": [
       "vision_model.encoder.layers.\u001b[1;36m5.\u001b[0mmlp.fc2.bias\n",
       "\u001b[1;35mtorch.Size\u001b[0m\u001b[1m(\u001b[0m\u001b[1m[\u001b[0m\u001b[1;36m768\u001b[0m\u001b[1m]\u001b[0m\u001b[1m)\u001b[0m\n",
       "torch.float16\n"
      ]
     },
     "metadata": {},
     "output_type": "display_data"
    },
    {
     "data": {
      "text/html": [
       "<pre style=\"white-space:pre;overflow-x:auto;line-height:normal;font-family:Menlo,'DejaVu Sans Mono',consolas,'Courier New',monospace\">vision_model.encoder.layers.<span style=\"color: #008080; text-decoration-color: #008080; font-weight: bold\">5.</span>layer_norm2.weight\n",
       "<span style=\"color: #800080; text-decoration-color: #800080; font-weight: bold\">torch.Size</span><span style=\"font-weight: bold\">([</span><span style=\"color: #008080; text-decoration-color: #008080; font-weight: bold\">768</span><span style=\"font-weight: bold\">])</span>\n",
       "torch.float16\n",
       "</pre>\n"
      ],
      "text/plain": [
       "vision_model.encoder.layers.\u001b[1;36m5.\u001b[0mlayer_norm2.weight\n",
       "\u001b[1;35mtorch.Size\u001b[0m\u001b[1m(\u001b[0m\u001b[1m[\u001b[0m\u001b[1;36m768\u001b[0m\u001b[1m]\u001b[0m\u001b[1m)\u001b[0m\n",
       "torch.float16\n"
      ]
     },
     "metadata": {},
     "output_type": "display_data"
    },
    {
     "data": {
      "text/html": [
       "<pre style=\"white-space:pre;overflow-x:auto;line-height:normal;font-family:Menlo,'DejaVu Sans Mono',consolas,'Courier New',monospace\">vision_model.encoder.layers.<span style=\"color: #008080; text-decoration-color: #008080; font-weight: bold\">5.</span>layer_norm2.bias\n",
       "<span style=\"color: #800080; text-decoration-color: #800080; font-weight: bold\">torch.Size</span><span style=\"font-weight: bold\">([</span><span style=\"color: #008080; text-decoration-color: #008080; font-weight: bold\">768</span><span style=\"font-weight: bold\">])</span>\n",
       "torch.float16\n",
       "</pre>\n"
      ],
      "text/plain": [
       "vision_model.encoder.layers.\u001b[1;36m5.\u001b[0mlayer_norm2.bias\n",
       "\u001b[1;35mtorch.Size\u001b[0m\u001b[1m(\u001b[0m\u001b[1m[\u001b[0m\u001b[1;36m768\u001b[0m\u001b[1m]\u001b[0m\u001b[1m)\u001b[0m\n",
       "torch.float16\n"
      ]
     },
     "metadata": {},
     "output_type": "display_data"
    },
    {
     "data": {
      "text/html": [
       "<pre style=\"white-space:pre;overflow-x:auto;line-height:normal;font-family:Menlo,'DejaVu Sans Mono',consolas,'Courier New',monospace\">vision_model.encoder.layers.<span style=\"color: #008080; text-decoration-color: #008080; font-weight: bold\">6.</span>self_attn.k_proj.weight\n",
       "<span style=\"color: #800080; text-decoration-color: #800080; font-weight: bold\">torch.Size</span><span style=\"font-weight: bold\">([</span><span style=\"color: #008080; text-decoration-color: #008080; font-weight: bold\">768</span>, <span style=\"color: #008080; text-decoration-color: #008080; font-weight: bold\">768</span><span style=\"font-weight: bold\">])</span>\n",
       "torch.float16\n",
       "</pre>\n"
      ],
      "text/plain": [
       "vision_model.encoder.layers.\u001b[1;36m6.\u001b[0mself_attn.k_proj.weight\n",
       "\u001b[1;35mtorch.Size\u001b[0m\u001b[1m(\u001b[0m\u001b[1m[\u001b[0m\u001b[1;36m768\u001b[0m, \u001b[1;36m768\u001b[0m\u001b[1m]\u001b[0m\u001b[1m)\u001b[0m\n",
       "torch.float16\n"
      ]
     },
     "metadata": {},
     "output_type": "display_data"
    },
    {
     "data": {
      "text/html": [
       "<pre style=\"white-space:pre;overflow-x:auto;line-height:normal;font-family:Menlo,'DejaVu Sans Mono',consolas,'Courier New',monospace\">vision_model.encoder.layers.<span style=\"color: #008080; text-decoration-color: #008080; font-weight: bold\">6.</span>self_attn.k_proj.bias\n",
       "<span style=\"color: #800080; text-decoration-color: #800080; font-weight: bold\">torch.Size</span><span style=\"font-weight: bold\">([</span><span style=\"color: #008080; text-decoration-color: #008080; font-weight: bold\">768</span><span style=\"font-weight: bold\">])</span>\n",
       "torch.float16\n",
       "</pre>\n"
      ],
      "text/plain": [
       "vision_model.encoder.layers.\u001b[1;36m6.\u001b[0mself_attn.k_proj.bias\n",
       "\u001b[1;35mtorch.Size\u001b[0m\u001b[1m(\u001b[0m\u001b[1m[\u001b[0m\u001b[1;36m768\u001b[0m\u001b[1m]\u001b[0m\u001b[1m)\u001b[0m\n",
       "torch.float16\n"
      ]
     },
     "metadata": {},
     "output_type": "display_data"
    },
    {
     "data": {
      "text/html": [
       "<pre style=\"white-space:pre;overflow-x:auto;line-height:normal;font-family:Menlo,'DejaVu Sans Mono',consolas,'Courier New',monospace\">vision_model.encoder.layers.<span style=\"color: #008080; text-decoration-color: #008080; font-weight: bold\">6.</span>self_attn.v_proj.weight\n",
       "<span style=\"color: #800080; text-decoration-color: #800080; font-weight: bold\">torch.Size</span><span style=\"font-weight: bold\">([</span><span style=\"color: #008080; text-decoration-color: #008080; font-weight: bold\">768</span>, <span style=\"color: #008080; text-decoration-color: #008080; font-weight: bold\">768</span><span style=\"font-weight: bold\">])</span>\n",
       "torch.float16\n",
       "</pre>\n"
      ],
      "text/plain": [
       "vision_model.encoder.layers.\u001b[1;36m6.\u001b[0mself_attn.v_proj.weight\n",
       "\u001b[1;35mtorch.Size\u001b[0m\u001b[1m(\u001b[0m\u001b[1m[\u001b[0m\u001b[1;36m768\u001b[0m, \u001b[1;36m768\u001b[0m\u001b[1m]\u001b[0m\u001b[1m)\u001b[0m\n",
       "torch.float16\n"
      ]
     },
     "metadata": {},
     "output_type": "display_data"
    },
    {
     "data": {
      "text/html": [
       "<pre style=\"white-space:pre;overflow-x:auto;line-height:normal;font-family:Menlo,'DejaVu Sans Mono',consolas,'Courier New',monospace\">vision_model.encoder.layers.<span style=\"color: #008080; text-decoration-color: #008080; font-weight: bold\">6.</span>self_attn.v_proj.bias\n",
       "<span style=\"color: #800080; text-decoration-color: #800080; font-weight: bold\">torch.Size</span><span style=\"font-weight: bold\">([</span><span style=\"color: #008080; text-decoration-color: #008080; font-weight: bold\">768</span><span style=\"font-weight: bold\">])</span>\n",
       "torch.float16\n",
       "</pre>\n"
      ],
      "text/plain": [
       "vision_model.encoder.layers.\u001b[1;36m6.\u001b[0mself_attn.v_proj.bias\n",
       "\u001b[1;35mtorch.Size\u001b[0m\u001b[1m(\u001b[0m\u001b[1m[\u001b[0m\u001b[1;36m768\u001b[0m\u001b[1m]\u001b[0m\u001b[1m)\u001b[0m\n",
       "torch.float16\n"
      ]
     },
     "metadata": {},
     "output_type": "display_data"
    },
    {
     "data": {
      "text/html": [
       "<pre style=\"white-space:pre;overflow-x:auto;line-height:normal;font-family:Menlo,'DejaVu Sans Mono',consolas,'Courier New',monospace\">vision_model.encoder.layers.<span style=\"color: #008080; text-decoration-color: #008080; font-weight: bold\">6.</span>self_attn.q_proj.weight\n",
       "<span style=\"color: #800080; text-decoration-color: #800080; font-weight: bold\">torch.Size</span><span style=\"font-weight: bold\">([</span><span style=\"color: #008080; text-decoration-color: #008080; font-weight: bold\">768</span>, <span style=\"color: #008080; text-decoration-color: #008080; font-weight: bold\">768</span><span style=\"font-weight: bold\">])</span>\n",
       "torch.float16\n",
       "</pre>\n"
      ],
      "text/plain": [
       "vision_model.encoder.layers.\u001b[1;36m6.\u001b[0mself_attn.q_proj.weight\n",
       "\u001b[1;35mtorch.Size\u001b[0m\u001b[1m(\u001b[0m\u001b[1m[\u001b[0m\u001b[1;36m768\u001b[0m, \u001b[1;36m768\u001b[0m\u001b[1m]\u001b[0m\u001b[1m)\u001b[0m\n",
       "torch.float16\n"
      ]
     },
     "metadata": {},
     "output_type": "display_data"
    },
    {
     "data": {
      "text/html": [
       "<pre style=\"white-space:pre;overflow-x:auto;line-height:normal;font-family:Menlo,'DejaVu Sans Mono',consolas,'Courier New',monospace\">vision_model.encoder.layers.<span style=\"color: #008080; text-decoration-color: #008080; font-weight: bold\">6.</span>self_attn.q_proj.bias\n",
       "<span style=\"color: #800080; text-decoration-color: #800080; font-weight: bold\">torch.Size</span><span style=\"font-weight: bold\">([</span><span style=\"color: #008080; text-decoration-color: #008080; font-weight: bold\">768</span><span style=\"font-weight: bold\">])</span>\n",
       "torch.float16\n",
       "</pre>\n"
      ],
      "text/plain": [
       "vision_model.encoder.layers.\u001b[1;36m6.\u001b[0mself_attn.q_proj.bias\n",
       "\u001b[1;35mtorch.Size\u001b[0m\u001b[1m(\u001b[0m\u001b[1m[\u001b[0m\u001b[1;36m768\u001b[0m\u001b[1m]\u001b[0m\u001b[1m)\u001b[0m\n",
       "torch.float16\n"
      ]
     },
     "metadata": {},
     "output_type": "display_data"
    },
    {
     "data": {
      "text/html": [
       "<pre style=\"white-space:pre;overflow-x:auto;line-height:normal;font-family:Menlo,'DejaVu Sans Mono',consolas,'Courier New',monospace\">vision_model.encoder.layers.<span style=\"color: #008080; text-decoration-color: #008080; font-weight: bold\">6.</span>self_attn.out_proj.weight\n",
       "<span style=\"color: #800080; text-decoration-color: #800080; font-weight: bold\">torch.Size</span><span style=\"font-weight: bold\">([</span><span style=\"color: #008080; text-decoration-color: #008080; font-weight: bold\">768</span>, <span style=\"color: #008080; text-decoration-color: #008080; font-weight: bold\">768</span><span style=\"font-weight: bold\">])</span>\n",
       "torch.float16\n",
       "</pre>\n"
      ],
      "text/plain": [
       "vision_model.encoder.layers.\u001b[1;36m6.\u001b[0mself_attn.out_proj.weight\n",
       "\u001b[1;35mtorch.Size\u001b[0m\u001b[1m(\u001b[0m\u001b[1m[\u001b[0m\u001b[1;36m768\u001b[0m, \u001b[1;36m768\u001b[0m\u001b[1m]\u001b[0m\u001b[1m)\u001b[0m\n",
       "torch.float16\n"
      ]
     },
     "metadata": {},
     "output_type": "display_data"
    },
    {
     "data": {
      "text/html": [
       "<pre style=\"white-space:pre;overflow-x:auto;line-height:normal;font-family:Menlo,'DejaVu Sans Mono',consolas,'Courier New',monospace\">vision_model.encoder.layers.<span style=\"color: #008080; text-decoration-color: #008080; font-weight: bold\">6.</span>self_attn.out_proj.bias\n",
       "<span style=\"color: #800080; text-decoration-color: #800080; font-weight: bold\">torch.Size</span><span style=\"font-weight: bold\">([</span><span style=\"color: #008080; text-decoration-color: #008080; font-weight: bold\">768</span><span style=\"font-weight: bold\">])</span>\n",
       "torch.float16\n",
       "</pre>\n"
      ],
      "text/plain": [
       "vision_model.encoder.layers.\u001b[1;36m6.\u001b[0mself_attn.out_proj.bias\n",
       "\u001b[1;35mtorch.Size\u001b[0m\u001b[1m(\u001b[0m\u001b[1m[\u001b[0m\u001b[1;36m768\u001b[0m\u001b[1m]\u001b[0m\u001b[1m)\u001b[0m\n",
       "torch.float16\n"
      ]
     },
     "metadata": {},
     "output_type": "display_data"
    },
    {
     "data": {
      "text/html": [
       "<pre style=\"white-space:pre;overflow-x:auto;line-height:normal;font-family:Menlo,'DejaVu Sans Mono',consolas,'Courier New',monospace\">vision_model.encoder.layers.<span style=\"color: #008080; text-decoration-color: #008080; font-weight: bold\">6.</span>layer_norm1.weight\n",
       "<span style=\"color: #800080; text-decoration-color: #800080; font-weight: bold\">torch.Size</span><span style=\"font-weight: bold\">([</span><span style=\"color: #008080; text-decoration-color: #008080; font-weight: bold\">768</span><span style=\"font-weight: bold\">])</span>\n",
       "torch.float16\n",
       "</pre>\n"
      ],
      "text/plain": [
       "vision_model.encoder.layers.\u001b[1;36m6.\u001b[0mlayer_norm1.weight\n",
       "\u001b[1;35mtorch.Size\u001b[0m\u001b[1m(\u001b[0m\u001b[1m[\u001b[0m\u001b[1;36m768\u001b[0m\u001b[1m]\u001b[0m\u001b[1m)\u001b[0m\n",
       "torch.float16\n"
      ]
     },
     "metadata": {},
     "output_type": "display_data"
    },
    {
     "data": {
      "text/html": [
       "<pre style=\"white-space:pre;overflow-x:auto;line-height:normal;font-family:Menlo,'DejaVu Sans Mono',consolas,'Courier New',monospace\">vision_model.encoder.layers.<span style=\"color: #008080; text-decoration-color: #008080; font-weight: bold\">6.</span>layer_norm1.bias\n",
       "<span style=\"color: #800080; text-decoration-color: #800080; font-weight: bold\">torch.Size</span><span style=\"font-weight: bold\">([</span><span style=\"color: #008080; text-decoration-color: #008080; font-weight: bold\">768</span><span style=\"font-weight: bold\">])</span>\n",
       "torch.float16\n",
       "</pre>\n"
      ],
      "text/plain": [
       "vision_model.encoder.layers.\u001b[1;36m6.\u001b[0mlayer_norm1.bias\n",
       "\u001b[1;35mtorch.Size\u001b[0m\u001b[1m(\u001b[0m\u001b[1m[\u001b[0m\u001b[1;36m768\u001b[0m\u001b[1m]\u001b[0m\u001b[1m)\u001b[0m\n",
       "torch.float16\n"
      ]
     },
     "metadata": {},
     "output_type": "display_data"
    },
    {
     "data": {
      "text/html": [
       "<pre style=\"white-space:pre;overflow-x:auto;line-height:normal;font-family:Menlo,'DejaVu Sans Mono',consolas,'Courier New',monospace\">vision_model.encoder.layers.<span style=\"color: #008080; text-decoration-color: #008080; font-weight: bold\">6.</span>mlp.fc1.weight\n",
       "<span style=\"color: #800080; text-decoration-color: #800080; font-weight: bold\">torch.Size</span><span style=\"font-weight: bold\">([</span><span style=\"color: #008080; text-decoration-color: #008080; font-weight: bold\">3072</span>, <span style=\"color: #008080; text-decoration-color: #008080; font-weight: bold\">768</span><span style=\"font-weight: bold\">])</span>\n",
       "torch.float16\n",
       "</pre>\n"
      ],
      "text/plain": [
       "vision_model.encoder.layers.\u001b[1;36m6.\u001b[0mmlp.fc1.weight\n",
       "\u001b[1;35mtorch.Size\u001b[0m\u001b[1m(\u001b[0m\u001b[1m[\u001b[0m\u001b[1;36m3072\u001b[0m, \u001b[1;36m768\u001b[0m\u001b[1m]\u001b[0m\u001b[1m)\u001b[0m\n",
       "torch.float16\n"
      ]
     },
     "metadata": {},
     "output_type": "display_data"
    },
    {
     "data": {
      "text/html": [
       "<pre style=\"white-space:pre;overflow-x:auto;line-height:normal;font-family:Menlo,'DejaVu Sans Mono',consolas,'Courier New',monospace\">vision_model.encoder.layers.<span style=\"color: #008080; text-decoration-color: #008080; font-weight: bold\">6.</span>mlp.fc1.bias\n",
       "<span style=\"color: #800080; text-decoration-color: #800080; font-weight: bold\">torch.Size</span><span style=\"font-weight: bold\">([</span><span style=\"color: #008080; text-decoration-color: #008080; font-weight: bold\">3072</span><span style=\"font-weight: bold\">])</span>\n",
       "torch.float16\n",
       "</pre>\n"
      ],
      "text/plain": [
       "vision_model.encoder.layers.\u001b[1;36m6.\u001b[0mmlp.fc1.bias\n",
       "\u001b[1;35mtorch.Size\u001b[0m\u001b[1m(\u001b[0m\u001b[1m[\u001b[0m\u001b[1;36m3072\u001b[0m\u001b[1m]\u001b[0m\u001b[1m)\u001b[0m\n",
       "torch.float16\n"
      ]
     },
     "metadata": {},
     "output_type": "display_data"
    },
    {
     "data": {
      "text/html": [
       "<pre style=\"white-space:pre;overflow-x:auto;line-height:normal;font-family:Menlo,'DejaVu Sans Mono',consolas,'Courier New',monospace\">vision_model.encoder.layers.<span style=\"color: #008080; text-decoration-color: #008080; font-weight: bold\">6.</span>mlp.fc2.weight\n",
       "<span style=\"color: #800080; text-decoration-color: #800080; font-weight: bold\">torch.Size</span><span style=\"font-weight: bold\">([</span><span style=\"color: #008080; text-decoration-color: #008080; font-weight: bold\">768</span>, <span style=\"color: #008080; text-decoration-color: #008080; font-weight: bold\">3072</span><span style=\"font-weight: bold\">])</span>\n",
       "torch.float16\n",
       "</pre>\n"
      ],
      "text/plain": [
       "vision_model.encoder.layers.\u001b[1;36m6.\u001b[0mmlp.fc2.weight\n",
       "\u001b[1;35mtorch.Size\u001b[0m\u001b[1m(\u001b[0m\u001b[1m[\u001b[0m\u001b[1;36m768\u001b[0m, \u001b[1;36m3072\u001b[0m\u001b[1m]\u001b[0m\u001b[1m)\u001b[0m\n",
       "torch.float16\n"
      ]
     },
     "metadata": {},
     "output_type": "display_data"
    },
    {
     "data": {
      "text/html": [
       "<pre style=\"white-space:pre;overflow-x:auto;line-height:normal;font-family:Menlo,'DejaVu Sans Mono',consolas,'Courier New',monospace\">vision_model.encoder.layers.<span style=\"color: #008080; text-decoration-color: #008080; font-weight: bold\">6.</span>mlp.fc2.bias\n",
       "<span style=\"color: #800080; text-decoration-color: #800080; font-weight: bold\">torch.Size</span><span style=\"font-weight: bold\">([</span><span style=\"color: #008080; text-decoration-color: #008080; font-weight: bold\">768</span><span style=\"font-weight: bold\">])</span>\n",
       "torch.float16\n",
       "</pre>\n"
      ],
      "text/plain": [
       "vision_model.encoder.layers.\u001b[1;36m6.\u001b[0mmlp.fc2.bias\n",
       "\u001b[1;35mtorch.Size\u001b[0m\u001b[1m(\u001b[0m\u001b[1m[\u001b[0m\u001b[1;36m768\u001b[0m\u001b[1m]\u001b[0m\u001b[1m)\u001b[0m\n",
       "torch.float16\n"
      ]
     },
     "metadata": {},
     "output_type": "display_data"
    },
    {
     "data": {
      "text/html": [
       "<pre style=\"white-space:pre;overflow-x:auto;line-height:normal;font-family:Menlo,'DejaVu Sans Mono',consolas,'Courier New',monospace\">vision_model.encoder.layers.<span style=\"color: #008080; text-decoration-color: #008080; font-weight: bold\">6.</span>layer_norm2.weight\n",
       "<span style=\"color: #800080; text-decoration-color: #800080; font-weight: bold\">torch.Size</span><span style=\"font-weight: bold\">([</span><span style=\"color: #008080; text-decoration-color: #008080; font-weight: bold\">768</span><span style=\"font-weight: bold\">])</span>\n",
       "torch.float16\n",
       "</pre>\n"
      ],
      "text/plain": [
       "vision_model.encoder.layers.\u001b[1;36m6.\u001b[0mlayer_norm2.weight\n",
       "\u001b[1;35mtorch.Size\u001b[0m\u001b[1m(\u001b[0m\u001b[1m[\u001b[0m\u001b[1;36m768\u001b[0m\u001b[1m]\u001b[0m\u001b[1m)\u001b[0m\n",
       "torch.float16\n"
      ]
     },
     "metadata": {},
     "output_type": "display_data"
    },
    {
     "data": {
      "text/html": [
       "<pre style=\"white-space:pre;overflow-x:auto;line-height:normal;font-family:Menlo,'DejaVu Sans Mono',consolas,'Courier New',monospace\">vision_model.encoder.layers.<span style=\"color: #008080; text-decoration-color: #008080; font-weight: bold\">6.</span>layer_norm2.bias\n",
       "<span style=\"color: #800080; text-decoration-color: #800080; font-weight: bold\">torch.Size</span><span style=\"font-weight: bold\">([</span><span style=\"color: #008080; text-decoration-color: #008080; font-weight: bold\">768</span><span style=\"font-weight: bold\">])</span>\n",
       "torch.float16\n",
       "</pre>\n"
      ],
      "text/plain": [
       "vision_model.encoder.layers.\u001b[1;36m6.\u001b[0mlayer_norm2.bias\n",
       "\u001b[1;35mtorch.Size\u001b[0m\u001b[1m(\u001b[0m\u001b[1m[\u001b[0m\u001b[1;36m768\u001b[0m\u001b[1m]\u001b[0m\u001b[1m)\u001b[0m\n",
       "torch.float16\n"
      ]
     },
     "metadata": {},
     "output_type": "display_data"
    },
    {
     "data": {
      "text/html": [
       "<pre style=\"white-space:pre;overflow-x:auto;line-height:normal;font-family:Menlo,'DejaVu Sans Mono',consolas,'Courier New',monospace\">vision_model.encoder.layers.<span style=\"color: #008080; text-decoration-color: #008080; font-weight: bold\">7.</span>self_attn.k_proj.weight\n",
       "<span style=\"color: #800080; text-decoration-color: #800080; font-weight: bold\">torch.Size</span><span style=\"font-weight: bold\">([</span><span style=\"color: #008080; text-decoration-color: #008080; font-weight: bold\">768</span>, <span style=\"color: #008080; text-decoration-color: #008080; font-weight: bold\">768</span><span style=\"font-weight: bold\">])</span>\n",
       "torch.float16\n",
       "</pre>\n"
      ],
      "text/plain": [
       "vision_model.encoder.layers.\u001b[1;36m7.\u001b[0mself_attn.k_proj.weight\n",
       "\u001b[1;35mtorch.Size\u001b[0m\u001b[1m(\u001b[0m\u001b[1m[\u001b[0m\u001b[1;36m768\u001b[0m, \u001b[1;36m768\u001b[0m\u001b[1m]\u001b[0m\u001b[1m)\u001b[0m\n",
       "torch.float16\n"
      ]
     },
     "metadata": {},
     "output_type": "display_data"
    },
    {
     "data": {
      "text/html": [
       "<pre style=\"white-space:pre;overflow-x:auto;line-height:normal;font-family:Menlo,'DejaVu Sans Mono',consolas,'Courier New',monospace\">vision_model.encoder.layers.<span style=\"color: #008080; text-decoration-color: #008080; font-weight: bold\">7.</span>self_attn.k_proj.bias\n",
       "<span style=\"color: #800080; text-decoration-color: #800080; font-weight: bold\">torch.Size</span><span style=\"font-weight: bold\">([</span><span style=\"color: #008080; text-decoration-color: #008080; font-weight: bold\">768</span><span style=\"font-weight: bold\">])</span>\n",
       "torch.float16\n",
       "</pre>\n"
      ],
      "text/plain": [
       "vision_model.encoder.layers.\u001b[1;36m7.\u001b[0mself_attn.k_proj.bias\n",
       "\u001b[1;35mtorch.Size\u001b[0m\u001b[1m(\u001b[0m\u001b[1m[\u001b[0m\u001b[1;36m768\u001b[0m\u001b[1m]\u001b[0m\u001b[1m)\u001b[0m\n",
       "torch.float16\n"
      ]
     },
     "metadata": {},
     "output_type": "display_data"
    },
    {
     "data": {
      "text/html": [
       "<pre style=\"white-space:pre;overflow-x:auto;line-height:normal;font-family:Menlo,'DejaVu Sans Mono',consolas,'Courier New',monospace\">vision_model.encoder.layers.<span style=\"color: #008080; text-decoration-color: #008080; font-weight: bold\">7.</span>self_attn.v_proj.weight\n",
       "<span style=\"color: #800080; text-decoration-color: #800080; font-weight: bold\">torch.Size</span><span style=\"font-weight: bold\">([</span><span style=\"color: #008080; text-decoration-color: #008080; font-weight: bold\">768</span>, <span style=\"color: #008080; text-decoration-color: #008080; font-weight: bold\">768</span><span style=\"font-weight: bold\">])</span>\n",
       "torch.float16\n",
       "</pre>\n"
      ],
      "text/plain": [
       "vision_model.encoder.layers.\u001b[1;36m7.\u001b[0mself_attn.v_proj.weight\n",
       "\u001b[1;35mtorch.Size\u001b[0m\u001b[1m(\u001b[0m\u001b[1m[\u001b[0m\u001b[1;36m768\u001b[0m, \u001b[1;36m768\u001b[0m\u001b[1m]\u001b[0m\u001b[1m)\u001b[0m\n",
       "torch.float16\n"
      ]
     },
     "metadata": {},
     "output_type": "display_data"
    },
    {
     "data": {
      "text/html": [
       "<pre style=\"white-space:pre;overflow-x:auto;line-height:normal;font-family:Menlo,'DejaVu Sans Mono',consolas,'Courier New',monospace\">vision_model.encoder.layers.<span style=\"color: #008080; text-decoration-color: #008080; font-weight: bold\">7.</span>self_attn.v_proj.bias\n",
       "<span style=\"color: #800080; text-decoration-color: #800080; font-weight: bold\">torch.Size</span><span style=\"font-weight: bold\">([</span><span style=\"color: #008080; text-decoration-color: #008080; font-weight: bold\">768</span><span style=\"font-weight: bold\">])</span>\n",
       "torch.float16\n",
       "</pre>\n"
      ],
      "text/plain": [
       "vision_model.encoder.layers.\u001b[1;36m7.\u001b[0mself_attn.v_proj.bias\n",
       "\u001b[1;35mtorch.Size\u001b[0m\u001b[1m(\u001b[0m\u001b[1m[\u001b[0m\u001b[1;36m768\u001b[0m\u001b[1m]\u001b[0m\u001b[1m)\u001b[0m\n",
       "torch.float16\n"
      ]
     },
     "metadata": {},
     "output_type": "display_data"
    },
    {
     "data": {
      "text/html": [
       "<pre style=\"white-space:pre;overflow-x:auto;line-height:normal;font-family:Menlo,'DejaVu Sans Mono',consolas,'Courier New',monospace\">vision_model.encoder.layers.<span style=\"color: #008080; text-decoration-color: #008080; font-weight: bold\">7.</span>self_attn.q_proj.weight\n",
       "<span style=\"color: #800080; text-decoration-color: #800080; font-weight: bold\">torch.Size</span><span style=\"font-weight: bold\">([</span><span style=\"color: #008080; text-decoration-color: #008080; font-weight: bold\">768</span>, <span style=\"color: #008080; text-decoration-color: #008080; font-weight: bold\">768</span><span style=\"font-weight: bold\">])</span>\n",
       "torch.float16\n",
       "</pre>\n"
      ],
      "text/plain": [
       "vision_model.encoder.layers.\u001b[1;36m7.\u001b[0mself_attn.q_proj.weight\n",
       "\u001b[1;35mtorch.Size\u001b[0m\u001b[1m(\u001b[0m\u001b[1m[\u001b[0m\u001b[1;36m768\u001b[0m, \u001b[1;36m768\u001b[0m\u001b[1m]\u001b[0m\u001b[1m)\u001b[0m\n",
       "torch.float16\n"
      ]
     },
     "metadata": {},
     "output_type": "display_data"
    },
    {
     "data": {
      "text/html": [
       "<pre style=\"white-space:pre;overflow-x:auto;line-height:normal;font-family:Menlo,'DejaVu Sans Mono',consolas,'Courier New',monospace\">vision_model.encoder.layers.<span style=\"color: #008080; text-decoration-color: #008080; font-weight: bold\">7.</span>self_attn.q_proj.bias\n",
       "<span style=\"color: #800080; text-decoration-color: #800080; font-weight: bold\">torch.Size</span><span style=\"font-weight: bold\">([</span><span style=\"color: #008080; text-decoration-color: #008080; font-weight: bold\">768</span><span style=\"font-weight: bold\">])</span>\n",
       "torch.float16\n",
       "</pre>\n"
      ],
      "text/plain": [
       "vision_model.encoder.layers.\u001b[1;36m7.\u001b[0mself_attn.q_proj.bias\n",
       "\u001b[1;35mtorch.Size\u001b[0m\u001b[1m(\u001b[0m\u001b[1m[\u001b[0m\u001b[1;36m768\u001b[0m\u001b[1m]\u001b[0m\u001b[1m)\u001b[0m\n",
       "torch.float16\n"
      ]
     },
     "metadata": {},
     "output_type": "display_data"
    },
    {
     "data": {
      "text/html": [
       "<pre style=\"white-space:pre;overflow-x:auto;line-height:normal;font-family:Menlo,'DejaVu Sans Mono',consolas,'Courier New',monospace\">vision_model.encoder.layers.<span style=\"color: #008080; text-decoration-color: #008080; font-weight: bold\">7.</span>self_attn.out_proj.weight\n",
       "<span style=\"color: #800080; text-decoration-color: #800080; font-weight: bold\">torch.Size</span><span style=\"font-weight: bold\">([</span><span style=\"color: #008080; text-decoration-color: #008080; font-weight: bold\">768</span>, <span style=\"color: #008080; text-decoration-color: #008080; font-weight: bold\">768</span><span style=\"font-weight: bold\">])</span>\n",
       "torch.float16\n",
       "</pre>\n"
      ],
      "text/plain": [
       "vision_model.encoder.layers.\u001b[1;36m7.\u001b[0mself_attn.out_proj.weight\n",
       "\u001b[1;35mtorch.Size\u001b[0m\u001b[1m(\u001b[0m\u001b[1m[\u001b[0m\u001b[1;36m768\u001b[0m, \u001b[1;36m768\u001b[0m\u001b[1m]\u001b[0m\u001b[1m)\u001b[0m\n",
       "torch.float16\n"
      ]
     },
     "metadata": {},
     "output_type": "display_data"
    },
    {
     "data": {
      "text/html": [
       "<pre style=\"white-space:pre;overflow-x:auto;line-height:normal;font-family:Menlo,'DejaVu Sans Mono',consolas,'Courier New',monospace\">vision_model.encoder.layers.<span style=\"color: #008080; text-decoration-color: #008080; font-weight: bold\">7.</span>self_attn.out_proj.bias\n",
       "<span style=\"color: #800080; text-decoration-color: #800080; font-weight: bold\">torch.Size</span><span style=\"font-weight: bold\">([</span><span style=\"color: #008080; text-decoration-color: #008080; font-weight: bold\">768</span><span style=\"font-weight: bold\">])</span>\n",
       "torch.float16\n",
       "</pre>\n"
      ],
      "text/plain": [
       "vision_model.encoder.layers.\u001b[1;36m7.\u001b[0mself_attn.out_proj.bias\n",
       "\u001b[1;35mtorch.Size\u001b[0m\u001b[1m(\u001b[0m\u001b[1m[\u001b[0m\u001b[1;36m768\u001b[0m\u001b[1m]\u001b[0m\u001b[1m)\u001b[0m\n",
       "torch.float16\n"
      ]
     },
     "metadata": {},
     "output_type": "display_data"
    },
    {
     "data": {
      "text/html": [
       "<pre style=\"white-space:pre;overflow-x:auto;line-height:normal;font-family:Menlo,'DejaVu Sans Mono',consolas,'Courier New',monospace\">vision_model.encoder.layers.<span style=\"color: #008080; text-decoration-color: #008080; font-weight: bold\">7.</span>layer_norm1.weight\n",
       "<span style=\"color: #800080; text-decoration-color: #800080; font-weight: bold\">torch.Size</span><span style=\"font-weight: bold\">([</span><span style=\"color: #008080; text-decoration-color: #008080; font-weight: bold\">768</span><span style=\"font-weight: bold\">])</span>\n",
       "torch.float16\n",
       "</pre>\n"
      ],
      "text/plain": [
       "vision_model.encoder.layers.\u001b[1;36m7.\u001b[0mlayer_norm1.weight\n",
       "\u001b[1;35mtorch.Size\u001b[0m\u001b[1m(\u001b[0m\u001b[1m[\u001b[0m\u001b[1;36m768\u001b[0m\u001b[1m]\u001b[0m\u001b[1m)\u001b[0m\n",
       "torch.float16\n"
      ]
     },
     "metadata": {},
     "output_type": "display_data"
    },
    {
     "data": {
      "text/html": [
       "<pre style=\"white-space:pre;overflow-x:auto;line-height:normal;font-family:Menlo,'DejaVu Sans Mono',consolas,'Courier New',monospace\">vision_model.encoder.layers.<span style=\"color: #008080; text-decoration-color: #008080; font-weight: bold\">7.</span>layer_norm1.bias\n",
       "<span style=\"color: #800080; text-decoration-color: #800080; font-weight: bold\">torch.Size</span><span style=\"font-weight: bold\">([</span><span style=\"color: #008080; text-decoration-color: #008080; font-weight: bold\">768</span><span style=\"font-weight: bold\">])</span>\n",
       "torch.float16\n",
       "</pre>\n"
      ],
      "text/plain": [
       "vision_model.encoder.layers.\u001b[1;36m7.\u001b[0mlayer_norm1.bias\n",
       "\u001b[1;35mtorch.Size\u001b[0m\u001b[1m(\u001b[0m\u001b[1m[\u001b[0m\u001b[1;36m768\u001b[0m\u001b[1m]\u001b[0m\u001b[1m)\u001b[0m\n",
       "torch.float16\n"
      ]
     },
     "metadata": {},
     "output_type": "display_data"
    },
    {
     "data": {
      "text/html": [
       "<pre style=\"white-space:pre;overflow-x:auto;line-height:normal;font-family:Menlo,'DejaVu Sans Mono',consolas,'Courier New',monospace\">vision_model.encoder.layers.<span style=\"color: #008080; text-decoration-color: #008080; font-weight: bold\">7.</span>mlp.fc1.weight\n",
       "<span style=\"color: #800080; text-decoration-color: #800080; font-weight: bold\">torch.Size</span><span style=\"font-weight: bold\">([</span><span style=\"color: #008080; text-decoration-color: #008080; font-weight: bold\">3072</span>, <span style=\"color: #008080; text-decoration-color: #008080; font-weight: bold\">768</span><span style=\"font-weight: bold\">])</span>\n",
       "torch.float16\n",
       "</pre>\n"
      ],
      "text/plain": [
       "vision_model.encoder.layers.\u001b[1;36m7.\u001b[0mmlp.fc1.weight\n",
       "\u001b[1;35mtorch.Size\u001b[0m\u001b[1m(\u001b[0m\u001b[1m[\u001b[0m\u001b[1;36m3072\u001b[0m, \u001b[1;36m768\u001b[0m\u001b[1m]\u001b[0m\u001b[1m)\u001b[0m\n",
       "torch.float16\n"
      ]
     },
     "metadata": {},
     "output_type": "display_data"
    },
    {
     "data": {
      "text/html": [
       "<pre style=\"white-space:pre;overflow-x:auto;line-height:normal;font-family:Menlo,'DejaVu Sans Mono',consolas,'Courier New',monospace\">vision_model.encoder.layers.<span style=\"color: #008080; text-decoration-color: #008080; font-weight: bold\">7.</span>mlp.fc1.bias\n",
       "<span style=\"color: #800080; text-decoration-color: #800080; font-weight: bold\">torch.Size</span><span style=\"font-weight: bold\">([</span><span style=\"color: #008080; text-decoration-color: #008080; font-weight: bold\">3072</span><span style=\"font-weight: bold\">])</span>\n",
       "torch.float16\n",
       "</pre>\n"
      ],
      "text/plain": [
       "vision_model.encoder.layers.\u001b[1;36m7.\u001b[0mmlp.fc1.bias\n",
       "\u001b[1;35mtorch.Size\u001b[0m\u001b[1m(\u001b[0m\u001b[1m[\u001b[0m\u001b[1;36m3072\u001b[0m\u001b[1m]\u001b[0m\u001b[1m)\u001b[0m\n",
       "torch.float16\n"
      ]
     },
     "metadata": {},
     "output_type": "display_data"
    },
    {
     "data": {
      "text/html": [
       "<pre style=\"white-space:pre;overflow-x:auto;line-height:normal;font-family:Menlo,'DejaVu Sans Mono',consolas,'Courier New',monospace\">vision_model.encoder.layers.<span style=\"color: #008080; text-decoration-color: #008080; font-weight: bold\">7.</span>mlp.fc2.weight\n",
       "<span style=\"color: #800080; text-decoration-color: #800080; font-weight: bold\">torch.Size</span><span style=\"font-weight: bold\">([</span><span style=\"color: #008080; text-decoration-color: #008080; font-weight: bold\">768</span>, <span style=\"color: #008080; text-decoration-color: #008080; font-weight: bold\">3072</span><span style=\"font-weight: bold\">])</span>\n",
       "torch.float16\n",
       "</pre>\n"
      ],
      "text/plain": [
       "vision_model.encoder.layers.\u001b[1;36m7.\u001b[0mmlp.fc2.weight\n",
       "\u001b[1;35mtorch.Size\u001b[0m\u001b[1m(\u001b[0m\u001b[1m[\u001b[0m\u001b[1;36m768\u001b[0m, \u001b[1;36m3072\u001b[0m\u001b[1m]\u001b[0m\u001b[1m)\u001b[0m\n",
       "torch.float16\n"
      ]
     },
     "metadata": {},
     "output_type": "display_data"
    },
    {
     "data": {
      "text/html": [
       "<pre style=\"white-space:pre;overflow-x:auto;line-height:normal;font-family:Menlo,'DejaVu Sans Mono',consolas,'Courier New',monospace\">vision_model.encoder.layers.<span style=\"color: #008080; text-decoration-color: #008080; font-weight: bold\">7.</span>mlp.fc2.bias\n",
       "<span style=\"color: #800080; text-decoration-color: #800080; font-weight: bold\">torch.Size</span><span style=\"font-weight: bold\">([</span><span style=\"color: #008080; text-decoration-color: #008080; font-weight: bold\">768</span><span style=\"font-weight: bold\">])</span>\n",
       "torch.float16\n",
       "</pre>\n"
      ],
      "text/plain": [
       "vision_model.encoder.layers.\u001b[1;36m7.\u001b[0mmlp.fc2.bias\n",
       "\u001b[1;35mtorch.Size\u001b[0m\u001b[1m(\u001b[0m\u001b[1m[\u001b[0m\u001b[1;36m768\u001b[0m\u001b[1m]\u001b[0m\u001b[1m)\u001b[0m\n",
       "torch.float16\n"
      ]
     },
     "metadata": {},
     "output_type": "display_data"
    },
    {
     "data": {
      "text/html": [
       "<pre style=\"white-space:pre;overflow-x:auto;line-height:normal;font-family:Menlo,'DejaVu Sans Mono',consolas,'Courier New',monospace\">vision_model.encoder.layers.<span style=\"color: #008080; text-decoration-color: #008080; font-weight: bold\">7.</span>layer_norm2.weight\n",
       "<span style=\"color: #800080; text-decoration-color: #800080; font-weight: bold\">torch.Size</span><span style=\"font-weight: bold\">([</span><span style=\"color: #008080; text-decoration-color: #008080; font-weight: bold\">768</span><span style=\"font-weight: bold\">])</span>\n",
       "torch.float16\n",
       "</pre>\n"
      ],
      "text/plain": [
       "vision_model.encoder.layers.\u001b[1;36m7.\u001b[0mlayer_norm2.weight\n",
       "\u001b[1;35mtorch.Size\u001b[0m\u001b[1m(\u001b[0m\u001b[1m[\u001b[0m\u001b[1;36m768\u001b[0m\u001b[1m]\u001b[0m\u001b[1m)\u001b[0m\n",
       "torch.float16\n"
      ]
     },
     "metadata": {},
     "output_type": "display_data"
    },
    {
     "data": {
      "text/html": [
       "<pre style=\"white-space:pre;overflow-x:auto;line-height:normal;font-family:Menlo,'DejaVu Sans Mono',consolas,'Courier New',monospace\">vision_model.encoder.layers.<span style=\"color: #008080; text-decoration-color: #008080; font-weight: bold\">7.</span>layer_norm2.bias\n",
       "<span style=\"color: #800080; text-decoration-color: #800080; font-weight: bold\">torch.Size</span><span style=\"font-weight: bold\">([</span><span style=\"color: #008080; text-decoration-color: #008080; font-weight: bold\">768</span><span style=\"font-weight: bold\">])</span>\n",
       "torch.float16\n",
       "</pre>\n"
      ],
      "text/plain": [
       "vision_model.encoder.layers.\u001b[1;36m7.\u001b[0mlayer_norm2.bias\n",
       "\u001b[1;35mtorch.Size\u001b[0m\u001b[1m(\u001b[0m\u001b[1m[\u001b[0m\u001b[1;36m768\u001b[0m\u001b[1m]\u001b[0m\u001b[1m)\u001b[0m\n",
       "torch.float16\n"
      ]
     },
     "metadata": {},
     "output_type": "display_data"
    },
    {
     "data": {
      "text/html": [
       "<pre style=\"white-space:pre;overflow-x:auto;line-height:normal;font-family:Menlo,'DejaVu Sans Mono',consolas,'Courier New',monospace\">vision_model.encoder.layers.<span style=\"color: #008080; text-decoration-color: #008080; font-weight: bold\">8.</span>self_attn.k_proj.weight\n",
       "<span style=\"color: #800080; text-decoration-color: #800080; font-weight: bold\">torch.Size</span><span style=\"font-weight: bold\">([</span><span style=\"color: #008080; text-decoration-color: #008080; font-weight: bold\">768</span>, <span style=\"color: #008080; text-decoration-color: #008080; font-weight: bold\">768</span><span style=\"font-weight: bold\">])</span>\n",
       "torch.float16\n",
       "</pre>\n"
      ],
      "text/plain": [
       "vision_model.encoder.layers.\u001b[1;36m8.\u001b[0mself_attn.k_proj.weight\n",
       "\u001b[1;35mtorch.Size\u001b[0m\u001b[1m(\u001b[0m\u001b[1m[\u001b[0m\u001b[1;36m768\u001b[0m, \u001b[1;36m768\u001b[0m\u001b[1m]\u001b[0m\u001b[1m)\u001b[0m\n",
       "torch.float16\n"
      ]
     },
     "metadata": {},
     "output_type": "display_data"
    },
    {
     "data": {
      "text/html": [
       "<pre style=\"white-space:pre;overflow-x:auto;line-height:normal;font-family:Menlo,'DejaVu Sans Mono',consolas,'Courier New',monospace\">vision_model.encoder.layers.<span style=\"color: #008080; text-decoration-color: #008080; font-weight: bold\">8.</span>self_attn.k_proj.bias\n",
       "<span style=\"color: #800080; text-decoration-color: #800080; font-weight: bold\">torch.Size</span><span style=\"font-weight: bold\">([</span><span style=\"color: #008080; text-decoration-color: #008080; font-weight: bold\">768</span><span style=\"font-weight: bold\">])</span>\n",
       "torch.float16\n",
       "</pre>\n"
      ],
      "text/plain": [
       "vision_model.encoder.layers.\u001b[1;36m8.\u001b[0mself_attn.k_proj.bias\n",
       "\u001b[1;35mtorch.Size\u001b[0m\u001b[1m(\u001b[0m\u001b[1m[\u001b[0m\u001b[1;36m768\u001b[0m\u001b[1m]\u001b[0m\u001b[1m)\u001b[0m\n",
       "torch.float16\n"
      ]
     },
     "metadata": {},
     "output_type": "display_data"
    },
    {
     "data": {
      "text/html": [
       "<pre style=\"white-space:pre;overflow-x:auto;line-height:normal;font-family:Menlo,'DejaVu Sans Mono',consolas,'Courier New',monospace\">vision_model.encoder.layers.<span style=\"color: #008080; text-decoration-color: #008080; font-weight: bold\">8.</span>self_attn.v_proj.weight\n",
       "<span style=\"color: #800080; text-decoration-color: #800080; font-weight: bold\">torch.Size</span><span style=\"font-weight: bold\">([</span><span style=\"color: #008080; text-decoration-color: #008080; font-weight: bold\">768</span>, <span style=\"color: #008080; text-decoration-color: #008080; font-weight: bold\">768</span><span style=\"font-weight: bold\">])</span>\n",
       "torch.float16\n",
       "</pre>\n"
      ],
      "text/plain": [
       "vision_model.encoder.layers.\u001b[1;36m8.\u001b[0mself_attn.v_proj.weight\n",
       "\u001b[1;35mtorch.Size\u001b[0m\u001b[1m(\u001b[0m\u001b[1m[\u001b[0m\u001b[1;36m768\u001b[0m, \u001b[1;36m768\u001b[0m\u001b[1m]\u001b[0m\u001b[1m)\u001b[0m\n",
       "torch.float16\n"
      ]
     },
     "metadata": {},
     "output_type": "display_data"
    },
    {
     "data": {
      "text/html": [
       "<pre style=\"white-space:pre;overflow-x:auto;line-height:normal;font-family:Menlo,'DejaVu Sans Mono',consolas,'Courier New',monospace\">vision_model.encoder.layers.<span style=\"color: #008080; text-decoration-color: #008080; font-weight: bold\">8.</span>self_attn.v_proj.bias\n",
       "<span style=\"color: #800080; text-decoration-color: #800080; font-weight: bold\">torch.Size</span><span style=\"font-weight: bold\">([</span><span style=\"color: #008080; text-decoration-color: #008080; font-weight: bold\">768</span><span style=\"font-weight: bold\">])</span>\n",
       "torch.float16\n",
       "</pre>\n"
      ],
      "text/plain": [
       "vision_model.encoder.layers.\u001b[1;36m8.\u001b[0mself_attn.v_proj.bias\n",
       "\u001b[1;35mtorch.Size\u001b[0m\u001b[1m(\u001b[0m\u001b[1m[\u001b[0m\u001b[1;36m768\u001b[0m\u001b[1m]\u001b[0m\u001b[1m)\u001b[0m\n",
       "torch.float16\n"
      ]
     },
     "metadata": {},
     "output_type": "display_data"
    },
    {
     "data": {
      "text/html": [
       "<pre style=\"white-space:pre;overflow-x:auto;line-height:normal;font-family:Menlo,'DejaVu Sans Mono',consolas,'Courier New',monospace\">vision_model.encoder.layers.<span style=\"color: #008080; text-decoration-color: #008080; font-weight: bold\">8.</span>self_attn.q_proj.weight\n",
       "<span style=\"color: #800080; text-decoration-color: #800080; font-weight: bold\">torch.Size</span><span style=\"font-weight: bold\">([</span><span style=\"color: #008080; text-decoration-color: #008080; font-weight: bold\">768</span>, <span style=\"color: #008080; text-decoration-color: #008080; font-weight: bold\">768</span><span style=\"font-weight: bold\">])</span>\n",
       "torch.float16\n",
       "</pre>\n"
      ],
      "text/plain": [
       "vision_model.encoder.layers.\u001b[1;36m8.\u001b[0mself_attn.q_proj.weight\n",
       "\u001b[1;35mtorch.Size\u001b[0m\u001b[1m(\u001b[0m\u001b[1m[\u001b[0m\u001b[1;36m768\u001b[0m, \u001b[1;36m768\u001b[0m\u001b[1m]\u001b[0m\u001b[1m)\u001b[0m\n",
       "torch.float16\n"
      ]
     },
     "metadata": {},
     "output_type": "display_data"
    },
    {
     "data": {
      "text/html": [
       "<pre style=\"white-space:pre;overflow-x:auto;line-height:normal;font-family:Menlo,'DejaVu Sans Mono',consolas,'Courier New',monospace\">vision_model.encoder.layers.<span style=\"color: #008080; text-decoration-color: #008080; font-weight: bold\">8.</span>self_attn.q_proj.bias\n",
       "<span style=\"color: #800080; text-decoration-color: #800080; font-weight: bold\">torch.Size</span><span style=\"font-weight: bold\">([</span><span style=\"color: #008080; text-decoration-color: #008080; font-weight: bold\">768</span><span style=\"font-weight: bold\">])</span>\n",
       "torch.float16\n",
       "</pre>\n"
      ],
      "text/plain": [
       "vision_model.encoder.layers.\u001b[1;36m8.\u001b[0mself_attn.q_proj.bias\n",
       "\u001b[1;35mtorch.Size\u001b[0m\u001b[1m(\u001b[0m\u001b[1m[\u001b[0m\u001b[1;36m768\u001b[0m\u001b[1m]\u001b[0m\u001b[1m)\u001b[0m\n",
       "torch.float16\n"
      ]
     },
     "metadata": {},
     "output_type": "display_data"
    },
    {
     "data": {
      "text/html": [
       "<pre style=\"white-space:pre;overflow-x:auto;line-height:normal;font-family:Menlo,'DejaVu Sans Mono',consolas,'Courier New',monospace\">vision_model.encoder.layers.<span style=\"color: #008080; text-decoration-color: #008080; font-weight: bold\">8.</span>self_attn.out_proj.weight\n",
       "<span style=\"color: #800080; text-decoration-color: #800080; font-weight: bold\">torch.Size</span><span style=\"font-weight: bold\">([</span><span style=\"color: #008080; text-decoration-color: #008080; font-weight: bold\">768</span>, <span style=\"color: #008080; text-decoration-color: #008080; font-weight: bold\">768</span><span style=\"font-weight: bold\">])</span>\n",
       "torch.float16\n",
       "</pre>\n"
      ],
      "text/plain": [
       "vision_model.encoder.layers.\u001b[1;36m8.\u001b[0mself_attn.out_proj.weight\n",
       "\u001b[1;35mtorch.Size\u001b[0m\u001b[1m(\u001b[0m\u001b[1m[\u001b[0m\u001b[1;36m768\u001b[0m, \u001b[1;36m768\u001b[0m\u001b[1m]\u001b[0m\u001b[1m)\u001b[0m\n",
       "torch.float16\n"
      ]
     },
     "metadata": {},
     "output_type": "display_data"
    },
    {
     "data": {
      "text/html": [
       "<pre style=\"white-space:pre;overflow-x:auto;line-height:normal;font-family:Menlo,'DejaVu Sans Mono',consolas,'Courier New',monospace\">vision_model.encoder.layers.<span style=\"color: #008080; text-decoration-color: #008080; font-weight: bold\">8.</span>self_attn.out_proj.bias\n",
       "<span style=\"color: #800080; text-decoration-color: #800080; font-weight: bold\">torch.Size</span><span style=\"font-weight: bold\">([</span><span style=\"color: #008080; text-decoration-color: #008080; font-weight: bold\">768</span><span style=\"font-weight: bold\">])</span>\n",
       "torch.float16\n",
       "</pre>\n"
      ],
      "text/plain": [
       "vision_model.encoder.layers.\u001b[1;36m8.\u001b[0mself_attn.out_proj.bias\n",
       "\u001b[1;35mtorch.Size\u001b[0m\u001b[1m(\u001b[0m\u001b[1m[\u001b[0m\u001b[1;36m768\u001b[0m\u001b[1m]\u001b[0m\u001b[1m)\u001b[0m\n",
       "torch.float16\n"
      ]
     },
     "metadata": {},
     "output_type": "display_data"
    },
    {
     "data": {
      "text/html": [
       "<pre style=\"white-space:pre;overflow-x:auto;line-height:normal;font-family:Menlo,'DejaVu Sans Mono',consolas,'Courier New',monospace\">vision_model.encoder.layers.<span style=\"color: #008080; text-decoration-color: #008080; font-weight: bold\">8.</span>layer_norm1.weight\n",
       "<span style=\"color: #800080; text-decoration-color: #800080; font-weight: bold\">torch.Size</span><span style=\"font-weight: bold\">([</span><span style=\"color: #008080; text-decoration-color: #008080; font-weight: bold\">768</span><span style=\"font-weight: bold\">])</span>\n",
       "torch.float16\n",
       "</pre>\n"
      ],
      "text/plain": [
       "vision_model.encoder.layers.\u001b[1;36m8.\u001b[0mlayer_norm1.weight\n",
       "\u001b[1;35mtorch.Size\u001b[0m\u001b[1m(\u001b[0m\u001b[1m[\u001b[0m\u001b[1;36m768\u001b[0m\u001b[1m]\u001b[0m\u001b[1m)\u001b[0m\n",
       "torch.float16\n"
      ]
     },
     "metadata": {},
     "output_type": "display_data"
    },
    {
     "data": {
      "text/html": [
       "<pre style=\"white-space:pre;overflow-x:auto;line-height:normal;font-family:Menlo,'DejaVu Sans Mono',consolas,'Courier New',monospace\">vision_model.encoder.layers.<span style=\"color: #008080; text-decoration-color: #008080; font-weight: bold\">8.</span>layer_norm1.bias\n",
       "<span style=\"color: #800080; text-decoration-color: #800080; font-weight: bold\">torch.Size</span><span style=\"font-weight: bold\">([</span><span style=\"color: #008080; text-decoration-color: #008080; font-weight: bold\">768</span><span style=\"font-weight: bold\">])</span>\n",
       "torch.float16\n",
       "</pre>\n"
      ],
      "text/plain": [
       "vision_model.encoder.layers.\u001b[1;36m8.\u001b[0mlayer_norm1.bias\n",
       "\u001b[1;35mtorch.Size\u001b[0m\u001b[1m(\u001b[0m\u001b[1m[\u001b[0m\u001b[1;36m768\u001b[0m\u001b[1m]\u001b[0m\u001b[1m)\u001b[0m\n",
       "torch.float16\n"
      ]
     },
     "metadata": {},
     "output_type": "display_data"
    },
    {
     "data": {
      "text/html": [
       "<pre style=\"white-space:pre;overflow-x:auto;line-height:normal;font-family:Menlo,'DejaVu Sans Mono',consolas,'Courier New',monospace\">vision_model.encoder.layers.<span style=\"color: #008080; text-decoration-color: #008080; font-weight: bold\">8.</span>mlp.fc1.weight\n",
       "<span style=\"color: #800080; text-decoration-color: #800080; font-weight: bold\">torch.Size</span><span style=\"font-weight: bold\">([</span><span style=\"color: #008080; text-decoration-color: #008080; font-weight: bold\">3072</span>, <span style=\"color: #008080; text-decoration-color: #008080; font-weight: bold\">768</span><span style=\"font-weight: bold\">])</span>\n",
       "torch.float16\n",
       "</pre>\n"
      ],
      "text/plain": [
       "vision_model.encoder.layers.\u001b[1;36m8.\u001b[0mmlp.fc1.weight\n",
       "\u001b[1;35mtorch.Size\u001b[0m\u001b[1m(\u001b[0m\u001b[1m[\u001b[0m\u001b[1;36m3072\u001b[0m, \u001b[1;36m768\u001b[0m\u001b[1m]\u001b[0m\u001b[1m)\u001b[0m\n",
       "torch.float16\n"
      ]
     },
     "metadata": {},
     "output_type": "display_data"
    },
    {
     "data": {
      "text/html": [
       "<pre style=\"white-space:pre;overflow-x:auto;line-height:normal;font-family:Menlo,'DejaVu Sans Mono',consolas,'Courier New',monospace\">vision_model.encoder.layers.<span style=\"color: #008080; text-decoration-color: #008080; font-weight: bold\">8.</span>mlp.fc1.bias\n",
       "<span style=\"color: #800080; text-decoration-color: #800080; font-weight: bold\">torch.Size</span><span style=\"font-weight: bold\">([</span><span style=\"color: #008080; text-decoration-color: #008080; font-weight: bold\">3072</span><span style=\"font-weight: bold\">])</span>\n",
       "torch.float16\n",
       "</pre>\n"
      ],
      "text/plain": [
       "vision_model.encoder.layers.\u001b[1;36m8.\u001b[0mmlp.fc1.bias\n",
       "\u001b[1;35mtorch.Size\u001b[0m\u001b[1m(\u001b[0m\u001b[1m[\u001b[0m\u001b[1;36m3072\u001b[0m\u001b[1m]\u001b[0m\u001b[1m)\u001b[0m\n",
       "torch.float16\n"
      ]
     },
     "metadata": {},
     "output_type": "display_data"
    },
    {
     "data": {
      "text/html": [
       "<pre style=\"white-space:pre;overflow-x:auto;line-height:normal;font-family:Menlo,'DejaVu Sans Mono',consolas,'Courier New',monospace\">vision_model.encoder.layers.<span style=\"color: #008080; text-decoration-color: #008080; font-weight: bold\">8.</span>mlp.fc2.weight\n",
       "<span style=\"color: #800080; text-decoration-color: #800080; font-weight: bold\">torch.Size</span><span style=\"font-weight: bold\">([</span><span style=\"color: #008080; text-decoration-color: #008080; font-weight: bold\">768</span>, <span style=\"color: #008080; text-decoration-color: #008080; font-weight: bold\">3072</span><span style=\"font-weight: bold\">])</span>\n",
       "torch.float16\n",
       "</pre>\n"
      ],
      "text/plain": [
       "vision_model.encoder.layers.\u001b[1;36m8.\u001b[0mmlp.fc2.weight\n",
       "\u001b[1;35mtorch.Size\u001b[0m\u001b[1m(\u001b[0m\u001b[1m[\u001b[0m\u001b[1;36m768\u001b[0m, \u001b[1;36m3072\u001b[0m\u001b[1m]\u001b[0m\u001b[1m)\u001b[0m\n",
       "torch.float16\n"
      ]
     },
     "metadata": {},
     "output_type": "display_data"
    },
    {
     "data": {
      "text/html": [
       "<pre style=\"white-space:pre;overflow-x:auto;line-height:normal;font-family:Menlo,'DejaVu Sans Mono',consolas,'Courier New',monospace\">vision_model.encoder.layers.<span style=\"color: #008080; text-decoration-color: #008080; font-weight: bold\">8.</span>mlp.fc2.bias\n",
       "<span style=\"color: #800080; text-decoration-color: #800080; font-weight: bold\">torch.Size</span><span style=\"font-weight: bold\">([</span><span style=\"color: #008080; text-decoration-color: #008080; font-weight: bold\">768</span><span style=\"font-weight: bold\">])</span>\n",
       "torch.float16\n",
       "</pre>\n"
      ],
      "text/plain": [
       "vision_model.encoder.layers.\u001b[1;36m8.\u001b[0mmlp.fc2.bias\n",
       "\u001b[1;35mtorch.Size\u001b[0m\u001b[1m(\u001b[0m\u001b[1m[\u001b[0m\u001b[1;36m768\u001b[0m\u001b[1m]\u001b[0m\u001b[1m)\u001b[0m\n",
       "torch.float16\n"
      ]
     },
     "metadata": {},
     "output_type": "display_data"
    },
    {
     "data": {
      "text/html": [
       "<pre style=\"white-space:pre;overflow-x:auto;line-height:normal;font-family:Menlo,'DejaVu Sans Mono',consolas,'Courier New',monospace\">vision_model.encoder.layers.<span style=\"color: #008080; text-decoration-color: #008080; font-weight: bold\">8.</span>layer_norm2.weight\n",
       "<span style=\"color: #800080; text-decoration-color: #800080; font-weight: bold\">torch.Size</span><span style=\"font-weight: bold\">([</span><span style=\"color: #008080; text-decoration-color: #008080; font-weight: bold\">768</span><span style=\"font-weight: bold\">])</span>\n",
       "torch.float16\n",
       "</pre>\n"
      ],
      "text/plain": [
       "vision_model.encoder.layers.\u001b[1;36m8.\u001b[0mlayer_norm2.weight\n",
       "\u001b[1;35mtorch.Size\u001b[0m\u001b[1m(\u001b[0m\u001b[1m[\u001b[0m\u001b[1;36m768\u001b[0m\u001b[1m]\u001b[0m\u001b[1m)\u001b[0m\n",
       "torch.float16\n"
      ]
     },
     "metadata": {},
     "output_type": "display_data"
    },
    {
     "data": {
      "text/html": [
       "<pre style=\"white-space:pre;overflow-x:auto;line-height:normal;font-family:Menlo,'DejaVu Sans Mono',consolas,'Courier New',monospace\">vision_model.encoder.layers.<span style=\"color: #008080; text-decoration-color: #008080; font-weight: bold\">8.</span>layer_norm2.bias\n",
       "<span style=\"color: #800080; text-decoration-color: #800080; font-weight: bold\">torch.Size</span><span style=\"font-weight: bold\">([</span><span style=\"color: #008080; text-decoration-color: #008080; font-weight: bold\">768</span><span style=\"font-weight: bold\">])</span>\n",
       "torch.float16\n",
       "</pre>\n"
      ],
      "text/plain": [
       "vision_model.encoder.layers.\u001b[1;36m8.\u001b[0mlayer_norm2.bias\n",
       "\u001b[1;35mtorch.Size\u001b[0m\u001b[1m(\u001b[0m\u001b[1m[\u001b[0m\u001b[1;36m768\u001b[0m\u001b[1m]\u001b[0m\u001b[1m)\u001b[0m\n",
       "torch.float16\n"
      ]
     },
     "metadata": {},
     "output_type": "display_data"
    },
    {
     "data": {
      "text/html": [
       "<pre style=\"white-space:pre;overflow-x:auto;line-height:normal;font-family:Menlo,'DejaVu Sans Mono',consolas,'Courier New',monospace\">vision_model.encoder.layers.<span style=\"color: #008080; text-decoration-color: #008080; font-weight: bold\">9.</span>self_attn.k_proj.weight\n",
       "<span style=\"color: #800080; text-decoration-color: #800080; font-weight: bold\">torch.Size</span><span style=\"font-weight: bold\">([</span><span style=\"color: #008080; text-decoration-color: #008080; font-weight: bold\">768</span>, <span style=\"color: #008080; text-decoration-color: #008080; font-weight: bold\">768</span><span style=\"font-weight: bold\">])</span>\n",
       "torch.float16\n",
       "</pre>\n"
      ],
      "text/plain": [
       "vision_model.encoder.layers.\u001b[1;36m9.\u001b[0mself_attn.k_proj.weight\n",
       "\u001b[1;35mtorch.Size\u001b[0m\u001b[1m(\u001b[0m\u001b[1m[\u001b[0m\u001b[1;36m768\u001b[0m, \u001b[1;36m768\u001b[0m\u001b[1m]\u001b[0m\u001b[1m)\u001b[0m\n",
       "torch.float16\n"
      ]
     },
     "metadata": {},
     "output_type": "display_data"
    },
    {
     "data": {
      "text/html": [
       "<pre style=\"white-space:pre;overflow-x:auto;line-height:normal;font-family:Menlo,'DejaVu Sans Mono',consolas,'Courier New',monospace\">vision_model.encoder.layers.<span style=\"color: #008080; text-decoration-color: #008080; font-weight: bold\">9.</span>self_attn.k_proj.bias\n",
       "<span style=\"color: #800080; text-decoration-color: #800080; font-weight: bold\">torch.Size</span><span style=\"font-weight: bold\">([</span><span style=\"color: #008080; text-decoration-color: #008080; font-weight: bold\">768</span><span style=\"font-weight: bold\">])</span>\n",
       "torch.float16\n",
       "</pre>\n"
      ],
      "text/plain": [
       "vision_model.encoder.layers.\u001b[1;36m9.\u001b[0mself_attn.k_proj.bias\n",
       "\u001b[1;35mtorch.Size\u001b[0m\u001b[1m(\u001b[0m\u001b[1m[\u001b[0m\u001b[1;36m768\u001b[0m\u001b[1m]\u001b[0m\u001b[1m)\u001b[0m\n",
       "torch.float16\n"
      ]
     },
     "metadata": {},
     "output_type": "display_data"
    },
    {
     "data": {
      "text/html": [
       "<pre style=\"white-space:pre;overflow-x:auto;line-height:normal;font-family:Menlo,'DejaVu Sans Mono',consolas,'Courier New',monospace\">vision_model.encoder.layers.<span style=\"color: #008080; text-decoration-color: #008080; font-weight: bold\">9.</span>self_attn.v_proj.weight\n",
       "<span style=\"color: #800080; text-decoration-color: #800080; font-weight: bold\">torch.Size</span><span style=\"font-weight: bold\">([</span><span style=\"color: #008080; text-decoration-color: #008080; font-weight: bold\">768</span>, <span style=\"color: #008080; text-decoration-color: #008080; font-weight: bold\">768</span><span style=\"font-weight: bold\">])</span>\n",
       "torch.float16\n",
       "</pre>\n"
      ],
      "text/plain": [
       "vision_model.encoder.layers.\u001b[1;36m9.\u001b[0mself_attn.v_proj.weight\n",
       "\u001b[1;35mtorch.Size\u001b[0m\u001b[1m(\u001b[0m\u001b[1m[\u001b[0m\u001b[1;36m768\u001b[0m, \u001b[1;36m768\u001b[0m\u001b[1m]\u001b[0m\u001b[1m)\u001b[0m\n",
       "torch.float16\n"
      ]
     },
     "metadata": {},
     "output_type": "display_data"
    },
    {
     "data": {
      "text/html": [
       "<pre style=\"white-space:pre;overflow-x:auto;line-height:normal;font-family:Menlo,'DejaVu Sans Mono',consolas,'Courier New',monospace\">vision_model.encoder.layers.<span style=\"color: #008080; text-decoration-color: #008080; font-weight: bold\">9.</span>self_attn.v_proj.bias\n",
       "<span style=\"color: #800080; text-decoration-color: #800080; font-weight: bold\">torch.Size</span><span style=\"font-weight: bold\">([</span><span style=\"color: #008080; text-decoration-color: #008080; font-weight: bold\">768</span><span style=\"font-weight: bold\">])</span>\n",
       "torch.float16\n",
       "</pre>\n"
      ],
      "text/plain": [
       "vision_model.encoder.layers.\u001b[1;36m9.\u001b[0mself_attn.v_proj.bias\n",
       "\u001b[1;35mtorch.Size\u001b[0m\u001b[1m(\u001b[0m\u001b[1m[\u001b[0m\u001b[1;36m768\u001b[0m\u001b[1m]\u001b[0m\u001b[1m)\u001b[0m\n",
       "torch.float16\n"
      ]
     },
     "metadata": {},
     "output_type": "display_data"
    },
    {
     "data": {
      "text/html": [
       "<pre style=\"white-space:pre;overflow-x:auto;line-height:normal;font-family:Menlo,'DejaVu Sans Mono',consolas,'Courier New',monospace\">vision_model.encoder.layers.<span style=\"color: #008080; text-decoration-color: #008080; font-weight: bold\">9.</span>self_attn.q_proj.weight\n",
       "<span style=\"color: #800080; text-decoration-color: #800080; font-weight: bold\">torch.Size</span><span style=\"font-weight: bold\">([</span><span style=\"color: #008080; text-decoration-color: #008080; font-weight: bold\">768</span>, <span style=\"color: #008080; text-decoration-color: #008080; font-weight: bold\">768</span><span style=\"font-weight: bold\">])</span>\n",
       "torch.float16\n",
       "</pre>\n"
      ],
      "text/plain": [
       "vision_model.encoder.layers.\u001b[1;36m9.\u001b[0mself_attn.q_proj.weight\n",
       "\u001b[1;35mtorch.Size\u001b[0m\u001b[1m(\u001b[0m\u001b[1m[\u001b[0m\u001b[1;36m768\u001b[0m, \u001b[1;36m768\u001b[0m\u001b[1m]\u001b[0m\u001b[1m)\u001b[0m\n",
       "torch.float16\n"
      ]
     },
     "metadata": {},
     "output_type": "display_data"
    },
    {
     "data": {
      "text/html": [
       "<pre style=\"white-space:pre;overflow-x:auto;line-height:normal;font-family:Menlo,'DejaVu Sans Mono',consolas,'Courier New',monospace\">vision_model.encoder.layers.<span style=\"color: #008080; text-decoration-color: #008080; font-weight: bold\">9.</span>self_attn.q_proj.bias\n",
       "<span style=\"color: #800080; text-decoration-color: #800080; font-weight: bold\">torch.Size</span><span style=\"font-weight: bold\">([</span><span style=\"color: #008080; text-decoration-color: #008080; font-weight: bold\">768</span><span style=\"font-weight: bold\">])</span>\n",
       "torch.float16\n",
       "</pre>\n"
      ],
      "text/plain": [
       "vision_model.encoder.layers.\u001b[1;36m9.\u001b[0mself_attn.q_proj.bias\n",
       "\u001b[1;35mtorch.Size\u001b[0m\u001b[1m(\u001b[0m\u001b[1m[\u001b[0m\u001b[1;36m768\u001b[0m\u001b[1m]\u001b[0m\u001b[1m)\u001b[0m\n",
       "torch.float16\n"
      ]
     },
     "metadata": {},
     "output_type": "display_data"
    },
    {
     "data": {
      "text/html": [
       "<pre style=\"white-space:pre;overflow-x:auto;line-height:normal;font-family:Menlo,'DejaVu Sans Mono',consolas,'Courier New',monospace\">vision_model.encoder.layers.<span style=\"color: #008080; text-decoration-color: #008080; font-weight: bold\">9.</span>self_attn.out_proj.weight\n",
       "<span style=\"color: #800080; text-decoration-color: #800080; font-weight: bold\">torch.Size</span><span style=\"font-weight: bold\">([</span><span style=\"color: #008080; text-decoration-color: #008080; font-weight: bold\">768</span>, <span style=\"color: #008080; text-decoration-color: #008080; font-weight: bold\">768</span><span style=\"font-weight: bold\">])</span>\n",
       "torch.float16\n",
       "</pre>\n"
      ],
      "text/plain": [
       "vision_model.encoder.layers.\u001b[1;36m9.\u001b[0mself_attn.out_proj.weight\n",
       "\u001b[1;35mtorch.Size\u001b[0m\u001b[1m(\u001b[0m\u001b[1m[\u001b[0m\u001b[1;36m768\u001b[0m, \u001b[1;36m768\u001b[0m\u001b[1m]\u001b[0m\u001b[1m)\u001b[0m\n",
       "torch.float16\n"
      ]
     },
     "metadata": {},
     "output_type": "display_data"
    },
    {
     "data": {
      "text/html": [
       "<pre style=\"white-space:pre;overflow-x:auto;line-height:normal;font-family:Menlo,'DejaVu Sans Mono',consolas,'Courier New',monospace\">vision_model.encoder.layers.<span style=\"color: #008080; text-decoration-color: #008080; font-weight: bold\">9.</span>self_attn.out_proj.bias\n",
       "<span style=\"color: #800080; text-decoration-color: #800080; font-weight: bold\">torch.Size</span><span style=\"font-weight: bold\">([</span><span style=\"color: #008080; text-decoration-color: #008080; font-weight: bold\">768</span><span style=\"font-weight: bold\">])</span>\n",
       "torch.float16\n",
       "</pre>\n"
      ],
      "text/plain": [
       "vision_model.encoder.layers.\u001b[1;36m9.\u001b[0mself_attn.out_proj.bias\n",
       "\u001b[1;35mtorch.Size\u001b[0m\u001b[1m(\u001b[0m\u001b[1m[\u001b[0m\u001b[1;36m768\u001b[0m\u001b[1m]\u001b[0m\u001b[1m)\u001b[0m\n",
       "torch.float16\n"
      ]
     },
     "metadata": {},
     "output_type": "display_data"
    },
    {
     "data": {
      "text/html": [
       "<pre style=\"white-space:pre;overflow-x:auto;line-height:normal;font-family:Menlo,'DejaVu Sans Mono',consolas,'Courier New',monospace\">vision_model.encoder.layers.<span style=\"color: #008080; text-decoration-color: #008080; font-weight: bold\">9.</span>layer_norm1.weight\n",
       "<span style=\"color: #800080; text-decoration-color: #800080; font-weight: bold\">torch.Size</span><span style=\"font-weight: bold\">([</span><span style=\"color: #008080; text-decoration-color: #008080; font-weight: bold\">768</span><span style=\"font-weight: bold\">])</span>\n",
       "torch.float16\n",
       "</pre>\n"
      ],
      "text/plain": [
       "vision_model.encoder.layers.\u001b[1;36m9.\u001b[0mlayer_norm1.weight\n",
       "\u001b[1;35mtorch.Size\u001b[0m\u001b[1m(\u001b[0m\u001b[1m[\u001b[0m\u001b[1;36m768\u001b[0m\u001b[1m]\u001b[0m\u001b[1m)\u001b[0m\n",
       "torch.float16\n"
      ]
     },
     "metadata": {},
     "output_type": "display_data"
    },
    {
     "data": {
      "text/html": [
       "<pre style=\"white-space:pre;overflow-x:auto;line-height:normal;font-family:Menlo,'DejaVu Sans Mono',consolas,'Courier New',monospace\">vision_model.encoder.layers.<span style=\"color: #008080; text-decoration-color: #008080; font-weight: bold\">9.</span>layer_norm1.bias\n",
       "<span style=\"color: #800080; text-decoration-color: #800080; font-weight: bold\">torch.Size</span><span style=\"font-weight: bold\">([</span><span style=\"color: #008080; text-decoration-color: #008080; font-weight: bold\">768</span><span style=\"font-weight: bold\">])</span>\n",
       "torch.float16\n",
       "</pre>\n"
      ],
      "text/plain": [
       "vision_model.encoder.layers.\u001b[1;36m9.\u001b[0mlayer_norm1.bias\n",
       "\u001b[1;35mtorch.Size\u001b[0m\u001b[1m(\u001b[0m\u001b[1m[\u001b[0m\u001b[1;36m768\u001b[0m\u001b[1m]\u001b[0m\u001b[1m)\u001b[0m\n",
       "torch.float16\n"
      ]
     },
     "metadata": {},
     "output_type": "display_data"
    },
    {
     "data": {
      "text/html": [
       "<pre style=\"white-space:pre;overflow-x:auto;line-height:normal;font-family:Menlo,'DejaVu Sans Mono',consolas,'Courier New',monospace\">vision_model.encoder.layers.<span style=\"color: #008080; text-decoration-color: #008080; font-weight: bold\">9.</span>mlp.fc1.weight\n",
       "<span style=\"color: #800080; text-decoration-color: #800080; font-weight: bold\">torch.Size</span><span style=\"font-weight: bold\">([</span><span style=\"color: #008080; text-decoration-color: #008080; font-weight: bold\">3072</span>, <span style=\"color: #008080; text-decoration-color: #008080; font-weight: bold\">768</span><span style=\"font-weight: bold\">])</span>\n",
       "torch.float16\n",
       "</pre>\n"
      ],
      "text/plain": [
       "vision_model.encoder.layers.\u001b[1;36m9.\u001b[0mmlp.fc1.weight\n",
       "\u001b[1;35mtorch.Size\u001b[0m\u001b[1m(\u001b[0m\u001b[1m[\u001b[0m\u001b[1;36m3072\u001b[0m, \u001b[1;36m768\u001b[0m\u001b[1m]\u001b[0m\u001b[1m)\u001b[0m\n",
       "torch.float16\n"
      ]
     },
     "metadata": {},
     "output_type": "display_data"
    },
    {
     "data": {
      "text/html": [
       "<pre style=\"white-space:pre;overflow-x:auto;line-height:normal;font-family:Menlo,'DejaVu Sans Mono',consolas,'Courier New',monospace\">vision_model.encoder.layers.<span style=\"color: #008080; text-decoration-color: #008080; font-weight: bold\">9.</span>mlp.fc1.bias\n",
       "<span style=\"color: #800080; text-decoration-color: #800080; font-weight: bold\">torch.Size</span><span style=\"font-weight: bold\">([</span><span style=\"color: #008080; text-decoration-color: #008080; font-weight: bold\">3072</span><span style=\"font-weight: bold\">])</span>\n",
       "torch.float16\n",
       "</pre>\n"
      ],
      "text/plain": [
       "vision_model.encoder.layers.\u001b[1;36m9.\u001b[0mmlp.fc1.bias\n",
       "\u001b[1;35mtorch.Size\u001b[0m\u001b[1m(\u001b[0m\u001b[1m[\u001b[0m\u001b[1;36m3072\u001b[0m\u001b[1m]\u001b[0m\u001b[1m)\u001b[0m\n",
       "torch.float16\n"
      ]
     },
     "metadata": {},
     "output_type": "display_data"
    },
    {
     "data": {
      "text/html": [
       "<pre style=\"white-space:pre;overflow-x:auto;line-height:normal;font-family:Menlo,'DejaVu Sans Mono',consolas,'Courier New',monospace\">vision_model.encoder.layers.<span style=\"color: #008080; text-decoration-color: #008080; font-weight: bold\">9.</span>mlp.fc2.weight\n",
       "<span style=\"color: #800080; text-decoration-color: #800080; font-weight: bold\">torch.Size</span><span style=\"font-weight: bold\">([</span><span style=\"color: #008080; text-decoration-color: #008080; font-weight: bold\">768</span>, <span style=\"color: #008080; text-decoration-color: #008080; font-weight: bold\">3072</span><span style=\"font-weight: bold\">])</span>\n",
       "torch.float16\n",
       "</pre>\n"
      ],
      "text/plain": [
       "vision_model.encoder.layers.\u001b[1;36m9.\u001b[0mmlp.fc2.weight\n",
       "\u001b[1;35mtorch.Size\u001b[0m\u001b[1m(\u001b[0m\u001b[1m[\u001b[0m\u001b[1;36m768\u001b[0m, \u001b[1;36m3072\u001b[0m\u001b[1m]\u001b[0m\u001b[1m)\u001b[0m\n",
       "torch.float16\n"
      ]
     },
     "metadata": {},
     "output_type": "display_data"
    },
    {
     "data": {
      "text/html": [
       "<pre style=\"white-space:pre;overflow-x:auto;line-height:normal;font-family:Menlo,'DejaVu Sans Mono',consolas,'Courier New',monospace\">vision_model.encoder.layers.<span style=\"color: #008080; text-decoration-color: #008080; font-weight: bold\">9.</span>mlp.fc2.bias\n",
       "<span style=\"color: #800080; text-decoration-color: #800080; font-weight: bold\">torch.Size</span><span style=\"font-weight: bold\">([</span><span style=\"color: #008080; text-decoration-color: #008080; font-weight: bold\">768</span><span style=\"font-weight: bold\">])</span>\n",
       "torch.float16\n",
       "</pre>\n"
      ],
      "text/plain": [
       "vision_model.encoder.layers.\u001b[1;36m9.\u001b[0mmlp.fc2.bias\n",
       "\u001b[1;35mtorch.Size\u001b[0m\u001b[1m(\u001b[0m\u001b[1m[\u001b[0m\u001b[1;36m768\u001b[0m\u001b[1m]\u001b[0m\u001b[1m)\u001b[0m\n",
       "torch.float16\n"
      ]
     },
     "metadata": {},
     "output_type": "display_data"
    },
    {
     "data": {
      "text/html": [
       "<pre style=\"white-space:pre;overflow-x:auto;line-height:normal;font-family:Menlo,'DejaVu Sans Mono',consolas,'Courier New',monospace\">vision_model.encoder.layers.<span style=\"color: #008080; text-decoration-color: #008080; font-weight: bold\">9.</span>layer_norm2.weight\n",
       "<span style=\"color: #800080; text-decoration-color: #800080; font-weight: bold\">torch.Size</span><span style=\"font-weight: bold\">([</span><span style=\"color: #008080; text-decoration-color: #008080; font-weight: bold\">768</span><span style=\"font-weight: bold\">])</span>\n",
       "torch.float16\n",
       "</pre>\n"
      ],
      "text/plain": [
       "vision_model.encoder.layers.\u001b[1;36m9.\u001b[0mlayer_norm2.weight\n",
       "\u001b[1;35mtorch.Size\u001b[0m\u001b[1m(\u001b[0m\u001b[1m[\u001b[0m\u001b[1;36m768\u001b[0m\u001b[1m]\u001b[0m\u001b[1m)\u001b[0m\n",
       "torch.float16\n"
      ]
     },
     "metadata": {},
     "output_type": "display_data"
    },
    {
     "data": {
      "text/html": [
       "<pre style=\"white-space:pre;overflow-x:auto;line-height:normal;font-family:Menlo,'DejaVu Sans Mono',consolas,'Courier New',monospace\">vision_model.encoder.layers.<span style=\"color: #008080; text-decoration-color: #008080; font-weight: bold\">9.</span>layer_norm2.bias\n",
       "<span style=\"color: #800080; text-decoration-color: #800080; font-weight: bold\">torch.Size</span><span style=\"font-weight: bold\">([</span><span style=\"color: #008080; text-decoration-color: #008080; font-weight: bold\">768</span><span style=\"font-weight: bold\">])</span>\n",
       "torch.float16\n",
       "</pre>\n"
      ],
      "text/plain": [
       "vision_model.encoder.layers.\u001b[1;36m9.\u001b[0mlayer_norm2.bias\n",
       "\u001b[1;35mtorch.Size\u001b[0m\u001b[1m(\u001b[0m\u001b[1m[\u001b[0m\u001b[1;36m768\u001b[0m\u001b[1m]\u001b[0m\u001b[1m)\u001b[0m\n",
       "torch.float16\n"
      ]
     },
     "metadata": {},
     "output_type": "display_data"
    },
    {
     "data": {
      "text/html": [
       "<pre style=\"white-space:pre;overflow-x:auto;line-height:normal;font-family:Menlo,'DejaVu Sans Mono',consolas,'Courier New',monospace\">vision_model.encoder.layers.<span style=\"color: #008080; text-decoration-color: #008080; font-weight: bold\">10.</span>self_attn.k_proj.weight\n",
       "<span style=\"color: #800080; text-decoration-color: #800080; font-weight: bold\">torch.Size</span><span style=\"font-weight: bold\">([</span><span style=\"color: #008080; text-decoration-color: #008080; font-weight: bold\">768</span>, <span style=\"color: #008080; text-decoration-color: #008080; font-weight: bold\">768</span><span style=\"font-weight: bold\">])</span>\n",
       "torch.float16\n",
       "</pre>\n"
      ],
      "text/plain": [
       "vision_model.encoder.layers.\u001b[1;36m10.\u001b[0mself_attn.k_proj.weight\n",
       "\u001b[1;35mtorch.Size\u001b[0m\u001b[1m(\u001b[0m\u001b[1m[\u001b[0m\u001b[1;36m768\u001b[0m, \u001b[1;36m768\u001b[0m\u001b[1m]\u001b[0m\u001b[1m)\u001b[0m\n",
       "torch.float16\n"
      ]
     },
     "metadata": {},
     "output_type": "display_data"
    },
    {
     "data": {
      "text/html": [
       "<pre style=\"white-space:pre;overflow-x:auto;line-height:normal;font-family:Menlo,'DejaVu Sans Mono',consolas,'Courier New',monospace\">vision_model.encoder.layers.<span style=\"color: #008080; text-decoration-color: #008080; font-weight: bold\">10.</span>self_attn.k_proj.bias\n",
       "<span style=\"color: #800080; text-decoration-color: #800080; font-weight: bold\">torch.Size</span><span style=\"font-weight: bold\">([</span><span style=\"color: #008080; text-decoration-color: #008080; font-weight: bold\">768</span><span style=\"font-weight: bold\">])</span>\n",
       "torch.float16\n",
       "</pre>\n"
      ],
      "text/plain": [
       "vision_model.encoder.layers.\u001b[1;36m10.\u001b[0mself_attn.k_proj.bias\n",
       "\u001b[1;35mtorch.Size\u001b[0m\u001b[1m(\u001b[0m\u001b[1m[\u001b[0m\u001b[1;36m768\u001b[0m\u001b[1m]\u001b[0m\u001b[1m)\u001b[0m\n",
       "torch.float16\n"
      ]
     },
     "metadata": {},
     "output_type": "display_data"
    },
    {
     "data": {
      "text/html": [
       "<pre style=\"white-space:pre;overflow-x:auto;line-height:normal;font-family:Menlo,'DejaVu Sans Mono',consolas,'Courier New',monospace\">vision_model.encoder.layers.<span style=\"color: #008080; text-decoration-color: #008080; font-weight: bold\">10.</span>self_attn.v_proj.weight\n",
       "<span style=\"color: #800080; text-decoration-color: #800080; font-weight: bold\">torch.Size</span><span style=\"font-weight: bold\">([</span><span style=\"color: #008080; text-decoration-color: #008080; font-weight: bold\">768</span>, <span style=\"color: #008080; text-decoration-color: #008080; font-weight: bold\">768</span><span style=\"font-weight: bold\">])</span>\n",
       "torch.float16\n",
       "</pre>\n"
      ],
      "text/plain": [
       "vision_model.encoder.layers.\u001b[1;36m10.\u001b[0mself_attn.v_proj.weight\n",
       "\u001b[1;35mtorch.Size\u001b[0m\u001b[1m(\u001b[0m\u001b[1m[\u001b[0m\u001b[1;36m768\u001b[0m, \u001b[1;36m768\u001b[0m\u001b[1m]\u001b[0m\u001b[1m)\u001b[0m\n",
       "torch.float16\n"
      ]
     },
     "metadata": {},
     "output_type": "display_data"
    },
    {
     "data": {
      "text/html": [
       "<pre style=\"white-space:pre;overflow-x:auto;line-height:normal;font-family:Menlo,'DejaVu Sans Mono',consolas,'Courier New',monospace\">vision_model.encoder.layers.<span style=\"color: #008080; text-decoration-color: #008080; font-weight: bold\">10.</span>self_attn.v_proj.bias\n",
       "<span style=\"color: #800080; text-decoration-color: #800080; font-weight: bold\">torch.Size</span><span style=\"font-weight: bold\">([</span><span style=\"color: #008080; text-decoration-color: #008080; font-weight: bold\">768</span><span style=\"font-weight: bold\">])</span>\n",
       "torch.float16\n",
       "</pre>\n"
      ],
      "text/plain": [
       "vision_model.encoder.layers.\u001b[1;36m10.\u001b[0mself_attn.v_proj.bias\n",
       "\u001b[1;35mtorch.Size\u001b[0m\u001b[1m(\u001b[0m\u001b[1m[\u001b[0m\u001b[1;36m768\u001b[0m\u001b[1m]\u001b[0m\u001b[1m)\u001b[0m\n",
       "torch.float16\n"
      ]
     },
     "metadata": {},
     "output_type": "display_data"
    },
    {
     "data": {
      "text/html": [
       "<pre style=\"white-space:pre;overflow-x:auto;line-height:normal;font-family:Menlo,'DejaVu Sans Mono',consolas,'Courier New',monospace\">vision_model.encoder.layers.<span style=\"color: #008080; text-decoration-color: #008080; font-weight: bold\">10.</span>self_attn.q_proj.weight\n",
       "<span style=\"color: #800080; text-decoration-color: #800080; font-weight: bold\">torch.Size</span><span style=\"font-weight: bold\">([</span><span style=\"color: #008080; text-decoration-color: #008080; font-weight: bold\">768</span>, <span style=\"color: #008080; text-decoration-color: #008080; font-weight: bold\">768</span><span style=\"font-weight: bold\">])</span>\n",
       "torch.float16\n",
       "</pre>\n"
      ],
      "text/plain": [
       "vision_model.encoder.layers.\u001b[1;36m10.\u001b[0mself_attn.q_proj.weight\n",
       "\u001b[1;35mtorch.Size\u001b[0m\u001b[1m(\u001b[0m\u001b[1m[\u001b[0m\u001b[1;36m768\u001b[0m, \u001b[1;36m768\u001b[0m\u001b[1m]\u001b[0m\u001b[1m)\u001b[0m\n",
       "torch.float16\n"
      ]
     },
     "metadata": {},
     "output_type": "display_data"
    },
    {
     "data": {
      "text/html": [
       "<pre style=\"white-space:pre;overflow-x:auto;line-height:normal;font-family:Menlo,'DejaVu Sans Mono',consolas,'Courier New',monospace\">vision_model.encoder.layers.<span style=\"color: #008080; text-decoration-color: #008080; font-weight: bold\">10.</span>self_attn.q_proj.bias\n",
       "<span style=\"color: #800080; text-decoration-color: #800080; font-weight: bold\">torch.Size</span><span style=\"font-weight: bold\">([</span><span style=\"color: #008080; text-decoration-color: #008080; font-weight: bold\">768</span><span style=\"font-weight: bold\">])</span>\n",
       "torch.float16\n",
       "</pre>\n"
      ],
      "text/plain": [
       "vision_model.encoder.layers.\u001b[1;36m10.\u001b[0mself_attn.q_proj.bias\n",
       "\u001b[1;35mtorch.Size\u001b[0m\u001b[1m(\u001b[0m\u001b[1m[\u001b[0m\u001b[1;36m768\u001b[0m\u001b[1m]\u001b[0m\u001b[1m)\u001b[0m\n",
       "torch.float16\n"
      ]
     },
     "metadata": {},
     "output_type": "display_data"
    },
    {
     "data": {
      "text/html": [
       "<pre style=\"white-space:pre;overflow-x:auto;line-height:normal;font-family:Menlo,'DejaVu Sans Mono',consolas,'Courier New',monospace\">vision_model.encoder.layers.<span style=\"color: #008080; text-decoration-color: #008080; font-weight: bold\">10.</span>self_attn.out_proj.weight\n",
       "<span style=\"color: #800080; text-decoration-color: #800080; font-weight: bold\">torch.Size</span><span style=\"font-weight: bold\">([</span><span style=\"color: #008080; text-decoration-color: #008080; font-weight: bold\">768</span>, <span style=\"color: #008080; text-decoration-color: #008080; font-weight: bold\">768</span><span style=\"font-weight: bold\">])</span>\n",
       "torch.float16\n",
       "</pre>\n"
      ],
      "text/plain": [
       "vision_model.encoder.layers.\u001b[1;36m10.\u001b[0mself_attn.out_proj.weight\n",
       "\u001b[1;35mtorch.Size\u001b[0m\u001b[1m(\u001b[0m\u001b[1m[\u001b[0m\u001b[1;36m768\u001b[0m, \u001b[1;36m768\u001b[0m\u001b[1m]\u001b[0m\u001b[1m)\u001b[0m\n",
       "torch.float16\n"
      ]
     },
     "metadata": {},
     "output_type": "display_data"
    },
    {
     "data": {
      "text/html": [
       "<pre style=\"white-space:pre;overflow-x:auto;line-height:normal;font-family:Menlo,'DejaVu Sans Mono',consolas,'Courier New',monospace\">vision_model.encoder.layers.<span style=\"color: #008080; text-decoration-color: #008080; font-weight: bold\">10.</span>self_attn.out_proj.bias\n",
       "<span style=\"color: #800080; text-decoration-color: #800080; font-weight: bold\">torch.Size</span><span style=\"font-weight: bold\">([</span><span style=\"color: #008080; text-decoration-color: #008080; font-weight: bold\">768</span><span style=\"font-weight: bold\">])</span>\n",
       "torch.float16\n",
       "</pre>\n"
      ],
      "text/plain": [
       "vision_model.encoder.layers.\u001b[1;36m10.\u001b[0mself_attn.out_proj.bias\n",
       "\u001b[1;35mtorch.Size\u001b[0m\u001b[1m(\u001b[0m\u001b[1m[\u001b[0m\u001b[1;36m768\u001b[0m\u001b[1m]\u001b[0m\u001b[1m)\u001b[0m\n",
       "torch.float16\n"
      ]
     },
     "metadata": {},
     "output_type": "display_data"
    },
    {
     "data": {
      "text/html": [
       "<pre style=\"white-space:pre;overflow-x:auto;line-height:normal;font-family:Menlo,'DejaVu Sans Mono',consolas,'Courier New',monospace\">vision_model.encoder.layers.<span style=\"color: #008080; text-decoration-color: #008080; font-weight: bold\">10.</span>layer_norm1.weight\n",
       "<span style=\"color: #800080; text-decoration-color: #800080; font-weight: bold\">torch.Size</span><span style=\"font-weight: bold\">([</span><span style=\"color: #008080; text-decoration-color: #008080; font-weight: bold\">768</span><span style=\"font-weight: bold\">])</span>\n",
       "torch.float16\n",
       "</pre>\n"
      ],
      "text/plain": [
       "vision_model.encoder.layers.\u001b[1;36m10.\u001b[0mlayer_norm1.weight\n",
       "\u001b[1;35mtorch.Size\u001b[0m\u001b[1m(\u001b[0m\u001b[1m[\u001b[0m\u001b[1;36m768\u001b[0m\u001b[1m]\u001b[0m\u001b[1m)\u001b[0m\n",
       "torch.float16\n"
      ]
     },
     "metadata": {},
     "output_type": "display_data"
    },
    {
     "data": {
      "text/html": [
       "<pre style=\"white-space:pre;overflow-x:auto;line-height:normal;font-family:Menlo,'DejaVu Sans Mono',consolas,'Courier New',monospace\">vision_model.encoder.layers.<span style=\"color: #008080; text-decoration-color: #008080; font-weight: bold\">10.</span>layer_norm1.bias\n",
       "<span style=\"color: #800080; text-decoration-color: #800080; font-weight: bold\">torch.Size</span><span style=\"font-weight: bold\">([</span><span style=\"color: #008080; text-decoration-color: #008080; font-weight: bold\">768</span><span style=\"font-weight: bold\">])</span>\n",
       "torch.float16\n",
       "</pre>\n"
      ],
      "text/plain": [
       "vision_model.encoder.layers.\u001b[1;36m10.\u001b[0mlayer_norm1.bias\n",
       "\u001b[1;35mtorch.Size\u001b[0m\u001b[1m(\u001b[0m\u001b[1m[\u001b[0m\u001b[1;36m768\u001b[0m\u001b[1m]\u001b[0m\u001b[1m)\u001b[0m\n",
       "torch.float16\n"
      ]
     },
     "metadata": {},
     "output_type": "display_data"
    },
    {
     "data": {
      "text/html": [
       "<pre style=\"white-space:pre;overflow-x:auto;line-height:normal;font-family:Menlo,'DejaVu Sans Mono',consolas,'Courier New',monospace\">vision_model.encoder.layers.<span style=\"color: #008080; text-decoration-color: #008080; font-weight: bold\">10.</span>mlp.fc1.weight\n",
       "<span style=\"color: #800080; text-decoration-color: #800080; font-weight: bold\">torch.Size</span><span style=\"font-weight: bold\">([</span><span style=\"color: #008080; text-decoration-color: #008080; font-weight: bold\">3072</span>, <span style=\"color: #008080; text-decoration-color: #008080; font-weight: bold\">768</span><span style=\"font-weight: bold\">])</span>\n",
       "torch.float16\n",
       "</pre>\n"
      ],
      "text/plain": [
       "vision_model.encoder.layers.\u001b[1;36m10.\u001b[0mmlp.fc1.weight\n",
       "\u001b[1;35mtorch.Size\u001b[0m\u001b[1m(\u001b[0m\u001b[1m[\u001b[0m\u001b[1;36m3072\u001b[0m, \u001b[1;36m768\u001b[0m\u001b[1m]\u001b[0m\u001b[1m)\u001b[0m\n",
       "torch.float16\n"
      ]
     },
     "metadata": {},
     "output_type": "display_data"
    },
    {
     "data": {
      "text/html": [
       "<pre style=\"white-space:pre;overflow-x:auto;line-height:normal;font-family:Menlo,'DejaVu Sans Mono',consolas,'Courier New',monospace\">vision_model.encoder.layers.<span style=\"color: #008080; text-decoration-color: #008080; font-weight: bold\">10.</span>mlp.fc1.bias\n",
       "<span style=\"color: #800080; text-decoration-color: #800080; font-weight: bold\">torch.Size</span><span style=\"font-weight: bold\">([</span><span style=\"color: #008080; text-decoration-color: #008080; font-weight: bold\">3072</span><span style=\"font-weight: bold\">])</span>\n",
       "torch.float16\n",
       "</pre>\n"
      ],
      "text/plain": [
       "vision_model.encoder.layers.\u001b[1;36m10.\u001b[0mmlp.fc1.bias\n",
       "\u001b[1;35mtorch.Size\u001b[0m\u001b[1m(\u001b[0m\u001b[1m[\u001b[0m\u001b[1;36m3072\u001b[0m\u001b[1m]\u001b[0m\u001b[1m)\u001b[0m\n",
       "torch.float16\n"
      ]
     },
     "metadata": {},
     "output_type": "display_data"
    },
    {
     "data": {
      "text/html": [
       "<pre style=\"white-space:pre;overflow-x:auto;line-height:normal;font-family:Menlo,'DejaVu Sans Mono',consolas,'Courier New',monospace\">vision_model.encoder.layers.<span style=\"color: #008080; text-decoration-color: #008080; font-weight: bold\">10.</span>mlp.fc2.weight\n",
       "<span style=\"color: #800080; text-decoration-color: #800080; font-weight: bold\">torch.Size</span><span style=\"font-weight: bold\">([</span><span style=\"color: #008080; text-decoration-color: #008080; font-weight: bold\">768</span>, <span style=\"color: #008080; text-decoration-color: #008080; font-weight: bold\">3072</span><span style=\"font-weight: bold\">])</span>\n",
       "torch.float16\n",
       "</pre>\n"
      ],
      "text/plain": [
       "vision_model.encoder.layers.\u001b[1;36m10.\u001b[0mmlp.fc2.weight\n",
       "\u001b[1;35mtorch.Size\u001b[0m\u001b[1m(\u001b[0m\u001b[1m[\u001b[0m\u001b[1;36m768\u001b[0m, \u001b[1;36m3072\u001b[0m\u001b[1m]\u001b[0m\u001b[1m)\u001b[0m\n",
       "torch.float16\n"
      ]
     },
     "metadata": {},
     "output_type": "display_data"
    },
    {
     "data": {
      "text/html": [
       "<pre style=\"white-space:pre;overflow-x:auto;line-height:normal;font-family:Menlo,'DejaVu Sans Mono',consolas,'Courier New',monospace\">vision_model.encoder.layers.<span style=\"color: #008080; text-decoration-color: #008080; font-weight: bold\">10.</span>mlp.fc2.bias\n",
       "<span style=\"color: #800080; text-decoration-color: #800080; font-weight: bold\">torch.Size</span><span style=\"font-weight: bold\">([</span><span style=\"color: #008080; text-decoration-color: #008080; font-weight: bold\">768</span><span style=\"font-weight: bold\">])</span>\n",
       "torch.float16\n",
       "</pre>\n"
      ],
      "text/plain": [
       "vision_model.encoder.layers.\u001b[1;36m10.\u001b[0mmlp.fc2.bias\n",
       "\u001b[1;35mtorch.Size\u001b[0m\u001b[1m(\u001b[0m\u001b[1m[\u001b[0m\u001b[1;36m768\u001b[0m\u001b[1m]\u001b[0m\u001b[1m)\u001b[0m\n",
       "torch.float16\n"
      ]
     },
     "metadata": {},
     "output_type": "display_data"
    },
    {
     "data": {
      "text/html": [
       "<pre style=\"white-space:pre;overflow-x:auto;line-height:normal;font-family:Menlo,'DejaVu Sans Mono',consolas,'Courier New',monospace\">vision_model.encoder.layers.<span style=\"color: #008080; text-decoration-color: #008080; font-weight: bold\">10.</span>layer_norm2.weight\n",
       "<span style=\"color: #800080; text-decoration-color: #800080; font-weight: bold\">torch.Size</span><span style=\"font-weight: bold\">([</span><span style=\"color: #008080; text-decoration-color: #008080; font-weight: bold\">768</span><span style=\"font-weight: bold\">])</span>\n",
       "torch.float16\n",
       "</pre>\n"
      ],
      "text/plain": [
       "vision_model.encoder.layers.\u001b[1;36m10.\u001b[0mlayer_norm2.weight\n",
       "\u001b[1;35mtorch.Size\u001b[0m\u001b[1m(\u001b[0m\u001b[1m[\u001b[0m\u001b[1;36m768\u001b[0m\u001b[1m]\u001b[0m\u001b[1m)\u001b[0m\n",
       "torch.float16\n"
      ]
     },
     "metadata": {},
     "output_type": "display_data"
    },
    {
     "data": {
      "text/html": [
       "<pre style=\"white-space:pre;overflow-x:auto;line-height:normal;font-family:Menlo,'DejaVu Sans Mono',consolas,'Courier New',monospace\">vision_model.encoder.layers.<span style=\"color: #008080; text-decoration-color: #008080; font-weight: bold\">10.</span>layer_norm2.bias\n",
       "<span style=\"color: #800080; text-decoration-color: #800080; font-weight: bold\">torch.Size</span><span style=\"font-weight: bold\">([</span><span style=\"color: #008080; text-decoration-color: #008080; font-weight: bold\">768</span><span style=\"font-weight: bold\">])</span>\n",
       "torch.float16\n",
       "</pre>\n"
      ],
      "text/plain": [
       "vision_model.encoder.layers.\u001b[1;36m10.\u001b[0mlayer_norm2.bias\n",
       "\u001b[1;35mtorch.Size\u001b[0m\u001b[1m(\u001b[0m\u001b[1m[\u001b[0m\u001b[1;36m768\u001b[0m\u001b[1m]\u001b[0m\u001b[1m)\u001b[0m\n",
       "torch.float16\n"
      ]
     },
     "metadata": {},
     "output_type": "display_data"
    },
    {
     "data": {
      "text/html": [
       "<pre style=\"white-space:pre;overflow-x:auto;line-height:normal;font-family:Menlo,'DejaVu Sans Mono',consolas,'Courier New',monospace\">vision_model.encoder.layers.<span style=\"color: #008080; text-decoration-color: #008080; font-weight: bold\">11.</span>self_attn.k_proj.weight\n",
       "<span style=\"color: #800080; text-decoration-color: #800080; font-weight: bold\">torch.Size</span><span style=\"font-weight: bold\">([</span><span style=\"color: #008080; text-decoration-color: #008080; font-weight: bold\">768</span>, <span style=\"color: #008080; text-decoration-color: #008080; font-weight: bold\">768</span><span style=\"font-weight: bold\">])</span>\n",
       "torch.float16\n",
       "</pre>\n"
      ],
      "text/plain": [
       "vision_model.encoder.layers.\u001b[1;36m11.\u001b[0mself_attn.k_proj.weight\n",
       "\u001b[1;35mtorch.Size\u001b[0m\u001b[1m(\u001b[0m\u001b[1m[\u001b[0m\u001b[1;36m768\u001b[0m, \u001b[1;36m768\u001b[0m\u001b[1m]\u001b[0m\u001b[1m)\u001b[0m\n",
       "torch.float16\n"
      ]
     },
     "metadata": {},
     "output_type": "display_data"
    },
    {
     "data": {
      "text/html": [
       "<pre style=\"white-space:pre;overflow-x:auto;line-height:normal;font-family:Menlo,'DejaVu Sans Mono',consolas,'Courier New',monospace\">vision_model.encoder.layers.<span style=\"color: #008080; text-decoration-color: #008080; font-weight: bold\">11.</span>self_attn.k_proj.bias\n",
       "<span style=\"color: #800080; text-decoration-color: #800080; font-weight: bold\">torch.Size</span><span style=\"font-weight: bold\">([</span><span style=\"color: #008080; text-decoration-color: #008080; font-weight: bold\">768</span><span style=\"font-weight: bold\">])</span>\n",
       "torch.float16\n",
       "</pre>\n"
      ],
      "text/plain": [
       "vision_model.encoder.layers.\u001b[1;36m11.\u001b[0mself_attn.k_proj.bias\n",
       "\u001b[1;35mtorch.Size\u001b[0m\u001b[1m(\u001b[0m\u001b[1m[\u001b[0m\u001b[1;36m768\u001b[0m\u001b[1m]\u001b[0m\u001b[1m)\u001b[0m\n",
       "torch.float16\n"
      ]
     },
     "metadata": {},
     "output_type": "display_data"
    },
    {
     "data": {
      "text/html": [
       "<pre style=\"white-space:pre;overflow-x:auto;line-height:normal;font-family:Menlo,'DejaVu Sans Mono',consolas,'Courier New',monospace\">vision_model.encoder.layers.<span style=\"color: #008080; text-decoration-color: #008080; font-weight: bold\">11.</span>self_attn.v_proj.weight\n",
       "<span style=\"color: #800080; text-decoration-color: #800080; font-weight: bold\">torch.Size</span><span style=\"font-weight: bold\">([</span><span style=\"color: #008080; text-decoration-color: #008080; font-weight: bold\">768</span>, <span style=\"color: #008080; text-decoration-color: #008080; font-weight: bold\">768</span><span style=\"font-weight: bold\">])</span>\n",
       "torch.float16\n",
       "</pre>\n"
      ],
      "text/plain": [
       "vision_model.encoder.layers.\u001b[1;36m11.\u001b[0mself_attn.v_proj.weight\n",
       "\u001b[1;35mtorch.Size\u001b[0m\u001b[1m(\u001b[0m\u001b[1m[\u001b[0m\u001b[1;36m768\u001b[0m, \u001b[1;36m768\u001b[0m\u001b[1m]\u001b[0m\u001b[1m)\u001b[0m\n",
       "torch.float16\n"
      ]
     },
     "metadata": {},
     "output_type": "display_data"
    },
    {
     "data": {
      "text/html": [
       "<pre style=\"white-space:pre;overflow-x:auto;line-height:normal;font-family:Menlo,'DejaVu Sans Mono',consolas,'Courier New',monospace\">vision_model.encoder.layers.<span style=\"color: #008080; text-decoration-color: #008080; font-weight: bold\">11.</span>self_attn.v_proj.bias\n",
       "<span style=\"color: #800080; text-decoration-color: #800080; font-weight: bold\">torch.Size</span><span style=\"font-weight: bold\">([</span><span style=\"color: #008080; text-decoration-color: #008080; font-weight: bold\">768</span><span style=\"font-weight: bold\">])</span>\n",
       "torch.float16\n",
       "</pre>\n"
      ],
      "text/plain": [
       "vision_model.encoder.layers.\u001b[1;36m11.\u001b[0mself_attn.v_proj.bias\n",
       "\u001b[1;35mtorch.Size\u001b[0m\u001b[1m(\u001b[0m\u001b[1m[\u001b[0m\u001b[1;36m768\u001b[0m\u001b[1m]\u001b[0m\u001b[1m)\u001b[0m\n",
       "torch.float16\n"
      ]
     },
     "metadata": {},
     "output_type": "display_data"
    },
    {
     "data": {
      "text/html": [
       "<pre style=\"white-space:pre;overflow-x:auto;line-height:normal;font-family:Menlo,'DejaVu Sans Mono',consolas,'Courier New',monospace\">vision_model.encoder.layers.<span style=\"color: #008080; text-decoration-color: #008080; font-weight: bold\">11.</span>self_attn.q_proj.weight\n",
       "<span style=\"color: #800080; text-decoration-color: #800080; font-weight: bold\">torch.Size</span><span style=\"font-weight: bold\">([</span><span style=\"color: #008080; text-decoration-color: #008080; font-weight: bold\">768</span>, <span style=\"color: #008080; text-decoration-color: #008080; font-weight: bold\">768</span><span style=\"font-weight: bold\">])</span>\n",
       "torch.float16\n",
       "</pre>\n"
      ],
      "text/plain": [
       "vision_model.encoder.layers.\u001b[1;36m11.\u001b[0mself_attn.q_proj.weight\n",
       "\u001b[1;35mtorch.Size\u001b[0m\u001b[1m(\u001b[0m\u001b[1m[\u001b[0m\u001b[1;36m768\u001b[0m, \u001b[1;36m768\u001b[0m\u001b[1m]\u001b[0m\u001b[1m)\u001b[0m\n",
       "torch.float16\n"
      ]
     },
     "metadata": {},
     "output_type": "display_data"
    },
    {
     "data": {
      "text/html": [
       "<pre style=\"white-space:pre;overflow-x:auto;line-height:normal;font-family:Menlo,'DejaVu Sans Mono',consolas,'Courier New',monospace\">vision_model.encoder.layers.<span style=\"color: #008080; text-decoration-color: #008080; font-weight: bold\">11.</span>self_attn.q_proj.bias\n",
       "<span style=\"color: #800080; text-decoration-color: #800080; font-weight: bold\">torch.Size</span><span style=\"font-weight: bold\">([</span><span style=\"color: #008080; text-decoration-color: #008080; font-weight: bold\">768</span><span style=\"font-weight: bold\">])</span>\n",
       "torch.float16\n",
       "</pre>\n"
      ],
      "text/plain": [
       "vision_model.encoder.layers.\u001b[1;36m11.\u001b[0mself_attn.q_proj.bias\n",
       "\u001b[1;35mtorch.Size\u001b[0m\u001b[1m(\u001b[0m\u001b[1m[\u001b[0m\u001b[1;36m768\u001b[0m\u001b[1m]\u001b[0m\u001b[1m)\u001b[0m\n",
       "torch.float16\n"
      ]
     },
     "metadata": {},
     "output_type": "display_data"
    },
    {
     "data": {
      "text/html": [
       "<pre style=\"white-space:pre;overflow-x:auto;line-height:normal;font-family:Menlo,'DejaVu Sans Mono',consolas,'Courier New',monospace\">vision_model.encoder.layers.<span style=\"color: #008080; text-decoration-color: #008080; font-weight: bold\">11.</span>self_attn.out_proj.weight\n",
       "<span style=\"color: #800080; text-decoration-color: #800080; font-weight: bold\">torch.Size</span><span style=\"font-weight: bold\">([</span><span style=\"color: #008080; text-decoration-color: #008080; font-weight: bold\">768</span>, <span style=\"color: #008080; text-decoration-color: #008080; font-weight: bold\">768</span><span style=\"font-weight: bold\">])</span>\n",
       "torch.float16\n",
       "</pre>\n"
      ],
      "text/plain": [
       "vision_model.encoder.layers.\u001b[1;36m11.\u001b[0mself_attn.out_proj.weight\n",
       "\u001b[1;35mtorch.Size\u001b[0m\u001b[1m(\u001b[0m\u001b[1m[\u001b[0m\u001b[1;36m768\u001b[0m, \u001b[1;36m768\u001b[0m\u001b[1m]\u001b[0m\u001b[1m)\u001b[0m\n",
       "torch.float16\n"
      ]
     },
     "metadata": {},
     "output_type": "display_data"
    },
    {
     "data": {
      "text/html": [
       "<pre style=\"white-space:pre;overflow-x:auto;line-height:normal;font-family:Menlo,'DejaVu Sans Mono',consolas,'Courier New',monospace\">vision_model.encoder.layers.<span style=\"color: #008080; text-decoration-color: #008080; font-weight: bold\">11.</span>self_attn.out_proj.bias\n",
       "<span style=\"color: #800080; text-decoration-color: #800080; font-weight: bold\">torch.Size</span><span style=\"font-weight: bold\">([</span><span style=\"color: #008080; text-decoration-color: #008080; font-weight: bold\">768</span><span style=\"font-weight: bold\">])</span>\n",
       "torch.float16\n",
       "</pre>\n"
      ],
      "text/plain": [
       "vision_model.encoder.layers.\u001b[1;36m11.\u001b[0mself_attn.out_proj.bias\n",
       "\u001b[1;35mtorch.Size\u001b[0m\u001b[1m(\u001b[0m\u001b[1m[\u001b[0m\u001b[1;36m768\u001b[0m\u001b[1m]\u001b[0m\u001b[1m)\u001b[0m\n",
       "torch.float16\n"
      ]
     },
     "metadata": {},
     "output_type": "display_data"
    },
    {
     "data": {
      "text/html": [
       "<pre style=\"white-space:pre;overflow-x:auto;line-height:normal;font-family:Menlo,'DejaVu Sans Mono',consolas,'Courier New',monospace\">vision_model.encoder.layers.<span style=\"color: #008080; text-decoration-color: #008080; font-weight: bold\">11.</span>layer_norm1.weight\n",
       "<span style=\"color: #800080; text-decoration-color: #800080; font-weight: bold\">torch.Size</span><span style=\"font-weight: bold\">([</span><span style=\"color: #008080; text-decoration-color: #008080; font-weight: bold\">768</span><span style=\"font-weight: bold\">])</span>\n",
       "torch.float16\n",
       "</pre>\n"
      ],
      "text/plain": [
       "vision_model.encoder.layers.\u001b[1;36m11.\u001b[0mlayer_norm1.weight\n",
       "\u001b[1;35mtorch.Size\u001b[0m\u001b[1m(\u001b[0m\u001b[1m[\u001b[0m\u001b[1;36m768\u001b[0m\u001b[1m]\u001b[0m\u001b[1m)\u001b[0m\n",
       "torch.float16\n"
      ]
     },
     "metadata": {},
     "output_type": "display_data"
    },
    {
     "data": {
      "text/html": [
       "<pre style=\"white-space:pre;overflow-x:auto;line-height:normal;font-family:Menlo,'DejaVu Sans Mono',consolas,'Courier New',monospace\">vision_model.encoder.layers.<span style=\"color: #008080; text-decoration-color: #008080; font-weight: bold\">11.</span>layer_norm1.bias\n",
       "<span style=\"color: #800080; text-decoration-color: #800080; font-weight: bold\">torch.Size</span><span style=\"font-weight: bold\">([</span><span style=\"color: #008080; text-decoration-color: #008080; font-weight: bold\">768</span><span style=\"font-weight: bold\">])</span>\n",
       "torch.float16\n",
       "</pre>\n"
      ],
      "text/plain": [
       "vision_model.encoder.layers.\u001b[1;36m11.\u001b[0mlayer_norm1.bias\n",
       "\u001b[1;35mtorch.Size\u001b[0m\u001b[1m(\u001b[0m\u001b[1m[\u001b[0m\u001b[1;36m768\u001b[0m\u001b[1m]\u001b[0m\u001b[1m)\u001b[0m\n",
       "torch.float16\n"
      ]
     },
     "metadata": {},
     "output_type": "display_data"
    },
    {
     "data": {
      "text/html": [
       "<pre style=\"white-space:pre;overflow-x:auto;line-height:normal;font-family:Menlo,'DejaVu Sans Mono',consolas,'Courier New',monospace\">vision_model.encoder.layers.<span style=\"color: #008080; text-decoration-color: #008080; font-weight: bold\">11.</span>mlp.fc1.weight\n",
       "<span style=\"color: #800080; text-decoration-color: #800080; font-weight: bold\">torch.Size</span><span style=\"font-weight: bold\">([</span><span style=\"color: #008080; text-decoration-color: #008080; font-weight: bold\">3072</span>, <span style=\"color: #008080; text-decoration-color: #008080; font-weight: bold\">768</span><span style=\"font-weight: bold\">])</span>\n",
       "torch.float16\n",
       "</pre>\n"
      ],
      "text/plain": [
       "vision_model.encoder.layers.\u001b[1;36m11.\u001b[0mmlp.fc1.weight\n",
       "\u001b[1;35mtorch.Size\u001b[0m\u001b[1m(\u001b[0m\u001b[1m[\u001b[0m\u001b[1;36m3072\u001b[0m, \u001b[1;36m768\u001b[0m\u001b[1m]\u001b[0m\u001b[1m)\u001b[0m\n",
       "torch.float16\n"
      ]
     },
     "metadata": {},
     "output_type": "display_data"
    },
    {
     "data": {
      "text/html": [
       "<pre style=\"white-space:pre;overflow-x:auto;line-height:normal;font-family:Menlo,'DejaVu Sans Mono',consolas,'Courier New',monospace\">vision_model.encoder.layers.<span style=\"color: #008080; text-decoration-color: #008080; font-weight: bold\">11.</span>mlp.fc1.bias\n",
       "<span style=\"color: #800080; text-decoration-color: #800080; font-weight: bold\">torch.Size</span><span style=\"font-weight: bold\">([</span><span style=\"color: #008080; text-decoration-color: #008080; font-weight: bold\">3072</span><span style=\"font-weight: bold\">])</span>\n",
       "torch.float16\n",
       "</pre>\n"
      ],
      "text/plain": [
       "vision_model.encoder.layers.\u001b[1;36m11.\u001b[0mmlp.fc1.bias\n",
       "\u001b[1;35mtorch.Size\u001b[0m\u001b[1m(\u001b[0m\u001b[1m[\u001b[0m\u001b[1;36m3072\u001b[0m\u001b[1m]\u001b[0m\u001b[1m)\u001b[0m\n",
       "torch.float16\n"
      ]
     },
     "metadata": {},
     "output_type": "display_data"
    },
    {
     "data": {
      "text/html": [
       "<pre style=\"white-space:pre;overflow-x:auto;line-height:normal;font-family:Menlo,'DejaVu Sans Mono',consolas,'Courier New',monospace\">vision_model.encoder.layers.<span style=\"color: #008080; text-decoration-color: #008080; font-weight: bold\">11.</span>mlp.fc2.weight\n",
       "<span style=\"color: #800080; text-decoration-color: #800080; font-weight: bold\">torch.Size</span><span style=\"font-weight: bold\">([</span><span style=\"color: #008080; text-decoration-color: #008080; font-weight: bold\">768</span>, <span style=\"color: #008080; text-decoration-color: #008080; font-weight: bold\">3072</span><span style=\"font-weight: bold\">])</span>\n",
       "torch.float16\n",
       "</pre>\n"
      ],
      "text/plain": [
       "vision_model.encoder.layers.\u001b[1;36m11.\u001b[0mmlp.fc2.weight\n",
       "\u001b[1;35mtorch.Size\u001b[0m\u001b[1m(\u001b[0m\u001b[1m[\u001b[0m\u001b[1;36m768\u001b[0m, \u001b[1;36m3072\u001b[0m\u001b[1m]\u001b[0m\u001b[1m)\u001b[0m\n",
       "torch.float16\n"
      ]
     },
     "metadata": {},
     "output_type": "display_data"
    },
    {
     "data": {
      "text/html": [
       "<pre style=\"white-space:pre;overflow-x:auto;line-height:normal;font-family:Menlo,'DejaVu Sans Mono',consolas,'Courier New',monospace\">vision_model.encoder.layers.<span style=\"color: #008080; text-decoration-color: #008080; font-weight: bold\">11.</span>mlp.fc2.bias\n",
       "<span style=\"color: #800080; text-decoration-color: #800080; font-weight: bold\">torch.Size</span><span style=\"font-weight: bold\">([</span><span style=\"color: #008080; text-decoration-color: #008080; font-weight: bold\">768</span><span style=\"font-weight: bold\">])</span>\n",
       "torch.float16\n",
       "</pre>\n"
      ],
      "text/plain": [
       "vision_model.encoder.layers.\u001b[1;36m11.\u001b[0mmlp.fc2.bias\n",
       "\u001b[1;35mtorch.Size\u001b[0m\u001b[1m(\u001b[0m\u001b[1m[\u001b[0m\u001b[1;36m768\u001b[0m\u001b[1m]\u001b[0m\u001b[1m)\u001b[0m\n",
       "torch.float16\n"
      ]
     },
     "metadata": {},
     "output_type": "display_data"
    },
    {
     "data": {
      "text/html": [
       "<pre style=\"white-space:pre;overflow-x:auto;line-height:normal;font-family:Menlo,'DejaVu Sans Mono',consolas,'Courier New',monospace\">vision_model.encoder.layers.<span style=\"color: #008080; text-decoration-color: #008080; font-weight: bold\">11.</span>layer_norm2.weight\n",
       "<span style=\"color: #800080; text-decoration-color: #800080; font-weight: bold\">torch.Size</span><span style=\"font-weight: bold\">([</span><span style=\"color: #008080; text-decoration-color: #008080; font-weight: bold\">768</span><span style=\"font-weight: bold\">])</span>\n",
       "torch.float16\n",
       "</pre>\n"
      ],
      "text/plain": [
       "vision_model.encoder.layers.\u001b[1;36m11.\u001b[0mlayer_norm2.weight\n",
       "\u001b[1;35mtorch.Size\u001b[0m\u001b[1m(\u001b[0m\u001b[1m[\u001b[0m\u001b[1;36m768\u001b[0m\u001b[1m]\u001b[0m\u001b[1m)\u001b[0m\n",
       "torch.float16\n"
      ]
     },
     "metadata": {},
     "output_type": "display_data"
    },
    {
     "data": {
      "text/html": [
       "<pre style=\"white-space:pre;overflow-x:auto;line-height:normal;font-family:Menlo,'DejaVu Sans Mono',consolas,'Courier New',monospace\">vision_model.encoder.layers.<span style=\"color: #008080; text-decoration-color: #008080; font-weight: bold\">11.</span>layer_norm2.bias\n",
       "<span style=\"color: #800080; text-decoration-color: #800080; font-weight: bold\">torch.Size</span><span style=\"font-weight: bold\">([</span><span style=\"color: #008080; text-decoration-color: #008080; font-weight: bold\">768</span><span style=\"font-weight: bold\">])</span>\n",
       "torch.float16\n",
       "</pre>\n"
      ],
      "text/plain": [
       "vision_model.encoder.layers.\u001b[1;36m11.\u001b[0mlayer_norm2.bias\n",
       "\u001b[1;35mtorch.Size\u001b[0m\u001b[1m(\u001b[0m\u001b[1m[\u001b[0m\u001b[1;36m768\u001b[0m\u001b[1m]\u001b[0m\u001b[1m)\u001b[0m\n",
       "torch.float16\n"
      ]
     },
     "metadata": {},
     "output_type": "display_data"
    },
    {
     "data": {
      "text/html": [
       "<pre style=\"white-space:pre;overflow-x:auto;line-height:normal;font-family:Menlo,'DejaVu Sans Mono',consolas,'Courier New',monospace\">vision_model.post_layernorm.weight\n",
       "<span style=\"color: #800080; text-decoration-color: #800080; font-weight: bold\">torch.Size</span><span style=\"font-weight: bold\">([</span><span style=\"color: #008080; text-decoration-color: #008080; font-weight: bold\">768</span><span style=\"font-weight: bold\">])</span>\n",
       "torch.float16\n",
       "</pre>\n"
      ],
      "text/plain": [
       "vision_model.post_layernorm.weight\n",
       "\u001b[1;35mtorch.Size\u001b[0m\u001b[1m(\u001b[0m\u001b[1m[\u001b[0m\u001b[1;36m768\u001b[0m\u001b[1m]\u001b[0m\u001b[1m)\u001b[0m\n",
       "torch.float16\n"
      ]
     },
     "metadata": {},
     "output_type": "display_data"
    },
    {
     "data": {
      "text/html": [
       "<pre style=\"white-space:pre;overflow-x:auto;line-height:normal;font-family:Menlo,'DejaVu Sans Mono',consolas,'Courier New',monospace\">vision_model.post_layernorm.bias\n",
       "<span style=\"color: #800080; text-decoration-color: #800080; font-weight: bold\">torch.Size</span><span style=\"font-weight: bold\">([</span><span style=\"color: #008080; text-decoration-color: #008080; font-weight: bold\">768</span><span style=\"font-weight: bold\">])</span>\n",
       "torch.float16\n",
       "</pre>\n"
      ],
      "text/plain": [
       "vision_model.post_layernorm.bias\n",
       "\u001b[1;35mtorch.Size\u001b[0m\u001b[1m(\u001b[0m\u001b[1m[\u001b[0m\u001b[1;36m768\u001b[0m\u001b[1m]\u001b[0m\u001b[1m)\u001b[0m\n",
       "torch.float16\n"
      ]
     },
     "metadata": {},
     "output_type": "display_data"
    },
    {
     "data": {
      "text/html": [
       "<pre style=\"white-space:pre;overflow-x:auto;line-height:normal;font-family:Menlo,'DejaVu Sans Mono',consolas,'Courier New',monospace\">visual_projection.weight\n",
       "<span style=\"color: #800080; text-decoration-color: #800080; font-weight: bold\">torch.Size</span><span style=\"font-weight: bold\">([</span><span style=\"color: #008080; text-decoration-color: #008080; font-weight: bold\">512</span>, <span style=\"color: #008080; text-decoration-color: #008080; font-weight: bold\">768</span><span style=\"font-weight: bold\">])</span>\n",
       "torch.float16\n",
       "</pre>\n"
      ],
      "text/plain": [
       "visual_projection.weight\n",
       "\u001b[1;35mtorch.Size\u001b[0m\u001b[1m(\u001b[0m\u001b[1m[\u001b[0m\u001b[1;36m512\u001b[0m, \u001b[1;36m768\u001b[0m\u001b[1m]\u001b[0m\u001b[1m)\u001b[0m\n",
       "torch.float16\n"
      ]
     },
     "metadata": {},
     "output_type": "display_data"
    },
    {
     "data": {
      "text/html": [
       "<pre style=\"white-space:pre;overflow-x:auto;line-height:normal;font-family:Menlo,'DejaVu Sans Mono',consolas,'Courier New',monospace\">text_projection.weight\n",
       "<span style=\"color: #800080; text-decoration-color: #800080; font-weight: bold\">torch.Size</span><span style=\"font-weight: bold\">([</span><span style=\"color: #008080; text-decoration-color: #008080; font-weight: bold\">512</span>, <span style=\"color: #008080; text-decoration-color: #008080; font-weight: bold\">512</span><span style=\"font-weight: bold\">])</span>\n",
       "torch.float16\n",
       "</pre>\n"
      ],
      "text/plain": [
       "text_projection.weight\n",
       "\u001b[1;35mtorch.Size\u001b[0m\u001b[1m(\u001b[0m\u001b[1m[\u001b[0m\u001b[1;36m512\u001b[0m, \u001b[1;36m512\u001b[0m\u001b[1m]\u001b[0m\u001b[1m)\u001b[0m\n",
       "torch.float16\n"
      ]
     },
     "metadata": {},
     "output_type": "display_data"
    }
   ],
   "source": [
    "from dataclasses import dataclass\n",
    "from typing import List, Union\n",
    "import numpy as np\n",
    "\n",
    "import torch\n",
    "import tqdm\n",
    "from transformers import CLIPModel, CLIPProcessor\n",
    "\n",
    "model = CLIPModel.from_pretrained(\"openai/clip-vit-base-patch16\", torch_dtype=torch.float16,)\n",
    "processor = CLIPProcessor.from_pretrained(\"openai/clip-vit-base-patch16\")\n",
    "\n",
    "model = model.to(torch.cuda.current_device())\n",
    "model = model.eval()\n",
    "\n",
    "for name, params in model.named_parameters():\n",
    "    print(name, params.shape, params.dtype)"
   ]
  },
  {
   "cell_type": "code",
   "execution_count": 1,
   "id": "8e93c551-acef-4435-8dc9-11716bc61fe9",
   "metadata": {},
   "outputs": [
    {
     "name": "stderr",
     "output_type": "stream",
     "text": [
      "/opt/conda/envs/tali-collector/lib/python3.10/site-packages/tqdm/auto.py:22: TqdmWarning: IProgress not found. Please update jupyter and ipywidgets. See https://ipywidgets.readthedocs.io/en/stable/user_install.html\n",
      "  from .autonotebook import tqdm as notebook_tqdm\n",
      "100%|███████████████████████████████████████| 890M/890M [00:40<00:00, 23.2MiB/s]\n"
     ]
    }
   ],
   "source": [
    "import clip\n",
    "\n",
    "model_name = \"ViT-L/14\"\n",
    "\n",
    "model, input_transforms = clip.load(\n",
    "            model_name, download_root=\".\"\n",
    "        )"
   ]
  },
  {
   "cell_type": "code",
   "execution_count": 2,
   "id": "9b45f064-2e28-40e5-a282-33723c21a7dc",
   "metadata": {},
   "outputs": [
    {
     "data": {
      "text/plain": [
       "['RN50',\n",
       " 'RN101',\n",
       " 'RN50x4',\n",
       " 'RN50x16',\n",
       " 'RN50x64',\n",
       " 'ViT-B/32',\n",
       " 'ViT-B/16',\n",
       " 'ViT-L/14',\n",
       " 'ViT-L/14@336px']"
      ]
     },
     "execution_count": 2,
     "metadata": {},
     "output_type": "execute_result"
    }
   ],
   "source": [
    "clip.available_models()"
   ]
  },
  {
   "cell_type": "code",
   "execution_count": 3,
   "id": "3e842e51-209b-475f-a166-91f708b2fb12",
   "metadata": {},
   "outputs": [
    {
     "name": "stdout",
     "output_type": "stream",
     "text": [
      "Compose(\n",
      "    Resize(size=224, interpolation=bicubic, max_size=None, antialias=None)\n",
      "    CenterCrop(size=(224, 224))\n",
      "    <function _convert_image_to_rgb at 0x7f0cf98d32e0>\n",
      "    ToTensor()\n",
      "    Normalize(mean=(0.48145466, 0.4578275, 0.40821073), std=(0.26862954, 0.26130258, 0.27577711))\n",
      ")\n"
     ]
    }
   ],
   "source": [
    "print(input_transforms)"
   ]
  },
  {
   "cell_type": "code",
   "execution_count": 4,
   "id": "0117362f-7afe-441c-a059-f6f788bfe4d9",
   "metadata": {},
   "outputs": [
    {
     "name": "stdout",
     "output_type": "stream",
     "text": [
      "CLIP(\n",
      "  (visual): VisionTransformer(\n",
      "    (conv1): Conv2d(3, 1024, kernel_size=(14, 14), stride=(14, 14), bias=False)\n",
      "    (ln_pre): LayerNorm((1024,), eps=1e-05, elementwise_affine=True)\n",
      "    (transformer): Transformer(\n",
      "      (resblocks): Sequential(\n",
      "        (0): ResidualAttentionBlock(\n",
      "          (attn): MultiheadAttention(\n",
      "            (out_proj): NonDynamicallyQuantizableLinear(in_features=1024, out_features=1024, bias=True)\n",
      "          )\n",
      "          (ln_1): LayerNorm((1024,), eps=1e-05, elementwise_affine=True)\n",
      "          (mlp): Sequential(\n",
      "            (c_fc): Linear(in_features=1024, out_features=4096, bias=True)\n",
      "            (gelu): QuickGELU()\n",
      "            (c_proj): Linear(in_features=4096, out_features=1024, bias=True)\n",
      "          )\n",
      "          (ln_2): LayerNorm((1024,), eps=1e-05, elementwise_affine=True)\n",
      "        )\n",
      "        (1): ResidualAttentionBlock(\n",
      "          (attn): MultiheadAttention(\n",
      "            (out_proj): NonDynamicallyQuantizableLinear(in_features=1024, out_features=1024, bias=True)\n",
      "          )\n",
      "          (ln_1): LayerNorm((1024,), eps=1e-05, elementwise_affine=True)\n",
      "          (mlp): Sequential(\n",
      "            (c_fc): Linear(in_features=1024, out_features=4096, bias=True)\n",
      "            (gelu): QuickGELU()\n",
      "            (c_proj): Linear(in_features=4096, out_features=1024, bias=True)\n",
      "          )\n",
      "          (ln_2): LayerNorm((1024,), eps=1e-05, elementwise_affine=True)\n",
      "        )\n",
      "        (2): ResidualAttentionBlock(\n",
      "          (attn): MultiheadAttention(\n",
      "            (out_proj): NonDynamicallyQuantizableLinear(in_features=1024, out_features=1024, bias=True)\n",
      "          )\n",
      "          (ln_1): LayerNorm((1024,), eps=1e-05, elementwise_affine=True)\n",
      "          (mlp): Sequential(\n",
      "            (c_fc): Linear(in_features=1024, out_features=4096, bias=True)\n",
      "            (gelu): QuickGELU()\n",
      "            (c_proj): Linear(in_features=4096, out_features=1024, bias=True)\n",
      "          )\n",
      "          (ln_2): LayerNorm((1024,), eps=1e-05, elementwise_affine=True)\n",
      "        )\n",
      "        (3): ResidualAttentionBlock(\n",
      "          (attn): MultiheadAttention(\n",
      "            (out_proj): NonDynamicallyQuantizableLinear(in_features=1024, out_features=1024, bias=True)\n",
      "          )\n",
      "          (ln_1): LayerNorm((1024,), eps=1e-05, elementwise_affine=True)\n",
      "          (mlp): Sequential(\n",
      "            (c_fc): Linear(in_features=1024, out_features=4096, bias=True)\n",
      "            (gelu): QuickGELU()\n",
      "            (c_proj): Linear(in_features=4096, out_features=1024, bias=True)\n",
      "          )\n",
      "          (ln_2): LayerNorm((1024,), eps=1e-05, elementwise_affine=True)\n",
      "        )\n",
      "        (4): ResidualAttentionBlock(\n",
      "          (attn): MultiheadAttention(\n",
      "            (out_proj): NonDynamicallyQuantizableLinear(in_features=1024, out_features=1024, bias=True)\n",
      "          )\n",
      "          (ln_1): LayerNorm((1024,), eps=1e-05, elementwise_affine=True)\n",
      "          (mlp): Sequential(\n",
      "            (c_fc): Linear(in_features=1024, out_features=4096, bias=True)\n",
      "            (gelu): QuickGELU()\n",
      "            (c_proj): Linear(in_features=4096, out_features=1024, bias=True)\n",
      "          )\n",
      "          (ln_2): LayerNorm((1024,), eps=1e-05, elementwise_affine=True)\n",
      "        )\n",
      "        (5): ResidualAttentionBlock(\n",
      "          (attn): MultiheadAttention(\n",
      "            (out_proj): NonDynamicallyQuantizableLinear(in_features=1024, out_features=1024, bias=True)\n",
      "          )\n",
      "          (ln_1): LayerNorm((1024,), eps=1e-05, elementwise_affine=True)\n",
      "          (mlp): Sequential(\n",
      "            (c_fc): Linear(in_features=1024, out_features=4096, bias=True)\n",
      "            (gelu): QuickGELU()\n",
      "            (c_proj): Linear(in_features=4096, out_features=1024, bias=True)\n",
      "          )\n",
      "          (ln_2): LayerNorm((1024,), eps=1e-05, elementwise_affine=True)\n",
      "        )\n",
      "        (6): ResidualAttentionBlock(\n",
      "          (attn): MultiheadAttention(\n",
      "            (out_proj): NonDynamicallyQuantizableLinear(in_features=1024, out_features=1024, bias=True)\n",
      "          )\n",
      "          (ln_1): LayerNorm((1024,), eps=1e-05, elementwise_affine=True)\n",
      "          (mlp): Sequential(\n",
      "            (c_fc): Linear(in_features=1024, out_features=4096, bias=True)\n",
      "            (gelu): QuickGELU()\n",
      "            (c_proj): Linear(in_features=4096, out_features=1024, bias=True)\n",
      "          )\n",
      "          (ln_2): LayerNorm((1024,), eps=1e-05, elementwise_affine=True)\n",
      "        )\n",
      "        (7): ResidualAttentionBlock(\n",
      "          (attn): MultiheadAttention(\n",
      "            (out_proj): NonDynamicallyQuantizableLinear(in_features=1024, out_features=1024, bias=True)\n",
      "          )\n",
      "          (ln_1): LayerNorm((1024,), eps=1e-05, elementwise_affine=True)\n",
      "          (mlp): Sequential(\n",
      "            (c_fc): Linear(in_features=1024, out_features=4096, bias=True)\n",
      "            (gelu): QuickGELU()\n",
      "            (c_proj): Linear(in_features=4096, out_features=1024, bias=True)\n",
      "          )\n",
      "          (ln_2): LayerNorm((1024,), eps=1e-05, elementwise_affine=True)\n",
      "        )\n",
      "        (8): ResidualAttentionBlock(\n",
      "          (attn): MultiheadAttention(\n",
      "            (out_proj): NonDynamicallyQuantizableLinear(in_features=1024, out_features=1024, bias=True)\n",
      "          )\n",
      "          (ln_1): LayerNorm((1024,), eps=1e-05, elementwise_affine=True)\n",
      "          (mlp): Sequential(\n",
      "            (c_fc): Linear(in_features=1024, out_features=4096, bias=True)\n",
      "            (gelu): QuickGELU()\n",
      "            (c_proj): Linear(in_features=4096, out_features=1024, bias=True)\n",
      "          )\n",
      "          (ln_2): LayerNorm((1024,), eps=1e-05, elementwise_affine=True)\n",
      "        )\n",
      "        (9): ResidualAttentionBlock(\n",
      "          (attn): MultiheadAttention(\n",
      "            (out_proj): NonDynamicallyQuantizableLinear(in_features=1024, out_features=1024, bias=True)\n",
      "          )\n",
      "          (ln_1): LayerNorm((1024,), eps=1e-05, elementwise_affine=True)\n",
      "          (mlp): Sequential(\n",
      "            (c_fc): Linear(in_features=1024, out_features=4096, bias=True)\n",
      "            (gelu): QuickGELU()\n",
      "            (c_proj): Linear(in_features=4096, out_features=1024, bias=True)\n",
      "          )\n",
      "          (ln_2): LayerNorm((1024,), eps=1e-05, elementwise_affine=True)\n",
      "        )\n",
      "        (10): ResidualAttentionBlock(\n",
      "          (attn): MultiheadAttention(\n",
      "            (out_proj): NonDynamicallyQuantizableLinear(in_features=1024, out_features=1024, bias=True)\n",
      "          )\n",
      "          (ln_1): LayerNorm((1024,), eps=1e-05, elementwise_affine=True)\n",
      "          (mlp): Sequential(\n",
      "            (c_fc): Linear(in_features=1024, out_features=4096, bias=True)\n",
      "            (gelu): QuickGELU()\n",
      "            (c_proj): Linear(in_features=4096, out_features=1024, bias=True)\n",
      "          )\n",
      "          (ln_2): LayerNorm((1024,), eps=1e-05, elementwise_affine=True)\n",
      "        )\n",
      "        (11): ResidualAttentionBlock(\n",
      "          (attn): MultiheadAttention(\n",
      "            (out_proj): NonDynamicallyQuantizableLinear(in_features=1024, out_features=1024, bias=True)\n",
      "          )\n",
      "          (ln_1): LayerNorm((1024,), eps=1e-05, elementwise_affine=True)\n",
      "          (mlp): Sequential(\n",
      "            (c_fc): Linear(in_features=1024, out_features=4096, bias=True)\n",
      "            (gelu): QuickGELU()\n",
      "            (c_proj): Linear(in_features=4096, out_features=1024, bias=True)\n",
      "          )\n",
      "          (ln_2): LayerNorm((1024,), eps=1e-05, elementwise_affine=True)\n",
      "        )\n",
      "        (12): ResidualAttentionBlock(\n",
      "          (attn): MultiheadAttention(\n",
      "            (out_proj): NonDynamicallyQuantizableLinear(in_features=1024, out_features=1024, bias=True)\n",
      "          )\n",
      "          (ln_1): LayerNorm((1024,), eps=1e-05, elementwise_affine=True)\n",
      "          (mlp): Sequential(\n",
      "            (c_fc): Linear(in_features=1024, out_features=4096, bias=True)\n",
      "            (gelu): QuickGELU()\n",
      "            (c_proj): Linear(in_features=4096, out_features=1024, bias=True)\n",
      "          )\n",
      "          (ln_2): LayerNorm((1024,), eps=1e-05, elementwise_affine=True)\n",
      "        )\n",
      "        (13): ResidualAttentionBlock(\n",
      "          (attn): MultiheadAttention(\n",
      "            (out_proj): NonDynamicallyQuantizableLinear(in_features=1024, out_features=1024, bias=True)\n",
      "          )\n",
      "          (ln_1): LayerNorm((1024,), eps=1e-05, elementwise_affine=True)\n",
      "          (mlp): Sequential(\n",
      "            (c_fc): Linear(in_features=1024, out_features=4096, bias=True)\n",
      "            (gelu): QuickGELU()\n",
      "            (c_proj): Linear(in_features=4096, out_features=1024, bias=True)\n",
      "          )\n",
      "          (ln_2): LayerNorm((1024,), eps=1e-05, elementwise_affine=True)\n",
      "        )\n",
      "        (14): ResidualAttentionBlock(\n",
      "          (attn): MultiheadAttention(\n",
      "            (out_proj): NonDynamicallyQuantizableLinear(in_features=1024, out_features=1024, bias=True)\n",
      "          )\n",
      "          (ln_1): LayerNorm((1024,), eps=1e-05, elementwise_affine=True)\n",
      "          (mlp): Sequential(\n",
      "            (c_fc): Linear(in_features=1024, out_features=4096, bias=True)\n",
      "            (gelu): QuickGELU()\n",
      "            (c_proj): Linear(in_features=4096, out_features=1024, bias=True)\n",
      "          )\n",
      "          (ln_2): LayerNorm((1024,), eps=1e-05, elementwise_affine=True)\n",
      "        )\n",
      "        (15): ResidualAttentionBlock(\n",
      "          (attn): MultiheadAttention(\n",
      "            (out_proj): NonDynamicallyQuantizableLinear(in_features=1024, out_features=1024, bias=True)\n",
      "          )\n",
      "          (ln_1): LayerNorm((1024,), eps=1e-05, elementwise_affine=True)\n",
      "          (mlp): Sequential(\n",
      "            (c_fc): Linear(in_features=1024, out_features=4096, bias=True)\n",
      "            (gelu): QuickGELU()\n",
      "            (c_proj): Linear(in_features=4096, out_features=1024, bias=True)\n",
      "          )\n",
      "          (ln_2): LayerNorm((1024,), eps=1e-05, elementwise_affine=True)\n",
      "        )\n",
      "        (16): ResidualAttentionBlock(\n",
      "          (attn): MultiheadAttention(\n",
      "            (out_proj): NonDynamicallyQuantizableLinear(in_features=1024, out_features=1024, bias=True)\n",
      "          )\n",
      "          (ln_1): LayerNorm((1024,), eps=1e-05, elementwise_affine=True)\n",
      "          (mlp): Sequential(\n",
      "            (c_fc): Linear(in_features=1024, out_features=4096, bias=True)\n",
      "            (gelu): QuickGELU()\n",
      "            (c_proj): Linear(in_features=4096, out_features=1024, bias=True)\n",
      "          )\n",
      "          (ln_2): LayerNorm((1024,), eps=1e-05, elementwise_affine=True)\n",
      "        )\n",
      "        (17): ResidualAttentionBlock(\n",
      "          (attn): MultiheadAttention(\n",
      "            (out_proj): NonDynamicallyQuantizableLinear(in_features=1024, out_features=1024, bias=True)\n",
      "          )\n",
      "          (ln_1): LayerNorm((1024,), eps=1e-05, elementwise_affine=True)\n",
      "          (mlp): Sequential(\n",
      "            (c_fc): Linear(in_features=1024, out_features=4096, bias=True)\n",
      "            (gelu): QuickGELU()\n",
      "            (c_proj): Linear(in_features=4096, out_features=1024, bias=True)\n",
      "          )\n",
      "          (ln_2): LayerNorm((1024,), eps=1e-05, elementwise_affine=True)\n",
      "        )\n",
      "        (18): ResidualAttentionBlock(\n",
      "          (attn): MultiheadAttention(\n",
      "            (out_proj): NonDynamicallyQuantizableLinear(in_features=1024, out_features=1024, bias=True)\n",
      "          )\n",
      "          (ln_1): LayerNorm((1024,), eps=1e-05, elementwise_affine=True)\n",
      "          (mlp): Sequential(\n",
      "            (c_fc): Linear(in_features=1024, out_features=4096, bias=True)\n",
      "            (gelu): QuickGELU()\n",
      "            (c_proj): Linear(in_features=4096, out_features=1024, bias=True)\n",
      "          )\n",
      "          (ln_2): LayerNorm((1024,), eps=1e-05, elementwise_affine=True)\n",
      "        )\n",
      "        (19): ResidualAttentionBlock(\n",
      "          (attn): MultiheadAttention(\n",
      "            (out_proj): NonDynamicallyQuantizableLinear(in_features=1024, out_features=1024, bias=True)\n",
      "          )\n",
      "          (ln_1): LayerNorm((1024,), eps=1e-05, elementwise_affine=True)\n",
      "          (mlp): Sequential(\n",
      "            (c_fc): Linear(in_features=1024, out_features=4096, bias=True)\n",
      "            (gelu): QuickGELU()\n",
      "            (c_proj): Linear(in_features=4096, out_features=1024, bias=True)\n",
      "          )\n",
      "          (ln_2): LayerNorm((1024,), eps=1e-05, elementwise_affine=True)\n",
      "        )\n",
      "        (20): ResidualAttentionBlock(\n",
      "          (attn): MultiheadAttention(\n",
      "            (out_proj): NonDynamicallyQuantizableLinear(in_features=1024, out_features=1024, bias=True)\n",
      "          )\n",
      "          (ln_1): LayerNorm((1024,), eps=1e-05, elementwise_affine=True)\n",
      "          (mlp): Sequential(\n",
      "            (c_fc): Linear(in_features=1024, out_features=4096, bias=True)\n",
      "            (gelu): QuickGELU()\n",
      "            (c_proj): Linear(in_features=4096, out_features=1024, bias=True)\n",
      "          )\n",
      "          (ln_2): LayerNorm((1024,), eps=1e-05, elementwise_affine=True)\n",
      "        )\n",
      "        (21): ResidualAttentionBlock(\n",
      "          (attn): MultiheadAttention(\n",
      "            (out_proj): NonDynamicallyQuantizableLinear(in_features=1024, out_features=1024, bias=True)\n",
      "          )\n",
      "          (ln_1): LayerNorm((1024,), eps=1e-05, elementwise_affine=True)\n",
      "          (mlp): Sequential(\n",
      "            (c_fc): Linear(in_features=1024, out_features=4096, bias=True)\n",
      "            (gelu): QuickGELU()\n",
      "            (c_proj): Linear(in_features=4096, out_features=1024, bias=True)\n",
      "          )\n",
      "          (ln_2): LayerNorm((1024,), eps=1e-05, elementwise_affine=True)\n",
      "        )\n",
      "        (22): ResidualAttentionBlock(\n",
      "          (attn): MultiheadAttention(\n",
      "            (out_proj): NonDynamicallyQuantizableLinear(in_features=1024, out_features=1024, bias=True)\n",
      "          )\n",
      "          (ln_1): LayerNorm((1024,), eps=1e-05, elementwise_affine=True)\n",
      "          (mlp): Sequential(\n",
      "            (c_fc): Linear(in_features=1024, out_features=4096, bias=True)\n",
      "            (gelu): QuickGELU()\n",
      "            (c_proj): Linear(in_features=4096, out_features=1024, bias=True)\n",
      "          )\n",
      "          (ln_2): LayerNorm((1024,), eps=1e-05, elementwise_affine=True)\n",
      "        )\n",
      "        (23): ResidualAttentionBlock(\n",
      "          (attn): MultiheadAttention(\n",
      "            (out_proj): NonDynamicallyQuantizableLinear(in_features=1024, out_features=1024, bias=True)\n",
      "          )\n",
      "          (ln_1): LayerNorm((1024,), eps=1e-05, elementwise_affine=True)\n",
      "          (mlp): Sequential(\n",
      "            (c_fc): Linear(in_features=1024, out_features=4096, bias=True)\n",
      "            (gelu): QuickGELU()\n",
      "            (c_proj): Linear(in_features=4096, out_features=1024, bias=True)\n",
      "          )\n",
      "          (ln_2): LayerNorm((1024,), eps=1e-05, elementwise_affine=True)\n",
      "        )\n",
      "      )\n",
      "    )\n",
      "    (ln_post): LayerNorm((1024,), eps=1e-05, elementwise_affine=True)\n",
      "  )\n",
      "  (transformer): Transformer(\n",
      "    (resblocks): Sequential(\n",
      "      (0): ResidualAttentionBlock(\n",
      "        (attn): MultiheadAttention(\n",
      "          (out_proj): NonDynamicallyQuantizableLinear(in_features=768, out_features=768, bias=True)\n",
      "        )\n",
      "        (ln_1): LayerNorm((768,), eps=1e-05, elementwise_affine=True)\n",
      "        (mlp): Sequential(\n",
      "          (c_fc): Linear(in_features=768, out_features=3072, bias=True)\n",
      "          (gelu): QuickGELU()\n",
      "          (c_proj): Linear(in_features=3072, out_features=768, bias=True)\n",
      "        )\n",
      "        (ln_2): LayerNorm((768,), eps=1e-05, elementwise_affine=True)\n",
      "      )\n",
      "      (1): ResidualAttentionBlock(\n",
      "        (attn): MultiheadAttention(\n",
      "          (out_proj): NonDynamicallyQuantizableLinear(in_features=768, out_features=768, bias=True)\n",
      "        )\n",
      "        (ln_1): LayerNorm((768,), eps=1e-05, elementwise_affine=True)\n",
      "        (mlp): Sequential(\n",
      "          (c_fc): Linear(in_features=768, out_features=3072, bias=True)\n",
      "          (gelu): QuickGELU()\n",
      "          (c_proj): Linear(in_features=3072, out_features=768, bias=True)\n",
      "        )\n",
      "        (ln_2): LayerNorm((768,), eps=1e-05, elementwise_affine=True)\n",
      "      )\n",
      "      (2): ResidualAttentionBlock(\n",
      "        (attn): MultiheadAttention(\n",
      "          (out_proj): NonDynamicallyQuantizableLinear(in_features=768, out_features=768, bias=True)\n",
      "        )\n",
      "        (ln_1): LayerNorm((768,), eps=1e-05, elementwise_affine=True)\n",
      "        (mlp): Sequential(\n",
      "          (c_fc): Linear(in_features=768, out_features=3072, bias=True)\n",
      "          (gelu): QuickGELU()\n",
      "          (c_proj): Linear(in_features=3072, out_features=768, bias=True)\n",
      "        )\n",
      "        (ln_2): LayerNorm((768,), eps=1e-05, elementwise_affine=True)\n",
      "      )\n",
      "      (3): ResidualAttentionBlock(\n",
      "        (attn): MultiheadAttention(\n",
      "          (out_proj): NonDynamicallyQuantizableLinear(in_features=768, out_features=768, bias=True)\n",
      "        )\n",
      "        (ln_1): LayerNorm((768,), eps=1e-05, elementwise_affine=True)\n",
      "        (mlp): Sequential(\n",
      "          (c_fc): Linear(in_features=768, out_features=3072, bias=True)\n",
      "          (gelu): QuickGELU()\n",
      "          (c_proj): Linear(in_features=3072, out_features=768, bias=True)\n",
      "        )\n",
      "        (ln_2): LayerNorm((768,), eps=1e-05, elementwise_affine=True)\n",
      "      )\n",
      "      (4): ResidualAttentionBlock(\n",
      "        (attn): MultiheadAttention(\n",
      "          (out_proj): NonDynamicallyQuantizableLinear(in_features=768, out_features=768, bias=True)\n",
      "        )\n",
      "        (ln_1): LayerNorm((768,), eps=1e-05, elementwise_affine=True)\n",
      "        (mlp): Sequential(\n",
      "          (c_fc): Linear(in_features=768, out_features=3072, bias=True)\n",
      "          (gelu): QuickGELU()\n",
      "          (c_proj): Linear(in_features=3072, out_features=768, bias=True)\n",
      "        )\n",
      "        (ln_2): LayerNorm((768,), eps=1e-05, elementwise_affine=True)\n",
      "      )\n",
      "      (5): ResidualAttentionBlock(\n",
      "        (attn): MultiheadAttention(\n",
      "          (out_proj): NonDynamicallyQuantizableLinear(in_features=768, out_features=768, bias=True)\n",
      "        )\n",
      "        (ln_1): LayerNorm((768,), eps=1e-05, elementwise_affine=True)\n",
      "        (mlp): Sequential(\n",
      "          (c_fc): Linear(in_features=768, out_features=3072, bias=True)\n",
      "          (gelu): QuickGELU()\n",
      "          (c_proj): Linear(in_features=3072, out_features=768, bias=True)\n",
      "        )\n",
      "        (ln_2): LayerNorm((768,), eps=1e-05, elementwise_affine=True)\n",
      "      )\n",
      "      (6): ResidualAttentionBlock(\n",
      "        (attn): MultiheadAttention(\n",
      "          (out_proj): NonDynamicallyQuantizableLinear(in_features=768, out_features=768, bias=True)\n",
      "        )\n",
      "        (ln_1): LayerNorm((768,), eps=1e-05, elementwise_affine=True)\n",
      "        (mlp): Sequential(\n",
      "          (c_fc): Linear(in_features=768, out_features=3072, bias=True)\n",
      "          (gelu): QuickGELU()\n",
      "          (c_proj): Linear(in_features=3072, out_features=768, bias=True)\n",
      "        )\n",
      "        (ln_2): LayerNorm((768,), eps=1e-05, elementwise_affine=True)\n",
      "      )\n",
      "      (7): ResidualAttentionBlock(\n",
      "        (attn): MultiheadAttention(\n",
      "          (out_proj): NonDynamicallyQuantizableLinear(in_features=768, out_features=768, bias=True)\n",
      "        )\n",
      "        (ln_1): LayerNorm((768,), eps=1e-05, elementwise_affine=True)\n",
      "        (mlp): Sequential(\n",
      "          (c_fc): Linear(in_features=768, out_features=3072, bias=True)\n",
      "          (gelu): QuickGELU()\n",
      "          (c_proj): Linear(in_features=3072, out_features=768, bias=True)\n",
      "        )\n",
      "        (ln_2): LayerNorm((768,), eps=1e-05, elementwise_affine=True)\n",
      "      )\n",
      "      (8): ResidualAttentionBlock(\n",
      "        (attn): MultiheadAttention(\n",
      "          (out_proj): NonDynamicallyQuantizableLinear(in_features=768, out_features=768, bias=True)\n",
      "        )\n",
      "        (ln_1): LayerNorm((768,), eps=1e-05, elementwise_affine=True)\n",
      "        (mlp): Sequential(\n",
      "          (c_fc): Linear(in_features=768, out_features=3072, bias=True)\n",
      "          (gelu): QuickGELU()\n",
      "          (c_proj): Linear(in_features=3072, out_features=768, bias=True)\n",
      "        )\n",
      "        (ln_2): LayerNorm((768,), eps=1e-05, elementwise_affine=True)\n",
      "      )\n",
      "      (9): ResidualAttentionBlock(\n",
      "        (attn): MultiheadAttention(\n",
      "          (out_proj): NonDynamicallyQuantizableLinear(in_features=768, out_features=768, bias=True)\n",
      "        )\n",
      "        (ln_1): LayerNorm((768,), eps=1e-05, elementwise_affine=True)\n",
      "        (mlp): Sequential(\n",
      "          (c_fc): Linear(in_features=768, out_features=3072, bias=True)\n",
      "          (gelu): QuickGELU()\n",
      "          (c_proj): Linear(in_features=3072, out_features=768, bias=True)\n",
      "        )\n",
      "        (ln_2): LayerNorm((768,), eps=1e-05, elementwise_affine=True)\n",
      "      )\n",
      "      (10): ResidualAttentionBlock(\n",
      "        (attn): MultiheadAttention(\n",
      "          (out_proj): NonDynamicallyQuantizableLinear(in_features=768, out_features=768, bias=True)\n",
      "        )\n",
      "        (ln_1): LayerNorm((768,), eps=1e-05, elementwise_affine=True)\n",
      "        (mlp): Sequential(\n",
      "          (c_fc): Linear(in_features=768, out_features=3072, bias=True)\n",
      "          (gelu): QuickGELU()\n",
      "          (c_proj): Linear(in_features=3072, out_features=768, bias=True)\n",
      "        )\n",
      "        (ln_2): LayerNorm((768,), eps=1e-05, elementwise_affine=True)\n",
      "      )\n",
      "      (11): ResidualAttentionBlock(\n",
      "        (attn): MultiheadAttention(\n",
      "          (out_proj): NonDynamicallyQuantizableLinear(in_features=768, out_features=768, bias=True)\n",
      "        )\n",
      "        (ln_1): LayerNorm((768,), eps=1e-05, elementwise_affine=True)\n",
      "        (mlp): Sequential(\n",
      "          (c_fc): Linear(in_features=768, out_features=3072, bias=True)\n",
      "          (gelu): QuickGELU()\n",
      "          (c_proj): Linear(in_features=3072, out_features=768, bias=True)\n",
      "        )\n",
      "        (ln_2): LayerNorm((768,), eps=1e-05, elementwise_affine=True)\n",
      "      )\n",
      "    )\n",
      "  )\n",
      "  (token_embedding): Embedding(49408, 768)\n",
      "  (ln_final): LayerNorm((768,), eps=1e-05, elementwise_affine=True)\n",
      ")\n"
     ]
    }
   ],
   "source": [
    "print(model)"
   ]
  },
  {
   "cell_type": "code",
   "execution_count": 5,
   "id": "2664a5cb-b9ac-4500-9627-1a1fd97851bc",
   "metadata": {},
   "outputs": [
    {
     "name": "stdout",
     "output_type": "stream",
     "text": [
      "positional_embedding torch.float32\n",
      "text_projection torch.float16\n",
      "logit_scale torch.float32\n",
      "visual.class_embedding torch.float32\n",
      "visual.positional_embedding torch.float32\n",
      "visual.proj torch.float16\n",
      "visual.conv1.weight torch.float16\n",
      "visual.ln_pre.weight torch.float32\n",
      "visual.ln_pre.bias torch.float32\n",
      "visual.transformer.resblocks.0.attn.in_proj_weight torch.float16\n",
      "visual.transformer.resblocks.0.attn.in_proj_bias torch.float16\n",
      "visual.transformer.resblocks.0.attn.out_proj.weight torch.float16\n",
      "visual.transformer.resblocks.0.attn.out_proj.bias torch.float16\n",
      "visual.transformer.resblocks.0.ln_1.weight torch.float32\n",
      "visual.transformer.resblocks.0.ln_1.bias torch.float32\n",
      "visual.transformer.resblocks.0.mlp.c_fc.weight torch.float16\n",
      "visual.transformer.resblocks.0.mlp.c_fc.bias torch.float16\n",
      "visual.transformer.resblocks.0.mlp.c_proj.weight torch.float16\n",
      "visual.transformer.resblocks.0.mlp.c_proj.bias torch.float16\n",
      "visual.transformer.resblocks.0.ln_2.weight torch.float32\n",
      "visual.transformer.resblocks.0.ln_2.bias torch.float32\n",
      "visual.transformer.resblocks.1.attn.in_proj_weight torch.float16\n",
      "visual.transformer.resblocks.1.attn.in_proj_bias torch.float16\n",
      "visual.transformer.resblocks.1.attn.out_proj.weight torch.float16\n",
      "visual.transformer.resblocks.1.attn.out_proj.bias torch.float16\n",
      "visual.transformer.resblocks.1.ln_1.weight torch.float32\n",
      "visual.transformer.resblocks.1.ln_1.bias torch.float32\n",
      "visual.transformer.resblocks.1.mlp.c_fc.weight torch.float16\n",
      "visual.transformer.resblocks.1.mlp.c_fc.bias torch.float16\n",
      "visual.transformer.resblocks.1.mlp.c_proj.weight torch.float16\n",
      "visual.transformer.resblocks.1.mlp.c_proj.bias torch.float16\n",
      "visual.transformer.resblocks.1.ln_2.weight torch.float32\n",
      "visual.transformer.resblocks.1.ln_2.bias torch.float32\n",
      "visual.transformer.resblocks.2.attn.in_proj_weight torch.float16\n",
      "visual.transformer.resblocks.2.attn.in_proj_bias torch.float16\n",
      "visual.transformer.resblocks.2.attn.out_proj.weight torch.float16\n",
      "visual.transformer.resblocks.2.attn.out_proj.bias torch.float16\n",
      "visual.transformer.resblocks.2.ln_1.weight torch.float32\n",
      "visual.transformer.resblocks.2.ln_1.bias torch.float32\n",
      "visual.transformer.resblocks.2.mlp.c_fc.weight torch.float16\n",
      "visual.transformer.resblocks.2.mlp.c_fc.bias torch.float16\n",
      "visual.transformer.resblocks.2.mlp.c_proj.weight torch.float16\n",
      "visual.transformer.resblocks.2.mlp.c_proj.bias torch.float16\n",
      "visual.transformer.resblocks.2.ln_2.weight torch.float32\n",
      "visual.transformer.resblocks.2.ln_2.bias torch.float32\n",
      "visual.transformer.resblocks.3.attn.in_proj_weight torch.float16\n",
      "visual.transformer.resblocks.3.attn.in_proj_bias torch.float16\n",
      "visual.transformer.resblocks.3.attn.out_proj.weight torch.float16\n",
      "visual.transformer.resblocks.3.attn.out_proj.bias torch.float16\n",
      "visual.transformer.resblocks.3.ln_1.weight torch.float32\n",
      "visual.transformer.resblocks.3.ln_1.bias torch.float32\n",
      "visual.transformer.resblocks.3.mlp.c_fc.weight torch.float16\n",
      "visual.transformer.resblocks.3.mlp.c_fc.bias torch.float16\n",
      "visual.transformer.resblocks.3.mlp.c_proj.weight torch.float16\n",
      "visual.transformer.resblocks.3.mlp.c_proj.bias torch.float16\n",
      "visual.transformer.resblocks.3.ln_2.weight torch.float32\n",
      "visual.transformer.resblocks.3.ln_2.bias torch.float32\n",
      "visual.transformer.resblocks.4.attn.in_proj_weight torch.float16\n",
      "visual.transformer.resblocks.4.attn.in_proj_bias torch.float16\n",
      "visual.transformer.resblocks.4.attn.out_proj.weight torch.float16\n",
      "visual.transformer.resblocks.4.attn.out_proj.bias torch.float16\n",
      "visual.transformer.resblocks.4.ln_1.weight torch.float32\n",
      "visual.transformer.resblocks.4.ln_1.bias torch.float32\n",
      "visual.transformer.resblocks.4.mlp.c_fc.weight torch.float16\n",
      "visual.transformer.resblocks.4.mlp.c_fc.bias torch.float16\n",
      "visual.transformer.resblocks.4.mlp.c_proj.weight torch.float16\n",
      "visual.transformer.resblocks.4.mlp.c_proj.bias torch.float16\n",
      "visual.transformer.resblocks.4.ln_2.weight torch.float32\n",
      "visual.transformer.resblocks.4.ln_2.bias torch.float32\n",
      "visual.transformer.resblocks.5.attn.in_proj_weight torch.float16\n",
      "visual.transformer.resblocks.5.attn.in_proj_bias torch.float16\n",
      "visual.transformer.resblocks.5.attn.out_proj.weight torch.float16\n",
      "visual.transformer.resblocks.5.attn.out_proj.bias torch.float16\n",
      "visual.transformer.resblocks.5.ln_1.weight torch.float32\n",
      "visual.transformer.resblocks.5.ln_1.bias torch.float32\n",
      "visual.transformer.resblocks.5.mlp.c_fc.weight torch.float16\n",
      "visual.transformer.resblocks.5.mlp.c_fc.bias torch.float16\n",
      "visual.transformer.resblocks.5.mlp.c_proj.weight torch.float16\n",
      "visual.transformer.resblocks.5.mlp.c_proj.bias torch.float16\n",
      "visual.transformer.resblocks.5.ln_2.weight torch.float32\n",
      "visual.transformer.resblocks.5.ln_2.bias torch.float32\n",
      "visual.transformer.resblocks.6.attn.in_proj_weight torch.float16\n",
      "visual.transformer.resblocks.6.attn.in_proj_bias torch.float16\n",
      "visual.transformer.resblocks.6.attn.out_proj.weight torch.float16\n",
      "visual.transformer.resblocks.6.attn.out_proj.bias torch.float16\n",
      "visual.transformer.resblocks.6.ln_1.weight torch.float32\n",
      "visual.transformer.resblocks.6.ln_1.bias torch.float32\n",
      "visual.transformer.resblocks.6.mlp.c_fc.weight torch.float16\n",
      "visual.transformer.resblocks.6.mlp.c_fc.bias torch.float16\n",
      "visual.transformer.resblocks.6.mlp.c_proj.weight torch.float16\n",
      "visual.transformer.resblocks.6.mlp.c_proj.bias torch.float16\n",
      "visual.transformer.resblocks.6.ln_2.weight torch.float32\n",
      "visual.transformer.resblocks.6.ln_2.bias torch.float32\n",
      "visual.transformer.resblocks.7.attn.in_proj_weight torch.float16\n",
      "visual.transformer.resblocks.7.attn.in_proj_bias torch.float16\n",
      "visual.transformer.resblocks.7.attn.out_proj.weight torch.float16\n",
      "visual.transformer.resblocks.7.attn.out_proj.bias torch.float16\n",
      "visual.transformer.resblocks.7.ln_1.weight torch.float32\n",
      "visual.transformer.resblocks.7.ln_1.bias torch.float32\n",
      "visual.transformer.resblocks.7.mlp.c_fc.weight torch.float16\n",
      "visual.transformer.resblocks.7.mlp.c_fc.bias torch.float16\n",
      "visual.transformer.resblocks.7.mlp.c_proj.weight torch.float16\n",
      "visual.transformer.resblocks.7.mlp.c_proj.bias torch.float16\n",
      "visual.transformer.resblocks.7.ln_2.weight torch.float32\n",
      "visual.transformer.resblocks.7.ln_2.bias torch.float32\n",
      "visual.transformer.resblocks.8.attn.in_proj_weight torch.float16\n",
      "visual.transformer.resblocks.8.attn.in_proj_bias torch.float16\n",
      "visual.transformer.resblocks.8.attn.out_proj.weight torch.float16\n",
      "visual.transformer.resblocks.8.attn.out_proj.bias torch.float16\n",
      "visual.transformer.resblocks.8.ln_1.weight torch.float32\n",
      "visual.transformer.resblocks.8.ln_1.bias torch.float32\n",
      "visual.transformer.resblocks.8.mlp.c_fc.weight torch.float16\n",
      "visual.transformer.resblocks.8.mlp.c_fc.bias torch.float16\n",
      "visual.transformer.resblocks.8.mlp.c_proj.weight torch.float16\n",
      "visual.transformer.resblocks.8.mlp.c_proj.bias torch.float16\n",
      "visual.transformer.resblocks.8.ln_2.weight torch.float32\n",
      "visual.transformer.resblocks.8.ln_2.bias torch.float32\n",
      "visual.transformer.resblocks.9.attn.in_proj_weight torch.float16\n",
      "visual.transformer.resblocks.9.attn.in_proj_bias torch.float16\n",
      "visual.transformer.resblocks.9.attn.out_proj.weight torch.float16\n",
      "visual.transformer.resblocks.9.attn.out_proj.bias torch.float16\n",
      "visual.transformer.resblocks.9.ln_1.weight torch.float32\n",
      "visual.transformer.resblocks.9.ln_1.bias torch.float32\n",
      "visual.transformer.resblocks.9.mlp.c_fc.weight torch.float16\n",
      "visual.transformer.resblocks.9.mlp.c_fc.bias torch.float16\n",
      "visual.transformer.resblocks.9.mlp.c_proj.weight torch.float16\n",
      "visual.transformer.resblocks.9.mlp.c_proj.bias torch.float16\n",
      "visual.transformer.resblocks.9.ln_2.weight torch.float32\n",
      "visual.transformer.resblocks.9.ln_2.bias torch.float32\n",
      "visual.transformer.resblocks.10.attn.in_proj_weight torch.float16\n",
      "visual.transformer.resblocks.10.attn.in_proj_bias torch.float16\n",
      "visual.transformer.resblocks.10.attn.out_proj.weight torch.float16\n",
      "visual.transformer.resblocks.10.attn.out_proj.bias torch.float16\n",
      "visual.transformer.resblocks.10.ln_1.weight torch.float32\n",
      "visual.transformer.resblocks.10.ln_1.bias torch.float32\n",
      "visual.transformer.resblocks.10.mlp.c_fc.weight torch.float16\n",
      "visual.transformer.resblocks.10.mlp.c_fc.bias torch.float16\n",
      "visual.transformer.resblocks.10.mlp.c_proj.weight torch.float16\n",
      "visual.transformer.resblocks.10.mlp.c_proj.bias torch.float16\n",
      "visual.transformer.resblocks.10.ln_2.weight torch.float32\n",
      "visual.transformer.resblocks.10.ln_2.bias torch.float32\n",
      "visual.transformer.resblocks.11.attn.in_proj_weight torch.float16\n",
      "visual.transformer.resblocks.11.attn.in_proj_bias torch.float16\n",
      "visual.transformer.resblocks.11.attn.out_proj.weight torch.float16\n",
      "visual.transformer.resblocks.11.attn.out_proj.bias torch.float16\n",
      "visual.transformer.resblocks.11.ln_1.weight torch.float32\n",
      "visual.transformer.resblocks.11.ln_1.bias torch.float32\n",
      "visual.transformer.resblocks.11.mlp.c_fc.weight torch.float16\n",
      "visual.transformer.resblocks.11.mlp.c_fc.bias torch.float16\n",
      "visual.transformer.resblocks.11.mlp.c_proj.weight torch.float16\n",
      "visual.transformer.resblocks.11.mlp.c_proj.bias torch.float16\n",
      "visual.transformer.resblocks.11.ln_2.weight torch.float32\n",
      "visual.transformer.resblocks.11.ln_2.bias torch.float32\n",
      "visual.transformer.resblocks.12.attn.in_proj_weight torch.float16\n",
      "visual.transformer.resblocks.12.attn.in_proj_bias torch.float16\n",
      "visual.transformer.resblocks.12.attn.out_proj.weight torch.float16\n",
      "visual.transformer.resblocks.12.attn.out_proj.bias torch.float16\n",
      "visual.transformer.resblocks.12.ln_1.weight torch.float32\n",
      "visual.transformer.resblocks.12.ln_1.bias torch.float32\n",
      "visual.transformer.resblocks.12.mlp.c_fc.weight torch.float16\n",
      "visual.transformer.resblocks.12.mlp.c_fc.bias torch.float16\n",
      "visual.transformer.resblocks.12.mlp.c_proj.weight torch.float16\n",
      "visual.transformer.resblocks.12.mlp.c_proj.bias torch.float16\n",
      "visual.transformer.resblocks.12.ln_2.weight torch.float32\n",
      "visual.transformer.resblocks.12.ln_2.bias torch.float32\n",
      "visual.transformer.resblocks.13.attn.in_proj_weight torch.float16\n",
      "visual.transformer.resblocks.13.attn.in_proj_bias torch.float16\n",
      "visual.transformer.resblocks.13.attn.out_proj.weight torch.float16\n",
      "visual.transformer.resblocks.13.attn.out_proj.bias torch.float16\n",
      "visual.transformer.resblocks.13.ln_1.weight torch.float32\n",
      "visual.transformer.resblocks.13.ln_1.bias torch.float32\n",
      "visual.transformer.resblocks.13.mlp.c_fc.weight torch.float16\n",
      "visual.transformer.resblocks.13.mlp.c_fc.bias torch.float16\n",
      "visual.transformer.resblocks.13.mlp.c_proj.weight torch.float16\n",
      "visual.transformer.resblocks.13.mlp.c_proj.bias torch.float16\n",
      "visual.transformer.resblocks.13.ln_2.weight torch.float32\n",
      "visual.transformer.resblocks.13.ln_2.bias torch.float32\n",
      "visual.transformer.resblocks.14.attn.in_proj_weight torch.float16\n",
      "visual.transformer.resblocks.14.attn.in_proj_bias torch.float16\n",
      "visual.transformer.resblocks.14.attn.out_proj.weight torch.float16\n",
      "visual.transformer.resblocks.14.attn.out_proj.bias torch.float16\n",
      "visual.transformer.resblocks.14.ln_1.weight torch.float32\n",
      "visual.transformer.resblocks.14.ln_1.bias torch.float32\n",
      "visual.transformer.resblocks.14.mlp.c_fc.weight torch.float16\n",
      "visual.transformer.resblocks.14.mlp.c_fc.bias torch.float16\n",
      "visual.transformer.resblocks.14.mlp.c_proj.weight torch.float16\n",
      "visual.transformer.resblocks.14.mlp.c_proj.bias torch.float16\n",
      "visual.transformer.resblocks.14.ln_2.weight torch.float32\n",
      "visual.transformer.resblocks.14.ln_2.bias torch.float32\n",
      "visual.transformer.resblocks.15.attn.in_proj_weight torch.float16\n",
      "visual.transformer.resblocks.15.attn.in_proj_bias torch.float16\n",
      "visual.transformer.resblocks.15.attn.out_proj.weight torch.float16\n",
      "visual.transformer.resblocks.15.attn.out_proj.bias torch.float16\n",
      "visual.transformer.resblocks.15.ln_1.weight torch.float32\n",
      "visual.transformer.resblocks.15.ln_1.bias torch.float32\n",
      "visual.transformer.resblocks.15.mlp.c_fc.weight torch.float16\n",
      "visual.transformer.resblocks.15.mlp.c_fc.bias torch.float16\n",
      "visual.transformer.resblocks.15.mlp.c_proj.weight torch.float16\n",
      "visual.transformer.resblocks.15.mlp.c_proj.bias torch.float16\n",
      "visual.transformer.resblocks.15.ln_2.weight torch.float32\n",
      "visual.transformer.resblocks.15.ln_2.bias torch.float32\n",
      "visual.transformer.resblocks.16.attn.in_proj_weight torch.float16\n",
      "visual.transformer.resblocks.16.attn.in_proj_bias torch.float16\n",
      "visual.transformer.resblocks.16.attn.out_proj.weight torch.float16\n",
      "visual.transformer.resblocks.16.attn.out_proj.bias torch.float16\n",
      "visual.transformer.resblocks.16.ln_1.weight torch.float32\n",
      "visual.transformer.resblocks.16.ln_1.bias torch.float32\n",
      "visual.transformer.resblocks.16.mlp.c_fc.weight torch.float16\n",
      "visual.transformer.resblocks.16.mlp.c_fc.bias torch.float16\n",
      "visual.transformer.resblocks.16.mlp.c_proj.weight torch.float16\n",
      "visual.transformer.resblocks.16.mlp.c_proj.bias torch.float16\n",
      "visual.transformer.resblocks.16.ln_2.weight torch.float32\n",
      "visual.transformer.resblocks.16.ln_2.bias torch.float32\n",
      "visual.transformer.resblocks.17.attn.in_proj_weight torch.float16\n",
      "visual.transformer.resblocks.17.attn.in_proj_bias torch.float16\n",
      "visual.transformer.resblocks.17.attn.out_proj.weight torch.float16\n",
      "visual.transformer.resblocks.17.attn.out_proj.bias torch.float16\n",
      "visual.transformer.resblocks.17.ln_1.weight torch.float32\n",
      "visual.transformer.resblocks.17.ln_1.bias torch.float32\n",
      "visual.transformer.resblocks.17.mlp.c_fc.weight torch.float16\n",
      "visual.transformer.resblocks.17.mlp.c_fc.bias torch.float16\n",
      "visual.transformer.resblocks.17.mlp.c_proj.weight torch.float16\n",
      "visual.transformer.resblocks.17.mlp.c_proj.bias torch.float16\n",
      "visual.transformer.resblocks.17.ln_2.weight torch.float32\n",
      "visual.transformer.resblocks.17.ln_2.bias torch.float32\n",
      "visual.transformer.resblocks.18.attn.in_proj_weight torch.float16\n",
      "visual.transformer.resblocks.18.attn.in_proj_bias torch.float16\n",
      "visual.transformer.resblocks.18.attn.out_proj.weight torch.float16\n",
      "visual.transformer.resblocks.18.attn.out_proj.bias torch.float16\n",
      "visual.transformer.resblocks.18.ln_1.weight torch.float32\n",
      "visual.transformer.resblocks.18.ln_1.bias torch.float32\n",
      "visual.transformer.resblocks.18.mlp.c_fc.weight torch.float16\n",
      "visual.transformer.resblocks.18.mlp.c_fc.bias torch.float16\n",
      "visual.transformer.resblocks.18.mlp.c_proj.weight torch.float16\n",
      "visual.transformer.resblocks.18.mlp.c_proj.bias torch.float16\n",
      "visual.transformer.resblocks.18.ln_2.weight torch.float32\n",
      "visual.transformer.resblocks.18.ln_2.bias torch.float32\n",
      "visual.transformer.resblocks.19.attn.in_proj_weight torch.float16\n",
      "visual.transformer.resblocks.19.attn.in_proj_bias torch.float16\n",
      "visual.transformer.resblocks.19.attn.out_proj.weight torch.float16\n",
      "visual.transformer.resblocks.19.attn.out_proj.bias torch.float16\n",
      "visual.transformer.resblocks.19.ln_1.weight torch.float32\n",
      "visual.transformer.resblocks.19.ln_1.bias torch.float32\n",
      "visual.transformer.resblocks.19.mlp.c_fc.weight torch.float16\n",
      "visual.transformer.resblocks.19.mlp.c_fc.bias torch.float16\n",
      "visual.transformer.resblocks.19.mlp.c_proj.weight torch.float16\n",
      "visual.transformer.resblocks.19.mlp.c_proj.bias torch.float16\n",
      "visual.transformer.resblocks.19.ln_2.weight torch.float32\n",
      "visual.transformer.resblocks.19.ln_2.bias torch.float32\n",
      "visual.transformer.resblocks.20.attn.in_proj_weight torch.float16\n",
      "visual.transformer.resblocks.20.attn.in_proj_bias torch.float16\n",
      "visual.transformer.resblocks.20.attn.out_proj.weight torch.float16\n",
      "visual.transformer.resblocks.20.attn.out_proj.bias torch.float16\n",
      "visual.transformer.resblocks.20.ln_1.weight torch.float32\n",
      "visual.transformer.resblocks.20.ln_1.bias torch.float32\n",
      "visual.transformer.resblocks.20.mlp.c_fc.weight torch.float16\n",
      "visual.transformer.resblocks.20.mlp.c_fc.bias torch.float16\n",
      "visual.transformer.resblocks.20.mlp.c_proj.weight torch.float16\n",
      "visual.transformer.resblocks.20.mlp.c_proj.bias torch.float16\n",
      "visual.transformer.resblocks.20.ln_2.weight torch.float32\n",
      "visual.transformer.resblocks.20.ln_2.bias torch.float32\n",
      "visual.transformer.resblocks.21.attn.in_proj_weight torch.float16\n",
      "visual.transformer.resblocks.21.attn.in_proj_bias torch.float16\n",
      "visual.transformer.resblocks.21.attn.out_proj.weight torch.float16\n",
      "visual.transformer.resblocks.21.attn.out_proj.bias torch.float16\n",
      "visual.transformer.resblocks.21.ln_1.weight torch.float32\n",
      "visual.transformer.resblocks.21.ln_1.bias torch.float32\n",
      "visual.transformer.resblocks.21.mlp.c_fc.weight torch.float16\n",
      "visual.transformer.resblocks.21.mlp.c_fc.bias torch.float16\n",
      "visual.transformer.resblocks.21.mlp.c_proj.weight torch.float16\n",
      "visual.transformer.resblocks.21.mlp.c_proj.bias torch.float16\n",
      "visual.transformer.resblocks.21.ln_2.weight torch.float32\n",
      "visual.transformer.resblocks.21.ln_2.bias torch.float32\n",
      "visual.transformer.resblocks.22.attn.in_proj_weight torch.float16\n",
      "visual.transformer.resblocks.22.attn.in_proj_bias torch.float16\n",
      "visual.transformer.resblocks.22.attn.out_proj.weight torch.float16\n",
      "visual.transformer.resblocks.22.attn.out_proj.bias torch.float16\n",
      "visual.transformer.resblocks.22.ln_1.weight torch.float32\n",
      "visual.transformer.resblocks.22.ln_1.bias torch.float32\n",
      "visual.transformer.resblocks.22.mlp.c_fc.weight torch.float16\n",
      "visual.transformer.resblocks.22.mlp.c_fc.bias torch.float16\n",
      "visual.transformer.resblocks.22.mlp.c_proj.weight torch.float16\n",
      "visual.transformer.resblocks.22.mlp.c_proj.bias torch.float16\n",
      "visual.transformer.resblocks.22.ln_2.weight torch.float32\n",
      "visual.transformer.resblocks.22.ln_2.bias torch.float32\n",
      "visual.transformer.resblocks.23.attn.in_proj_weight torch.float16\n",
      "visual.transformer.resblocks.23.attn.in_proj_bias torch.float16\n",
      "visual.transformer.resblocks.23.attn.out_proj.weight torch.float16\n",
      "visual.transformer.resblocks.23.attn.out_proj.bias torch.float16\n",
      "visual.transformer.resblocks.23.ln_1.weight torch.float32\n",
      "visual.transformer.resblocks.23.ln_1.bias torch.float32\n",
      "visual.transformer.resblocks.23.mlp.c_fc.weight torch.float16\n",
      "visual.transformer.resblocks.23.mlp.c_fc.bias torch.float16\n",
      "visual.transformer.resblocks.23.mlp.c_proj.weight torch.float16\n",
      "visual.transformer.resblocks.23.mlp.c_proj.bias torch.float16\n",
      "visual.transformer.resblocks.23.ln_2.weight torch.float32\n",
      "visual.transformer.resblocks.23.ln_2.bias torch.float32\n",
      "visual.ln_post.weight torch.float32\n",
      "visual.ln_post.bias torch.float32\n",
      "transformer.resblocks.0.attn.in_proj_weight torch.float16\n",
      "transformer.resblocks.0.attn.in_proj_bias torch.float16\n",
      "transformer.resblocks.0.attn.out_proj.weight torch.float16\n",
      "transformer.resblocks.0.attn.out_proj.bias torch.float16\n",
      "transformer.resblocks.0.ln_1.weight torch.float32\n",
      "transformer.resblocks.0.ln_1.bias torch.float32\n",
      "transformer.resblocks.0.mlp.c_fc.weight torch.float16\n",
      "transformer.resblocks.0.mlp.c_fc.bias torch.float16\n",
      "transformer.resblocks.0.mlp.c_proj.weight torch.float16\n",
      "transformer.resblocks.0.mlp.c_proj.bias torch.float16\n",
      "transformer.resblocks.0.ln_2.weight torch.float32\n",
      "transformer.resblocks.0.ln_2.bias torch.float32\n",
      "transformer.resblocks.1.attn.in_proj_weight torch.float16\n",
      "transformer.resblocks.1.attn.in_proj_bias torch.float16\n",
      "transformer.resblocks.1.attn.out_proj.weight torch.float16\n",
      "transformer.resblocks.1.attn.out_proj.bias torch.float16\n",
      "transformer.resblocks.1.ln_1.weight torch.float32\n",
      "transformer.resblocks.1.ln_1.bias torch.float32\n",
      "transformer.resblocks.1.mlp.c_fc.weight torch.float16\n",
      "transformer.resblocks.1.mlp.c_fc.bias torch.float16\n",
      "transformer.resblocks.1.mlp.c_proj.weight torch.float16\n",
      "transformer.resblocks.1.mlp.c_proj.bias torch.float16\n",
      "transformer.resblocks.1.ln_2.weight torch.float32\n",
      "transformer.resblocks.1.ln_2.bias torch.float32\n",
      "transformer.resblocks.2.attn.in_proj_weight torch.float16\n",
      "transformer.resblocks.2.attn.in_proj_bias torch.float16\n",
      "transformer.resblocks.2.attn.out_proj.weight torch.float16\n",
      "transformer.resblocks.2.attn.out_proj.bias torch.float16\n",
      "transformer.resblocks.2.ln_1.weight torch.float32\n",
      "transformer.resblocks.2.ln_1.bias torch.float32\n",
      "transformer.resblocks.2.mlp.c_fc.weight torch.float16\n",
      "transformer.resblocks.2.mlp.c_fc.bias torch.float16\n",
      "transformer.resblocks.2.mlp.c_proj.weight torch.float16\n",
      "transformer.resblocks.2.mlp.c_proj.bias torch.float16\n",
      "transformer.resblocks.2.ln_2.weight torch.float32\n",
      "transformer.resblocks.2.ln_2.bias torch.float32\n",
      "transformer.resblocks.3.attn.in_proj_weight torch.float16\n",
      "transformer.resblocks.3.attn.in_proj_bias torch.float16\n",
      "transformer.resblocks.3.attn.out_proj.weight torch.float16\n",
      "transformer.resblocks.3.attn.out_proj.bias torch.float16\n",
      "transformer.resblocks.3.ln_1.weight torch.float32\n",
      "transformer.resblocks.3.ln_1.bias torch.float32\n",
      "transformer.resblocks.3.mlp.c_fc.weight torch.float16\n",
      "transformer.resblocks.3.mlp.c_fc.bias torch.float16\n",
      "transformer.resblocks.3.mlp.c_proj.weight torch.float16\n",
      "transformer.resblocks.3.mlp.c_proj.bias torch.float16\n",
      "transformer.resblocks.3.ln_2.weight torch.float32\n",
      "transformer.resblocks.3.ln_2.bias torch.float32\n",
      "transformer.resblocks.4.attn.in_proj_weight torch.float16\n",
      "transformer.resblocks.4.attn.in_proj_bias torch.float16\n",
      "transformer.resblocks.4.attn.out_proj.weight torch.float16\n",
      "transformer.resblocks.4.attn.out_proj.bias torch.float16\n",
      "transformer.resblocks.4.ln_1.weight torch.float32\n",
      "transformer.resblocks.4.ln_1.bias torch.float32\n",
      "transformer.resblocks.4.mlp.c_fc.weight torch.float16\n",
      "transformer.resblocks.4.mlp.c_fc.bias torch.float16\n",
      "transformer.resblocks.4.mlp.c_proj.weight torch.float16\n",
      "transformer.resblocks.4.mlp.c_proj.bias torch.float16\n",
      "transformer.resblocks.4.ln_2.weight torch.float32\n",
      "transformer.resblocks.4.ln_2.bias torch.float32\n",
      "transformer.resblocks.5.attn.in_proj_weight torch.float16\n",
      "transformer.resblocks.5.attn.in_proj_bias torch.float16\n",
      "transformer.resblocks.5.attn.out_proj.weight torch.float16\n",
      "transformer.resblocks.5.attn.out_proj.bias torch.float16\n",
      "transformer.resblocks.5.ln_1.weight torch.float32\n",
      "transformer.resblocks.5.ln_1.bias torch.float32\n",
      "transformer.resblocks.5.mlp.c_fc.weight torch.float16\n",
      "transformer.resblocks.5.mlp.c_fc.bias torch.float16\n",
      "transformer.resblocks.5.mlp.c_proj.weight torch.float16\n",
      "transformer.resblocks.5.mlp.c_proj.bias torch.float16\n",
      "transformer.resblocks.5.ln_2.weight torch.float32\n",
      "transformer.resblocks.5.ln_2.bias torch.float32\n",
      "transformer.resblocks.6.attn.in_proj_weight torch.float16\n",
      "transformer.resblocks.6.attn.in_proj_bias torch.float16\n",
      "transformer.resblocks.6.attn.out_proj.weight torch.float16\n",
      "transformer.resblocks.6.attn.out_proj.bias torch.float16\n",
      "transformer.resblocks.6.ln_1.weight torch.float32\n",
      "transformer.resblocks.6.ln_1.bias torch.float32\n",
      "transformer.resblocks.6.mlp.c_fc.weight torch.float16\n",
      "transformer.resblocks.6.mlp.c_fc.bias torch.float16\n",
      "transformer.resblocks.6.mlp.c_proj.weight torch.float16\n",
      "transformer.resblocks.6.mlp.c_proj.bias torch.float16\n",
      "transformer.resblocks.6.ln_2.weight torch.float32\n",
      "transformer.resblocks.6.ln_2.bias torch.float32\n",
      "transformer.resblocks.7.attn.in_proj_weight torch.float16\n",
      "transformer.resblocks.7.attn.in_proj_bias torch.float16\n",
      "transformer.resblocks.7.attn.out_proj.weight torch.float16\n",
      "transformer.resblocks.7.attn.out_proj.bias torch.float16\n",
      "transformer.resblocks.7.ln_1.weight torch.float32\n",
      "transformer.resblocks.7.ln_1.bias torch.float32\n",
      "transformer.resblocks.7.mlp.c_fc.weight torch.float16\n",
      "transformer.resblocks.7.mlp.c_fc.bias torch.float16\n",
      "transformer.resblocks.7.mlp.c_proj.weight torch.float16\n",
      "transformer.resblocks.7.mlp.c_proj.bias torch.float16\n",
      "transformer.resblocks.7.ln_2.weight torch.float32\n",
      "transformer.resblocks.7.ln_2.bias torch.float32\n",
      "transformer.resblocks.8.attn.in_proj_weight torch.float16\n",
      "transformer.resblocks.8.attn.in_proj_bias torch.float16\n",
      "transformer.resblocks.8.attn.out_proj.weight torch.float16\n",
      "transformer.resblocks.8.attn.out_proj.bias torch.float16\n",
      "transformer.resblocks.8.ln_1.weight torch.float32\n",
      "transformer.resblocks.8.ln_1.bias torch.float32\n",
      "transformer.resblocks.8.mlp.c_fc.weight torch.float16\n",
      "transformer.resblocks.8.mlp.c_fc.bias torch.float16\n",
      "transformer.resblocks.8.mlp.c_proj.weight torch.float16\n",
      "transformer.resblocks.8.mlp.c_proj.bias torch.float16\n",
      "transformer.resblocks.8.ln_2.weight torch.float32\n",
      "transformer.resblocks.8.ln_2.bias torch.float32\n",
      "transformer.resblocks.9.attn.in_proj_weight torch.float16\n",
      "transformer.resblocks.9.attn.in_proj_bias torch.float16\n",
      "transformer.resblocks.9.attn.out_proj.weight torch.float16\n",
      "transformer.resblocks.9.attn.out_proj.bias torch.float16\n",
      "transformer.resblocks.9.ln_1.weight torch.float32\n",
      "transformer.resblocks.9.ln_1.bias torch.float32\n",
      "transformer.resblocks.9.mlp.c_fc.weight torch.float16\n",
      "transformer.resblocks.9.mlp.c_fc.bias torch.float16\n",
      "transformer.resblocks.9.mlp.c_proj.weight torch.float16\n",
      "transformer.resblocks.9.mlp.c_proj.bias torch.float16\n",
      "transformer.resblocks.9.ln_2.weight torch.float32\n",
      "transformer.resblocks.9.ln_2.bias torch.float32\n",
      "transformer.resblocks.10.attn.in_proj_weight torch.float16\n",
      "transformer.resblocks.10.attn.in_proj_bias torch.float16\n",
      "transformer.resblocks.10.attn.out_proj.weight torch.float16\n",
      "transformer.resblocks.10.attn.out_proj.bias torch.float16\n",
      "transformer.resblocks.10.ln_1.weight torch.float32\n",
      "transformer.resblocks.10.ln_1.bias torch.float32\n",
      "transformer.resblocks.10.mlp.c_fc.weight torch.float16\n",
      "transformer.resblocks.10.mlp.c_fc.bias torch.float16\n",
      "transformer.resblocks.10.mlp.c_proj.weight torch.float16\n",
      "transformer.resblocks.10.mlp.c_proj.bias torch.float16\n",
      "transformer.resblocks.10.ln_2.weight torch.float32\n",
      "transformer.resblocks.10.ln_2.bias torch.float32\n",
      "transformer.resblocks.11.attn.in_proj_weight torch.float16\n",
      "transformer.resblocks.11.attn.in_proj_bias torch.float16\n",
      "transformer.resblocks.11.attn.out_proj.weight torch.float16\n",
      "transformer.resblocks.11.attn.out_proj.bias torch.float16\n",
      "transformer.resblocks.11.ln_1.weight torch.float32\n",
      "transformer.resblocks.11.ln_1.bias torch.float32\n",
      "transformer.resblocks.11.mlp.c_fc.weight torch.float16\n",
      "transformer.resblocks.11.mlp.c_fc.bias torch.float16\n",
      "transformer.resblocks.11.mlp.c_proj.weight torch.float16\n",
      "transformer.resblocks.11.mlp.c_proj.bias torch.float16\n",
      "transformer.resblocks.11.ln_2.weight torch.float32\n",
      "transformer.resblocks.11.ln_2.bias torch.float32\n",
      "token_embedding.weight torch.float32\n",
      "ln_final.weight torch.float32\n",
      "ln_final.bias torch.float32\n"
     ]
    }
   ],
   "source": [
    "for name, params in model.named_parameters():\n",
    "    print(name, params.dtype)"
   ]
  },
  {
   "cell_type": "code",
   "execution_count": null,
   "id": "7f2bbd42-90af-454f-9e5d-d48cbd1944b8",
   "metadata": {},
   "outputs": [],
   "source": [
    "image_input = \n",
    "text_tokens = clip.tokenize([\"This is \" + desc for desc in texts]).cuda()\n",
    "with torch.no_grad():\n",
    "    image_features = model.encode_image(image_input).float()\n",
    "    text_features = model.encode_text(text_tokens).float()"
   ]
  }
 ],
 "metadata": {
  "kernelspec": {
   "display_name": "Python 3.10.6 ('base')",
   "language": "python",
   "name": "python3"
  },
  "language_info": {
   "codemirror_mode": {
    "name": "ipython",
    "version": 3
   },
   "file_extension": ".py",
   "mimetype": "text/x-python",
   "name": "python",
   "nbconvert_exporter": "python",
   "pygments_lexer": "ipython3",
   "version": "3.10.6"
  },
  "vscode": {
   "interpreter": {
    "hash": "8f7482bde386ebab810211a91d602f5b413352346db5a53845ed846b68a51e22"
   }
  }
 },
 "nbformat": 4,
 "nbformat_minor": 5
}
